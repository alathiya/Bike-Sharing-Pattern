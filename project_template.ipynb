{
  "nbformat": 4,
  "nbformat_minor": 0,
  "metadata": {
    "accelerator": "GPU",
    "colab": {
      "name": "project-template.ipynb",
      "provenance": [],
      "include_colab_link": true
    },
    "instance_type": "ml.t3.medium",
    "kernelspec": {
      "name": "python3",
      "display_name": "Python 3"
    },
    "language_info": {
      "name": "python"
    },
    "widgets": {
      "application/vnd.jupyter.widget-state+json": {
        "c2df6c420a21470eaaadc04008a315e5": {
          "model_module": "@jupyter-widgets/controls",
          "model_name": "HBoxModel",
          "state": {
            "_view_name": "HBoxView",
            "_dom_classes": [],
            "_model_name": "HBoxModel",
            "_view_module": "@jupyter-widgets/controls",
            "_model_module_version": "1.5.0",
            "_view_count": null,
            "_view_module_version": "1.5.0",
            "box_style": "",
            "layout": "IPY_MODEL_c000dc1e4ea147f89bf00579f99667b6",
            "_model_module": "@jupyter-widgets/controls",
            "children": [
              "IPY_MODEL_031e316342df439e91f93133a736d7a4",
              "IPY_MODEL_abfb6577dc1147da9971cb05c613f2d8"
            ]
          }
        },
        "c000dc1e4ea147f89bf00579f99667b6": {
          "model_module": "@jupyter-widgets/base",
          "model_name": "LayoutModel",
          "state": {
            "_view_name": "LayoutView",
            "grid_template_rows": null,
            "right": null,
            "justify_content": null,
            "_view_module": "@jupyter-widgets/base",
            "overflow": null,
            "_model_module_version": "1.2.0",
            "_view_count": null,
            "flex_flow": null,
            "width": null,
            "min_width": null,
            "border": null,
            "align_items": null,
            "bottom": null,
            "_model_module": "@jupyter-widgets/base",
            "top": null,
            "grid_column": null,
            "overflow_y": null,
            "overflow_x": null,
            "grid_auto_flow": null,
            "grid_area": null,
            "grid_template_columns": null,
            "flex": null,
            "_model_name": "LayoutModel",
            "justify_items": null,
            "grid_row": null,
            "max_height": null,
            "align_content": null,
            "visibility": null,
            "align_self": null,
            "height": null,
            "min_height": null,
            "padding": null,
            "grid_auto_rows": null,
            "grid_gap": null,
            "max_width": null,
            "order": null,
            "_view_module_version": "1.2.0",
            "grid_template_areas": null,
            "object_position": null,
            "object_fit": null,
            "grid_auto_columns": null,
            "margin": null,
            "display": null,
            "left": null
          }
        },
        "031e316342df439e91f93133a736d7a4": {
          "model_module": "@jupyter-widgets/controls",
          "model_name": "FloatProgressModel",
          "state": {
            "_view_name": "ProgressView",
            "style": "IPY_MODEL_9fcb992f33d7424bb01d2ec8eadc5ac0",
            "_dom_classes": [],
            "description": "100%",
            "_model_name": "FloatProgressModel",
            "bar_style": "success",
            "max": 5,
            "_view_module": "@jupyter-widgets/controls",
            "_model_module_version": "1.5.0",
            "value": 5,
            "_view_count": null,
            "_view_module_version": "1.5.0",
            "orientation": "horizontal",
            "min": 0,
            "description_tooltip": null,
            "_model_module": "@jupyter-widgets/controls",
            "layout": "IPY_MODEL_83a5df1570f24f8d9a6ec46e4788c9d6"
          }
        },
        "abfb6577dc1147da9971cb05c613f2d8": {
          "model_module": "@jupyter-widgets/controls",
          "model_name": "HTMLModel",
          "state": {
            "_view_name": "HTMLView",
            "style": "IPY_MODEL_7a8ebb3306524be382a36b637c8c93d8",
            "_dom_classes": [],
            "description": "",
            "_model_name": "HTMLModel",
            "placeholder": "​",
            "_view_module": "@jupyter-widgets/controls",
            "_model_module_version": "1.5.0",
            "value": " 5/5 [00:03&lt;00:00,  1.59it/s]",
            "_view_count": null,
            "_view_module_version": "1.5.0",
            "description_tooltip": null,
            "_model_module": "@jupyter-widgets/controls",
            "layout": "IPY_MODEL_ad3ed8468cfb4479b1e9f79eea0fd126"
          }
        },
        "9fcb992f33d7424bb01d2ec8eadc5ac0": {
          "model_module": "@jupyter-widgets/controls",
          "model_name": "ProgressStyleModel",
          "state": {
            "_view_name": "StyleView",
            "_model_name": "ProgressStyleModel",
            "description_width": "initial",
            "_view_module": "@jupyter-widgets/base",
            "_model_module_version": "1.5.0",
            "_view_count": null,
            "_view_module_version": "1.2.0",
            "bar_color": null,
            "_model_module": "@jupyter-widgets/controls"
          }
        },
        "83a5df1570f24f8d9a6ec46e4788c9d6": {
          "model_module": "@jupyter-widgets/base",
          "model_name": "LayoutModel",
          "state": {
            "_view_name": "LayoutView",
            "grid_template_rows": null,
            "right": null,
            "justify_content": null,
            "_view_module": "@jupyter-widgets/base",
            "overflow": null,
            "_model_module_version": "1.2.0",
            "_view_count": null,
            "flex_flow": null,
            "width": null,
            "min_width": null,
            "border": null,
            "align_items": null,
            "bottom": null,
            "_model_module": "@jupyter-widgets/base",
            "top": null,
            "grid_column": null,
            "overflow_y": null,
            "overflow_x": null,
            "grid_auto_flow": null,
            "grid_area": null,
            "grid_template_columns": null,
            "flex": null,
            "_model_name": "LayoutModel",
            "justify_items": null,
            "grid_row": null,
            "max_height": null,
            "align_content": null,
            "visibility": null,
            "align_self": null,
            "height": null,
            "min_height": null,
            "padding": null,
            "grid_auto_rows": null,
            "grid_gap": null,
            "max_width": null,
            "order": null,
            "_view_module_version": "1.2.0",
            "grid_template_areas": null,
            "object_position": null,
            "object_fit": null,
            "grid_auto_columns": null,
            "margin": null,
            "display": null,
            "left": null
          }
        },
        "7a8ebb3306524be382a36b637c8c93d8": {
          "model_module": "@jupyter-widgets/controls",
          "model_name": "DescriptionStyleModel",
          "state": {
            "_view_name": "StyleView",
            "_model_name": "DescriptionStyleModel",
            "description_width": "",
            "_view_module": "@jupyter-widgets/base",
            "_model_module_version": "1.5.0",
            "_view_count": null,
            "_view_module_version": "1.2.0",
            "_model_module": "@jupyter-widgets/controls"
          }
        },
        "ad3ed8468cfb4479b1e9f79eea0fd126": {
          "model_module": "@jupyter-widgets/base",
          "model_name": "LayoutModel",
          "state": {
            "_view_name": "LayoutView",
            "grid_template_rows": null,
            "right": null,
            "justify_content": null,
            "_view_module": "@jupyter-widgets/base",
            "overflow": null,
            "_model_module_version": "1.2.0",
            "_view_count": null,
            "flex_flow": null,
            "width": null,
            "min_width": null,
            "border": null,
            "align_items": null,
            "bottom": null,
            "_model_module": "@jupyter-widgets/base",
            "top": null,
            "grid_column": null,
            "overflow_y": null,
            "overflow_x": null,
            "grid_auto_flow": null,
            "grid_area": null,
            "grid_template_columns": null,
            "flex": null,
            "_model_name": "LayoutModel",
            "justify_items": null,
            "grid_row": null,
            "max_height": null,
            "align_content": null,
            "visibility": null,
            "align_self": null,
            "height": null,
            "min_height": null,
            "padding": null,
            "grid_auto_rows": null,
            "grid_gap": null,
            "max_width": null,
            "order": null,
            "_view_module_version": "1.2.0",
            "grid_template_areas": null,
            "object_position": null,
            "object_fit": null,
            "grid_auto_columns": null,
            "margin": null,
            "display": null,
            "left": null
          }
        },
        "df80c54610924ea68991bbafcd7f41f1": {
          "model_module": "@jupyter-widgets/controls",
          "model_name": "HBoxModel",
          "state": {
            "_view_name": "HBoxView",
            "_dom_classes": [],
            "_model_name": "HBoxModel",
            "_view_module": "@jupyter-widgets/controls",
            "_model_module_version": "1.5.0",
            "_view_count": null,
            "_view_module_version": "1.5.0",
            "box_style": "",
            "layout": "IPY_MODEL_3863563b8d514c5f856536befc0bd34e",
            "_model_module": "@jupyter-widgets/controls",
            "children": [
              "IPY_MODEL_24cbc210b80e41c7b348d0518067e28d",
              "IPY_MODEL_6dcbfe38db6849c48291584f58e122df"
            ]
          }
        },
        "3863563b8d514c5f856536befc0bd34e": {
          "model_module": "@jupyter-widgets/base",
          "model_name": "LayoutModel",
          "state": {
            "_view_name": "LayoutView",
            "grid_template_rows": null,
            "right": null,
            "justify_content": null,
            "_view_module": "@jupyter-widgets/base",
            "overflow": null,
            "_model_module_version": "1.2.0",
            "_view_count": null,
            "flex_flow": null,
            "width": null,
            "min_width": null,
            "border": null,
            "align_items": null,
            "bottom": null,
            "_model_module": "@jupyter-widgets/base",
            "top": null,
            "grid_column": null,
            "overflow_y": null,
            "overflow_x": null,
            "grid_auto_flow": null,
            "grid_area": null,
            "grid_template_columns": null,
            "flex": null,
            "_model_name": "LayoutModel",
            "justify_items": null,
            "grid_row": null,
            "max_height": null,
            "align_content": null,
            "visibility": null,
            "align_self": null,
            "height": null,
            "min_height": null,
            "padding": null,
            "grid_auto_rows": null,
            "grid_gap": null,
            "max_width": null,
            "order": null,
            "_view_module_version": "1.2.0",
            "grid_template_areas": null,
            "object_position": null,
            "object_fit": null,
            "grid_auto_columns": null,
            "margin": null,
            "display": null,
            "left": null
          }
        },
        "24cbc210b80e41c7b348d0518067e28d": {
          "model_module": "@jupyter-widgets/controls",
          "model_name": "FloatProgressModel",
          "state": {
            "_view_name": "ProgressView",
            "style": "IPY_MODEL_dd8504e3d4534607bbd8fcbcd046f43a",
            "_dom_classes": [],
            "description": "  0%",
            "_model_name": "FloatProgressModel",
            "bar_style": "danger",
            "max": 5,
            "_view_module": "@jupyter-widgets/controls",
            "_model_module_version": "1.5.0",
            "value": 0,
            "_view_count": null,
            "_view_module_version": "1.5.0",
            "orientation": "horizontal",
            "min": 0,
            "description_tooltip": null,
            "_model_module": "@jupyter-widgets/controls",
            "layout": "IPY_MODEL_8e500f2eeabb4fc98a7c1f7e38e00994"
          }
        },
        "6dcbfe38db6849c48291584f58e122df": {
          "model_module": "@jupyter-widgets/controls",
          "model_name": "HTMLModel",
          "state": {
            "_view_name": "HTMLView",
            "style": "IPY_MODEL_1a3e56c208dc4a15bda24645ef12f4d7",
            "_dom_classes": [],
            "description": "",
            "_model_name": "HTMLModel",
            "placeholder": "​",
            "_view_module": "@jupyter-widgets/controls",
            "_model_module_version": "1.5.0",
            "value": " 0/5 [00:09&lt;?, ?it/s]",
            "_view_count": null,
            "_view_module_version": "1.5.0",
            "description_tooltip": null,
            "_model_module": "@jupyter-widgets/controls",
            "layout": "IPY_MODEL_94944cd21c9b4af8af3599c3d1182726"
          }
        },
        "dd8504e3d4534607bbd8fcbcd046f43a": {
          "model_module": "@jupyter-widgets/controls",
          "model_name": "ProgressStyleModel",
          "state": {
            "_view_name": "StyleView",
            "_model_name": "ProgressStyleModel",
            "description_width": "initial",
            "_view_module": "@jupyter-widgets/base",
            "_model_module_version": "1.5.0",
            "_view_count": null,
            "_view_module_version": "1.2.0",
            "bar_color": null,
            "_model_module": "@jupyter-widgets/controls"
          }
        },
        "8e500f2eeabb4fc98a7c1f7e38e00994": {
          "model_module": "@jupyter-widgets/base",
          "model_name": "LayoutModel",
          "state": {
            "_view_name": "LayoutView",
            "grid_template_rows": null,
            "right": null,
            "justify_content": null,
            "_view_module": "@jupyter-widgets/base",
            "overflow": null,
            "_model_module_version": "1.2.0",
            "_view_count": null,
            "flex_flow": null,
            "width": null,
            "min_width": null,
            "border": null,
            "align_items": null,
            "bottom": null,
            "_model_module": "@jupyter-widgets/base",
            "top": null,
            "grid_column": null,
            "overflow_y": null,
            "overflow_x": null,
            "grid_auto_flow": null,
            "grid_area": null,
            "grid_template_columns": null,
            "flex": null,
            "_model_name": "LayoutModel",
            "justify_items": null,
            "grid_row": null,
            "max_height": null,
            "align_content": null,
            "visibility": null,
            "align_self": null,
            "height": null,
            "min_height": null,
            "padding": null,
            "grid_auto_rows": null,
            "grid_gap": null,
            "max_width": null,
            "order": null,
            "_view_module_version": "1.2.0",
            "grid_template_areas": null,
            "object_position": null,
            "object_fit": null,
            "grid_auto_columns": null,
            "margin": null,
            "display": null,
            "left": null
          }
        },
        "1a3e56c208dc4a15bda24645ef12f4d7": {
          "model_module": "@jupyter-widgets/controls",
          "model_name": "DescriptionStyleModel",
          "state": {
            "_view_name": "StyleView",
            "_model_name": "DescriptionStyleModel",
            "description_width": "",
            "_view_module": "@jupyter-widgets/base",
            "_model_module_version": "1.5.0",
            "_view_count": null,
            "_view_module_version": "1.2.0",
            "_model_module": "@jupyter-widgets/controls"
          }
        },
        "94944cd21c9b4af8af3599c3d1182726": {
          "model_module": "@jupyter-widgets/base",
          "model_name": "LayoutModel",
          "state": {
            "_view_name": "LayoutView",
            "grid_template_rows": null,
            "right": null,
            "justify_content": null,
            "_view_module": "@jupyter-widgets/base",
            "overflow": null,
            "_model_module_version": "1.2.0",
            "_view_count": null,
            "flex_flow": null,
            "width": null,
            "min_width": null,
            "border": null,
            "align_items": null,
            "bottom": null,
            "_model_module": "@jupyter-widgets/base",
            "top": null,
            "grid_column": null,
            "overflow_y": null,
            "overflow_x": null,
            "grid_auto_flow": null,
            "grid_area": null,
            "grid_template_columns": null,
            "flex": null,
            "_model_name": "LayoutModel",
            "justify_items": null,
            "grid_row": null,
            "max_height": null,
            "align_content": null,
            "visibility": null,
            "align_self": null,
            "height": null,
            "min_height": null,
            "padding": null,
            "grid_auto_rows": null,
            "grid_gap": null,
            "max_width": null,
            "order": null,
            "_view_module_version": "1.2.0",
            "grid_template_areas": null,
            "object_position": null,
            "object_fit": null,
            "grid_auto_columns": null,
            "margin": null,
            "display": null,
            "left": null
          }
        },
        "020cfc7958b748a687cfb4020fcdc7d2": {
          "model_module": "@jupyter-widgets/controls",
          "model_name": "HBoxModel",
          "state": {
            "_view_name": "HBoxView",
            "_dom_classes": [],
            "_model_name": "HBoxModel",
            "_view_module": "@jupyter-widgets/controls",
            "_model_module_version": "1.5.0",
            "_view_count": null,
            "_view_module_version": "1.5.0",
            "box_style": "",
            "layout": "IPY_MODEL_5728906f4f3541578820b6d487c9f950",
            "_model_module": "@jupyter-widgets/controls",
            "children": [
              "IPY_MODEL_88e771f40b6c430c9c982f9b94e56ac5",
              "IPY_MODEL_5b4037f261644a7182bd5655092cac5c"
            ]
          }
        },
        "5728906f4f3541578820b6d487c9f950": {
          "model_module": "@jupyter-widgets/base",
          "model_name": "LayoutModel",
          "state": {
            "_view_name": "LayoutView",
            "grid_template_rows": null,
            "right": null,
            "justify_content": null,
            "_view_module": "@jupyter-widgets/base",
            "overflow": null,
            "_model_module_version": "1.2.0",
            "_view_count": null,
            "flex_flow": null,
            "width": null,
            "min_width": null,
            "border": null,
            "align_items": null,
            "bottom": null,
            "_model_module": "@jupyter-widgets/base",
            "top": null,
            "grid_column": null,
            "overflow_y": null,
            "overflow_x": null,
            "grid_auto_flow": null,
            "grid_area": null,
            "grid_template_columns": null,
            "flex": null,
            "_model_name": "LayoutModel",
            "justify_items": null,
            "grid_row": null,
            "max_height": null,
            "align_content": null,
            "visibility": null,
            "align_self": null,
            "height": null,
            "min_height": null,
            "padding": null,
            "grid_auto_rows": null,
            "grid_gap": null,
            "max_width": null,
            "order": null,
            "_view_module_version": "1.2.0",
            "grid_template_areas": null,
            "object_position": null,
            "object_fit": null,
            "grid_auto_columns": null,
            "margin": null,
            "display": null,
            "left": null
          }
        },
        "88e771f40b6c430c9c982f9b94e56ac5": {
          "model_module": "@jupyter-widgets/controls",
          "model_name": "FloatProgressModel",
          "state": {
            "_view_name": "ProgressView",
            "style": "IPY_MODEL_f455056febb24dba86edd492a30d7bf4",
            "_dom_classes": [],
            "description": "100%",
            "_model_name": "FloatProgressModel",
            "bar_style": "success",
            "max": 5,
            "_view_module": "@jupyter-widgets/controls",
            "_model_module_version": "1.5.0",
            "value": 5,
            "_view_count": null,
            "_view_module_version": "1.5.0",
            "orientation": "horizontal",
            "min": 0,
            "description_tooltip": null,
            "_model_module": "@jupyter-widgets/controls",
            "layout": "IPY_MODEL_450db414ef3543bcb08994f7286e6fee"
          }
        },
        "5b4037f261644a7182bd5655092cac5c": {
          "model_module": "@jupyter-widgets/controls",
          "model_name": "HTMLModel",
          "state": {
            "_view_name": "HTMLView",
            "style": "IPY_MODEL_64a513977b214469bbf326dcb3429ac6",
            "_dom_classes": [],
            "description": "",
            "_model_name": "HTMLModel",
            "placeholder": "​",
            "_view_module": "@jupyter-widgets/controls",
            "_model_module_version": "1.5.0",
            "value": " 5/5 [00:02&lt;00:00,  1.68it/s]",
            "_view_count": null,
            "_view_module_version": "1.5.0",
            "description_tooltip": null,
            "_model_module": "@jupyter-widgets/controls",
            "layout": "IPY_MODEL_8d042fd8adf44a46b306dd35fcde2bbc"
          }
        },
        "f455056febb24dba86edd492a30d7bf4": {
          "model_module": "@jupyter-widgets/controls",
          "model_name": "ProgressStyleModel",
          "state": {
            "_view_name": "StyleView",
            "_model_name": "ProgressStyleModel",
            "description_width": "initial",
            "_view_module": "@jupyter-widgets/base",
            "_model_module_version": "1.5.0",
            "_view_count": null,
            "_view_module_version": "1.2.0",
            "bar_color": null,
            "_model_module": "@jupyter-widgets/controls"
          }
        },
        "450db414ef3543bcb08994f7286e6fee": {
          "model_module": "@jupyter-widgets/base",
          "model_name": "LayoutModel",
          "state": {
            "_view_name": "LayoutView",
            "grid_template_rows": null,
            "right": null,
            "justify_content": null,
            "_view_module": "@jupyter-widgets/base",
            "overflow": null,
            "_model_module_version": "1.2.0",
            "_view_count": null,
            "flex_flow": null,
            "width": null,
            "min_width": null,
            "border": null,
            "align_items": null,
            "bottom": null,
            "_model_module": "@jupyter-widgets/base",
            "top": null,
            "grid_column": null,
            "overflow_y": null,
            "overflow_x": null,
            "grid_auto_flow": null,
            "grid_area": null,
            "grid_template_columns": null,
            "flex": null,
            "_model_name": "LayoutModel",
            "justify_items": null,
            "grid_row": null,
            "max_height": null,
            "align_content": null,
            "visibility": null,
            "align_self": null,
            "height": null,
            "min_height": null,
            "padding": null,
            "grid_auto_rows": null,
            "grid_gap": null,
            "max_width": null,
            "order": null,
            "_view_module_version": "1.2.0",
            "grid_template_areas": null,
            "object_position": null,
            "object_fit": null,
            "grid_auto_columns": null,
            "margin": null,
            "display": null,
            "left": null
          }
        },
        "64a513977b214469bbf326dcb3429ac6": {
          "model_module": "@jupyter-widgets/controls",
          "model_name": "DescriptionStyleModel",
          "state": {
            "_view_name": "StyleView",
            "_model_name": "DescriptionStyleModel",
            "description_width": "",
            "_view_module": "@jupyter-widgets/base",
            "_model_module_version": "1.5.0",
            "_view_count": null,
            "_view_module_version": "1.2.0",
            "_model_module": "@jupyter-widgets/controls"
          }
        },
        "8d042fd8adf44a46b306dd35fcde2bbc": {
          "model_module": "@jupyter-widgets/base",
          "model_name": "LayoutModel",
          "state": {
            "_view_name": "LayoutView",
            "grid_template_rows": null,
            "right": null,
            "justify_content": null,
            "_view_module": "@jupyter-widgets/base",
            "overflow": null,
            "_model_module_version": "1.2.0",
            "_view_count": null,
            "flex_flow": null,
            "width": null,
            "min_width": null,
            "border": null,
            "align_items": null,
            "bottom": null,
            "_model_module": "@jupyter-widgets/base",
            "top": null,
            "grid_column": null,
            "overflow_y": null,
            "overflow_x": null,
            "grid_auto_flow": null,
            "grid_area": null,
            "grid_template_columns": null,
            "flex": null,
            "_model_name": "LayoutModel",
            "justify_items": null,
            "grid_row": null,
            "max_height": null,
            "align_content": null,
            "visibility": null,
            "align_self": null,
            "height": null,
            "min_height": null,
            "padding": null,
            "grid_auto_rows": null,
            "grid_gap": null,
            "max_width": null,
            "order": null,
            "_view_module_version": "1.2.0",
            "grid_template_areas": null,
            "object_position": null,
            "object_fit": null,
            "grid_auto_columns": null,
            "margin": null,
            "display": null,
            "left": null
          }
        },
        "f1174067137b438087db0b9db20bda0a": {
          "model_module": "@jupyter-widgets/controls",
          "model_name": "HBoxModel",
          "state": {
            "_view_name": "HBoxView",
            "_dom_classes": [],
            "_model_name": "HBoxModel",
            "_view_module": "@jupyter-widgets/controls",
            "_model_module_version": "1.5.0",
            "_view_count": null,
            "_view_module_version": "1.5.0",
            "box_style": "",
            "layout": "IPY_MODEL_c85813c771614456b6cfdbf4823a71c2",
            "_model_module": "@jupyter-widgets/controls",
            "children": [
              "IPY_MODEL_812ca2b77d314833906fd96d5887c79a",
              "IPY_MODEL_60cb26d36f0c4103bdf0b5c1a696e9a1"
            ]
          }
        },
        "c85813c771614456b6cfdbf4823a71c2": {
          "model_module": "@jupyter-widgets/base",
          "model_name": "LayoutModel",
          "state": {
            "_view_name": "LayoutView",
            "grid_template_rows": null,
            "right": null,
            "justify_content": null,
            "_view_module": "@jupyter-widgets/base",
            "overflow": null,
            "_model_module_version": "1.2.0",
            "_view_count": null,
            "flex_flow": null,
            "width": null,
            "min_width": null,
            "border": null,
            "align_items": null,
            "bottom": null,
            "_model_module": "@jupyter-widgets/base",
            "top": null,
            "grid_column": null,
            "overflow_y": null,
            "overflow_x": null,
            "grid_auto_flow": null,
            "grid_area": null,
            "grid_template_columns": null,
            "flex": null,
            "_model_name": "LayoutModel",
            "justify_items": null,
            "grid_row": null,
            "max_height": null,
            "align_content": null,
            "visibility": null,
            "align_self": null,
            "height": null,
            "min_height": null,
            "padding": null,
            "grid_auto_rows": null,
            "grid_gap": null,
            "max_width": null,
            "order": null,
            "_view_module_version": "1.2.0",
            "grid_template_areas": null,
            "object_position": null,
            "object_fit": null,
            "grid_auto_columns": null,
            "margin": null,
            "display": null,
            "left": null
          }
        },
        "812ca2b77d314833906fd96d5887c79a": {
          "model_module": "@jupyter-widgets/controls",
          "model_name": "FloatProgressModel",
          "state": {
            "_view_name": "ProgressView",
            "style": "IPY_MODEL_a829d900801947e9819fe56f75c04eb2",
            "_dom_classes": [],
            "description": "  0%",
            "_model_name": "FloatProgressModel",
            "bar_style": "danger",
            "max": 5,
            "_view_module": "@jupyter-widgets/controls",
            "_model_module_version": "1.5.0",
            "value": 0,
            "_view_count": null,
            "_view_module_version": "1.5.0",
            "orientation": "horizontal",
            "min": 0,
            "description_tooltip": null,
            "_model_module": "@jupyter-widgets/controls",
            "layout": "IPY_MODEL_7f9d925ca04c46208b5f02b9f65188d6"
          }
        },
        "60cb26d36f0c4103bdf0b5c1a696e9a1": {
          "model_module": "@jupyter-widgets/controls",
          "model_name": "HTMLModel",
          "state": {
            "_view_name": "HTMLView",
            "style": "IPY_MODEL_5a37aa664cf043faaa92738bc334acc3",
            "_dom_classes": [],
            "description": "",
            "_model_name": "HTMLModel",
            "placeholder": "​",
            "_view_module": "@jupyter-widgets/controls",
            "_model_module_version": "1.5.0",
            "value": " 0/5 [00:07&lt;?, ?it/s]",
            "_view_count": null,
            "_view_module_version": "1.5.0",
            "description_tooltip": null,
            "_model_module": "@jupyter-widgets/controls",
            "layout": "IPY_MODEL_5b66a10f9a9a4bf7b4d5ea4574977003"
          }
        },
        "a829d900801947e9819fe56f75c04eb2": {
          "model_module": "@jupyter-widgets/controls",
          "model_name": "ProgressStyleModel",
          "state": {
            "_view_name": "StyleView",
            "_model_name": "ProgressStyleModel",
            "description_width": "initial",
            "_view_module": "@jupyter-widgets/base",
            "_model_module_version": "1.5.0",
            "_view_count": null,
            "_view_module_version": "1.2.0",
            "bar_color": null,
            "_model_module": "@jupyter-widgets/controls"
          }
        },
        "7f9d925ca04c46208b5f02b9f65188d6": {
          "model_module": "@jupyter-widgets/base",
          "model_name": "LayoutModel",
          "state": {
            "_view_name": "LayoutView",
            "grid_template_rows": null,
            "right": null,
            "justify_content": null,
            "_view_module": "@jupyter-widgets/base",
            "overflow": null,
            "_model_module_version": "1.2.0",
            "_view_count": null,
            "flex_flow": null,
            "width": null,
            "min_width": null,
            "border": null,
            "align_items": null,
            "bottom": null,
            "_model_module": "@jupyter-widgets/base",
            "top": null,
            "grid_column": null,
            "overflow_y": null,
            "overflow_x": null,
            "grid_auto_flow": null,
            "grid_area": null,
            "grid_template_columns": null,
            "flex": null,
            "_model_name": "LayoutModel",
            "justify_items": null,
            "grid_row": null,
            "max_height": null,
            "align_content": null,
            "visibility": null,
            "align_self": null,
            "height": null,
            "min_height": null,
            "padding": null,
            "grid_auto_rows": null,
            "grid_gap": null,
            "max_width": null,
            "order": null,
            "_view_module_version": "1.2.0",
            "grid_template_areas": null,
            "object_position": null,
            "object_fit": null,
            "grid_auto_columns": null,
            "margin": null,
            "display": null,
            "left": null
          }
        },
        "5a37aa664cf043faaa92738bc334acc3": {
          "model_module": "@jupyter-widgets/controls",
          "model_name": "DescriptionStyleModel",
          "state": {
            "_view_name": "StyleView",
            "_model_name": "DescriptionStyleModel",
            "description_width": "",
            "_view_module": "@jupyter-widgets/base",
            "_model_module_version": "1.5.0",
            "_view_count": null,
            "_view_module_version": "1.2.0",
            "_model_module": "@jupyter-widgets/controls"
          }
        },
        "5b66a10f9a9a4bf7b4d5ea4574977003": {
          "model_module": "@jupyter-widgets/base",
          "model_name": "LayoutModel",
          "state": {
            "_view_name": "LayoutView",
            "grid_template_rows": null,
            "right": null,
            "justify_content": null,
            "_view_module": "@jupyter-widgets/base",
            "overflow": null,
            "_model_module_version": "1.2.0",
            "_view_count": null,
            "flex_flow": null,
            "width": null,
            "min_width": null,
            "border": null,
            "align_items": null,
            "bottom": null,
            "_model_module": "@jupyter-widgets/base",
            "top": null,
            "grid_column": null,
            "overflow_y": null,
            "overflow_x": null,
            "grid_auto_flow": null,
            "grid_area": null,
            "grid_template_columns": null,
            "flex": null,
            "_model_name": "LayoutModel",
            "justify_items": null,
            "grid_row": null,
            "max_height": null,
            "align_content": null,
            "visibility": null,
            "align_self": null,
            "height": null,
            "min_height": null,
            "padding": null,
            "grid_auto_rows": null,
            "grid_gap": null,
            "max_width": null,
            "order": null,
            "_view_module_version": "1.2.0",
            "grid_template_areas": null,
            "object_position": null,
            "object_fit": null,
            "grid_auto_columns": null,
            "margin": null,
            "display": null,
            "left": null
          }
        }
      }
    }
  },
  "cells": [
    {
      "cell_type": "markdown",
      "metadata": {
        "id": "view-in-github",
        "colab_type": "text"
      },
      "source": [
        "<a href=\"https://colab.research.google.com/github/alathiya/Bike-Sharing-Pattern/blob/main/project_template.ipynb\" target=\"_parent\"><img src=\"https://colab.research.google.com/assets/colab-badge.svg\" alt=\"Open In Colab\"/></a>"
      ]
    },
    {
      "cell_type": "markdown",
      "metadata": {
        "id": "aHtKu6wgI-er"
      },
      "source": [
        "# Predict Bike Sharing Demand with AutoGluon Template"
      ]
    },
    {
      "cell_type": "markdown",
      "metadata": {
        "id": "jnRONV5RI-ew"
      },
      "source": [
        "## Project: Predict Bike Sharing Demand with AutoGluon\n",
        "This notebook is a template with each step that you need to complete for the project.\n",
        "\n",
        "Please fill in your code where there are explicit `?` markers in the notebook. You are welcome to add more cells and code as you see fit.\n",
        "\n",
        "Once you have completed all the code implementations, please export your notebook as a HTML file so the reviews can view your code. Make sure you have all outputs correctly outputted.\n",
        "\n",
        "`File-> Export Notebook As... -> Export Notebook as HTML`\n",
        "\n",
        "There is a writeup to complete as well after all code implememtation is done. Please answer all questions and attach the necessary tables and charts. You can complete the writeup in either markdown or PDF.\n",
        "\n",
        "Completing the code template and writeup template will cover all of the rubric points for this project.\n",
        "\n",
        "The rubric contains \"Stand Out Suggestions\" for enhancing the project beyond the minimum requirements. The stand out suggestions are optional. If you decide to pursue the \"stand out suggestions\", you can include the code in this notebook and also discuss the results in the writeup file."
      ]
    },
    {
      "cell_type": "markdown",
      "metadata": {
        "id": "moU_TvNsI-ey"
      },
      "source": [
        "## Step 1: Create an account with Kaggle"
      ]
    },
    {
      "cell_type": "markdown",
      "metadata": {
        "id": "HRuDJwTWI-ey"
      },
      "source": [
        "### Create Kaggle Account and download API key\n",
        "Below is example of steps to get the API username and key. Each student will have their own username and key."
      ]
    },
    {
      "cell_type": "markdown",
      "metadata": {
        "id": "QheCLVtJI-ez"
      },
      "source": [
        "1. Open account settings.\n",
        "![kaggle1.png](attachment:kaggle1.png)\n",
        "![kaggle2.png](attachment:kaggle2.png)\n",
        "2. Scroll down to API and click Create New API Token.\n",
        "![kaggle3.png](attachment:kaggle3.png)\n",
        "![kaggle4.png](attachment:kaggle4.png)\n",
        "3. Open up `kaggle.json` and use the username and key.\n",
        "![kaggle5.png](attachment:kaggle5.png)"
      ]
    },
    {
      "cell_type": "markdown",
      "metadata": {
        "id": "e1eRwrDBI-e0"
      },
      "source": [
        "## Step 2: Download the Kaggle dataset using the kaggle python library"
      ]
    },
    {
      "cell_type": "markdown",
      "metadata": {
        "id": "KiDj56SeI-e0"
      },
      "source": [
        "### Open up Sagemaker Studio and use starter template"
      ]
    },
    {
      "cell_type": "markdown",
      "metadata": {
        "id": "BjGeZ8QVI-e1"
      },
      "source": [
        "1. Notebook should be using a `ml.t3.medium` instance (2 vCPU + 4 GiB)\n",
        "2. Notebook should be using kernal: `Python 3 (MXNet 1.8 Python 3.7 CPU Optimized)`"
      ]
    },
    {
      "cell_type": "markdown",
      "metadata": {
        "id": "YOC3tzXwI-e1"
      },
      "source": [
        "### Install packages"
      ]
    },
    {
      "cell_type": "code",
      "metadata": {
        "colab": {
          "base_uri": "https://localhost:8080/",
          "height": 1000
        },
        "id": "fEfjbS6YI-e2",
        "outputId": "a891722e-ad8f-4acf-9ca2-f7c407a72f74"
      },
      "source": [
        "!pip install -U pip\n",
        "!pip install -U setuptools wheel\n",
        "!pip install -U \"mxnet<2.0.0\" bokeh==2.0.1\n",
        "!pip install autogluon --no-cache-dir\n",
        "# Without --no-cache-dir, smaller aws instances may have trouble installing"
      ],
      "execution_count": 2,
      "outputs": [
        {
          "output_type": "stream",
          "text": [
            "Requirement already satisfied: pip in /usr/local/lib/python3.7/dist-packages (21.1.3)\n",
            "Requirement already satisfied: setuptools in /usr/local/lib/python3.7/dist-packages (57.2.0)\n",
            "Collecting setuptools\n",
            "  Downloading setuptools-57.4.0-py3-none-any.whl (819 kB)\n",
            "\u001b[K     |████████████████████████████████| 819 kB 7.5 MB/s \n",
            "\u001b[?25hRequirement already satisfied: wheel in /usr/local/lib/python3.7/dist-packages (0.36.2)\n",
            "Installing collected packages: setuptools\n",
            "  Attempting uninstall: setuptools\n",
            "    Found existing installation: setuptools 57.2.0\n",
            "    Uninstalling setuptools-57.2.0:\n",
            "      Successfully uninstalled setuptools-57.2.0\n",
            "\u001b[31mERROR: pip's dependency resolver does not currently take into account all the packages that are installed. This behaviour is the source of the following dependency conflicts.\n",
            "datascience 0.10.6 requires folium==0.2.1, but you have folium 0.8.3 which is incompatible.\u001b[0m\n",
            "Successfully installed setuptools-57.4.0\n"
          ],
          "name": "stdout"
        },
        {
          "output_type": "display_data",
          "data": {
            "application/vnd.colab-display-data+json": {
              "pip_warning": {
                "packages": [
                  "pkg_resources"
                ]
              }
            }
          },
          "metadata": {
            "tags": []
          }
        },
        {
          "output_type": "stream",
          "text": [
            "Collecting mxnet<2.0.0\n",
            "  Downloading mxnet-1.8.0.post0-py2.py3-none-manylinux2014_x86_64.whl (46.9 MB)\n",
            "\u001b[K     |████████████████████████████████| 46.9 MB 39 kB/s \n",
            "\u001b[?25hCollecting bokeh==2.0.1\n",
            "  Downloading bokeh-2.0.1.tar.gz (8.6 MB)\n",
            "\u001b[K     |████████████████████████████████| 8.6 MB 26.9 MB/s \n",
            "\u001b[?25hRequirement already satisfied: PyYAML>=3.10 in /usr/local/lib/python3.7/dist-packages (from bokeh==2.0.1) (3.13)\n",
            "Requirement already satisfied: python-dateutil>=2.1 in /usr/local/lib/python3.7/dist-packages (from bokeh==2.0.1) (2.8.1)\n",
            "Requirement already satisfied: Jinja2>=2.7 in /usr/local/lib/python3.7/dist-packages (from bokeh==2.0.1) (2.11.3)\n",
            "Requirement already satisfied: numpy>=1.11.3 in /usr/local/lib/python3.7/dist-packages (from bokeh==2.0.1) (1.19.5)\n",
            "Requirement already satisfied: pillow>=4.0 in /usr/local/lib/python3.7/dist-packages (from bokeh==2.0.1) (7.1.2)\n",
            "Requirement already satisfied: packaging>=16.8 in /usr/local/lib/python3.7/dist-packages (from bokeh==2.0.1) (21.0)\n",
            "Requirement already satisfied: tornado>=5 in /usr/local/lib/python3.7/dist-packages (from bokeh==2.0.1) (5.1.1)\n",
            "Requirement already satisfied: typing_extensions>=3.7.4 in /usr/local/lib/python3.7/dist-packages (from bokeh==2.0.1) (3.7.4.3)\n",
            "Collecting graphviz<0.9.0,>=0.8.1\n",
            "  Downloading graphviz-0.8.4-py2.py3-none-any.whl (16 kB)\n",
            "Requirement already satisfied: requests<3,>=2.20.0 in /usr/local/lib/python3.7/dist-packages (from mxnet<2.0.0) (2.23.0)\n",
            "Requirement already satisfied: MarkupSafe>=0.23 in /usr/local/lib/python3.7/dist-packages (from Jinja2>=2.7->bokeh==2.0.1) (2.0.1)\n",
            "Requirement already satisfied: pyparsing>=2.0.2 in /usr/local/lib/python3.7/dist-packages (from packaging>=16.8->bokeh==2.0.1) (2.4.7)\n",
            "Requirement already satisfied: six>=1.5 in /usr/local/lib/python3.7/dist-packages (from python-dateutil>=2.1->bokeh==2.0.1) (1.15.0)\n",
            "Requirement already satisfied: certifi>=2017.4.17 in /usr/local/lib/python3.7/dist-packages (from requests<3,>=2.20.0->mxnet<2.0.0) (2021.5.30)\n",
            "Requirement already satisfied: idna<3,>=2.5 in /usr/local/lib/python3.7/dist-packages (from requests<3,>=2.20.0->mxnet<2.0.0) (2.10)\n",
            "Requirement already satisfied: chardet<4,>=3.0.2 in /usr/local/lib/python3.7/dist-packages (from requests<3,>=2.20.0->mxnet<2.0.0) (3.0.4)\n",
            "Requirement already satisfied: urllib3!=1.25.0,!=1.25.1,<1.26,>=1.21.1 in /usr/local/lib/python3.7/dist-packages (from requests<3,>=2.20.0->mxnet<2.0.0) (1.24.3)\n",
            "Building wheels for collected packages: bokeh\n",
            "  Building wheel for bokeh (setup.py) ... \u001b[?25l\u001b[?25hdone\n",
            "  Created wheel for bokeh: filename=bokeh-2.0.1-py3-none-any.whl size=9080040 sha256=e759e95a7de96c5303ae3b7360fbd7ea9fa1b2dc97ff789282b86d3fd11b6173\n",
            "  Stored in directory: /root/.cache/pip/wheels/9f/9e/ac/f24f30e119df73511fde9af8aa747217ac8824e662037ba9a8\n",
            "Successfully built bokeh\n",
            "Installing collected packages: graphviz, mxnet, bokeh\n",
            "  Attempting uninstall: graphviz\n",
            "    Found existing installation: graphviz 0.10.1\n",
            "    Uninstalling graphviz-0.10.1:\n",
            "      Successfully uninstalled graphviz-0.10.1\n",
            "  Attempting uninstall: bokeh\n",
            "    Found existing installation: bokeh 2.3.3\n",
            "    Uninstalling bokeh-2.3.3:\n",
            "      Successfully uninstalled bokeh-2.3.3\n",
            "\u001b[31mERROR: pip's dependency resolver does not currently take into account all the packages that are installed. This behaviour is the source of the following dependency conflicts.\n",
            "panel 0.11.3 requires bokeh<2.4.0,>=2.3.0, but you have bokeh 2.0.1 which is incompatible.\u001b[0m\n",
            "Successfully installed bokeh-2.0.1 graphviz-0.8.4 mxnet-1.8.0.post0\n",
            "Collecting autogluon\n",
            "  Downloading autogluon-0.2.0-py3-none-any.whl (5.4 kB)\n",
            "Collecting autogluon.text==0.2.0\n",
            "  Downloading autogluon.text-0.2.0-py3-none-any.whl (48 kB)\n",
            "\u001b[K     |████████████████████████████████| 48 kB 6.5 MB/s \n",
            "\u001b[?25hCollecting autogluon.vision==0.2.0\n",
            "  Downloading autogluon.vision-0.2.0-py3-none-any.whl (31 kB)\n",
            "Collecting autogluon.extra==0.2.0\n",
            "  Downloading autogluon.extra-0.2.0-py3-none-any.whl (24 kB)\n",
            "Collecting autogluon.tabular[all]==0.2.0\n",
            "  Downloading autogluon.tabular-0.2.0-py3-none-any.whl (250 kB)\n",
            "\u001b[K     |████████████████████████████████| 250 kB 15.7 MB/s \n",
            "\u001b[?25hCollecting autogluon.mxnet==0.2.0\n",
            "  Downloading autogluon.mxnet-0.2.0-py3-none-any.whl (28 kB)\n",
            "Collecting autogluon.core==0.2.0\n",
            "  Downloading autogluon.core-0.2.0-py3-none-any.whl (334 kB)\n",
            "\u001b[K     |████████████████████████████████| 334 kB 66.4 MB/s \n",
            "\u001b[?25hCollecting autogluon.features==0.2.0\n",
            "  Downloading autogluon.features-0.2.0-py3-none-any.whl (48 kB)\n",
            "\u001b[K     |████████████████████████████████| 48 kB 67.8 MB/s \n",
            "\u001b[?25hRequirement already satisfied: pandas<2.0,>=1.0.0 in /usr/local/lib/python3.7/dist-packages (from autogluon.core==0.2.0->autogluon) (1.1.5)\n",
            "Collecting dill==0.3.3\n",
            "  Downloading dill-0.3.3-py2.py3-none-any.whl (81 kB)\n",
            "\u001b[K     |████████████████████████████████| 81 kB 69.0 MB/s \n",
            "\u001b[?25hRequirement already satisfied: matplotlib in /usr/local/lib/python3.7/dist-packages (from autogluon.core==0.2.0->autogluon) (3.2.2)\n",
            "Requirement already satisfied: cython in /usr/local/lib/python3.7/dist-packages (from autogluon.core==0.2.0->autogluon) (0.29.23)\n",
            "Collecting ConfigSpace==0.4.18\n",
            "  Downloading ConfigSpace-0.4.18.tar.gz (950 kB)\n",
            "\u001b[K     |████████████████████████████████| 950 kB 75.4 MB/s \n",
            "\u001b[?25h  Installing build dependencies ... \u001b[?25l\u001b[?25hdone\n",
            "  Getting requirements to build wheel ... \u001b[?25l\u001b[?25hdone\n",
            "    Preparing wheel metadata ... \u001b[?25l\u001b[?25hdone\n",
            "Requirement already satisfied: dask>=2.6.0 in /usr/local/lib/python3.7/dist-packages (from autogluon.core==0.2.0->autogluon) (2.12.0)\n",
            "Collecting boto3\n",
            "  Downloading boto3-1.18.2-py3-none-any.whl (131 kB)\n",
            "\u001b[K     |████████████████████████████████| 131 kB 72.0 MB/s \n",
            "\u001b[?25hCollecting paramiko>=2.4\n",
            "  Downloading paramiko-2.7.2-py2.py3-none-any.whl (206 kB)\n",
            "\u001b[K     |████████████████████████████████| 206 kB 63.8 MB/s \n",
            "\u001b[?25hRequirement already satisfied: autograd>=1.3 in /usr/local/lib/python3.7/dist-packages (from autogluon.core==0.2.0->autogluon) (1.3)\n",
            "Requirement already satisfied: tqdm>=4.38.0 in /usr/local/lib/python3.7/dist-packages (from autogluon.core==0.2.0->autogluon) (4.41.1)\n",
            "Collecting scipy<1.7,>=1.5.4\n",
            "  Downloading scipy-1.6.3-cp37-cp37m-manylinux1_x86_64.whl (27.4 MB)\n",
            "\u001b[K     |████████████████████████████████| 27.4 MB 1.3 MB/s \n",
            "\u001b[?25hCollecting distributed>=2.6.0\n",
            "  Downloading distributed-2021.7.0-py3-none-any.whl (1.0 MB)\n",
            "\u001b[K     |████████████████████████████████| 1.0 MB 64.8 MB/s \n",
            "\u001b[?25hRequirement already satisfied: numpy==1.19.5 in /usr/local/lib/python3.7/dist-packages (from autogluon.core==0.2.0->autogluon) (1.19.5)\n",
            "Collecting scikit-learn<0.25,>=0.23.2\n",
            "  Downloading scikit_learn-0.24.2-cp37-cp37m-manylinux2010_x86_64.whl (22.3 MB)\n",
            "\u001b[K     |████████████████████████████████| 22.3 MB 1.1 MB/s \n",
            "\u001b[?25hRequirement already satisfied: graphviz<0.9.0,>=0.8.1 in /usr/local/lib/python3.7/dist-packages (from autogluon.core==0.2.0->autogluon) (0.8.4)\n",
            "Requirement already satisfied: tornado>=5.0.1 in /usr/local/lib/python3.7/dist-packages (from autogluon.core==0.2.0->autogluon) (5.1.1)\n",
            "Requirement already satisfied: requests in /usr/local/lib/python3.7/dist-packages (from autogluon.core==0.2.0->autogluon) (2.23.0)\n",
            "Collecting gluoncv<0.11,>=0.10.1.post0\n",
            "  Downloading gluoncv-0.10.3.post0-py2.py3-none-any.whl (1.2 MB)\n",
            "\u001b[K     |████████████████████████████████| 1.2 MB 45.2 MB/s \n",
            "\u001b[?25hRequirement already satisfied: pytest in /usr/local/lib/python3.7/dist-packages (from autogluon.extra==0.2.0->autogluon) (3.6.4)\n",
            "Collecting openml\n",
            "  Downloading openml-0.12.2.tar.gz (119 kB)\n",
            "\u001b[K     |████████████████████████████████| 119 kB 87.9 MB/s \n",
            "\u001b[?25hRequirement already satisfied: Pillow<=8.1 in /usr/local/lib/python3.7/dist-packages (from autogluon.mxnet==0.2.0->autogluon) (7.1.2)\n",
            "Requirement already satisfied: networkx<3.0,>=2.3 in /usr/local/lib/python3.7/dist-packages (from autogluon.tabular[all]==0.2.0->autogluon) (2.5.1)\n",
            "Collecting psutil<5.9,>=5.7.3\n",
            "  Downloading psutil-5.8.0-cp37-cp37m-manylinux2010_x86_64.whl (296 kB)\n",
            "\u001b[K     |████████████████████████████████| 296 kB 75.1 MB/s \n",
            "\u001b[?25hCollecting catboost<0.26,>=0.24.0\n",
            "  Downloading catboost-0.25.1-cp37-none-manylinux1_x86_64.whl (67.3 MB)\n",
            "\u001b[K     |████████████████████████████████| 67.3 MB 1.2 MB/s \n",
            "\u001b[?25hRequirement already satisfied: torch<2.0,>=1.0 in /usr/local/lib/python3.7/dist-packages (from autogluon.tabular[all]==0.2.0->autogluon) (1.9.0+cu102)\n",
            "Collecting xgboost<1.4,>=1.3.2\n",
            "  Downloading xgboost-1.3.3-py3-none-manylinux2010_x86_64.whl (157.5 MB)\n",
            "\u001b[K     |████████████████████████████████| 157.5 MB 1.2 MB/s \n",
            "\u001b[?25hCollecting fastai<3.0,>=2.0\n",
            "  Downloading fastai-2.4.1-py3-none-any.whl (188 kB)\n",
            "\u001b[K     |████████████████████████████████| 188 kB 72.6 MB/s \n",
            "\u001b[?25hCollecting lightgbm<4.0,>=3.0\n",
            "  Downloading lightgbm-3.2.1-py3-none-manylinux1_x86_64.whl (2.0 MB)\n",
            "\u001b[K     |████████████████████████████████| 2.0 MB 55.6 MB/s \n",
            "\u001b[?25hRequirement already satisfied: pyarrow in /usr/local/lib/python3.7/dist-packages (from autogluon.text==0.2.0->autogluon) (3.0.0)\n",
            "Collecting autogluon-contrib-nlp==0.0.1b20210201\n",
            "  Downloading autogluon_contrib_nlp-0.0.1b20210201-py3-none-any.whl (157 kB)\n",
            "\u001b[K     |████████████████████████████████| 157 kB 74.4 MB/s \n",
            "\u001b[?25hCollecting sacrebleu\n",
            "  Downloading sacrebleu-1.5.1-py3-none-any.whl (54 kB)\n",
            "\u001b[K     |████████████████████████████████| 54 kB 57.3 MB/s \n",
            "\u001b[?25hCollecting yacs>=0.1.6\n",
            "  Downloading yacs-0.1.8-py3-none-any.whl (14 kB)\n",
            "Collecting tokenizers==0.9.4\n",
            "  Downloading tokenizers-0.9.4-cp37-cp37m-manylinux2010_x86_64.whl (2.9 MB)\n",
            "\u001b[K     |████████████████████████████████| 2.9 MB 30.4 MB/s \n",
            "\u001b[?25hCollecting sacremoses>=0.0.38\n",
            "  Downloading sacremoses-0.0.45-py3-none-any.whl (895 kB)\n",
            "\u001b[K     |████████████████████████████████| 895 kB 65.5 MB/s \n",
            "\u001b[?25hRequirement already satisfied: protobuf in /usr/local/lib/python3.7/dist-packages (from autogluon-contrib-nlp==0.0.1b20210201->autogluon.text==0.2.0->autogluon) (3.17.3)\n",
            "Collecting contextvars\n",
            "  Downloading contextvars-2.4.tar.gz (9.6 kB)\n",
            "Collecting sentencepiece==0.1.95\n",
            "  Downloading sentencepiece-0.1.95-cp37-cp37m-manylinux2014_x86_64.whl (1.2 MB)\n",
            "\u001b[K     |████████████████████████████████| 1.2 MB 59.2 MB/s \n",
            "\u001b[?25hRequirement already satisfied: regex in /usr/local/lib/python3.7/dist-packages (from autogluon-contrib-nlp==0.0.1b20210201->autogluon.text==0.2.0->autogluon) (2019.12.20)\n",
            "Collecting flake8\n",
            "  Downloading flake8-3.9.2-py2.py3-none-any.whl (73 kB)\n",
            "\u001b[K     |████████████████████████████████| 73 kB 52.3 MB/s \n",
            "\u001b[?25hCollecting d8<1.0,>=0.0.2\n",
            "  Downloading d8-0.0.2.post0-py3-none-any.whl (28 kB)\n",
            "Requirement already satisfied: pyparsing in /usr/local/lib/python3.7/dist-packages (from ConfigSpace==0.4.18->autogluon.core==0.2.0->autogluon) (2.4.7)\n",
            "Requirement already satisfied: future>=0.15.2 in /usr/local/lib/python3.7/dist-packages (from autograd>=1.3->autogluon.core==0.2.0->autogluon) (0.16.0)\n",
            "Requirement already satisfied: plotly in /usr/local/lib/python3.7/dist-packages (from catboost<0.26,>=0.24.0->autogluon.tabular[all]==0.2.0->autogluon) (4.4.1)\n",
            "Requirement already satisfied: six in /usr/local/lib/python3.7/dist-packages (from catboost<0.26,>=0.24.0->autogluon.tabular[all]==0.2.0->autogluon) (1.15.0)\n",
            "Requirement already satisfied: kaggle in /usr/local/lib/python3.7/dist-packages (from d8<1.0,>=0.0.2->autogluon.vision==0.2.0->autogluon) (1.5.12)\n",
            "Collecting xxhash\n",
            "  Downloading xxhash-2.0.2-cp37-cp37m-manylinux2010_x86_64.whl (243 kB)\n",
            "\u001b[K     |████████████████████████████████| 243 kB 68.6 MB/s \n",
            "\u001b[?25hRequirement already satisfied: tblib>=1.6.0 in /usr/local/lib/python3.7/dist-packages (from distributed>=2.6.0->autogluon.core==0.2.0->autogluon) (1.7.0)\n",
            "Requirement already satisfied: msgpack>=0.6.0 in /usr/local/lib/python3.7/dist-packages (from distributed>=2.6.0->autogluon.core==0.2.0->autogluon) (1.0.2)\n",
            "Requirement already satisfied: toolz>=0.8.2 in /usr/local/lib/python3.7/dist-packages (from distributed>=2.6.0->autogluon.core==0.2.0->autogluon) (0.11.1)\n",
            "Requirement already satisfied: setuptools in /usr/local/lib/python3.7/dist-packages (from distributed>=2.6.0->autogluon.core==0.2.0->autogluon) (57.4.0)\n",
            "Requirement already satisfied: pyyaml in /usr/local/lib/python3.7/dist-packages (from distributed>=2.6.0->autogluon.core==0.2.0->autogluon) (3.13)\n",
            "Requirement already satisfied: click>=6.6 in /usr/local/lib/python3.7/dist-packages (from distributed>=2.6.0->autogluon.core==0.2.0->autogluon) (7.1.2)\n",
            "Requirement already satisfied: zict>=0.1.3 in /usr/local/lib/python3.7/dist-packages (from distributed>=2.6.0->autogluon.core==0.2.0->autogluon) (2.0.0)\n",
            "Collecting cloudpickle>=1.5.0\n",
            "  Downloading cloudpickle-1.6.0-py3-none-any.whl (23 kB)\n",
            "Requirement already satisfied: sortedcontainers!=2.0.0,!=2.0.1 in /usr/local/lib/python3.7/dist-packages (from distributed>=2.6.0->autogluon.core==0.2.0->autogluon) (2.4.0)\n",
            "Collecting dask>=2.6.0\n",
            "  Downloading dask-2021.7.0-py3-none-any.whl (977 kB)\n",
            "\u001b[K     |████████████████████████████████| 977 kB 60.7 MB/s \n",
            "\u001b[?25hCollecting fsspec>=0.6.0\n",
            "  Downloading fsspec-2021.7.0-py3-none-any.whl (118 kB)\n",
            "\u001b[K     |████████████████████████████████| 118 kB 88.1 MB/s \n",
            "\u001b[?25hCollecting partd>=0.3.10\n",
            "  Downloading partd-1.2.0-py3-none-any.whl (19 kB)\n",
            "Requirement already satisfied: pip in /usr/local/lib/python3.7/dist-packages (from fastai<3.0,>=2.0->autogluon.tabular[all]==0.2.0->autogluon) (21.1.3)\n",
            "Requirement already satisfied: spacy<4 in /usr/local/lib/python3.7/dist-packages (from fastai<3.0,>=2.0->autogluon.tabular[all]==0.2.0->autogluon) (2.2.4)\n",
            "Requirement already satisfied: fastprogress>=0.2.4 in /usr/local/lib/python3.7/dist-packages (from fastai<3.0,>=2.0->autogluon.tabular[all]==0.2.0->autogluon) (1.0.0)\n",
            "Requirement already satisfied: packaging in /usr/local/lib/python3.7/dist-packages (from fastai<3.0,>=2.0->autogluon.tabular[all]==0.2.0->autogluon) (21.0)\n",
            "Collecting fastcore<1.4,>=1.3.8\n",
            "  Downloading fastcore-1.3.20-py3-none-any.whl (53 kB)\n",
            "\u001b[K     |████████████████████████████████| 53 kB 59.6 MB/s \n",
            "\u001b[?25hRequirement already satisfied: torchvision>=0.8.2 in /usr/local/lib/python3.7/dist-packages (from fastai<3.0,>=2.0->autogluon.tabular[all]==0.2.0->autogluon) (0.10.0+cu102)\n",
            "Requirement already satisfied: opencv-python in /usr/local/lib/python3.7/dist-packages (from gluoncv<0.11,>=0.10.1.post0->autogluon.extra==0.2.0->autogluon) (4.1.2.30)\n",
            "Collecting portalocker\n",
            "  Downloading portalocker-2.3.0-py2.py3-none-any.whl (15 kB)\n",
            "Collecting autocfg\n",
            "  Downloading autocfg-0.0.8-py3-none-any.whl (13 kB)\n",
            "Requirement already satisfied: wheel in /usr/local/lib/python3.7/dist-packages (from lightgbm<4.0,>=3.0->autogluon.tabular[all]==0.2.0->autogluon) (0.36.2)\n",
            "Requirement already satisfied: decorator<5,>=4.3 in /usr/local/lib/python3.7/dist-packages (from networkx<3.0,>=2.3->autogluon.tabular[all]==0.2.0->autogluon) (4.4.2)\n",
            "Requirement already satisfied: python-dateutil>=2.7.3 in /usr/local/lib/python3.7/dist-packages (from pandas<2.0,>=1.0.0->autogluon.core==0.2.0->autogluon) (2.8.1)\n",
            "Requirement already satisfied: pytz>=2017.2 in /usr/local/lib/python3.7/dist-packages (from pandas<2.0,>=1.0.0->autogluon.core==0.2.0->autogluon) (2018.9)\n",
            "Collecting pynacl>=1.0.1\n",
            "  Downloading PyNaCl-1.4.0-cp35-abi3-manylinux1_x86_64.whl (961 kB)\n",
            "\u001b[K     |████████████████████████████████| 961 kB 65.0 MB/s \n",
            "\u001b[?25hCollecting bcrypt>=3.1.3\n",
            "  Downloading bcrypt-3.2.0-cp36-abi3-manylinux2010_x86_64.whl (63 kB)\n",
            "\u001b[K     |████████████████████████████████| 63 kB 63.2 MB/s \n",
            "\u001b[?25hCollecting cryptography>=2.5\n",
            "  Downloading cryptography-3.4.7-cp36-abi3-manylinux2014_x86_64.whl (3.2 MB)\n",
            "\u001b[K     |████████████████████████████████| 3.2 MB 61.8 MB/s \n",
            "\u001b[?25hRequirement already satisfied: cffi>=1.1 in /usr/local/lib/python3.7/dist-packages (from bcrypt>=3.1.3->paramiko>=2.4->autogluon.core==0.2.0->autogluon) (1.14.6)\n",
            "Requirement already satisfied: pycparser in /usr/local/lib/python3.7/dist-packages (from cffi>=1.1->bcrypt>=3.1.3->paramiko>=2.4->autogluon.core==0.2.0->autogluon) (2.20)\n",
            "Collecting locket\n",
            "  Downloading locket-0.2.1-py2.py3-none-any.whl (4.1 kB)\n",
            "Requirement already satisfied: joblib in /usr/local/lib/python3.7/dist-packages (from sacremoses>=0.0.38->autogluon-contrib-nlp==0.0.1b20210201->autogluon.text==0.2.0->autogluon) (1.0.1)\n",
            "Collecting threadpoolctl>=2.0.0\n",
            "  Downloading threadpoolctl-2.2.0-py3-none-any.whl (12 kB)\n",
            "Requirement already satisfied: preshed<3.1.0,>=3.0.2 in /usr/local/lib/python3.7/dist-packages (from spacy<4->fastai<3.0,>=2.0->autogluon.tabular[all]==0.2.0->autogluon) (3.0.5)\n",
            "Requirement already satisfied: wasabi<1.1.0,>=0.4.0 in /usr/local/lib/python3.7/dist-packages (from spacy<4->fastai<3.0,>=2.0->autogluon.tabular[all]==0.2.0->autogluon) (0.8.2)\n",
            "Requirement already satisfied: blis<0.5.0,>=0.4.0 in /usr/local/lib/python3.7/dist-packages (from spacy<4->fastai<3.0,>=2.0->autogluon.tabular[all]==0.2.0->autogluon) (0.4.1)\n",
            "Requirement already satisfied: srsly<1.1.0,>=1.0.2 in /usr/local/lib/python3.7/dist-packages (from spacy<4->fastai<3.0,>=2.0->autogluon.tabular[all]==0.2.0->autogluon) (1.0.5)\n",
            "Requirement already satisfied: plac<1.2.0,>=0.9.6 in /usr/local/lib/python3.7/dist-packages (from spacy<4->fastai<3.0,>=2.0->autogluon.tabular[all]==0.2.0->autogluon) (1.1.3)\n",
            "Requirement already satisfied: murmurhash<1.1.0,>=0.28.0 in /usr/local/lib/python3.7/dist-packages (from spacy<4->fastai<3.0,>=2.0->autogluon.tabular[all]==0.2.0->autogluon) (1.0.5)\n",
            "Requirement already satisfied: thinc==7.4.0 in /usr/local/lib/python3.7/dist-packages (from spacy<4->fastai<3.0,>=2.0->autogluon.tabular[all]==0.2.0->autogluon) (7.4.0)\n",
            "Requirement already satisfied: catalogue<1.1.0,>=0.0.7 in /usr/local/lib/python3.7/dist-packages (from spacy<4->fastai<3.0,>=2.0->autogluon.tabular[all]==0.2.0->autogluon) (1.0.0)\n",
            "Requirement already satisfied: cymem<2.1.0,>=2.0.2 in /usr/local/lib/python3.7/dist-packages (from spacy<4->fastai<3.0,>=2.0->autogluon.tabular[all]==0.2.0->autogluon) (2.0.5)\n",
            "Requirement already satisfied: importlib-metadata>=0.20 in /usr/local/lib/python3.7/dist-packages (from catalogue<1.1.0,>=0.0.7->spacy<4->fastai<3.0,>=2.0->autogluon.tabular[all]==0.2.0->autogluon) (4.6.1)\n",
            "Requirement already satisfied: typing-extensions>=3.6.4 in /usr/local/lib/python3.7/dist-packages (from importlib-metadata>=0.20->catalogue<1.1.0,>=0.0.7->spacy<4->fastai<3.0,>=2.0->autogluon.tabular[all]==0.2.0->autogluon) (3.7.4.3)\n",
            "Requirement already satisfied: zipp>=0.5 in /usr/local/lib/python3.7/dist-packages (from importlib-metadata>=0.20->catalogue<1.1.0,>=0.0.7->spacy<4->fastai<3.0,>=2.0->autogluon.tabular[all]==0.2.0->autogluon) (3.5.0)\n",
            "Requirement already satisfied: chardet<4,>=3.0.2 in /usr/local/lib/python3.7/dist-packages (from requests->autogluon.core==0.2.0->autogluon) (3.0.4)\n",
            "Requirement already satisfied: certifi>=2017.4.17 in /usr/local/lib/python3.7/dist-packages (from requests->autogluon.core==0.2.0->autogluon) (2021.5.30)\n",
            "Requirement already satisfied: urllib3!=1.25.0,!=1.25.1,<1.26,>=1.21.1 in /usr/local/lib/python3.7/dist-packages (from requests->autogluon.core==0.2.0->autogluon) (1.24.3)\n",
            "Requirement already satisfied: idna<3,>=2.5 in /usr/local/lib/python3.7/dist-packages (from requests->autogluon.core==0.2.0->autogluon) (2.10)\n",
            "Requirement already satisfied: heapdict in /usr/local/lib/python3.7/dist-packages (from zict>=0.1.3->distributed>=2.6.0->autogluon.core==0.2.0->autogluon) (1.0.1)\n",
            "Collecting jmespath<1.0.0,>=0.7.1\n",
            "  Downloading jmespath-0.10.0-py2.py3-none-any.whl (24 kB)\n",
            "Collecting botocore<1.22.0,>=1.21.2\n",
            "  Downloading botocore-1.21.2-py3-none-any.whl (7.7 MB)\n",
            "\u001b[K     |████████████████████████████████| 7.7 MB 60.2 MB/s \n",
            "\u001b[?25hCollecting s3transfer<0.6.0,>=0.5.0\n",
            "  Downloading s3transfer-0.5.0-py3-none-any.whl (79 kB)\n",
            "\u001b[K     |████████████████████████████████| 79 kB 76.8 MB/s \n",
            "\u001b[?25hCollecting urllib3!=1.25.0,!=1.25.1,<1.26,>=1.21.1\n",
            "  Downloading urllib3-1.25.11-py2.py3-none-any.whl (127 kB)\n",
            "\u001b[K     |████████████████████████████████| 127 kB 66.5 MB/s \n",
            "\u001b[?25hCollecting immutables>=0.9\n",
            "  Downloading immutables-0.15-cp37-cp37m-manylinux1_x86_64.whl (101 kB)\n",
            "\u001b[K     |████████████████████████████████| 101 kB 78.9 MB/s \n",
            "\u001b[?25hCollecting pycodestyle<2.8.0,>=2.7.0\n",
            "  Downloading pycodestyle-2.7.0-py2.py3-none-any.whl (41 kB)\n",
            "\u001b[K     |████████████████████████████████| 41 kB 27.5 MB/s \n",
            "\u001b[?25hCollecting pyflakes<2.4.0,>=2.3.0\n",
            "  Downloading pyflakes-2.3.1-py2.py3-none-any.whl (68 kB)\n",
            "\u001b[K     |████████████████████████████████| 68 kB 75.8 MB/s \n",
            "\u001b[?25hCollecting mccabe<0.7.0,>=0.6.0\n",
            "  Downloading mccabe-0.6.1-py2.py3-none-any.whl (8.6 kB)\n",
            "Requirement already satisfied: python-slugify in /usr/local/lib/python3.7/dist-packages (from kaggle->d8<1.0,>=0.0.2->autogluon.vision==0.2.0->autogluon) (5.0.2)\n",
            "Requirement already satisfied: cycler>=0.10 in /usr/local/lib/python3.7/dist-packages (from matplotlib->autogluon.core==0.2.0->autogluon) (0.10.0)\n",
            "Requirement already satisfied: kiwisolver>=1.0.1 in /usr/local/lib/python3.7/dist-packages (from matplotlib->autogluon.core==0.2.0->autogluon) (1.3.1)\n",
            "Collecting liac-arff>=2.4.0\n",
            "  Downloading liac-arff-2.5.0.tar.gz (13 kB)\n",
            "Collecting xmltodict\n",
            "  Downloading xmltodict-0.12.0-py2.py3-none-any.whl (9.2 kB)\n",
            "Collecting minio\n",
            "  Downloading minio-7.1.0-py3-none-any.whl (75 kB)\n",
            "\u001b[K     |████████████████████████████████| 75 kB 57.7 MB/s \n",
            "\u001b[?25hRequirement already satisfied: retrying>=1.3.3 in /usr/local/lib/python3.7/dist-packages (from plotly->catboost<0.26,>=0.24.0->autogluon.tabular[all]==0.2.0->autogluon) (1.3.3)\n",
            "Requirement already satisfied: atomicwrites>=1.0 in /usr/local/lib/python3.7/dist-packages (from pytest->autogluon.extra==0.2.0->autogluon) (1.4.0)\n",
            "Requirement already satisfied: py>=1.5.0 in /usr/local/lib/python3.7/dist-packages (from pytest->autogluon.extra==0.2.0->autogluon) (1.10.0)\n",
            "Requirement already satisfied: more-itertools>=4.0.0 in /usr/local/lib/python3.7/dist-packages (from pytest->autogluon.extra==0.2.0->autogluon) (8.8.0)\n",
            "Requirement already satisfied: pluggy<0.8,>=0.5 in /usr/local/lib/python3.7/dist-packages (from pytest->autogluon.extra==0.2.0->autogluon) (0.7.1)\n",
            "Requirement already satisfied: attrs>=17.4.0 in /usr/local/lib/python3.7/dist-packages (from pytest->autogluon.extra==0.2.0->autogluon) (21.2.0)\n",
            "Requirement already satisfied: text-unidecode>=1.3 in /usr/local/lib/python3.7/dist-packages (from python-slugify->kaggle->d8<1.0,>=0.0.2->autogluon.vision==0.2.0->autogluon) (1.3)\n",
            "Collecting portalocker\n",
            "  Downloading portalocker-2.0.0-py2.py3-none-any.whl (11 kB)\n",
            "Building wheels for collected packages: ConfigSpace, contextvars, openml, liac-arff\n",
            "  Building wheel for ConfigSpace (PEP 517) ... \u001b[?25l\u001b[?25hdone\n",
            "  Created wheel for ConfigSpace: filename=ConfigSpace-0.4.18-cp37-cp37m-linux_x86_64.whl size=2879997 sha256=71c292d1a2f6cd9b077d5816682d33315d78da9e760f624d8782b82d0b8e38b7\n",
            "  Stored in directory: /tmp/pip-ephem-wheel-cache-udcedvn1/wheels/36/f7/0f/36f368c419ea1a8024fc3d6c078c3111dfef43fa1d14cfebe0\n",
            "  Building wheel for contextvars (setup.py) ... \u001b[?25l\u001b[?25hdone\n",
            "  Created wheel for contextvars: filename=contextvars-2.4-py3-none-any.whl size=7680 sha256=f4dfa776053c3938bcc44816c4e1932295db239a5ff4d1e04f4cd10e373b2265\n",
            "  Stored in directory: /tmp/pip-ephem-wheel-cache-udcedvn1/wheels/0a/11/79/e70e668095c0bb1f94718af672ef2d35ee7a023fee56ef54d9\n",
            "  Building wheel for openml (setup.py) ... \u001b[?25l\u001b[?25hdone\n",
            "  Created wheel for openml: filename=openml-0.12.2-py3-none-any.whl size=137326 sha256=c3f35b37b854a9d3006dc33838bcec117a58fb35c6805cabd86fcd9c9d7adb99\n",
            "  Stored in directory: /tmp/pip-ephem-wheel-cache-udcedvn1/wheels/6a/20/88/cf4ac86aa18e2cd647ed16ebe274a5dacee9d0075fa02af250\n",
            "  Building wheel for liac-arff (setup.py) ... \u001b[?25l\u001b[?25hdone\n",
            "  Created wheel for liac-arff: filename=liac_arff-2.5.0-py3-none-any.whl size=11730 sha256=599d7c34dee224f12de3219185eaa7a84906b7fae75c8f2fddec3f5e84ede434\n",
            "  Stored in directory: /tmp/pip-ephem-wheel-cache-udcedvn1/wheels/1f/0f/15/332ca86cbebf25ddf98518caaf887945fbe1712b97a0f2493b\n",
            "Successfully built ConfigSpace contextvars openml liac-arff\n",
            "Installing collected packages: urllib3, locket, jmespath, partd, fsspec, cloudpickle, botocore, threadpoolctl, scipy, s3transfer, pynacl, psutil, dask, cryptography, bcrypt, scikit-learn, paramiko, distributed, dill, ConfigSpace, boto3, xmltodict, pyflakes, pycodestyle, portalocker, minio, mccabe, liac-arff, immutables, autogluon.core, yacs, xxhash, tokenizers, sentencepiece, sacremoses, sacrebleu, openml, flake8, fastcore, contextvars, autogluon.features, autocfg, xgboost, lightgbm, gluoncv, fastai, d8, catboost, autogluon.tabular, autogluon.mxnet, autogluon-contrib-nlp, autogluon.vision, autogluon.text, autogluon.extra, autogluon\n",
            "  Attempting uninstall: urllib3\n",
            "    Found existing installation: urllib3 1.24.3\n",
            "    Uninstalling urllib3-1.24.3:\n",
            "      Successfully uninstalled urllib3-1.24.3\n",
            "  Attempting uninstall: cloudpickle\n",
            "    Found existing installation: cloudpickle 1.3.0\n",
            "    Uninstalling cloudpickle-1.3.0:\n",
            "      Successfully uninstalled cloudpickle-1.3.0\n",
            "  Attempting uninstall: scipy\n",
            "    Found existing installation: scipy 1.4.1\n",
            "    Uninstalling scipy-1.4.1:\n",
            "      Successfully uninstalled scipy-1.4.1\n",
            "  Attempting uninstall: psutil\n",
            "    Found existing installation: psutil 5.4.8\n",
            "    Uninstalling psutil-5.4.8:\n",
            "      Successfully uninstalled psutil-5.4.8\n",
            "  Attempting uninstall: dask\n",
            "    Found existing installation: dask 2.12.0\n",
            "    Uninstalling dask-2.12.0:\n",
            "      Successfully uninstalled dask-2.12.0\n",
            "  Attempting uninstall: scikit-learn\n",
            "    Found existing installation: scikit-learn 0.22.2.post1\n",
            "    Uninstalling scikit-learn-0.22.2.post1:\n",
            "      Successfully uninstalled scikit-learn-0.22.2.post1\n",
            "  Attempting uninstall: distributed\n",
            "    Found existing installation: distributed 1.25.3\n",
            "    Uninstalling distributed-1.25.3:\n",
            "      Successfully uninstalled distributed-1.25.3\n",
            "  Attempting uninstall: dill\n",
            "    Found existing installation: dill 0.3.4\n",
            "    Uninstalling dill-0.3.4:\n",
            "      Successfully uninstalled dill-0.3.4\n",
            "  Attempting uninstall: xgboost\n",
            "    Found existing installation: xgboost 0.90\n",
            "    Uninstalling xgboost-0.90:\n",
            "      Successfully uninstalled xgboost-0.90\n",
            "  Attempting uninstall: lightgbm\n",
            "    Found existing installation: lightgbm 2.2.3\n",
            "    Uninstalling lightgbm-2.2.3:\n",
            "      Successfully uninstalled lightgbm-2.2.3\n",
            "  Attempting uninstall: fastai\n",
            "    Found existing installation: fastai 1.0.61\n",
            "    Uninstalling fastai-1.0.61:\n",
            "      Successfully uninstalled fastai-1.0.61\n",
            "\u001b[31mERROR: pip's dependency resolver does not currently take into account all the packages that are installed. This behaviour is the source of the following dependency conflicts.\n",
            "panel 0.11.3 requires bokeh<2.4.0,>=2.3.0, but you have bokeh 2.0.1 which is incompatible.\n",
            "multiprocess 0.70.12.2 requires dill>=0.3.4, but you have dill 0.3.3 which is incompatible.\n",
            "datascience 0.10.6 requires folium==0.2.1, but you have folium 0.8.3 which is incompatible.\n",
            "albumentations 0.1.12 requires imgaug<0.2.7,>=0.2.5, but you have imgaug 0.2.9 which is incompatible.\u001b[0m\n",
            "Successfully installed ConfigSpace-0.4.18 autocfg-0.0.8 autogluon-0.2.0 autogluon-contrib-nlp-0.0.1b20210201 autogluon.core-0.2.0 autogluon.extra-0.2.0 autogluon.features-0.2.0 autogluon.mxnet-0.2.0 autogluon.tabular-0.2.0 autogluon.text-0.2.0 autogluon.vision-0.2.0 bcrypt-3.2.0 boto3-1.18.2 botocore-1.21.2 catboost-0.25.1 cloudpickle-1.6.0 contextvars-2.4 cryptography-3.4.7 d8-0.0.2.post0 dask-2021.7.0 dill-0.3.3 distributed-2021.7.0 fastai-2.4.1 fastcore-1.3.20 flake8-3.9.2 fsspec-2021.7.0 gluoncv-0.10.3.post0 immutables-0.15 jmespath-0.10.0 liac-arff-2.5.0 lightgbm-3.2.1 locket-0.2.1 mccabe-0.6.1 minio-7.1.0 openml-0.12.2 paramiko-2.7.2 partd-1.2.0 portalocker-2.0.0 psutil-5.8.0 pycodestyle-2.7.0 pyflakes-2.3.1 pynacl-1.4.0 s3transfer-0.5.0 sacrebleu-1.5.1 sacremoses-0.0.45 scikit-learn-0.24.2 scipy-1.6.3 sentencepiece-0.1.95 threadpoolctl-2.2.0 tokenizers-0.9.4 urllib3-1.25.11 xgboost-1.3.3 xmltodict-0.12.0 xxhash-2.0.2 yacs-0.1.8\n"
          ],
          "name": "stdout"
        },
        {
          "output_type": "display_data",
          "data": {
            "application/vnd.colab-display-data+json": {
              "pip_warning": {
                "packages": [
                  "contextvars",
                  "psutil"
                ]
              }
            }
          },
          "metadata": {
            "tags": []
          }
        }
      ]
    },
    {
      "cell_type": "markdown",
      "metadata": {
        "id": "2IMYd2wAI-e4"
      },
      "source": [
        "### Setup Kaggle API Key"
      ]
    },
    {
      "cell_type": "code",
      "metadata": {
        "id": "3yDzjdlrI-e5"
      },
      "source": [
        "# create the .kaggle directory and an empty kaggle.json file\n",
        "!mkdir -p /root/.kaggle\n",
        "!touch /root/.kaggle/kaggle.json\n",
        "!chmod 600 /root/.kaggle/kaggle.json"
      ],
      "execution_count": 3,
      "outputs": []
    },
    {
      "cell_type": "code",
      "metadata": {
        "id": "0NX9Wb2QI-e5"
      },
      "source": [
        "# Fill in your user name and key from creating the kaggle account and API token file\n",
        "import json\n",
        "kaggle_username = \"alathiya\"\n",
        "kaggle_key = \"ed7e146cbc308a331148fd61456d6883\"\n",
        "\n",
        "# Save API token the kaggle.json file\n",
        "with open(\"/root/.kaggle/kaggle.json\", \"w\") as f:\n",
        "    f.write(json.dumps({\"username\": kaggle_username, \"key\": kaggle_key}))"
      ],
      "execution_count": 4,
      "outputs": []
    },
    {
      "cell_type": "markdown",
      "metadata": {
        "id": "9_uIn1KOI-e6"
      },
      "source": [
        "### Download and explore dataset"
      ]
    },
    {
      "cell_type": "markdown",
      "metadata": {
        "id": "lJryO8HnI-e6"
      },
      "source": [
        "### Go to the bike sharing demand competition and agree to the terms\n",
        "![kaggle6.png](attachment:kaggle6.png)"
      ]
    },
    {
      "cell_type": "code",
      "metadata": {
        "id": "2HhHcZqeI-e7",
        "colab": {
          "base_uri": "https://localhost:8080/"
        },
        "outputId": "f78d2532-2292-4402-c894-a8baa21bef74"
      },
      "source": [
        "# Download the dataset, it will be in a .zip file so you'll need to unzip it as well.\n",
        "!kaggle competitions download -c bike-sharing-demand\n",
        "# If you already downloaded it you can use the -o command to overwrite the file\n",
        "!unzip -o bike-sharing-demand.zip"
      ],
      "execution_count": 5,
      "outputs": [
        {
          "output_type": "stream",
          "text": [
            "Warning: Looks like you're using an outdated API Version, please consider updating (server 1.5.12 / client 1.5.4)\n",
            "Downloading test.csv to /content\n",
            "  0% 0.00/316k [00:00<?, ?B/s]\n",
            "100% 316k/316k [00:00<00:00, 46.3MB/s]\n",
            "Downloading sampleSubmission.csv to /content\n",
            "  0% 0.00/140k [00:00<?, ?B/s]\n",
            "100% 140k/140k [00:00<00:00, 46.3MB/s]\n",
            "Downloading train.csv to /content\n",
            "  0% 0.00/633k [00:00<?, ?B/s]\n",
            "100% 633k/633k [00:00<00:00, 90.2MB/s]\n",
            "unzip:  cannot find or open bike-sharing-demand.zip, bike-sharing-demand.zip.zip or bike-sharing-demand.zip.ZIP.\n"
          ],
          "name": "stdout"
        }
      ]
    },
    {
      "cell_type": "code",
      "metadata": {
        "id": "JycEgk2UI-e7"
      },
      "source": [
        "import pandas as pd\n",
        "from autogluon.tabular import TabularPredictor"
      ],
      "execution_count": 6,
      "outputs": []
    },
    {
      "cell_type": "code",
      "metadata": {
        "id": "wbmvkZPSI-e8",
        "colab": {
          "base_uri": "https://localhost:8080/",
          "height": 195
        },
        "outputId": "a9c42aca-7cc4-4432-dec8-b81bd0c64871"
      },
      "source": [
        "# Create the train dataset in pandas by reading the csv\n",
        "# Set the parsing of the datetime column so you can use some of the `dt` features in pandas later\n",
        "train = pd.read_csv('train.csv', parse_dates = ['datetime'])\n",
        "train.head()"
      ],
      "execution_count": 7,
      "outputs": [
        {
          "output_type": "execute_result",
          "data": {
            "text/html": [
              "<div>\n",
              "<style scoped>\n",
              "    .dataframe tbody tr th:only-of-type {\n",
              "        vertical-align: middle;\n",
              "    }\n",
              "\n",
              "    .dataframe tbody tr th {\n",
              "        vertical-align: top;\n",
              "    }\n",
              "\n",
              "    .dataframe thead th {\n",
              "        text-align: right;\n",
              "    }\n",
              "</style>\n",
              "<table border=\"1\" class=\"dataframe\">\n",
              "  <thead>\n",
              "    <tr style=\"text-align: right;\">\n",
              "      <th></th>\n",
              "      <th>datetime</th>\n",
              "      <th>season</th>\n",
              "      <th>holiday</th>\n",
              "      <th>workingday</th>\n",
              "      <th>weather</th>\n",
              "      <th>temp</th>\n",
              "      <th>atemp</th>\n",
              "      <th>humidity</th>\n",
              "      <th>windspeed</th>\n",
              "      <th>casual</th>\n",
              "      <th>registered</th>\n",
              "      <th>count</th>\n",
              "    </tr>\n",
              "  </thead>\n",
              "  <tbody>\n",
              "    <tr>\n",
              "      <th>0</th>\n",
              "      <td>2011-01-01 00:00:00</td>\n",
              "      <td>1</td>\n",
              "      <td>0</td>\n",
              "      <td>0</td>\n",
              "      <td>1</td>\n",
              "      <td>9.84</td>\n",
              "      <td>14.395</td>\n",
              "      <td>81</td>\n",
              "      <td>0.0</td>\n",
              "      <td>3</td>\n",
              "      <td>13</td>\n",
              "      <td>16</td>\n",
              "    </tr>\n",
              "    <tr>\n",
              "      <th>1</th>\n",
              "      <td>2011-01-01 01:00:00</td>\n",
              "      <td>1</td>\n",
              "      <td>0</td>\n",
              "      <td>0</td>\n",
              "      <td>1</td>\n",
              "      <td>9.02</td>\n",
              "      <td>13.635</td>\n",
              "      <td>80</td>\n",
              "      <td>0.0</td>\n",
              "      <td>8</td>\n",
              "      <td>32</td>\n",
              "      <td>40</td>\n",
              "    </tr>\n",
              "    <tr>\n",
              "      <th>2</th>\n",
              "      <td>2011-01-01 02:00:00</td>\n",
              "      <td>1</td>\n",
              "      <td>0</td>\n",
              "      <td>0</td>\n",
              "      <td>1</td>\n",
              "      <td>9.02</td>\n",
              "      <td>13.635</td>\n",
              "      <td>80</td>\n",
              "      <td>0.0</td>\n",
              "      <td>5</td>\n",
              "      <td>27</td>\n",
              "      <td>32</td>\n",
              "    </tr>\n",
              "    <tr>\n",
              "      <th>3</th>\n",
              "      <td>2011-01-01 03:00:00</td>\n",
              "      <td>1</td>\n",
              "      <td>0</td>\n",
              "      <td>0</td>\n",
              "      <td>1</td>\n",
              "      <td>9.84</td>\n",
              "      <td>14.395</td>\n",
              "      <td>75</td>\n",
              "      <td>0.0</td>\n",
              "      <td>3</td>\n",
              "      <td>10</td>\n",
              "      <td>13</td>\n",
              "    </tr>\n",
              "    <tr>\n",
              "      <th>4</th>\n",
              "      <td>2011-01-01 04:00:00</td>\n",
              "      <td>1</td>\n",
              "      <td>0</td>\n",
              "      <td>0</td>\n",
              "      <td>1</td>\n",
              "      <td>9.84</td>\n",
              "      <td>14.395</td>\n",
              "      <td>75</td>\n",
              "      <td>0.0</td>\n",
              "      <td>0</td>\n",
              "      <td>1</td>\n",
              "      <td>1</td>\n",
              "    </tr>\n",
              "  </tbody>\n",
              "</table>\n",
              "</div>"
            ],
            "text/plain": [
              "             datetime  season  holiday  ...  casual  registered  count\n",
              "0 2011-01-01 00:00:00       1        0  ...       3          13     16\n",
              "1 2011-01-01 01:00:00       1        0  ...       8          32     40\n",
              "2 2011-01-01 02:00:00       1        0  ...       5          27     32\n",
              "3 2011-01-01 03:00:00       1        0  ...       3          10     13\n",
              "4 2011-01-01 04:00:00       1        0  ...       0           1      1\n",
              "\n",
              "[5 rows x 12 columns]"
            ]
          },
          "metadata": {
            "tags": []
          },
          "execution_count": 7
        }
      ]
    },
    {
      "cell_type": "code",
      "metadata": {
        "id": "d3yHJaVMI-e9",
        "colab": {
          "base_uri": "https://localhost:8080/",
          "height": 284
        },
        "outputId": "20a1c65c-8272-438c-a17e-ee6661a12f96"
      },
      "source": [
        "# Simple output of the train dataset to view some of the min/max/varition of the dataset features.\n",
        "train.describe()"
      ],
      "execution_count": 8,
      "outputs": [
        {
          "output_type": "execute_result",
          "data": {
            "text/html": [
              "<div>\n",
              "<style scoped>\n",
              "    .dataframe tbody tr th:only-of-type {\n",
              "        vertical-align: middle;\n",
              "    }\n",
              "\n",
              "    .dataframe tbody tr th {\n",
              "        vertical-align: top;\n",
              "    }\n",
              "\n",
              "    .dataframe thead th {\n",
              "        text-align: right;\n",
              "    }\n",
              "</style>\n",
              "<table border=\"1\" class=\"dataframe\">\n",
              "  <thead>\n",
              "    <tr style=\"text-align: right;\">\n",
              "      <th></th>\n",
              "      <th>season</th>\n",
              "      <th>holiday</th>\n",
              "      <th>workingday</th>\n",
              "      <th>weather</th>\n",
              "      <th>temp</th>\n",
              "      <th>atemp</th>\n",
              "      <th>humidity</th>\n",
              "      <th>windspeed</th>\n",
              "      <th>casual</th>\n",
              "      <th>registered</th>\n",
              "      <th>count</th>\n",
              "    </tr>\n",
              "  </thead>\n",
              "  <tbody>\n",
              "    <tr>\n",
              "      <th>count</th>\n",
              "      <td>10886.000000</td>\n",
              "      <td>10886.000000</td>\n",
              "      <td>10886.000000</td>\n",
              "      <td>10886.000000</td>\n",
              "      <td>10886.00000</td>\n",
              "      <td>10886.000000</td>\n",
              "      <td>10886.000000</td>\n",
              "      <td>10886.000000</td>\n",
              "      <td>10886.000000</td>\n",
              "      <td>10886.000000</td>\n",
              "      <td>10886.000000</td>\n",
              "    </tr>\n",
              "    <tr>\n",
              "      <th>mean</th>\n",
              "      <td>2.506614</td>\n",
              "      <td>0.028569</td>\n",
              "      <td>0.680875</td>\n",
              "      <td>1.418427</td>\n",
              "      <td>20.23086</td>\n",
              "      <td>23.655084</td>\n",
              "      <td>61.886460</td>\n",
              "      <td>12.799395</td>\n",
              "      <td>36.021955</td>\n",
              "      <td>155.552177</td>\n",
              "      <td>191.574132</td>\n",
              "    </tr>\n",
              "    <tr>\n",
              "      <th>std</th>\n",
              "      <td>1.116174</td>\n",
              "      <td>0.166599</td>\n",
              "      <td>0.466159</td>\n",
              "      <td>0.633839</td>\n",
              "      <td>7.79159</td>\n",
              "      <td>8.474601</td>\n",
              "      <td>19.245033</td>\n",
              "      <td>8.164537</td>\n",
              "      <td>49.960477</td>\n",
              "      <td>151.039033</td>\n",
              "      <td>181.144454</td>\n",
              "    </tr>\n",
              "    <tr>\n",
              "      <th>min</th>\n",
              "      <td>1.000000</td>\n",
              "      <td>0.000000</td>\n",
              "      <td>0.000000</td>\n",
              "      <td>1.000000</td>\n",
              "      <td>0.82000</td>\n",
              "      <td>0.760000</td>\n",
              "      <td>0.000000</td>\n",
              "      <td>0.000000</td>\n",
              "      <td>0.000000</td>\n",
              "      <td>0.000000</td>\n",
              "      <td>1.000000</td>\n",
              "    </tr>\n",
              "    <tr>\n",
              "      <th>25%</th>\n",
              "      <td>2.000000</td>\n",
              "      <td>0.000000</td>\n",
              "      <td>0.000000</td>\n",
              "      <td>1.000000</td>\n",
              "      <td>13.94000</td>\n",
              "      <td>16.665000</td>\n",
              "      <td>47.000000</td>\n",
              "      <td>7.001500</td>\n",
              "      <td>4.000000</td>\n",
              "      <td>36.000000</td>\n",
              "      <td>42.000000</td>\n",
              "    </tr>\n",
              "    <tr>\n",
              "      <th>50%</th>\n",
              "      <td>3.000000</td>\n",
              "      <td>0.000000</td>\n",
              "      <td>1.000000</td>\n",
              "      <td>1.000000</td>\n",
              "      <td>20.50000</td>\n",
              "      <td>24.240000</td>\n",
              "      <td>62.000000</td>\n",
              "      <td>12.998000</td>\n",
              "      <td>17.000000</td>\n",
              "      <td>118.000000</td>\n",
              "      <td>145.000000</td>\n",
              "    </tr>\n",
              "    <tr>\n",
              "      <th>75%</th>\n",
              "      <td>4.000000</td>\n",
              "      <td>0.000000</td>\n",
              "      <td>1.000000</td>\n",
              "      <td>2.000000</td>\n",
              "      <td>26.24000</td>\n",
              "      <td>31.060000</td>\n",
              "      <td>77.000000</td>\n",
              "      <td>16.997900</td>\n",
              "      <td>49.000000</td>\n",
              "      <td>222.000000</td>\n",
              "      <td>284.000000</td>\n",
              "    </tr>\n",
              "    <tr>\n",
              "      <th>max</th>\n",
              "      <td>4.000000</td>\n",
              "      <td>1.000000</td>\n",
              "      <td>1.000000</td>\n",
              "      <td>4.000000</td>\n",
              "      <td>41.00000</td>\n",
              "      <td>45.455000</td>\n",
              "      <td>100.000000</td>\n",
              "      <td>56.996900</td>\n",
              "      <td>367.000000</td>\n",
              "      <td>886.000000</td>\n",
              "      <td>977.000000</td>\n",
              "    </tr>\n",
              "  </tbody>\n",
              "</table>\n",
              "</div>"
            ],
            "text/plain": [
              "             season       holiday  ...    registered         count\n",
              "count  10886.000000  10886.000000  ...  10886.000000  10886.000000\n",
              "mean       2.506614      0.028569  ...    155.552177    191.574132\n",
              "std        1.116174      0.166599  ...    151.039033    181.144454\n",
              "min        1.000000      0.000000  ...      0.000000      1.000000\n",
              "25%        2.000000      0.000000  ...     36.000000     42.000000\n",
              "50%        3.000000      0.000000  ...    118.000000    145.000000\n",
              "75%        4.000000      0.000000  ...    222.000000    284.000000\n",
              "max        4.000000      1.000000  ...    886.000000    977.000000\n",
              "\n",
              "[8 rows x 11 columns]"
            ]
          },
          "metadata": {
            "tags": []
          },
          "execution_count": 8
        }
      ]
    },
    {
      "cell_type": "code",
      "metadata": {
        "id": "9UP2upX8I-e9",
        "colab": {
          "base_uri": "https://localhost:8080/",
          "height": 195
        },
        "outputId": "89d9849f-e5be-40db-92d3-9ea89c63ac08"
      },
      "source": [
        "# Create the test pandas dataframe in pandas by reading the csv, remember to parse the datetime!\n",
        "test = pd.read_csv('test.csv', parse_dates = ['datetime'])\n",
        "test.head()"
      ],
      "execution_count": 9,
      "outputs": [
        {
          "output_type": "execute_result",
          "data": {
            "text/html": [
              "<div>\n",
              "<style scoped>\n",
              "    .dataframe tbody tr th:only-of-type {\n",
              "        vertical-align: middle;\n",
              "    }\n",
              "\n",
              "    .dataframe tbody tr th {\n",
              "        vertical-align: top;\n",
              "    }\n",
              "\n",
              "    .dataframe thead th {\n",
              "        text-align: right;\n",
              "    }\n",
              "</style>\n",
              "<table border=\"1\" class=\"dataframe\">\n",
              "  <thead>\n",
              "    <tr style=\"text-align: right;\">\n",
              "      <th></th>\n",
              "      <th>datetime</th>\n",
              "      <th>season</th>\n",
              "      <th>holiday</th>\n",
              "      <th>workingday</th>\n",
              "      <th>weather</th>\n",
              "      <th>temp</th>\n",
              "      <th>atemp</th>\n",
              "      <th>humidity</th>\n",
              "      <th>windspeed</th>\n",
              "    </tr>\n",
              "  </thead>\n",
              "  <tbody>\n",
              "    <tr>\n",
              "      <th>0</th>\n",
              "      <td>2011-01-20 00:00:00</td>\n",
              "      <td>1</td>\n",
              "      <td>0</td>\n",
              "      <td>1</td>\n",
              "      <td>1</td>\n",
              "      <td>10.66</td>\n",
              "      <td>11.365</td>\n",
              "      <td>56</td>\n",
              "      <td>26.0027</td>\n",
              "    </tr>\n",
              "    <tr>\n",
              "      <th>1</th>\n",
              "      <td>2011-01-20 01:00:00</td>\n",
              "      <td>1</td>\n",
              "      <td>0</td>\n",
              "      <td>1</td>\n",
              "      <td>1</td>\n",
              "      <td>10.66</td>\n",
              "      <td>13.635</td>\n",
              "      <td>56</td>\n",
              "      <td>0.0000</td>\n",
              "    </tr>\n",
              "    <tr>\n",
              "      <th>2</th>\n",
              "      <td>2011-01-20 02:00:00</td>\n",
              "      <td>1</td>\n",
              "      <td>0</td>\n",
              "      <td>1</td>\n",
              "      <td>1</td>\n",
              "      <td>10.66</td>\n",
              "      <td>13.635</td>\n",
              "      <td>56</td>\n",
              "      <td>0.0000</td>\n",
              "    </tr>\n",
              "    <tr>\n",
              "      <th>3</th>\n",
              "      <td>2011-01-20 03:00:00</td>\n",
              "      <td>1</td>\n",
              "      <td>0</td>\n",
              "      <td>1</td>\n",
              "      <td>1</td>\n",
              "      <td>10.66</td>\n",
              "      <td>12.880</td>\n",
              "      <td>56</td>\n",
              "      <td>11.0014</td>\n",
              "    </tr>\n",
              "    <tr>\n",
              "      <th>4</th>\n",
              "      <td>2011-01-20 04:00:00</td>\n",
              "      <td>1</td>\n",
              "      <td>0</td>\n",
              "      <td>1</td>\n",
              "      <td>1</td>\n",
              "      <td>10.66</td>\n",
              "      <td>12.880</td>\n",
              "      <td>56</td>\n",
              "      <td>11.0014</td>\n",
              "    </tr>\n",
              "  </tbody>\n",
              "</table>\n",
              "</div>"
            ],
            "text/plain": [
              "             datetime  season  holiday  ...   atemp  humidity  windspeed\n",
              "0 2011-01-20 00:00:00       1        0  ...  11.365        56    26.0027\n",
              "1 2011-01-20 01:00:00       1        0  ...  13.635        56     0.0000\n",
              "2 2011-01-20 02:00:00       1        0  ...  13.635        56     0.0000\n",
              "3 2011-01-20 03:00:00       1        0  ...  12.880        56    11.0014\n",
              "4 2011-01-20 04:00:00       1        0  ...  12.880        56    11.0014\n",
              "\n",
              "[5 rows x 9 columns]"
            ]
          },
          "metadata": {
            "tags": []
          },
          "execution_count": 9
        }
      ]
    },
    {
      "cell_type": "code",
      "metadata": {
        "id": "EEf3NmkqI-e-",
        "colab": {
          "base_uri": "https://localhost:8080/",
          "height": 195
        },
        "outputId": "e8c0e9ae-6062-4c5f-cd2e-2a7d38eb8d9f"
      },
      "source": [
        "# Same thing as train and test dataset\n",
        "submission = pd.read_csv('sampleSubmission.csv', parse_dates = ['datetime'])\n",
        "submission.head()"
      ],
      "execution_count": 10,
      "outputs": [
        {
          "output_type": "execute_result",
          "data": {
            "text/html": [
              "<div>\n",
              "<style scoped>\n",
              "    .dataframe tbody tr th:only-of-type {\n",
              "        vertical-align: middle;\n",
              "    }\n",
              "\n",
              "    .dataframe tbody tr th {\n",
              "        vertical-align: top;\n",
              "    }\n",
              "\n",
              "    .dataframe thead th {\n",
              "        text-align: right;\n",
              "    }\n",
              "</style>\n",
              "<table border=\"1\" class=\"dataframe\">\n",
              "  <thead>\n",
              "    <tr style=\"text-align: right;\">\n",
              "      <th></th>\n",
              "      <th>datetime</th>\n",
              "      <th>count</th>\n",
              "    </tr>\n",
              "  </thead>\n",
              "  <tbody>\n",
              "    <tr>\n",
              "      <th>0</th>\n",
              "      <td>2011-01-20 00:00:00</td>\n",
              "      <td>0</td>\n",
              "    </tr>\n",
              "    <tr>\n",
              "      <th>1</th>\n",
              "      <td>2011-01-20 01:00:00</td>\n",
              "      <td>0</td>\n",
              "    </tr>\n",
              "    <tr>\n",
              "      <th>2</th>\n",
              "      <td>2011-01-20 02:00:00</td>\n",
              "      <td>0</td>\n",
              "    </tr>\n",
              "    <tr>\n",
              "      <th>3</th>\n",
              "      <td>2011-01-20 03:00:00</td>\n",
              "      <td>0</td>\n",
              "    </tr>\n",
              "    <tr>\n",
              "      <th>4</th>\n",
              "      <td>2011-01-20 04:00:00</td>\n",
              "      <td>0</td>\n",
              "    </tr>\n",
              "  </tbody>\n",
              "</table>\n",
              "</div>"
            ],
            "text/plain": [
              "             datetime  count\n",
              "0 2011-01-20 00:00:00      0\n",
              "1 2011-01-20 01:00:00      0\n",
              "2 2011-01-20 02:00:00      0\n",
              "3 2011-01-20 03:00:00      0\n",
              "4 2011-01-20 04:00:00      0"
            ]
          },
          "metadata": {
            "tags": []
          },
          "execution_count": 10
        }
      ]
    },
    {
      "cell_type": "markdown",
      "metadata": {
        "id": "3kL5SOzBI-e-"
      },
      "source": [
        "## Step 3: Train a model using AutoGluon’s Tabular Prediction"
      ]
    },
    {
      "cell_type": "code",
      "metadata": {
        "id": "aMhqkq_2I-e_"
      },
      "source": [
        "eval_metric = 'root_mean_squared_error' \n",
        "X_train = train.drop(['casual','registered'], axis = 1)\n",
        "y_train = train['count']"
      ],
      "execution_count": 11,
      "outputs": []
    },
    {
      "cell_type": "markdown",
      "metadata": {
        "id": "x6_TOrS5I-e_"
      },
      "source": [
        "Requirements:\n",
        "* We are prediting `count`, so it is the label we are setting.\n",
        "* Ignore `casual` and `registered` columns as they are also not present in the test dataset. \n",
        "* Use the `root_mean_squared_error` as the metric to use for evaluation.\n",
        "* Set a time limit of 10 minutes (600 seconds).\n",
        "* Use the preset `best_quality` to focus on creating the best model."
      ]
    },
    {
      "cell_type": "code",
      "metadata": {
        "id": "xIQNhNTJI-fA",
        "colab": {
          "base_uri": "https://localhost:8080/"
        },
        "outputId": "f2388e00-089c-44c4-dac7-33a068de64e8"
      },
      "source": [
        "predictor = TabularPredictor(label='count', eval_metric=eval_metric).fit(X_train, presets='best_quality', time_limit=600)"
      ],
      "execution_count": 13,
      "outputs": [
        {
          "output_type": "stream",
          "text": [
            "No path specified. Models will be saved in: \"AutogluonModels/ag-20210719_184945/\"\n",
            "Presets specified: ['best_quality']\n",
            "Beginning AutoGluon training ... Time limit = 600s\n",
            "AutoGluon will save models to \"AutogluonModels/ag-20210719_184945/\"\n",
            "AutoGluon Version:  0.2.0\n",
            "Train Data Rows:    10886\n",
            "Train Data Columns: 9\n",
            "Preprocessing data ...\n",
            "AutoGluon infers your prediction problem is: 'regression' (because dtype of label-column == int and many unique label-values observed).\n",
            "\tLabel info (max, min, mean, stddev): (977, 1, 191.57413, 181.14445)\n",
            "\tIf 'regression' is not the correct problem_type, please manually specify the problem_type argument in fit() (You may specify problem_type as one of: ['binary', 'multiclass', 'regression'])\n",
            "Using Feature Generators to preprocess the data ...\n",
            "Fitting AutoMLPipelineFeatureGenerator...\n",
            "NumExpr defaulting to 2 threads.\n",
            "\tAvailable Memory:                    12700.97 MB\n",
            "\tTrain Data (Original)  Memory Usage: 0.78 MB (0.0% of available memory)\n",
            "\tInferring data type of each feature based on column values. Set feature_metadata_in to manually specify special dtypes of the features.\n",
            "\tStage 1 Generators:\n",
            "\t\tFitting AsTypeFeatureGenerator...\n",
            "\tStage 2 Generators:\n",
            "\t\tFitting FillNaFeatureGenerator...\n",
            "\tStage 3 Generators:\n",
            "\t\tFitting IdentityFeatureGenerator...\n",
            "\t\tFitting DatetimeFeatureGenerator...\n",
            "\tStage 4 Generators:\n",
            "\t\tFitting DropUniqueFeatureGenerator...\n",
            "\tTypes of features in original data (raw dtype, special dtypes):\n",
            "\t\t('datetime', []) : 1 | ['datetime']\n",
            "\t\t('float', [])    : 3 | ['temp', 'atemp', 'windspeed']\n",
            "\t\t('int', [])      : 5 | ['season', 'holiday', 'workingday', 'weather', 'humidity']\n",
            "\tTypes of features in processed data (raw dtype, special dtypes):\n",
            "\t\t('float', [])                : 3 | ['temp', 'atemp', 'windspeed']\n",
            "\t\t('int', [])                  : 5 | ['season', 'holiday', 'workingday', 'weather', 'humidity']\n",
            "\t\t('int', ['datetime_as_int']) : 1 | ['datetime']\n",
            "\t0.1s = Fit runtime\n",
            "\t9 features in original data used to generate 9 features in processed data.\n",
            "\tTrain Data (Processed) Memory Usage: 0.78 MB (0.0% of available memory)\n",
            "Data preprocessing and feature engineering runtime = 0.17s ...\n",
            "AutoGluon will gauge predictive performance using evaluation metric: 'root_mean_squared_error'\n",
            "\tTo change this, specify the eval_metric argument of fit()\n",
            "Fitting model: KNeighborsUnif_BAG_L1 ... Training model for up to 399.78s of the 599.82s of remaining time.\n",
            "\t-159.743\t = Validation root_mean_squared_error score\n",
            "\t0.03s\t = Training runtime\n",
            "\t0.1s\t = Validation runtime\n",
            "Fitting model: KNeighborsDist_BAG_L1 ... Training model for up to 399.53s of the 599.56s of remaining time.\n",
            "\t-166.5082\t = Validation root_mean_squared_error score\n",
            "\t0.03s\t = Training runtime\n",
            "\t0.1s\t = Validation runtime\n",
            "Fitting model: LightGBMXT_BAG_L1 ... Training model for up to 399.27s of the 599.3s of remaining time.\n"
          ],
          "name": "stderr"
        },
        {
          "output_type": "stream",
          "text": [
            "[1000]\ttrain_set's rmse: 123.806\tvalid_set's rmse: 134.369\n",
            "[2000]\ttrain_set's rmse: 117.412\tvalid_set's rmse: 133.705\n",
            "[1000]\ttrain_set's rmse: 123.42\tvalid_set's rmse: 141.5\n",
            "[1000]\ttrain_set's rmse: 125.097\tvalid_set's rmse: 128.797\n",
            "[2000]\ttrain_set's rmse: 119.003\tvalid_set's rmse: 127.909\n",
            "[3000]\ttrain_set's rmse: 114.63\tvalid_set's rmse: 127.431\n",
            "[4000]\ttrain_set's rmse: 111.295\tvalid_set's rmse: 126.943\n",
            "[5000]\ttrain_set's rmse: 108.576\tvalid_set's rmse: 126.844\n",
            "[6000]\ttrain_set's rmse: 106.085\tvalid_set's rmse: 126.71\n",
            "[1000]\ttrain_set's rmse: 124.131\tvalid_set's rmse: 138.303\n",
            "[2000]\ttrain_set's rmse: 117.833\tvalid_set's rmse: 137.535\n",
            "[1000]\ttrain_set's rmse: 124.871\tvalid_set's rmse: 128.052\n",
            "[2000]\ttrain_set's rmse: 118.547\tvalid_set's rmse: 127.003\n",
            "[3000]\ttrain_set's rmse: 114.124\tvalid_set's rmse: 126.834\n",
            "[4000]\ttrain_set's rmse: 110.645\tvalid_set's rmse: 126.694\n",
            "[1000]\ttrain_set's rmse: 124.654\tvalid_set's rmse: 135.095\n",
            "[2000]\ttrain_set's rmse: 118.764\tvalid_set's rmse: 133.849\n",
            "[3000]\ttrain_set's rmse: 114.615\tvalid_set's rmse: 133.509\n",
            "[4000]\ttrain_set's rmse: 111.249\tvalid_set's rmse: 133.472\n",
            "[5000]\ttrain_set's rmse: 108.455\tvalid_set's rmse: 133.281\n",
            "[1000]\ttrain_set's rmse: 124.01\tvalid_set's rmse: 139.355\n",
            "[2000]\ttrain_set's rmse: 117.819\tvalid_set's rmse: 138.312\n",
            "[3000]\ttrain_set's rmse: 113.4\tvalid_set's rmse: 137.886\n",
            "[4000]\ttrain_set's rmse: 110.032\tvalid_set's rmse: 137.758\n",
            "[1000]\ttrain_set's rmse: 124.47\tvalid_set's rmse: 135.412\n",
            "[1000]\ttrain_set's rmse: 124.18\tvalid_set's rmse: 137.579\n",
            "[2000]\ttrain_set's rmse: 117.782\tvalid_set's rmse: 136.664\n",
            "[3000]\ttrain_set's rmse: 113.447\tvalid_set's rmse: 136.246\n",
            "[4000]\ttrain_set's rmse: 109.982\tvalid_set's rmse: 136.227\n",
            "[1000]\ttrain_set's rmse: 124.641\tvalid_set's rmse: 132.484\n"
          ],
          "name": "stdout"
        },
        {
          "output_type": "stream",
          "text": [
            "\t-134.0883\t = Validation root_mean_squared_error score\n",
            "\t39.54s\t = Training runtime\n",
            "\t2.26s\t = Validation runtime\n",
            "Fitting model: LightGBM_BAG_L1 ... Training model for up to 352.52s of the 552.55s of remaining time.\n"
          ],
          "name": "stderr"
        },
        {
          "output_type": "stream",
          "text": [
            "[1000]\ttrain_set's rmse: 96.0217\tvalid_set's rmse: 123.249\n",
            "[1000]\ttrain_set's rmse: 94.7479\tvalid_set's rmse: 135.635\n",
            "[1000]\ttrain_set's rmse: 95.3055\tvalid_set's rmse: 132.087\n",
            "[1000]\ttrain_set's rmse: 95.1635\tvalid_set's rmse: 131.521\n"
          ],
          "name": "stdout"
        },
        {
          "output_type": "stream",
          "text": [
            "\t-132.2864\t = Validation root_mean_squared_error score\n",
            "\t10.87s\t = Training runtime\n",
            "\t0.49s\t = Validation runtime\n",
            "Fitting model: RandomForestMSE_BAG_L1 ... Training model for up to 339.81s of the 539.84s of remaining time.\n",
            "\t-118.4567\t = Validation root_mean_squared_error score\n",
            "\t7.25s\t = Training runtime\n",
            "\t0.4s\t = Validation runtime\n",
            "Fitting model: CatBoost_BAG_L1 ... Training model for up to 331.48s of the 531.51s of remaining time.\n",
            "\t-132.3497\t = Validation root_mean_squared_error score\n",
            "\t54.87s\t = Training runtime\n",
            "\t0.04s\t = Validation runtime\n",
            "Fitting model: ExtraTreesMSE_BAG_L1 ... Training model for up to 276.49s of the 476.52s of remaining time.\n",
            "\t-128.7334\t = Validation root_mean_squared_error score\n",
            "\t3.22s\t = Training runtime\n",
            "\t0.4s\t = Validation runtime\n",
            "Fitting model: NeuralNetFastAI_BAG_L1 ... Training model for up to 272.29s of the 472.32s of remaining time.\n",
            "\tRan out of time, stopping training early.\n",
            "\t-138.16\t = Validation root_mean_squared_error score\n",
            "\t115.9s\t = Training runtime\n",
            "\t0.3s\t = Validation runtime\n",
            "Fitting model: XGBoost_BAG_L1 ... Training model for up to 155.87s of the 355.9s of remaining time.\n",
            "\t-108.2016\t = Validation root_mean_squared_error score\n",
            "\t149.07s\t = Training runtime\n",
            "\t0.4s\t = Validation runtime\n",
            "Fitting model: NeuralNetMXNet_BAG_L1 ... Training model for up to 3.39s of the 203.43s of remaining time.\n",
            "\tTime limit exceeded... Skipping NeuralNetMXNet_BAG_L1.\n",
            "Completed 1/20 k-fold bagging repeats ...\n",
            "Fitting model: WeightedEnsemble_L2 ... Training model for up to 360.0s of the 199.74s of remaining time.\n",
            "\t-107.4551\t = Validation root_mean_squared_error score\n",
            "\t0.99s\t = Training runtime\n",
            "\t0.0s\t = Validation runtime\n",
            "Fitting model: KNeighborsUnif_BAG_L2 ... Training model for up to 198.72s of the 198.71s of remaining time.\n",
            "\t-112.2771\t = Validation root_mean_squared_error score\n",
            "\t0.01s\t = Training runtime\n",
            "\t5.25s\t = Validation runtime\n",
            "Fitting model: KNeighborsDist_BAG_L2 ... Training model for up to 193.23s of the 193.22s of remaining time.\n",
            "\t-112.1519\t = Validation root_mean_squared_error score\n",
            "\t0.01s\t = Training runtime\n",
            "\t3.78s\t = Validation runtime\n",
            "Fitting model: LightGBMXT_BAG_L2 ... Training model for up to 189.21s of the 189.2s of remaining time.\n"
          ],
          "name": "stderr"
        },
        {
          "output_type": "stream",
          "text": [
            "[1000]\ttrain_set's rmse: 76.682\tvalid_set's rmse: 96.8515\n"
          ],
          "name": "stdout"
        },
        {
          "output_type": "stream",
          "text": [
            "\t-101.7503\t = Validation root_mean_squared_error score\n",
            "\t11.55s\t = Training runtime\n",
            "\t0.33s\t = Validation runtime\n",
            "Fitting model: LightGBM_BAG_L2 ... Training model for up to 176.6s of the 176.6s of remaining time.\n",
            "\t-102.3429\t = Validation root_mean_squared_error score\n",
            "\t7.43s\t = Training runtime\n",
            "\t0.1s\t = Validation runtime\n",
            "Fitting model: RandomForestMSE_BAG_L2 ... Training model for up to 168.88s of the 168.87s of remaining time.\n",
            "\t-104.1509\t = Validation root_mean_squared_error score\n",
            "\t27.88s\t = Training runtime\n",
            "\t0.54s\t = Validation runtime\n",
            "Fitting model: CatBoost_BAG_L2 ... Training model for up to 139.83s of the 139.82s of remaining time.\n",
            "\t-102.4136\t = Validation root_mean_squared_error score\n",
            "\t34.72s\t = Training runtime\n",
            "\t0.02s\t = Validation runtime\n",
            "Fitting model: ExtraTreesMSE_BAG_L2 ... Training model for up to 105.04s of the 105.03s of remaining time.\n",
            "\t-103.3434\t = Validation root_mean_squared_error score\n",
            "\t6.54s\t = Training runtime\n",
            "\t0.49s\t = Validation runtime\n",
            "Fitting model: NeuralNetFastAI_BAG_L2 ... Training model for up to 97.35s of the 97.34s of remaining time.\n",
            "\tRan out of time, stopping training early.\n",
            "\tRan out of time, stopping training early.\n",
            "\tRan out of time, stopping training early.\n",
            "\tRan out of time, stopping training early.\n",
            "\tRan out of time, stopping training early.\n",
            "\tRan out of time, stopping training early.\n",
            "\tRan out of time, stopping training early.\n",
            "\tRan out of time, stopping training early.\n",
            "\t-100.8712\t = Validation root_mean_squared_error score\n",
            "\t90.18s\t = Training runtime\n",
            "\t0.32s\t = Validation runtime\n",
            "Fitting model: XGBoost_BAG_L2 ... Training model for up to 6.63s of the 6.62s of remaining time.\n",
            "\t-107.5191\t = Validation root_mean_squared_error score\n",
            "\t6.3s\t = Training runtime\n",
            "\t0.1s\t = Validation runtime\n",
            "Fitting model: NeuralNetMXNet_BAG_L2 ... Training model for up to 0.12s of the 0.11s of remaining time.\n",
            "\tTime limit exceeded... Skipping NeuralNetMXNet_BAG_L2.\n",
            "Completed 1/20 k-fold bagging repeats ...\n",
            "Fitting model: WeightedEnsemble_L3 ... Training model for up to 360.0s of the -0.36s of remaining time.\n",
            "\t-100.3257\t = Validation root_mean_squared_error score\n",
            "\t1.05s\t = Training runtime\n",
            "\t0.0s\t = Validation runtime\n",
            "AutoGluon training complete, total runtime = 601.44s ...\n",
            "TabularPredictor saved. To load, use: predictor = TabularPredictor.load(\"AutogluonModels/ag-20210719_184945/\")\n"
          ],
          "name": "stderr"
        }
      ]
    },
    {
      "cell_type": "markdown",
      "metadata": {
        "id": "AJUhtJYMI-fB"
      },
      "source": [
        "### Review AutoGluon's training run with ranking of models that did the best."
      ]
    },
    {
      "cell_type": "code",
      "metadata": {
        "id": "0wtkYa_qI-fB",
        "colab": {
          "base_uri": "https://localhost:8080/"
        },
        "outputId": "54e7a906-cb17-4c03-9f69-dc25202bb8ed"
      },
      "source": [
        "predictor.fit_summary()"
      ],
      "execution_count": 14,
      "outputs": [
        {
          "output_type": "stream",
          "text": [
            "*** Summary of fit() ***\n",
            "Estimated performance of each model:\n",
            "                     model   score_val  pred_time_val    fit_time  pred_time_val_marginal  fit_time_marginal  stack_level  can_infer  fit_order\n",
            "0      WeightedEnsemble_L3 -100.325747       5.782448  518.852632                0.001333           1.050865            3       True         20\n",
            "1   NeuralNetFastAI_BAG_L2 -100.871223       4.819276  470.950288                0.324601          90.183110            2       True         18\n",
            "2        LightGBMXT_BAG_L2 -101.750347       4.821261  392.314818                0.326586          11.547641            2       True         13\n",
            "3          LightGBM_BAG_L2 -102.342907       4.593768  388.194958                0.099093           7.427780            2       True         14\n",
            "4          CatBoost_BAG_L2 -102.413630       4.515238  415.485002                0.020563          34.717824            2       True         16\n",
            "5     ExtraTreesMSE_BAG_L2 -103.343434       4.988796  387.311656                0.494121           6.544478            2       True         17\n",
            "6   RandomForestMSE_BAG_L2 -104.150900       5.030836  408.643235                0.536161          27.876058            2       True         15\n",
            "7      WeightedEnsemble_L2 -107.455128       0.801527  157.310904                0.001227           0.994269            2       True         10\n",
            "8           XGBoost_BAG_L2 -107.519114       4.595553  387.066801                0.100877           6.299623            2       True         19\n",
            "9           XGBoost_BAG_L1 -108.201588       0.396950  149.070935                0.396950         149.070935            1       True          9\n",
            "10   KNeighborsDist_BAG_L2 -112.151915       8.277919  380.776306                3.783244           0.009128            2       True         12\n",
            "11   KNeighborsUnif_BAG_L2 -112.277086       9.743375  380.774495                5.248699           0.007317            2       True         11\n",
            "12  RandomForestMSE_BAG_L1 -118.456660       0.403349    7.245701                0.403349           7.245701            1       True          5\n",
            "13    ExtraTreesMSE_BAG_L1 -128.733445       0.396561    3.223819                0.396561           3.223819            1       True          7\n",
            "14         LightGBM_BAG_L1 -132.286410       0.493482   10.867485                0.493482          10.867485            1       True          4\n",
            "15         CatBoost_BAG_L1 -132.349692       0.035331   54.868285                0.035331          54.868285            1       True          6\n",
            "16       LightGBMXT_BAG_L1 -134.088334       2.259233   39.537325                2.259233          39.537325            1       True          3\n",
            "17  NeuralNetFastAI_BAG_L1 -138.160029       0.301140  115.895331                0.301140         115.895331            1       True          8\n",
            "18   KNeighborsUnif_BAG_L1 -159.743031       0.104018    0.029222                0.104018           0.029222            1       True          1\n",
            "19   KNeighborsDist_BAG_L1 -166.508199       0.104611    0.029075                0.104611           0.029075            1       True          2\n",
            "Number of models trained: 20\n",
            "Types of models trained:\n",
            "{'StackerEnsembleModel_XGBoost', 'StackerEnsembleModel_RF', 'StackerEnsembleModel_NNFastAiTabular', 'StackerEnsembleModel_KNN', 'StackerEnsembleModel_CatBoost', 'WeightedEnsembleModel', 'StackerEnsembleModel_XT', 'StackerEnsembleModel_LGB'}\n",
            "Bagging used: True  (with 10 folds)\n",
            "Multi-layer stack-ensembling used: True  (with 3 levels)\n",
            "Feature Metadata (Processed):\n",
            "(raw dtype, special dtypes):\n",
            "('float', [])                : 3 | ['temp', 'atemp', 'windspeed']\n",
            "('int', [])                  : 5 | ['season', 'holiday', 'workingday', 'weather', 'humidity']\n",
            "('int', ['datetime_as_int']) : 1 | ['datetime']\n",
            "Plot summary of models saved to file: AutogluonModels/ag-20210719_184945/SummaryOfModels.html\n",
            "*** End of fit() summary ***\n"
          ],
          "name": "stdout"
        },
        {
          "output_type": "execute_result",
          "data": {
            "text/plain": [
              "{'leaderboard':                      model   score_val  ...  can_infer  fit_order\n",
              " 0      WeightedEnsemble_L3 -100.325747  ...       True         20\n",
              " 1   NeuralNetFastAI_BAG_L2 -100.871223  ...       True         18\n",
              " 2        LightGBMXT_BAG_L2 -101.750347  ...       True         13\n",
              " 3          LightGBM_BAG_L2 -102.342907  ...       True         14\n",
              " 4          CatBoost_BAG_L2 -102.413630  ...       True         16\n",
              " 5     ExtraTreesMSE_BAG_L2 -103.343434  ...       True         17\n",
              " 6   RandomForestMSE_BAG_L2 -104.150900  ...       True         15\n",
              " 7      WeightedEnsemble_L2 -107.455128  ...       True         10\n",
              " 8           XGBoost_BAG_L2 -107.519114  ...       True         19\n",
              " 9           XGBoost_BAG_L1 -108.201588  ...       True          9\n",
              " 10   KNeighborsDist_BAG_L2 -112.151915  ...       True         12\n",
              " 11   KNeighborsUnif_BAG_L2 -112.277086  ...       True         11\n",
              " 12  RandomForestMSE_BAG_L1 -118.456660  ...       True          5\n",
              " 13    ExtraTreesMSE_BAG_L1 -128.733445  ...       True          7\n",
              " 14         LightGBM_BAG_L1 -132.286410  ...       True          4\n",
              " 15         CatBoost_BAG_L1 -132.349692  ...       True          6\n",
              " 16       LightGBMXT_BAG_L1 -134.088334  ...       True          3\n",
              " 17  NeuralNetFastAI_BAG_L1 -138.160029  ...       True          8\n",
              " 18   KNeighborsUnif_BAG_L1 -159.743031  ...       True          1\n",
              " 19   KNeighborsDist_BAG_L1 -166.508199  ...       True          2\n",
              " \n",
              " [20 rows x 9 columns],\n",
              " 'max_stack_level': 3,\n",
              " 'model_best': 'WeightedEnsemble_L3',\n",
              " 'model_fit_times': {'CatBoost_BAG_L1': 54.868284702301025,\n",
              "  'CatBoost_BAG_L2': 34.71782374382019,\n",
              "  'ExtraTreesMSE_BAG_L1': 3.2238194942474365,\n",
              "  'ExtraTreesMSE_BAG_L2': 6.544477701187134,\n",
              "  'KNeighborsDist_BAG_L1': 0.02907538414001465,\n",
              "  'KNeighborsDist_BAG_L2': 0.00912785530090332,\n",
              "  'KNeighborsUnif_BAG_L1': 0.029221773147583008,\n",
              "  'KNeighborsUnif_BAG_L2': 0.0073168277740478516,\n",
              "  'LightGBMXT_BAG_L1': 39.53732466697693,\n",
              "  'LightGBMXT_BAG_L2': 11.547640562057495,\n",
              "  'LightGBM_BAG_L1': 10.867485284805298,\n",
              "  'LightGBM_BAG_L2': 7.427780389785767,\n",
              "  'NeuralNetFastAI_BAG_L1': 115.89533114433289,\n",
              "  'NeuralNetFastAI_BAG_L2': 90.18311023712158,\n",
              "  'RandomForestMSE_BAG_L1': 7.245700836181641,\n",
              "  'RandomForestMSE_BAG_L2': 27.876057624816895,\n",
              "  'WeightedEnsemble_L2': 0.9942686557769775,\n",
              "  'WeightedEnsemble_L3': 1.0508654117584229,\n",
              "  'XGBoost_BAG_L1': 149.07093453407288,\n",
              "  'XGBoost_BAG_L2': 6.299623250961304},\n",
              " 'model_hyperparams': {'CatBoost_BAG_L1': {'max_base_models': 25,\n",
              "   'max_base_models_per_type': 5,\n",
              "   'save_bag_folds': True,\n",
              "   'use_orig_features': True},\n",
              "  'CatBoost_BAG_L2': {'max_base_models': 25,\n",
              "   'max_base_models_per_type': 5,\n",
              "   'save_bag_folds': True,\n",
              "   'use_orig_features': True},\n",
              "  'ExtraTreesMSE_BAG_L1': {'max_base_models': 25,\n",
              "   'max_base_models_per_type': 5,\n",
              "   'save_bag_folds': True,\n",
              "   'use_child_oof': True,\n",
              "   'use_orig_features': True},\n",
              "  'ExtraTreesMSE_BAG_L2': {'max_base_models': 25,\n",
              "   'max_base_models_per_type': 5,\n",
              "   'save_bag_folds': True,\n",
              "   'use_child_oof': True,\n",
              "   'use_orig_features': True},\n",
              "  'KNeighborsDist_BAG_L1': {'max_base_models': 25,\n",
              "   'max_base_models_per_type': 5,\n",
              "   'save_bag_folds': True,\n",
              "   'use_child_oof': True,\n",
              "   'use_orig_features': True},\n",
              "  'KNeighborsDist_BAG_L2': {'max_base_models': 25,\n",
              "   'max_base_models_per_type': 5,\n",
              "   'save_bag_folds': True,\n",
              "   'use_child_oof': True,\n",
              "   'use_orig_features': True},\n",
              "  'KNeighborsUnif_BAG_L1': {'max_base_models': 25,\n",
              "   'max_base_models_per_type': 5,\n",
              "   'save_bag_folds': True,\n",
              "   'use_child_oof': True,\n",
              "   'use_orig_features': True},\n",
              "  'KNeighborsUnif_BAG_L2': {'max_base_models': 25,\n",
              "   'max_base_models_per_type': 5,\n",
              "   'save_bag_folds': True,\n",
              "   'use_child_oof': True,\n",
              "   'use_orig_features': True},\n",
              "  'LightGBMXT_BAG_L1': {'max_base_models': 25,\n",
              "   'max_base_models_per_type': 5,\n",
              "   'save_bag_folds': True,\n",
              "   'use_orig_features': True},\n",
              "  'LightGBMXT_BAG_L2': {'max_base_models': 25,\n",
              "   'max_base_models_per_type': 5,\n",
              "   'save_bag_folds': True,\n",
              "   'use_orig_features': True},\n",
              "  'LightGBM_BAG_L1': {'max_base_models': 25,\n",
              "   'max_base_models_per_type': 5,\n",
              "   'save_bag_folds': True,\n",
              "   'use_orig_features': True},\n",
              "  'LightGBM_BAG_L2': {'max_base_models': 25,\n",
              "   'max_base_models_per_type': 5,\n",
              "   'save_bag_folds': True,\n",
              "   'use_orig_features': True},\n",
              "  'NeuralNetFastAI_BAG_L1': {'max_base_models': 25,\n",
              "   'max_base_models_per_type': 5,\n",
              "   'save_bag_folds': True,\n",
              "   'use_orig_features': True},\n",
              "  'NeuralNetFastAI_BAG_L2': {'max_base_models': 25,\n",
              "   'max_base_models_per_type': 5,\n",
              "   'save_bag_folds': True,\n",
              "   'use_orig_features': True},\n",
              "  'RandomForestMSE_BAG_L1': {'max_base_models': 25,\n",
              "   'max_base_models_per_type': 5,\n",
              "   'save_bag_folds': True,\n",
              "   'use_child_oof': True,\n",
              "   'use_orig_features': True},\n",
              "  'RandomForestMSE_BAG_L2': {'max_base_models': 25,\n",
              "   'max_base_models_per_type': 5,\n",
              "   'save_bag_folds': True,\n",
              "   'use_child_oof': True,\n",
              "   'use_orig_features': True},\n",
              "  'WeightedEnsemble_L2': {'max_base_models': 25,\n",
              "   'max_base_models_per_type': 5,\n",
              "   'save_bag_folds': True,\n",
              "   'use_orig_features': False},\n",
              "  'WeightedEnsemble_L3': {'max_base_models': 25,\n",
              "   'max_base_models_per_type': 5,\n",
              "   'save_bag_folds': True,\n",
              "   'use_orig_features': False},\n",
              "  'XGBoost_BAG_L1': {'max_base_models': 25,\n",
              "   'max_base_models_per_type': 5,\n",
              "   'save_bag_folds': True,\n",
              "   'use_orig_features': True},\n",
              "  'XGBoost_BAG_L2': {'max_base_models': 25,\n",
              "   'max_base_models_per_type': 5,\n",
              "   'save_bag_folds': True,\n",
              "   'use_orig_features': True}},\n",
              " 'model_paths': {'CatBoost_BAG_L1': 'AutogluonModels/ag-20210719_184945/models/CatBoost_BAG_L1/',\n",
              "  'CatBoost_BAG_L2': 'AutogluonModels/ag-20210719_184945/models/CatBoost_BAG_L2/',\n",
              "  'ExtraTreesMSE_BAG_L1': 'AutogluonModels/ag-20210719_184945/models/ExtraTreesMSE_BAG_L1/',\n",
              "  'ExtraTreesMSE_BAG_L2': 'AutogluonModels/ag-20210719_184945/models/ExtraTreesMSE_BAG_L2/',\n",
              "  'KNeighborsDist_BAG_L1': 'AutogluonModels/ag-20210719_184945/models/KNeighborsDist_BAG_L1/',\n",
              "  'KNeighborsDist_BAG_L2': 'AutogluonModels/ag-20210719_184945/models/KNeighborsDist_BAG_L2/',\n",
              "  'KNeighborsUnif_BAG_L1': 'AutogluonModels/ag-20210719_184945/models/KNeighborsUnif_BAG_L1/',\n",
              "  'KNeighborsUnif_BAG_L2': 'AutogluonModels/ag-20210719_184945/models/KNeighborsUnif_BAG_L2/',\n",
              "  'LightGBMXT_BAG_L1': 'AutogluonModels/ag-20210719_184945/models/LightGBMXT_BAG_L1/',\n",
              "  'LightGBMXT_BAG_L2': 'AutogluonModels/ag-20210719_184945/models/LightGBMXT_BAG_L2/',\n",
              "  'LightGBM_BAG_L1': 'AutogluonModels/ag-20210719_184945/models/LightGBM_BAG_L1/',\n",
              "  'LightGBM_BAG_L2': 'AutogluonModels/ag-20210719_184945/models/LightGBM_BAG_L2/',\n",
              "  'NeuralNetFastAI_BAG_L1': 'AutogluonModels/ag-20210719_184945/models/NeuralNetFastAI_BAG_L1/',\n",
              "  'NeuralNetFastAI_BAG_L2': 'AutogluonModels/ag-20210719_184945/models/NeuralNetFastAI_BAG_L2/',\n",
              "  'RandomForestMSE_BAG_L1': 'AutogluonModels/ag-20210719_184945/models/RandomForestMSE_BAG_L1/',\n",
              "  'RandomForestMSE_BAG_L2': 'AutogluonModels/ag-20210719_184945/models/RandomForestMSE_BAG_L2/',\n",
              "  'WeightedEnsemble_L2': 'AutogluonModels/ag-20210719_184945/models/WeightedEnsemble_L2/',\n",
              "  'WeightedEnsemble_L3': 'AutogluonModels/ag-20210719_184945/models/WeightedEnsemble_L3/',\n",
              "  'XGBoost_BAG_L1': 'AutogluonModels/ag-20210719_184945/models/XGBoost_BAG_L1/',\n",
              "  'XGBoost_BAG_L2': 'AutogluonModels/ag-20210719_184945/models/XGBoost_BAG_L2/'},\n",
              " 'model_performance': {'CatBoost_BAG_L1': -132.3496915713461,\n",
              "  'CatBoost_BAG_L2': -102.41362984630027,\n",
              "  'ExtraTreesMSE_BAG_L1': -128.73344506216944,\n",
              "  'ExtraTreesMSE_BAG_L2': -103.34343364357505,\n",
              "  'KNeighborsDist_BAG_L1': -166.5081994039633,\n",
              "  'KNeighborsDist_BAG_L2': -112.15191477621121,\n",
              "  'KNeighborsUnif_BAG_L1': -159.743030951275,\n",
              "  'KNeighborsUnif_BAG_L2': -112.2770855311205,\n",
              "  'LightGBMXT_BAG_L1': -134.08833420116997,\n",
              "  'LightGBMXT_BAG_L2': -101.75034659725533,\n",
              "  'LightGBM_BAG_L1': -132.28640961443512,\n",
              "  'LightGBM_BAG_L2': -102.34290721769841,\n",
              "  'NeuralNetFastAI_BAG_L1': -138.16002898617117,\n",
              "  'NeuralNetFastAI_BAG_L2': -100.87122336760433,\n",
              "  'RandomForestMSE_BAG_L1': -118.45666016795751,\n",
              "  'RandomForestMSE_BAG_L2': -104.15090035806766,\n",
              "  'WeightedEnsemble_L2': -107.4551283855913,\n",
              "  'WeightedEnsemble_L3': -100.32574670200695,\n",
              "  'XGBoost_BAG_L1': -108.2015883904247,\n",
              "  'XGBoost_BAG_L2': -107.51911374141075},\n",
              " 'model_pred_times': {'CatBoost_BAG_L1': 0.03533124923706055,\n",
              "  'CatBoost_BAG_L2': 0.02056264877319336,\n",
              "  'ExtraTreesMSE_BAG_L1': 0.3965611457824707,\n",
              "  'ExtraTreesMSE_BAG_L2': 0.49412059783935547,\n",
              "  'KNeighborsDist_BAG_L1': 0.10461091995239258,\n",
              "  'KNeighborsDist_BAG_L2': 3.7832438945770264,\n",
              "  'KNeighborsUnif_BAG_L1': 0.1040184497833252,\n",
              "  'KNeighborsUnif_BAG_L2': 5.248699188232422,\n",
              "  'LightGBMXT_BAG_L1': 2.259233236312866,\n",
              "  'LightGBMXT_BAG_L2': 0.3265855312347412,\n",
              "  'LightGBM_BAG_L1': 0.4934816360473633,\n",
              "  'LightGBM_BAG_L2': 0.09909296035766602,\n",
              "  'NeuralNetFastAI_BAG_L1': 0.30113959312438965,\n",
              "  'NeuralNetFastAI_BAG_L2': 0.3246006965637207,\n",
              "  'RandomForestMSE_BAG_L1': 0.4033493995666504,\n",
              "  'RandomForestMSE_BAG_L2': 0.5361607074737549,\n",
              "  'WeightedEnsemble_L2': 0.0012273788452148438,\n",
              "  'WeightedEnsemble_L3': 0.0013327598571777344,\n",
              "  'XGBoost_BAG_L1': 0.39694976806640625,\n",
              "  'XGBoost_BAG_L2': 0.10087728500366211},\n",
              " 'model_types': {'CatBoost_BAG_L1': 'StackerEnsembleModel_CatBoost',\n",
              "  'CatBoost_BAG_L2': 'StackerEnsembleModel_CatBoost',\n",
              "  'ExtraTreesMSE_BAG_L1': 'StackerEnsembleModel_XT',\n",
              "  'ExtraTreesMSE_BAG_L2': 'StackerEnsembleModel_XT',\n",
              "  'KNeighborsDist_BAG_L1': 'StackerEnsembleModel_KNN',\n",
              "  'KNeighborsDist_BAG_L2': 'StackerEnsembleModel_KNN',\n",
              "  'KNeighborsUnif_BAG_L1': 'StackerEnsembleModel_KNN',\n",
              "  'KNeighborsUnif_BAG_L2': 'StackerEnsembleModel_KNN',\n",
              "  'LightGBMXT_BAG_L1': 'StackerEnsembleModel_LGB',\n",
              "  'LightGBMXT_BAG_L2': 'StackerEnsembleModel_LGB',\n",
              "  'LightGBM_BAG_L1': 'StackerEnsembleModel_LGB',\n",
              "  'LightGBM_BAG_L2': 'StackerEnsembleModel_LGB',\n",
              "  'NeuralNetFastAI_BAG_L1': 'StackerEnsembleModel_NNFastAiTabular',\n",
              "  'NeuralNetFastAI_BAG_L2': 'StackerEnsembleModel_NNFastAiTabular',\n",
              "  'RandomForestMSE_BAG_L1': 'StackerEnsembleModel_RF',\n",
              "  'RandomForestMSE_BAG_L2': 'StackerEnsembleModel_RF',\n",
              "  'WeightedEnsemble_L2': 'WeightedEnsembleModel',\n",
              "  'WeightedEnsemble_L3': 'WeightedEnsembleModel',\n",
              "  'XGBoost_BAG_L1': 'StackerEnsembleModel_XGBoost',\n",
              "  'XGBoost_BAG_L2': 'StackerEnsembleModel_XGBoost'},\n",
              " 'num_bag_folds': 10}"
            ]
          },
          "metadata": {
            "tags": []
          },
          "execution_count": 14
        }
      ]
    },
    {
      "cell_type": "markdown",
      "metadata": {
        "id": "c2Mjb0E9I-fC"
      },
      "source": [
        "### Create predictions from test dataset"
      ]
    },
    {
      "cell_type": "code",
      "metadata": {
        "id": "2rHnV3mkI-fC",
        "colab": {
          "base_uri": "https://localhost:8080/"
        },
        "outputId": "ae14a2ed-857e-4f0a-90ff-a04a0f79f2f0"
      },
      "source": [
        "predictions = predictor.predict(test)\n",
        "predictions.head()"
      ],
      "execution_count": 15,
      "outputs": [
        {
          "output_type": "execute_result",
          "data": {
            "text/plain": [
              "0    68.650810\n",
              "1    63.933750\n",
              "2    63.934788\n",
              "3    80.549614\n",
              "4    80.524841\n",
              "Name: count, dtype: float32"
            ]
          },
          "metadata": {
            "tags": []
          },
          "execution_count": 15
        }
      ]
    },
    {
      "cell_type": "markdown",
      "metadata": {
        "id": "2i733CVxI-fD"
      },
      "source": [
        "#### NOTE: Kaggle will reject the submission if we don't set everything to be > 0."
      ]
    },
    {
      "cell_type": "code",
      "metadata": {
        "id": "_WylIoIMI-fD",
        "colab": {
          "base_uri": "https://localhost:8080/"
        },
        "outputId": "e5e573c3-7308-4512-f740-913134463614"
      },
      "source": [
        "# Describe the `predictions` series to see if there are any negative values\n",
        "predictions.describe()"
      ],
      "execution_count": 16,
      "outputs": [
        {
          "output_type": "execute_result",
          "data": {
            "text/plain": [
              "count    6493.000000\n",
              "mean      180.899918\n",
              "std       126.766953\n",
              "min       -31.567959\n",
              "25%        79.132217\n",
              "50%       153.428970\n",
              "75%       262.786774\n",
              "max       686.940491\n",
              "Name: count, dtype: float64"
            ]
          },
          "metadata": {
            "tags": []
          },
          "execution_count": 16
        }
      ]
    },
    {
      "cell_type": "code",
      "metadata": {
        "id": "o25pUOvjI-fD",
        "colab": {
          "base_uri": "https://localhost:8080/"
        },
        "outputId": "37e0717c-f566-471f-f3d6-44927e1f0bb6"
      },
      "source": [
        "# How many negative values do we have?\n",
        "count = 0\n",
        "for row in predictions:\n",
        "    if row < 0:\n",
        "        count=count+1\n",
        "        \n",
        "print(count)        "
      ],
      "execution_count": 17,
      "outputs": [
        {
          "output_type": "stream",
          "text": [
            "24\n"
          ],
          "name": "stdout"
        }
      ]
    },
    {
      "cell_type": "code",
      "metadata": {
        "id": "vT69rlKbI-fE",
        "colab": {
          "base_uri": "https://localhost:8080/"
        },
        "outputId": "7d7e2d60-5669-4db8-ff71-dd25d20f7d80"
      },
      "source": [
        "# Set them to zero\n",
        "for i, row in enumerate(predictions):\n",
        "    if row < 0:\n",
        "            predictions[i] = row * -1\n",
        "        \n",
        "predictions.describe()       "
      ],
      "execution_count": 18,
      "outputs": [
        {
          "output_type": "execute_result",
          "data": {
            "text/plain": [
              "count    6493.000000\n",
              "mean      180.986298\n",
              "std       126.643471\n",
              "min         0.194309\n",
              "25%        79.132217\n",
              "50%       153.428970\n",
              "75%       262.786774\n",
              "max       686.940491\n",
              "Name: count, dtype: float64"
            ]
          },
          "metadata": {
            "tags": []
          },
          "execution_count": 18
        }
      ]
    },
    {
      "cell_type": "markdown",
      "metadata": {
        "id": "dBsFVi2CI-fE"
      },
      "source": [
        "### Set predictions to submission dataframe, save, and submit"
      ]
    },
    {
      "cell_type": "code",
      "metadata": {
        "id": "ovur7UwjI-fF"
      },
      "source": [
        "submission[\"count\"] = predictions\n",
        "submission.to_csv(\"submission.csv\", index=False)"
      ],
      "execution_count": 19,
      "outputs": []
    },
    {
      "cell_type": "code",
      "metadata": {
        "id": "UoUqF3NWI-fF",
        "colab": {
          "base_uri": "https://localhost:8080/"
        },
        "outputId": "7c14fb44-1e7f-4001-9d5e-0a3fe2910a34"
      },
      "source": [
        "!kaggle competitions submit -c bike-sharing-demand -f submission.csv -m \"first raw submission\""
      ],
      "execution_count": 20,
      "outputs": [
        {
          "output_type": "stream",
          "text": [
            "Warning: Looks like you're using an outdated API Version, please consider updating (server 1.5.12 / client 1.5.4)\n",
            "100% 188k/188k [00:00<00:00, 615kB/s]\n",
            "Successfully submitted to Bike Sharing Demand"
          ],
          "name": "stdout"
        }
      ]
    },
    {
      "cell_type": "markdown",
      "metadata": {
        "id": "6AYzLCpxI-fG"
      },
      "source": [
        "#### View submission via the command line or in the web browser under the competition's page - `My Submissions`"
      ]
    },
    {
      "cell_type": "code",
      "metadata": {
        "id": "Ue4r0gCkI-fG",
        "colab": {
          "base_uri": "https://localhost:8080/"
        },
        "outputId": "9ab254dd-9622-401a-d760-af69b1b1298e"
      },
      "source": [
        "!kaggle competitions submissions -c bike-sharing-demand | tail -n +1 | head -n 6"
      ],
      "execution_count": 21,
      "outputs": [
        {
          "output_type": "stream",
          "text": [
            "Warning: Looks like you're using an outdated API Version, please consider updating (server 1.5.12 / client 1.5.4)\n",
            "fileName                     date                 description           status    publicScore  privateScore  \n",
            "---------------------------  -------------------  --------------------  --------  -----------  ------------  \n",
            "submission.csv               2021-07-19 19:16:51  first raw submission  complete  1.34880      1.34880       \n",
            "submission_new_features.csv  2021-07-15 01:43:24  new features          complete  0.44653      0.44653       \n",
            "submission.csv               2021-07-12 23:24:26  first raw submission  complete  1.36204      1.36204       \n"
          ],
          "name": "stdout"
        }
      ]
    },
    {
      "cell_type": "markdown",
      "metadata": {
        "id": "pop-TwXvI-fG"
      },
      "source": [
        "#### Initial score of `1.36204`"
      ]
    },
    {
      "cell_type": "markdown",
      "metadata": {
        "id": "RZ6UwMT_I-fH"
      },
      "source": [
        "## Step 4: Exploratory Data Analysis and Creating an additional feature\n",
        "* Any additional feature will do, but a great suggestion would be to separate out the datetime into hour, day, or month parts."
      ]
    },
    {
      "cell_type": "code",
      "metadata": {
        "id": "gQ8IoQPdI-fH",
        "colab": {
          "base_uri": "https://localhost:8080/",
          "height": 499
        },
        "outputId": "2042dbc0-cce3-469d-c6e1-25b3caa9dadb"
      },
      "source": [
        "# Create a histogram of all features to show the distribution of each one relative to the data. This is part of the exploritory data analysis\n",
        "train.hist()"
      ],
      "execution_count": 22,
      "outputs": [
        {
          "output_type": "execute_result",
          "data": {
            "text/plain": [
              "array([[<matplotlib.axes._subplots.AxesSubplot object at 0x7f451b733a90>,\n",
              "        <matplotlib.axes._subplots.AxesSubplot object at 0x7f451b9d6050>,\n",
              "        <matplotlib.axes._subplots.AxesSubplot object at 0x7f451b6351d0>],\n",
              "       [<matplotlib.axes._subplots.AxesSubplot object at 0x7f451b541090>,\n",
              "        <matplotlib.axes._subplots.AxesSubplot object at 0x7f451b5e2ed0>,\n",
              "        <matplotlib.axes._subplots.AxesSubplot object at 0x7f451b62b590>],\n",
              "       [<matplotlib.axes._subplots.AxesSubplot object at 0x7f451b5aac90>,\n",
              "        <matplotlib.axes._subplots.AxesSubplot object at 0x7f451fab1290>,\n",
              "        <matplotlib.axes._subplots.AxesSubplot object at 0x7f451fab12d0>],\n",
              "       [<matplotlib.axes._subplots.AxesSubplot object at 0x7f451fadda50>,\n",
              "        <matplotlib.axes._subplots.AxesSubplot object at 0x7f451fa49690>,\n",
              "        <matplotlib.axes._subplots.AxesSubplot object at 0x7f451f9fd990>]],\n",
              "      dtype=object)"
            ]
          },
          "metadata": {
            "tags": []
          },
          "execution_count": 22
        },
        {
          "output_type": "display_data",
          "data": {
            "image/png": "[encoded data removed]",
            "text/plain": [
              "<Figure size 432x288 with 12 Axes>"
            ]
          },
          "metadata": {
            "tags": [],
            "needs_background": "light"
          }
        }
      ]
    },
    {
      "cell_type": "code",
      "metadata": {
        "id": "iKzxFgNRI-fI"
      },
      "source": [
        "# create a new feature\n",
        "train['year'] = train['datetime'].dt.year\n",
        "train['month'] = train['datetime'].dt.month\n",
        "train['day'] = train['datetime'].dt.day\n",
        "train['hour'] = train['datetime'].dt.hour\n",
        "train['weekday'] = train['datetime'].dt.weekday\n",
        "\n",
        "\n",
        "test['year'] = test['datetime'].dt.year\n",
        "test['month'] = test['datetime'].dt.month\n",
        "test['day'] = test['datetime'].dt.day\n",
        "test['hour'] = test['datetime'].dt.hour\n",
        "test['weekday'] = test['datetime'].dt.weekday\n",
        "\n",
        "train = train.drop('datetime', axis = 1)\n",
        "train = train.drop(['casual','registered'], axis = 1)\n",
        "test = test.drop('datetime', axis = 1)"
      ],
      "execution_count": 12,
      "outputs": []
    },
    {
      "cell_type": "markdown",
      "metadata": {
        "id": "hOBqvFTXI-fI"
      },
      "source": [
        "## Make category types for these so models know they are not just numbers\n",
        "* AutoGluon originally sees these as ints, but in reality they are int representations of a category.\n",
        "* Setting the dtype to category will classify these as categories in AutoGluon."
      ]
    },
    {
      "cell_type": "code",
      "metadata": {
        "id": "SPlUEXmDI-fJ"
      },
      "source": [
        "train[\"season\"] = train[\"season\"].astype(\"category\")\n",
        "train[\"weather\"] = train[\"weather\"].astype(\"category\")\n",
        "test[\"season\"] = test[\"season\"].astype(\"category\")\n",
        "test[\"weather\"] = test[\"weather\"].astype(\"category\")"
      ],
      "execution_count": 13,
      "outputs": []
    },
    {
      "cell_type": "code",
      "metadata": {
        "id": "b_NwRdZTI-fJ",
        "colab": {
          "base_uri": "https://localhost:8080/",
          "height": 195
        },
        "outputId": "82a7660d-5ed8-470e-aa4b-5a9832064358"
      },
      "source": [
        "# View are new feature\n",
        "train.head()"
      ],
      "execution_count": 14,
      "outputs": [
        {
          "output_type": "execute_result",
          "data": {
            "text/html": [
              "<div>\n",
              "<style scoped>\n",
              "    .dataframe tbody tr th:only-of-type {\n",
              "        vertical-align: middle;\n",
              "    }\n",
              "\n",
              "    .dataframe tbody tr th {\n",
              "        vertical-align: top;\n",
              "    }\n",
              "\n",
              "    .dataframe thead th {\n",
              "        text-align: right;\n",
              "    }\n",
              "</style>\n",
              "<table border=\"1\" class=\"dataframe\">\n",
              "  <thead>\n",
              "    <tr style=\"text-align: right;\">\n",
              "      <th></th>\n",
              "      <th>season</th>\n",
              "      <th>holiday</th>\n",
              "      <th>workingday</th>\n",
              "      <th>weather</th>\n",
              "      <th>temp</th>\n",
              "      <th>atemp</th>\n",
              "      <th>humidity</th>\n",
              "      <th>windspeed</th>\n",
              "      <th>count</th>\n",
              "      <th>year</th>\n",
              "      <th>month</th>\n",
              "      <th>day</th>\n",
              "      <th>hour</th>\n",
              "      <th>weekday</th>\n",
              "    </tr>\n",
              "  </thead>\n",
              "  <tbody>\n",
              "    <tr>\n",
              "      <th>0</th>\n",
              "      <td>1</td>\n",
              "      <td>0</td>\n",
              "      <td>0</td>\n",
              "      <td>1</td>\n",
              "      <td>9.84</td>\n",
              "      <td>14.395</td>\n",
              "      <td>81</td>\n",
              "      <td>0.0</td>\n",
              "      <td>16</td>\n",
              "      <td>2011</td>\n",
              "      <td>1</td>\n",
              "      <td>1</td>\n",
              "      <td>0</td>\n",
              "      <td>5</td>\n",
              "    </tr>\n",
              "    <tr>\n",
              "      <th>1</th>\n",
              "      <td>1</td>\n",
              "      <td>0</td>\n",
              "      <td>0</td>\n",
              "      <td>1</td>\n",
              "      <td>9.02</td>\n",
              "      <td>13.635</td>\n",
              "      <td>80</td>\n",
              "      <td>0.0</td>\n",
              "      <td>40</td>\n",
              "      <td>2011</td>\n",
              "      <td>1</td>\n",
              "      <td>1</td>\n",
              "      <td>1</td>\n",
              "      <td>5</td>\n",
              "    </tr>\n",
              "    <tr>\n",
              "      <th>2</th>\n",
              "      <td>1</td>\n",
              "      <td>0</td>\n",
              "      <td>0</td>\n",
              "      <td>1</td>\n",
              "      <td>9.02</td>\n",
              "      <td>13.635</td>\n",
              "      <td>80</td>\n",
              "      <td>0.0</td>\n",
              "      <td>32</td>\n",
              "      <td>2011</td>\n",
              "      <td>1</td>\n",
              "      <td>1</td>\n",
              "      <td>2</td>\n",
              "      <td>5</td>\n",
              "    </tr>\n",
              "    <tr>\n",
              "      <th>3</th>\n",
              "      <td>1</td>\n",
              "      <td>0</td>\n",
              "      <td>0</td>\n",
              "      <td>1</td>\n",
              "      <td>9.84</td>\n",
              "      <td>14.395</td>\n",
              "      <td>75</td>\n",
              "      <td>0.0</td>\n",
              "      <td>13</td>\n",
              "      <td>2011</td>\n",
              "      <td>1</td>\n",
              "      <td>1</td>\n",
              "      <td>3</td>\n",
              "      <td>5</td>\n",
              "    </tr>\n",
              "    <tr>\n",
              "      <th>4</th>\n",
              "      <td>1</td>\n",
              "      <td>0</td>\n",
              "      <td>0</td>\n",
              "      <td>1</td>\n",
              "      <td>9.84</td>\n",
              "      <td>14.395</td>\n",
              "      <td>75</td>\n",
              "      <td>0.0</td>\n",
              "      <td>1</td>\n",
              "      <td>2011</td>\n",
              "      <td>1</td>\n",
              "      <td>1</td>\n",
              "      <td>4</td>\n",
              "      <td>5</td>\n",
              "    </tr>\n",
              "  </tbody>\n",
              "</table>\n",
              "</div>"
            ],
            "text/plain": [
              "  season  holiday  workingday weather  temp  ...  year  month  day  hour  weekday\n",
              "0      1        0           0       1  9.84  ...  2011      1    1     0        5\n",
              "1      1        0           0       1  9.02  ...  2011      1    1     1        5\n",
              "2      1        0           0       1  9.02  ...  2011      1    1     2        5\n",
              "3      1        0           0       1  9.84  ...  2011      1    1     3        5\n",
              "4      1        0           0       1  9.84  ...  2011      1    1     4        5\n",
              "\n",
              "[5 rows x 14 columns]"
            ]
          },
          "metadata": {
            "tags": []
          },
          "execution_count": 14
        }
      ]
    },
    {
      "cell_type": "code",
      "metadata": {
        "id": "7LM6QHofI-fJ",
        "colab": {
          "base_uri": "https://localhost:8080/",
          "height": 499
        },
        "outputId": "f6f8bcb2-fa97-4bb3-9986-34406a34bc7f"
      },
      "source": [
        "# View histogram of all features again now with the hour feature\n",
        "train.hist()"
      ],
      "execution_count": 15,
      "outputs": [
        {
          "output_type": "execute_result",
          "data": {
            "text/plain": [
              "array([[<matplotlib.axes._subplots.AxesSubplot object at 0x7f69bbbd8e90>,\n",
              "        <matplotlib.axes._subplots.AxesSubplot object at 0x7f69c805fc10>,\n",
              "        <matplotlib.axes._subplots.AxesSubplot object at 0x7f69bbaedbd0>],\n",
              "       [<matplotlib.axes._subplots.AxesSubplot object at 0x7f69bbab0290>,\n",
              "        <matplotlib.axes._subplots.AxesSubplot object at 0x7f69bba65910>,\n",
              "        <matplotlib.axes._subplots.AxesSubplot object at 0x7f69bba9af90>],\n",
              "       [<matplotlib.axes._subplots.AxesSubplot object at 0x7f69bba5e650>,\n",
              "        <matplotlib.axes._subplots.AxesSubplot object at 0x7f69bba14cd0>,\n",
              "        <matplotlib.axes._subplots.AxesSubplot object at 0x7f69bb9aa190>],\n",
              "       [<matplotlib.axes._subplots.AxesSubplot object at 0x7f69bb9e0910>,\n",
              "        <matplotlib.axes._subplots.AxesSubplot object at 0x7f69bb94b0d0>,\n",
              "        <matplotlib.axes._subplots.AxesSubplot object at 0x7f69bb900750>]],\n",
              "      dtype=object)"
            ]
          },
          "metadata": {
            "tags": []
          },
          "execution_count": 15
        },
        {
          "output_type": "display_data",
          "data": {
            "image/png": "[encoded data removed]",
            "text/plain": [
              "<Figure size 432x288 with 12 Axes>"
            ]
          },
          "metadata": {
            "tags": [],
            "needs_background": "light"
          }
        }
      ]
    },
    {
      "cell_type": "markdown",
      "metadata": {
        "id": "1FWF2o67I-fK"
      },
      "source": [
        "## Step 5: Rerun the model with the same settings as before, just with more features"
      ]
    },
    {
      "cell_type": "code",
      "metadata": {
        "id": "pRcPglhpI-fK",
        "colab": {
          "base_uri": "https://localhost:8080/"
        },
        "outputId": "0fb64a1a-2090-4980-d973-e8915a054fe5"
      },
      "source": [
        "predictor_new_features = TabularPredictor(label='count', eval_metric=eval_metric).fit(train, presets='best_quality', time_limit=600)"
      ],
      "execution_count": 16,
      "outputs": [
        {
          "output_type": "stream",
          "text": [
            "No path specified. Models will be saved in: \"AutogluonModels/ag-20210719_203919/\"\n",
            "Presets specified: ['best_quality']\n",
            "Beginning AutoGluon training ... Time limit = 600s\n",
            "AutoGluon will save models to \"AutogluonModels/ag-20210719_203919/\"\n",
            "AutoGluon Version:  0.2.0\n",
            "Train Data Rows:    10886\n",
            "Train Data Columns: 13\n",
            "Preprocessing data ...\n",
            "AutoGluon infers your prediction problem is: 'regression' (because dtype of label-column == int and many unique label-values observed).\n",
            "\tLabel info (max, min, mean, stddev): (977, 1, 191.57413, 181.14445)\n",
            "\tIf 'regression' is not the correct problem_type, please manually specify the problem_type argument in fit() (You may specify problem_type as one of: ['binary', 'multiclass', 'regression'])\n",
            "Using Feature Generators to preprocess the data ...\n",
            "Fitting AutoMLPipelineFeatureGenerator...\n",
            "\tAvailable Memory:                    12697.7 MB\n",
            "\tTrain Data (Original)  Memory Usage: 0.98 MB (0.0% of available memory)\n",
            "\tInferring data type of each feature based on column values. Set feature_metadata_in to manually specify special dtypes of the features.\n",
            "\tStage 1 Generators:\n",
            "\t\tFitting AsTypeFeatureGenerator...\n",
            "\tStage 2 Generators:\n",
            "\t\tFitting FillNaFeatureGenerator...\n",
            "\tStage 3 Generators:\n",
            "\t\tFitting IdentityFeatureGenerator...\n",
            "\t\tFitting CategoryFeatureGenerator...\n",
            "\t\t\tFitting CategoryMemoryMinimizeFeatureGenerator...\n",
            "\tStage 4 Generators:\n",
            "\t\tFitting DropUniqueFeatureGenerator...\n",
            "\tTypes of features in original data (raw dtype, special dtypes):\n",
            "\t\t('category', []) : 2 | ['season', 'weather']\n",
            "\t\t('float', [])    : 3 | ['temp', 'atemp', 'windspeed']\n",
            "\t\t('int', [])      : 8 | ['holiday', 'workingday', 'humidity', 'year', 'month', ...]\n",
            "\tTypes of features in processed data (raw dtype, special dtypes):\n",
            "\t\t('category', []) : 2 | ['season', 'weather']\n",
            "\t\t('float', [])    : 3 | ['temp', 'atemp', 'windspeed']\n",
            "\t\t('int', [])      : 8 | ['holiday', 'workingday', 'humidity', 'year', 'month', ...]\n",
            "\t0.1s = Fit runtime\n",
            "\t13 features in original data used to generate 13 features in processed data.\n",
            "\tTrain Data (Processed) Memory Usage: 0.98 MB (0.0% of available memory)\n",
            "Data preprocessing and feature engineering runtime = 0.17s ...\n",
            "AutoGluon will gauge predictive performance using evaluation metric: 'root_mean_squared_error'\n",
            "\tTo change this, specify the eval_metric argument of fit()\n",
            "Fitting model: KNeighborsUnif_BAG_L1 ... Training model for up to 399.79s of the 599.82s of remaining time.\n",
            "NumExpr defaulting to 2 threads.\n",
            "\t-119.2819\t = Validation root_mean_squared_error score\n",
            "\t0.03s\t = Training runtime\n",
            "\t0.2s\t = Validation runtime\n",
            "Fitting model: KNeighborsDist_BAG_L1 ... Training model for up to 399.4s of the 599.44s of remaining time.\n",
            "\t-114.3238\t = Validation root_mean_squared_error score\n",
            "\t0.03s\t = Training runtime\n",
            "\t0.2s\t = Validation runtime\n",
            "Fitting model: LightGBMXT_BAG_L1 ... Training model for up to 399.05s of the 599.09s of remaining time.\n"
          ],
          "name": "stderr"
        },
        {
          "output_type": "stream",
          "text": [
            "[1000]\ttrain_set's rmse: 45.5444\tvalid_set's rmse: 56.4784\n",
            "[2000]\ttrain_set's rmse: 37.0315\tvalid_set's rmse: 51.5302\n",
            "[3000]\ttrain_set's rmse: 32.0625\tvalid_set's rmse: 49.205\n",
            "[4000]\ttrain_set's rmse: 28.8208\tvalid_set's rmse: 48.104\n",
            "[5000]\ttrain_set's rmse: 26.4348\tvalid_set's rmse: 47.438\n",
            "[6000]\ttrain_set's rmse: 24.4342\tvalid_set's rmse: 46.9969\n",
            "[7000]\ttrain_set's rmse: 22.7785\tvalid_set's rmse: 46.7122\n",
            "[8000]\ttrain_set's rmse: 21.372\tvalid_set's rmse: 46.4372\n",
            "[9000]\ttrain_set's rmse: 20.1718\tvalid_set's rmse: 46.3246\n",
            "[10000]\ttrain_set's rmse: 19.0751\tvalid_set's rmse: 46.1492\n",
            "[1000]\ttrain_set's rmse: 45.8553\tvalid_set's rmse: 60.1311\n",
            "[2000]\ttrain_set's rmse: 37.127\tvalid_set's rmse: 54.4429\n",
            "[3000]\ttrain_set's rmse: 32.3178\tvalid_set's rmse: 51.9301\n",
            "[4000]\ttrain_set's rmse: 29.0672\tvalid_set's rmse: 50.5923\n",
            "[5000]\ttrain_set's rmse: 26.629\tvalid_set's rmse: 49.7932\n",
            "[6000]\ttrain_set's rmse: 24.6257\tvalid_set's rmse: 49.1691\n",
            "[7000]\ttrain_set's rmse: 22.9434\tvalid_set's rmse: 48.731\n",
            "[8000]\ttrain_set's rmse: 21.4929\tvalid_set's rmse: 48.4731\n",
            "[9000]\ttrain_set's rmse: 20.2554\tvalid_set's rmse: 48.279\n",
            "[10000]\ttrain_set's rmse: 19.1892\tvalid_set's rmse: 48.146\n",
            "[1000]\ttrain_set's rmse: 45.5719\tvalid_set's rmse: 55.0719\n",
            "[2000]\ttrain_set's rmse: 37.1188\tvalid_set's rmse: 51.1395\n",
            "[3000]\ttrain_set's rmse: 32.3176\tvalid_set's rmse: 49.565\n",
            "[4000]\ttrain_set's rmse: 29.1383\tvalid_set's rmse: 48.6509\n",
            "[5000]\ttrain_set's rmse: 26.72\tvalid_set's rmse: 48.0683\n",
            "[6000]\ttrain_set's rmse: 24.7397\tvalid_set's rmse: 47.5623\n",
            "[7000]\ttrain_set's rmse: 23.0986\tvalid_set's rmse: 47.2402\n",
            "[8000]\ttrain_set's rmse: 21.6802\tvalid_set's rmse: 46.9341\n",
            "[9000]\ttrain_set's rmse: 20.477\tvalid_set's rmse: 46.7426\n",
            "[10000]\ttrain_set's rmse: 19.4242\tvalid_set's rmse: 46.5806\n",
            "[1000]\ttrain_set's rmse: 45.0812\tvalid_set's rmse: 62.1657\n",
            "[2000]\ttrain_set's rmse: 36.448\tvalid_set's rmse: 57.2598\n",
            "[3000]\ttrain_set's rmse: 31.7423\tvalid_set's rmse: 54.848\n",
            "[4000]\ttrain_set's rmse: 28.4175\tvalid_set's rmse: 53.4469\n",
            "[5000]\ttrain_set's rmse: 25.991\tvalid_set's rmse: 52.486\n",
            "[6000]\ttrain_set's rmse: 24.0729\tvalid_set's rmse: 51.875\n",
            "[7000]\ttrain_set's rmse: 22.5003\tvalid_set's rmse: 51.4051\n",
            "[8000]\ttrain_set's rmse: 21.1269\tvalid_set's rmse: 51.008\n",
            "[9000]\ttrain_set's rmse: 19.931\tvalid_set's rmse: 50.6802\n",
            "[10000]\ttrain_set's rmse: 18.8838\tvalid_set's rmse: 50.4449\n",
            "[1000]\ttrain_set's rmse: 46.011\tvalid_set's rmse: 54.3441\n",
            "[2000]\ttrain_set's rmse: 37.2025\tvalid_set's rmse: 50.2902\n",
            "[3000]\ttrain_set's rmse: 32.3403\tvalid_set's rmse: 48.2963\n",
            "[4000]\ttrain_set's rmse: 29.0545\tvalid_set's rmse: 47.1608\n",
            "[5000]\ttrain_set's rmse: 26.5866\tvalid_set's rmse: 46.4477\n",
            "[6000]\ttrain_set's rmse: 24.6355\tvalid_set's rmse: 46.0329\n",
            "[7000]\ttrain_set's rmse: 22.9953\tvalid_set's rmse: 45.6707\n",
            "[8000]\ttrain_set's rmse: 21.564\tvalid_set's rmse: 45.3733\n",
            "[9000]\ttrain_set's rmse: 20.3226\tvalid_set's rmse: 45.1696\n",
            "[10000]\ttrain_set's rmse: 19.2372\tvalid_set's rmse: 44.9127\n",
            "[1000]\ttrain_set's rmse: 45.4878\tvalid_set's rmse: 59.2617\n",
            "[2000]\ttrain_set's rmse: 36.7097\tvalid_set's rmse: 55.073\n",
            "[3000]\ttrain_set's rmse: 31.9334\tvalid_set's rmse: 53.1282\n",
            "[4000]\ttrain_set's rmse: 28.6258\tvalid_set's rmse: 51.9627\n",
            "[5000]\ttrain_set's rmse: 26.2139\tvalid_set's rmse: 51.331\n",
            "[6000]\ttrain_set's rmse: 24.2304\tvalid_set's rmse: 50.7772\n",
            "[7000]\ttrain_set's rmse: 22.5876\tvalid_set's rmse: 50.3768\n",
            "[8000]\ttrain_set's rmse: 21.1839\tvalid_set's rmse: 50.1719\n",
            "[9000]\ttrain_set's rmse: 20.0148\tvalid_set's rmse: 50.0535\n",
            "[10000]\ttrain_set's rmse: 18.9552\tvalid_set's rmse: 49.8915\n",
            "[1000]\ttrain_set's rmse: 45.6064\tvalid_set's rmse: 56.5973\n",
            "[2000]\ttrain_set's rmse: 37.0764\tvalid_set's rmse: 51.4704\n",
            "[3000]\ttrain_set's rmse: 32.2023\tvalid_set's rmse: 49.3238\n",
            "[4000]\ttrain_set's rmse: 28.8728\tvalid_set's rmse: 48.2091\n",
            "[5000]\ttrain_set's rmse: 26.355\tvalid_set's rmse: 47.4132\n",
            "[6000]\ttrain_set's rmse: 24.3797\tvalid_set's rmse: 47.0133\n",
            "[7000]\ttrain_set's rmse: 22.7526\tvalid_set's rmse: 46.6603\n",
            "[8000]\ttrain_set's rmse: 21.3492\tvalid_set's rmse: 46.4311\n",
            "[9000]\ttrain_set's rmse: 20.1086\tvalid_set's rmse: 46.181\n",
            "[10000]\ttrain_set's rmse: 19.0028\tvalid_set's rmse: 46.0226\n",
            "[1000]\ttrain_set's rmse: 45.2322\tvalid_set's rmse: 58.4341\n",
            "[2000]\ttrain_set's rmse: 36.9011\tvalid_set's rmse: 54.2041\n",
            "[3000]\ttrain_set's rmse: 32.1249\tvalid_set's rmse: 52.0701\n",
            "[4000]\ttrain_set's rmse: 28.8458\tvalid_set's rmse: 50.7942\n",
            "[5000]\ttrain_set's rmse: 26.3771\tvalid_set's rmse: 49.9194\n",
            "[6000]\ttrain_set's rmse: 24.403\tvalid_set's rmse: 49.2561\n",
            "[7000]\ttrain_set's rmse: 22.7917\tvalid_set's rmse: 48.8441\n",
            "[8000]\ttrain_set's rmse: 21.4326\tvalid_set's rmse: 48.5481\n",
            "[9000]\ttrain_set's rmse: 20.2214\tvalid_set's rmse: 48.2742\n",
            "[10000]\ttrain_set's rmse: 19.1389\tvalid_set's rmse: 48.063\n",
            "[1000]\ttrain_set's rmse: 45.2131\tvalid_set's rmse: 57.0086\n",
            "[2000]\ttrain_set's rmse: 36.7569\tvalid_set's rmse: 53.1599\n",
            "[3000]\ttrain_set's rmse: 32.0118\tvalid_set's rmse: 51.2883\n",
            "[4000]\ttrain_set's rmse: 28.8172\tvalid_set's rmse: 50.1661\n",
            "[5000]\ttrain_set's rmse: 26.3166\tvalid_set's rmse: 49.386\n",
            "[6000]\ttrain_set's rmse: 24.3035\tvalid_set's rmse: 49.0353\n",
            "[7000]\ttrain_set's rmse: 22.6531\tvalid_set's rmse: 48.7505\n",
            "[8000]\ttrain_set's rmse: 21.2461\tvalid_set's rmse: 48.4631\n",
            "[9000]\ttrain_set's rmse: 20.0475\tvalid_set's rmse: 48.3094\n",
            "[10000]\ttrain_set's rmse: 18.9389\tvalid_set's rmse: 48.1131\n",
            "[1000]\ttrain_set's rmse: 45.4783\tvalid_set's rmse: 53.4081\n",
            "[2000]\ttrain_set's rmse: 36.9627\tvalid_set's rmse: 49.4791\n",
            "[3000]\ttrain_set's rmse: 32.314\tvalid_set's rmse: 47.8836\n",
            "[4000]\ttrain_set's rmse: 29.0524\tvalid_set's rmse: 46.9442\n",
            "[5000]\ttrain_set's rmse: 26.6103\tvalid_set's rmse: 46.3288\n",
            "[6000]\ttrain_set's rmse: 24.676\tvalid_set's rmse: 45.8263\n",
            "[7000]\ttrain_set's rmse: 23.0017\tvalid_set's rmse: 45.5753\n",
            "[8000]\ttrain_set's rmse: 21.6039\tvalid_set's rmse: 45.3426\n",
            "[9000]\ttrain_set's rmse: 20.3877\tvalid_set's rmse: 45.1484\n",
            "[10000]\ttrain_set's rmse: 19.3483\tvalid_set's rmse: 44.969\n"
          ],
          "name": "stdout"
        },
        {
          "output_type": "stream",
          "text": [
            "\t-47.3604\t = Validation root_mean_squared_error score\n",
            "\t113.07s\t = Training runtime\n",
            "\t7.59s\t = Validation runtime\n",
            "Fitting model: LightGBM_BAG_L1 ... Training model for up to 261.78s of the 461.82s of remaining time.\n"
          ],
          "name": "stderr"
        },
        {
          "output_type": "stream",
          "text": [
            "[1000]\ttrain_set's rmse: 19.8144\tvalid_set's rmse: 34.5176\n",
            "[1000]\ttrain_set's rmse: 19.846\tvalid_set's rmse: 34.427\n",
            "[2000]\ttrain_set's rmse: 14.3039\tvalid_set's rmse: 33.7285\n",
            "[3000]\ttrain_set's rmse: 11.2663\tvalid_set's rmse: 33.4853\n",
            "[1000]\ttrain_set's rmse: 19.8697\tvalid_set's rmse: 29.0867\n",
            "[1000]\ttrain_set's rmse: 19.766\tvalid_set's rmse: 36.3595\n",
            "[2000]\ttrain_set's rmse: 14.3417\tvalid_set's rmse: 35.4445\n",
            "[3000]\ttrain_set's rmse: 11.4008\tvalid_set's rmse: 35.0991\n",
            "[4000]\ttrain_set's rmse: 9.15962\tvalid_set's rmse: 34.9405\n",
            "[5000]\ttrain_set's rmse: 7.59445\tvalid_set's rmse: 34.8644\n",
            "[6000]\ttrain_set's rmse: 6.36802\tvalid_set's rmse: 34.8052\n",
            "[1000]\ttrain_set's rmse: 19.8315\tvalid_set's rmse: 36.0416\n",
            "[2000]\ttrain_set's rmse: 14.1709\tvalid_set's rmse: 35.4921\n",
            "[1000]\ttrain_set's rmse: 19.6911\tvalid_set's rmse: 36.9723\n",
            "[2000]\ttrain_set's rmse: 14.2916\tvalid_set's rmse: 36.4007\n",
            "[1000]\ttrain_set's rmse: 19.7018\tvalid_set's rmse: 32.2929\n",
            "[1000]\ttrain_set's rmse: 19.3621\tvalid_set's rmse: 33.113\n",
            "[2000]\ttrain_set's rmse: 14.0321\tvalid_set's rmse: 32.7125\n",
            "[1000]\ttrain_set's rmse: 19.6231\tvalid_set's rmse: 38.0794\n",
            "[1000]\ttrain_set's rmse: 19.7985\tvalid_set's rmse: 34.8811\n",
            "[2000]\ttrain_set's rmse: 14.4693\tvalid_set's rmse: 34.3345\n"
          ],
          "name": "stdout"
        },
        {
          "output_type": "stream",
          "text": [
            "\t-34.1556\t = Validation root_mean_squared_error score\n",
            "\t27.34s\t = Training runtime\n",
            "\t1.42s\t = Validation runtime\n",
            "Fitting model: RandomForestMSE_BAG_L1 ... Training model for up to 229.49s of the 429.52s of remaining time.\n",
            "\t-38.9104\t = Validation root_mean_squared_error score\n",
            "\t8.95s\t = Training runtime\n",
            "\t0.43s\t = Validation runtime\n",
            "Fitting model: CatBoost_BAG_L1 ... Training model for up to 219.41s of the 419.45s of remaining time.\n",
            "\tTime limit exceeded... Skipping CatBoost_BAG_L1.\n",
            "Fitting model: ExtraTreesMSE_BAG_L1 ... Training model for up to 174.23s of the 374.27s of remaining time.\n",
            "\t-38.6821\t = Validation root_mean_squared_error score\n",
            "\t3.83s\t = Training runtime\n",
            "\t0.41s\t = Validation runtime\n",
            "Fitting model: NeuralNetFastAI_BAG_L1 ... Training model for up to 169.43s of the 369.47s of remaining time.\n",
            "\tRan out of time, stopping training early.\n",
            "\tTime limit exceeded... Skipping NeuralNetFastAI_BAG_L1.\n",
            "Fitting model: XGBoost_BAG_L1 ... Training model for up to 151.64s of the 351.68s of remaining time.\n",
            "\t-35.2552\t = Validation root_mean_squared_error score\n",
            "\t57.68s\t = Training runtime\n",
            "\t0.3s\t = Validation runtime\n",
            "Fitting model: NeuralNetMXNet_BAG_L1 ... Training model for up to 92.0s of the 292.03s of remaining time.\n",
            "\tRan out of time, stopping training early. (Stopping on epoch 3)\n",
            "\tRan out of time, stopping training early. (Stopping on epoch 7)\n",
            "\tRan out of time, stopping training early. (Stopping on epoch 6)\n",
            "\tRan out of time, stopping training early. (Stopping on epoch 7)\n",
            "\tRan out of time, stopping training early. (Stopping on epoch 7)\n",
            "\tRan out of time, stopping training early. (Stopping on epoch 9)\n",
            "\tRan out of time, stopping training early. (Stopping on epoch 8)\n",
            "\tRan out of time, stopping training early. (Stopping on epoch 9)\n",
            "\tRan out of time, stopping training early. (Stopping on epoch 10)\n",
            "\tRan out of time, stopping training early. (Stopping on epoch 12)\n",
            "\t-135.3875\t = Validation root_mean_squared_error score\n",
            "\t86.83s\t = Training runtime\n",
            "\t1.83s\t = Validation runtime\n",
            "Fitting model: LightGBMLarge_BAG_L1 ... Training model for up to 3.28s of the 203.32s of remaining time.\n",
            "\tRan out of time, early stopping on iteration 47. Best iteration is:\n",
            "\t[47]\ttrain_set's rmse: 61.9318\tvalid_set's rmse: 65.6542\n",
            "\tRan out of time, early stopping on iteration 48. Best iteration is:\n",
            "\t[48]\ttrain_set's rmse: 60.1695\tvalid_set's rmse: 67.5442\n",
            "\tRan out of time, early stopping on iteration 46. Best iteration is:\n",
            "\t[46]\ttrain_set's rmse: 62.775\tvalid_set's rmse: 64.1317\n",
            "\tRan out of time, early stopping on iteration 47. Best iteration is:\n",
            "\t[47]\ttrain_set's rmse: 61.4278\tvalid_set's rmse: 71.2954\n",
            "\tRan out of time, early stopping on iteration 45. Best iteration is:\n",
            "\t[45]\ttrain_set's rmse: 64.0982\tvalid_set's rmse: 68.1427\n",
            "\tRan out of time, early stopping on iteration 43. Best iteration is:\n",
            "\t[43]\ttrain_set's rmse: 66.5867\tvalid_set's rmse: 69.5757\n",
            "\tRan out of time, early stopping on iteration 50. Best iteration is:\n",
            "\t[50]\ttrain_set's rmse: 58.661\tvalid_set's rmse: 63.3497\n",
            "\tRan out of time, early stopping on iteration 47. Best iteration is:\n",
            "\t[47]\ttrain_set's rmse: 61.7962\tvalid_set's rmse: 66.9998\n",
            "\tRan out of time, early stopping on iteration 49. Best iteration is:\n",
            "\t[49]\ttrain_set's rmse: 59.2589\tvalid_set's rmse: 63.9459\n",
            "\tRan out of time, early stopping on iteration 60. Best iteration is:\n",
            "\t[60]\ttrain_set's rmse: 49.9868\tvalid_set's rmse: 53.1211\n",
            "\t-65.5496\t = Validation root_mean_squared_error score\n",
            "\t3.0s\t = Training runtime\n",
            "\t0.1s\t = Validation runtime\n",
            "Completed 1/20 k-fold bagging repeats ...\n",
            "Fitting model: WeightedEnsemble_L2 ... Training model for up to 360.0s of the 200.02s of remaining time.\n",
            "\t-33.099\t = Validation root_mean_squared_error score\n",
            "\t1.01s\t = Training runtime\n",
            "\t0.0s\t = Validation runtime\n",
            "Fitting model: KNeighborsUnif_BAG_L2 ... Training model for up to 198.98s of the 198.97s of remaining time.\n",
            "\t-35.5754\t = Validation root_mean_squared_error score\n",
            "\t0.01s\t = Training runtime\n",
            "\t4.65s\t = Validation runtime\n",
            "Fitting model: KNeighborsDist_BAG_L2 ... Training model for up to 194.1s of the 194.1s of remaining time.\n",
            "\t-35.5743\t = Validation root_mean_squared_error score\n",
            "\t0.01s\t = Training runtime\n",
            "\t3.75s\t = Validation runtime\n",
            "Fitting model: LightGBMXT_BAG_L2 ... Training model for up to 190.12s of the 190.11s of remaining time.\n",
            "\t-33.6737\t = Validation root_mean_squared_error score\n",
            "\t7.57s\t = Training runtime\n",
            "\t0.18s\t = Validation runtime\n",
            "Fitting model: LightGBM_BAG_L2 ... Training model for up to 182.13s of the 182.12s of remaining time.\n",
            "\t-33.2927\t = Validation root_mean_squared_error score\n",
            "\t6.18s\t = Training runtime\n",
            "\t0.1s\t = Validation runtime\n",
            "Fitting model: RandomForestMSE_BAG_L2 ... Training model for up to 175.74s of the 175.73s of remaining time.\n",
            "\t-34.0689\t = Validation root_mean_squared_error score\n",
            "\t26.35s\t = Training runtime\n",
            "\t0.49s\t = Validation runtime\n",
            "Fitting model: CatBoost_BAG_L2 ... Training model for up to 148.29s of the 148.28s of remaining time.\n",
            "\t-33.1897\t = Validation root_mean_squared_error score\n",
            "\t43.62s\t = Training runtime\n",
            "\t0.05s\t = Validation runtime\n",
            "Fitting model: ExtraTreesMSE_BAG_L2 ... Training model for up to 104.58s of the 104.57s of remaining time.\n",
            "\t-33.5086\t = Validation root_mean_squared_error score\n",
            "\t7.04s\t = Training runtime\n",
            "\t0.49s\t = Validation runtime\n",
            "Fitting model: NeuralNetFastAI_BAG_L2 ... Training model for up to 96.47s of the 96.46s of remaining time.\n",
            "\tRan out of time, stopping training early.\n",
            "\tRan out of time, stopping training early.\n",
            "\tRan out of time, stopping training early.\n",
            "\tRan out of time, stopping training early.\n",
            "\tRan out of time, stopping training early.\n",
            "\tRan out of time, stopping training early.\n",
            "\tRan out of time, stopping training early.\n",
            "\tRan out of time, stopping training early.\n",
            "\t-32.773\t = Validation root_mean_squared_error score\n",
            "\t89.92s\t = Training runtime\n",
            "\t0.38s\t = Validation runtime\n",
            "Fitting model: XGBoost_BAG_L2 ... Training model for up to 5.97s of the 5.96s of remaining time.\n",
            "\t-53.159\t = Validation root_mean_squared_error score\n",
            "\t5.65s\t = Training runtime\n",
            "\t0.14s\t = Validation runtime\n",
            "Fitting model: NeuralNetMXNet_BAG_L2 ... Training model for up to 0.11s of the 0.1s of remaining time.\n",
            "\tTime limit exceeded... Skipping NeuralNetMXNet_BAG_L2.\n",
            "Completed 1/20 k-fold bagging repeats ...\n",
            "Fitting model: WeightedEnsemble_L3 ... Training model for up to 360.0s of the -0.52s of remaining time.\n",
            "\t-32.6377\t = Validation root_mean_squared_error score\n",
            "\t0.95s\t = Training runtime\n",
            "\t0.0s\t = Validation runtime\n",
            "AutoGluon training complete, total runtime = 601.5s ...\n",
            "TabularPredictor saved. To load, use: predictor = TabularPredictor.load(\"AutogluonModels/ag-20210719_203919/\")\n"
          ],
          "name": "stderr"
        }
      ]
    },
    {
      "cell_type": "code",
      "metadata": {
        "id": "b0o2GUOgI-fM",
        "colab": {
          "base_uri": "https://localhost:8080/"
        },
        "outputId": "10e53a64-f988-4070-f5cc-a572f0d026bf"
      },
      "source": [
        "predictor_new_features.fit_summary()"
      ],
      "execution_count": 17,
      "outputs": [
        {
          "output_type": "stream",
          "text": [
            "*** Summary of fit() ***\n",
            "Estimated performance of each model:\n",
            "                     model   score_val  pred_time_val    fit_time  pred_time_val_marginal  fit_time_marginal  stack_level  can_infer  fit_order\n",
            "0      WeightedEnsemble_L3  -32.637711      17.839742  449.007844                0.001199           0.951499            3       True         20\n",
            "1   NeuralNetFastAI_BAG_L2  -32.773047      12.857998  390.679568                0.380399          89.919977            2       True         18\n",
            "2      WeightedEnsemble_L2  -33.098974      10.149479  211.882243                0.001348           1.012954            2       True         10\n",
            "3          CatBoost_BAG_L2  -33.189655      12.525691  344.383000                0.048092          43.623409            2       True         16\n",
            "4          LightGBM_BAG_L2  -33.292665      12.580986  306.937542                0.103388           6.177951            2       True         14\n",
            "5     ExtraTreesMSE_BAG_L2  -33.508640      12.963445  307.795568                0.485847           7.035977            2       True         17\n",
            "6        LightGBMXT_BAG_L2  -33.673686      12.660455  308.324798                0.182856           7.565207            2       True         13\n",
            "7   RandomForestMSE_BAG_L2  -34.068913      12.963498  327.110299                0.485900          26.350708            2       True         15\n",
            "8          LightGBM_BAG_L1  -34.155581       1.418188   27.340424                1.418188          27.340424            1       True          4\n",
            "9           XGBoost_BAG_L1  -35.255211       0.297554   57.683379                0.297554          57.683379            1       True          7\n",
            "10   KNeighborsDist_BAG_L2  -35.574282      16.229366  300.766965                3.751767           0.007374            2       True         12\n",
            "11   KNeighborsUnif_BAG_L2  -35.575434      17.123809  300.769801                4.646210           0.010210            2       True         11\n",
            "12    ExtraTreesMSE_BAG_L1  -38.682099       0.411561    3.828204                0.411561           3.828204            1       True          6\n",
            "13  RandomForestMSE_BAG_L1  -38.910416       0.432845    8.951581                0.432845           8.951581            1       True          5\n",
            "14       LightGBMXT_BAG_L1  -47.360403       7.587982  113.065700                7.587982         113.065700            1       True          3\n",
            "15          XGBoost_BAG_L2  -53.159015      12.615567  306.407345                0.137968           5.647753            2       True         19\n",
            "16    LightGBMLarge_BAG_L1  -65.549608       0.096072    3.002668                0.096072           3.002668            1       True          9\n",
            "17   KNeighborsDist_BAG_L1 -114.323840       0.203534    0.028114                0.203534           0.028114            1       True          2\n",
            "18   KNeighborsUnif_BAG_L1 -119.281884       0.202649    0.029431                0.202649           0.029431            1       True          1\n",
            "19   NeuralNetMXNet_BAG_L1 -135.387519       1.827214   86.830090                1.827214          86.830090            1       True          8\n",
            "Number of models trained: 20\n",
            "Types of models trained:\n",
            "{'StackerEnsembleModel_KNN', 'StackerEnsembleModel_LGB', 'StackerEnsembleModel_CatBoost', 'WeightedEnsembleModel', 'StackerEnsembleModel_XGBoost', 'StackerEnsembleModel_RF', 'StackerEnsembleModel_XT', 'StackerEnsembleModel_TabularNeuralNet', 'StackerEnsembleModel_NNFastAiTabular'}\n",
            "Bagging used: True  (with 10 folds)\n",
            "Multi-layer stack-ensembling used: True  (with 3 levels)\n",
            "Feature Metadata (Processed):\n",
            "(raw dtype, special dtypes):\n",
            "('category', []) : 2 | ['season', 'weather']\n",
            "('float', [])    : 3 | ['temp', 'atemp', 'windspeed']\n",
            "('int', [])      : 8 | ['holiday', 'workingday', 'humidity', 'year', 'month', ...]\n",
            "Plot summary of models saved to file: AutogluonModels/ag-20210719_203919/SummaryOfModels.html\n",
            "*** End of fit() summary ***\n"
          ],
          "name": "stdout"
        },
        {
          "output_type": "execute_result",
          "data": {
            "text/plain": [
              "{'leaderboard':                      model   score_val  ...  can_infer  fit_order\n",
              " 0      WeightedEnsemble_L3  -32.637711  ...       True         20\n",
              " 1   NeuralNetFastAI_BAG_L2  -32.773047  ...       True         18\n",
              " 2      WeightedEnsemble_L2  -33.098974  ...       True         10\n",
              " 3          CatBoost_BAG_L2  -33.189655  ...       True         16\n",
              " 4          LightGBM_BAG_L2  -33.292665  ...       True         14\n",
              " 5     ExtraTreesMSE_BAG_L2  -33.508640  ...       True         17\n",
              " 6        LightGBMXT_BAG_L2  -33.673686  ...       True         13\n",
              " 7   RandomForestMSE_BAG_L2  -34.068913  ...       True         15\n",
              " 8          LightGBM_BAG_L1  -34.155581  ...       True          4\n",
              " 9           XGBoost_BAG_L1  -35.255211  ...       True          7\n",
              " 10   KNeighborsDist_BAG_L2  -35.574282  ...       True         12\n",
              " 11   KNeighborsUnif_BAG_L2  -35.575434  ...       True         11\n",
              " 12    ExtraTreesMSE_BAG_L1  -38.682099  ...       True          6\n",
              " 13  RandomForestMSE_BAG_L1  -38.910416  ...       True          5\n",
              " 14       LightGBMXT_BAG_L1  -47.360403  ...       True          3\n",
              " 15          XGBoost_BAG_L2  -53.159015  ...       True         19\n",
              " 16    LightGBMLarge_BAG_L1  -65.549608  ...       True          9\n",
              " 17   KNeighborsDist_BAG_L1 -114.323840  ...       True          2\n",
              " 18   KNeighborsUnif_BAG_L1 -119.281884  ...       True          1\n",
              " 19   NeuralNetMXNet_BAG_L1 -135.387519  ...       True          8\n",
              " \n",
              " [20 rows x 9 columns],\n",
              " 'max_stack_level': 3,\n",
              " 'model_best': 'WeightedEnsemble_L3',\n",
              " 'model_fit_times': {'CatBoost_BAG_L2': 43.623409032821655,\n",
              "  'ExtraTreesMSE_BAG_L1': 3.828204393386841,\n",
              "  'ExtraTreesMSE_BAG_L2': 7.035977125167847,\n",
              "  'KNeighborsDist_BAG_L1': 0.028113603591918945,\n",
              "  'KNeighborsDist_BAG_L2': 0.007374286651611328,\n",
              "  'KNeighborsUnif_BAG_L1': 0.029430627822875977,\n",
              "  'KNeighborsUnif_BAG_L2': 0.010210037231445312,\n",
              "  'LightGBMLarge_BAG_L1': 3.0026683807373047,\n",
              "  'LightGBMXT_BAG_L1': 113.06569981575012,\n",
              "  'LightGBMXT_BAG_L2': 7.565207242965698,\n",
              "  'LightGBM_BAG_L1': 27.340424060821533,\n",
              "  'LightGBM_BAG_L2': 6.177951335906982,\n",
              "  'NeuralNetFastAI_BAG_L2': 89.9199767112732,\n",
              "  'NeuralNetMXNet_BAG_L1': 86.8300895690918,\n",
              "  'RandomForestMSE_BAG_L1': 8.951581239700317,\n",
              "  'RandomForestMSE_BAG_L2': 26.35070824623108,\n",
              "  'WeightedEnsemble_L2': 1.0129544734954834,\n",
              "  'WeightedEnsemble_L3': 0.9514987468719482,\n",
              "  'XGBoost_BAG_L1': 57.68337941169739,\n",
              "  'XGBoost_BAG_L2': 5.647753477096558},\n",
              " 'model_hyperparams': {'CatBoost_BAG_L2': {'max_base_models': 25,\n",
              "   'max_base_models_per_type': 5,\n",
              "   'save_bag_folds': True,\n",
              "   'use_orig_features': True},\n",
              "  'ExtraTreesMSE_BAG_L1': {'max_base_models': 25,\n",
              "   'max_base_models_per_type': 5,\n",
              "   'save_bag_folds': True,\n",
              "   'use_child_oof': True,\n",
              "   'use_orig_features': True},\n",
              "  'ExtraTreesMSE_BAG_L2': {'max_base_models': 25,\n",
              "   'max_base_models_per_type': 5,\n",
              "   'save_bag_folds': True,\n",
              "   'use_child_oof': True,\n",
              "   'use_orig_features': True},\n",
              "  'KNeighborsDist_BAG_L1': {'max_base_models': 25,\n",
              "   'max_base_models_per_type': 5,\n",
              "   'save_bag_folds': True,\n",
              "   'use_child_oof': True,\n",
              "   'use_orig_features': True},\n",
              "  'KNeighborsDist_BAG_L2': {'max_base_models': 25,\n",
              "   'max_base_models_per_type': 5,\n",
              "   'save_bag_folds': True,\n",
              "   'use_child_oof': True,\n",
              "   'use_orig_features': True},\n",
              "  'KNeighborsUnif_BAG_L1': {'max_base_models': 25,\n",
              "   'max_base_models_per_type': 5,\n",
              "   'save_bag_folds': True,\n",
              "   'use_child_oof': True,\n",
              "   'use_orig_features': True},\n",
              "  'KNeighborsUnif_BAG_L2': {'max_base_models': 25,\n",
              "   'max_base_models_per_type': 5,\n",
              "   'save_bag_folds': True,\n",
              "   'use_child_oof': True,\n",
              "   'use_orig_features': True},\n",
              "  'LightGBMLarge_BAG_L1': {'max_base_models': 25,\n",
              "   'max_base_models_per_type': 5,\n",
              "   'save_bag_folds': True,\n",
              "   'use_orig_features': True},\n",
              "  'LightGBMXT_BAG_L1': {'max_base_models': 25,\n",
              "   'max_base_models_per_type': 5,\n",
              "   'save_bag_folds': True,\n",
              "   'use_orig_features': True},\n",
              "  'LightGBMXT_BAG_L2': {'max_base_models': 25,\n",
              "   'max_base_models_per_type': 5,\n",
              "   'save_bag_folds': True,\n",
              "   'use_orig_features': True},\n",
              "  'LightGBM_BAG_L1': {'max_base_models': 25,\n",
              "   'max_base_models_per_type': 5,\n",
              "   'save_bag_folds': True,\n",
              "   'use_orig_features': True},\n",
              "  'LightGBM_BAG_L2': {'max_base_models': 25,\n",
              "   'max_base_models_per_type': 5,\n",
              "   'save_bag_folds': True,\n",
              "   'use_orig_features': True},\n",
              "  'NeuralNetFastAI_BAG_L2': {'max_base_models': 25,\n",
              "   'max_base_models_per_type': 5,\n",
              "   'save_bag_folds': True,\n",
              "   'use_orig_features': True},\n",
              "  'NeuralNetMXNet_BAG_L1': {'max_base_models': 25,\n",
              "   'max_base_models_per_type': 5,\n",
              "   'save_bag_folds': True,\n",
              "   'use_orig_features': True},\n",
              "  'RandomForestMSE_BAG_L1': {'max_base_models': 25,\n",
              "   'max_base_models_per_type': 5,\n",
              "   'save_bag_folds': True,\n",
              "   'use_child_oof': True,\n",
              "   'use_orig_features': True},\n",
              "  'RandomForestMSE_BAG_L2': {'max_base_models': 25,\n",
              "   'max_base_models_per_type': 5,\n",
              "   'save_bag_folds': True,\n",
              "   'use_child_oof': True,\n",
              "   'use_orig_features': True},\n",
              "  'WeightedEnsemble_L2': {'max_base_models': 25,\n",
              "   'max_base_models_per_type': 5,\n",
              "   'save_bag_folds': True,\n",
              "   'use_orig_features': False},\n",
              "  'WeightedEnsemble_L3': {'max_base_models': 25,\n",
              "   'max_base_models_per_type': 5,\n",
              "   'save_bag_folds': True,\n",
              "   'use_orig_features': False},\n",
              "  'XGBoost_BAG_L1': {'max_base_models': 25,\n",
              "   'max_base_models_per_type': 5,\n",
              "   'save_bag_folds': True,\n",
              "   'use_orig_features': True},\n",
              "  'XGBoost_BAG_L2': {'max_base_models': 25,\n",
              "   'max_base_models_per_type': 5,\n",
              "   'save_bag_folds': True,\n",
              "   'use_orig_features': True}},\n",
              " 'model_paths': {'CatBoost_BAG_L2': 'AutogluonModels/ag-20210719_203919/models/CatBoost_BAG_L2/',\n",
              "  'ExtraTreesMSE_BAG_L1': 'AutogluonModels/ag-20210719_203919/models/ExtraTreesMSE_BAG_L1/',\n",
              "  'ExtraTreesMSE_BAG_L2': 'AutogluonModels/ag-20210719_203919/models/ExtraTreesMSE_BAG_L2/',\n",
              "  'KNeighborsDist_BAG_L1': 'AutogluonModels/ag-20210719_203919/models/KNeighborsDist_BAG_L1/',\n",
              "  'KNeighborsDist_BAG_L2': 'AutogluonModels/ag-20210719_203919/models/KNeighborsDist_BAG_L2/',\n",
              "  'KNeighborsUnif_BAG_L1': 'AutogluonModels/ag-20210719_203919/models/KNeighborsUnif_BAG_L1/',\n",
              "  'KNeighborsUnif_BAG_L2': 'AutogluonModels/ag-20210719_203919/models/KNeighborsUnif_BAG_L2/',\n",
              "  'LightGBMLarge_BAG_L1': 'AutogluonModels/ag-20210719_203919/models/LightGBMLarge_BAG_L1/',\n",
              "  'LightGBMXT_BAG_L1': 'AutogluonModels/ag-20210719_203919/models/LightGBMXT_BAG_L1/',\n",
              "  'LightGBMXT_BAG_L2': 'AutogluonModels/ag-20210719_203919/models/LightGBMXT_BAG_L2/',\n",
              "  'LightGBM_BAG_L1': 'AutogluonModels/ag-20210719_203919/models/LightGBM_BAG_L1/',\n",
              "  'LightGBM_BAG_L2': 'AutogluonModels/ag-20210719_203919/models/LightGBM_BAG_L2/',\n",
              "  'NeuralNetFastAI_BAG_L2': 'AutogluonModels/ag-20210719_203919/models/NeuralNetFastAI_BAG_L2/',\n",
              "  'NeuralNetMXNet_BAG_L1': 'AutogluonModels/ag-20210719_203919/models/NeuralNetMXNet_BAG_L1/',\n",
              "  'RandomForestMSE_BAG_L1': 'AutogluonModels/ag-20210719_203919/models/RandomForestMSE_BAG_L1/',\n",
              "  'RandomForestMSE_BAG_L2': 'AutogluonModels/ag-20210719_203919/models/RandomForestMSE_BAG_L2/',\n",
              "  'WeightedEnsemble_L2': 'AutogluonModels/ag-20210719_203919/models/WeightedEnsemble_L2/',\n",
              "  'WeightedEnsemble_L3': 'AutogluonModels/ag-20210719_203919/models/WeightedEnsemble_L3/',\n",
              "  'XGBoost_BAG_L1': 'AutogluonModels/ag-20210719_203919/models/XGBoost_BAG_L1/',\n",
              "  'XGBoost_BAG_L2': 'AutogluonModels/ag-20210719_203919/models/XGBoost_BAG_L2/'},\n",
              " 'model_performance': {'CatBoost_BAG_L2': -33.18965486549529,\n",
              "  'ExtraTreesMSE_BAG_L1': -38.6820987051382,\n",
              "  'ExtraTreesMSE_BAG_L2': -33.5086400468011,\n",
              "  'KNeighborsDist_BAG_L1': -114.32384016331633,\n",
              "  'KNeighborsDist_BAG_L2': -35.57428197686153,\n",
              "  'KNeighborsUnif_BAG_L1': -119.28188449529962,\n",
              "  'KNeighborsUnif_BAG_L2': -35.57543366598918,\n",
              "  'LightGBMLarge_BAG_L1': -65.54960774468634,\n",
              "  'LightGBMXT_BAG_L1': -47.36040304979292,\n",
              "  'LightGBMXT_BAG_L2': -33.67368578817766,\n",
              "  'LightGBM_BAG_L1': -34.15558144049872,\n",
              "  'LightGBM_BAG_L2': -33.292664984780615,\n",
              "  'NeuralNetFastAI_BAG_L2': -32.773047325306415,\n",
              "  'NeuralNetMXNet_BAG_L1': -135.38751930112971,\n",
              "  'RandomForestMSE_BAG_L1': -38.91041582854093,\n",
              "  'RandomForestMSE_BAG_L2': -34.068912660739905,\n",
              "  'WeightedEnsemble_L2': -33.098973905899534,\n",
              "  'WeightedEnsemble_L3': -32.637710805467876,\n",
              "  'XGBoost_BAG_L1': -35.25521090382007,\n",
              "  'XGBoost_BAG_L2': -53.159014892314865},\n",
              " 'model_pred_times': {'CatBoost_BAG_L2': 0.04809212684631348,\n",
              "  'ExtraTreesMSE_BAG_L1': 0.4115610122680664,\n",
              "  'ExtraTreesMSE_BAG_L2': 0.48584675788879395,\n",
              "  'KNeighborsDist_BAG_L1': 0.20353412628173828,\n",
              "  'KNeighborsDist_BAG_L2': 3.751767158508301,\n",
              "  'KNeighborsUnif_BAG_L1': 0.20264863967895508,\n",
              "  'KNeighborsUnif_BAG_L2': 4.646209955215454,\n",
              "  'LightGBMLarge_BAG_L1': 0.09607172012329102,\n",
              "  'LightGBMXT_BAG_L1': 7.587981700897217,\n",
              "  'LightGBMXT_BAG_L2': 0.18285608291625977,\n",
              "  'LightGBM_BAG_L1': 1.4181883335113525,\n",
              "  'LightGBM_BAG_L2': 0.10338759422302246,\n",
              "  'NeuralNetFastAI_BAG_L2': 0.3803994655609131,\n",
              "  'NeuralNetMXNet_BAG_L1': 1.827214002609253,\n",
              "  'RandomForestMSE_BAG_L1': 0.4328453540802002,\n",
              "  'RandomForestMSE_BAG_L2': 0.4858996868133545,\n",
              "  'WeightedEnsemble_L2': 0.0013484954833984375,\n",
              "  'WeightedEnsemble_L3': 0.0011985301971435547,\n",
              "  'XGBoost_BAG_L1': 0.29755377769470215,\n",
              "  'XGBoost_BAG_L2': 0.1379683017730713},\n",
              " 'model_types': {'CatBoost_BAG_L2': 'StackerEnsembleModel_CatBoost',\n",
              "  'ExtraTreesMSE_BAG_L1': 'StackerEnsembleModel_XT',\n",
              "  'ExtraTreesMSE_BAG_L2': 'StackerEnsembleModel_XT',\n",
              "  'KNeighborsDist_BAG_L1': 'StackerEnsembleModel_KNN',\n",
              "  'KNeighborsDist_BAG_L2': 'StackerEnsembleModel_KNN',\n",
              "  'KNeighborsUnif_BAG_L1': 'StackerEnsembleModel_KNN',\n",
              "  'KNeighborsUnif_BAG_L2': 'StackerEnsembleModel_KNN',\n",
              "  'LightGBMLarge_BAG_L1': 'StackerEnsembleModel_LGB',\n",
              "  'LightGBMXT_BAG_L1': 'StackerEnsembleModel_LGB',\n",
              "  'LightGBMXT_BAG_L2': 'StackerEnsembleModel_LGB',\n",
              "  'LightGBM_BAG_L1': 'StackerEnsembleModel_LGB',\n",
              "  'LightGBM_BAG_L2': 'StackerEnsembleModel_LGB',\n",
              "  'NeuralNetFastAI_BAG_L2': 'StackerEnsembleModel_NNFastAiTabular',\n",
              "  'NeuralNetMXNet_BAG_L1': 'StackerEnsembleModel_TabularNeuralNet',\n",
              "  'RandomForestMSE_BAG_L1': 'StackerEnsembleModel_RF',\n",
              "  'RandomForestMSE_BAG_L2': 'StackerEnsembleModel_RF',\n",
              "  'WeightedEnsemble_L2': 'WeightedEnsembleModel',\n",
              "  'WeightedEnsemble_L3': 'WeightedEnsembleModel',\n",
              "  'XGBoost_BAG_L1': 'StackerEnsembleModel_XGBoost',\n",
              "  'XGBoost_BAG_L2': 'StackerEnsembleModel_XGBoost'},\n",
              " 'num_bag_folds': 10}"
            ]
          },
          "metadata": {
            "tags": []
          },
          "execution_count": 17
        }
      ]
    },
    {
      "cell_type": "code",
      "metadata": {
        "id": "KmgooU5gI-fM",
        "colab": {
          "base_uri": "https://localhost:8080/"
        },
        "outputId": "9f65fd22-6f9f-4a2d-e881-0d97f04759b5"
      },
      "source": [
        "# Remember to set all negative values to zero\n",
        "\n",
        "predictions = predictor_new_features.predict(test)\n",
        "predictions.head()\n"
      ],
      "execution_count": 18,
      "outputs": [
        {
          "output_type": "execute_result",
          "data": {
            "text/plain": [
              "0    21.786528\n",
              "1     5.899507\n",
              "2     4.712818\n",
              "3     4.535108\n",
              "4     4.625654\n",
              "Name: count, dtype: float32"
            ]
          },
          "metadata": {
            "tags": []
          },
          "execution_count": 18
        }
      ]
    },
    {
      "cell_type": "code",
      "metadata": {
        "id": "fvObdbdlI-fN",
        "colab": {
          "base_uri": "https://localhost:8080/"
        },
        "outputId": "a51c155a-a49c-4081-e966-5d3d65f95a81"
      },
      "source": [
        "# How many negative values do we have?\n",
        "count = 0\n",
        "for row in predictions:\n",
        "    if row < 0:\n",
        "        count=count+1\n",
        "        \n",
        "print(count) "
      ],
      "execution_count": 19,
      "outputs": [
        {
          "output_type": "stream",
          "text": [
            "5\n"
          ],
          "name": "stdout"
        }
      ]
    },
    {
      "cell_type": "code",
      "metadata": {
        "id": "uxxrzku2I-fN",
        "colab": {
          "base_uri": "https://localhost:8080/"
        },
        "outputId": "e9063e0e-bc20-4dae-da45-c754d77b50e0"
      },
      "source": [
        "# Set them to zero\n",
        "for i, row in enumerate(predictions):\n",
        "    if row < 0:\n",
        "            predictions[i] = row * -1\n",
        "        \n",
        "predictions.describe()    "
      ],
      "execution_count": 20,
      "outputs": [
        {
          "output_type": "execute_result",
          "data": {
            "text/plain": [
              "count    6493.000000\n",
              "mean      188.276932\n",
              "std       171.169952\n",
              "min         0.066338\n",
              "25%        46.770039\n",
              "50%       146.970428\n",
              "75%       276.312469\n",
              "max       883.591675\n",
              "Name: count, dtype: float64"
            ]
          },
          "metadata": {
            "tags": []
          },
          "execution_count": 20
        }
      ]
    },
    {
      "cell_type": "code",
      "metadata": {
        "id": "fAis7AtYI-fO",
        "colab": {
          "base_uri": "https://localhost:8080/",
          "height": 195
        },
        "outputId": "4c14ac50-203b-4683-f976-3c41a8699545"
      },
      "source": [
        "# Same thing as train and test dataset\n",
        "submission_new_features = pd.read_csv('sampleSubmission.csv', parse_dates = ['datetime'])\n",
        "submission_new_features.head()"
      ],
      "execution_count": 21,
      "outputs": [
        {
          "output_type": "execute_result",
          "data": {
            "text/html": [
              "<div>\n",
              "<style scoped>\n",
              "    .dataframe tbody tr th:only-of-type {\n",
              "        vertical-align: middle;\n",
              "    }\n",
              "\n",
              "    .dataframe tbody tr th {\n",
              "        vertical-align: top;\n",
              "    }\n",
              "\n",
              "    .dataframe thead th {\n",
              "        text-align: right;\n",
              "    }\n",
              "</style>\n",
              "<table border=\"1\" class=\"dataframe\">\n",
              "  <thead>\n",
              "    <tr style=\"text-align: right;\">\n",
              "      <th></th>\n",
              "      <th>datetime</th>\n",
              "      <th>count</th>\n",
              "    </tr>\n",
              "  </thead>\n",
              "  <tbody>\n",
              "    <tr>\n",
              "      <th>0</th>\n",
              "      <td>2011-01-20 00:00:00</td>\n",
              "      <td>0</td>\n",
              "    </tr>\n",
              "    <tr>\n",
              "      <th>1</th>\n",
              "      <td>2011-01-20 01:00:00</td>\n",
              "      <td>0</td>\n",
              "    </tr>\n",
              "    <tr>\n",
              "      <th>2</th>\n",
              "      <td>2011-01-20 02:00:00</td>\n",
              "      <td>0</td>\n",
              "    </tr>\n",
              "    <tr>\n",
              "      <th>3</th>\n",
              "      <td>2011-01-20 03:00:00</td>\n",
              "      <td>0</td>\n",
              "    </tr>\n",
              "    <tr>\n",
              "      <th>4</th>\n",
              "      <td>2011-01-20 04:00:00</td>\n",
              "      <td>0</td>\n",
              "    </tr>\n",
              "  </tbody>\n",
              "</table>\n",
              "</div>"
            ],
            "text/plain": [
              "             datetime  count\n",
              "0 2011-01-20 00:00:00      0\n",
              "1 2011-01-20 01:00:00      0\n",
              "2 2011-01-20 02:00:00      0\n",
              "3 2011-01-20 03:00:00      0\n",
              "4 2011-01-20 04:00:00      0"
            ]
          },
          "metadata": {
            "tags": []
          },
          "execution_count": 21
        }
      ]
    },
    {
      "cell_type": "code",
      "metadata": {
        "id": "LJZ4f1FkI-fO"
      },
      "source": [
        "# Same submitting predictions\n",
        "submission_new_features[\"count\"] = predictions\n",
        "submission_new_features.to_csv(\"submission_new_features.csv\", index=False)"
      ],
      "execution_count": 25,
      "outputs": []
    },
    {
      "cell_type": "code",
      "metadata": {
        "id": "klDPPct2I-fP",
        "colab": {
          "base_uri": "https://localhost:8080/"
        },
        "outputId": "3d100701-120b-4039-9762-e9874b7404f5"
      },
      "source": [
        "!kaggle competitions submit -c bike-sharing-demand -f submission_new_features.csv -m \"new features\""
      ],
      "execution_count": 26,
      "outputs": [
        {
          "output_type": "stream",
          "text": [
            "Warning: Looks like you're using an outdated API Version, please consider updating (server 1.5.12 / client 1.5.4)\n",
            "100% 188k/188k [00:01<00:00, 100kB/s]\n",
            "Successfully submitted to Bike Sharing Demand"
          ],
          "name": "stdout"
        }
      ]
    },
    {
      "cell_type": "code",
      "metadata": {
        "id": "qN8fJYrlI-fP",
        "colab": {
          "base_uri": "https://localhost:8080/"
        },
        "outputId": "c5a022fa-edd0-4771-a065-1fa35c6f8cc2"
      },
      "source": [
        "!kaggle competitions submissions -c bike-sharing-demand | tail -n +1 | head -n 6"
      ],
      "execution_count": 27,
      "outputs": [
        {
          "output_type": "stream",
          "text": [
            "Warning: Looks like you're using an outdated API Version, please consider updating (server 1.5.12 / client 1.5.4)\n",
            "fileName                     date                 description           status    publicScore  privateScore  \n",
            "---------------------------  -------------------  --------------------  --------  -----------  ------------  \n",
            "submission_new_features.csv  2021-07-19 21:15:05  new features          complete  0.45386      0.45386       \n",
            "submission.csv               2021-07-19 19:16:51  first raw submission  complete  1.34880      1.34880       \n",
            "submission_new_features.csv  2021-07-15 01:43:24  new features          complete  0.44653      0.44653       \n"
          ],
          "name": "stdout"
        }
      ]
    },
    {
      "cell_type": "markdown",
      "metadata": {
        "id": "MpGNsZhkI-fP"
      },
      "source": [
        "#### New Score of `?`"
      ]
    },
    {
      "cell_type": "markdown",
      "metadata": {
        "id": "vTngjkCEI-fQ"
      },
      "source": [
        "## Step 6: Hyper parameter optimization\n",
        "* There are many options for hyper parameter optimization.\n",
        "* Options are to change the AutoGluon higher level parameters or the individual model hyperparameters.\n",
        "* The hyperparameters of the models themselves that are in AutoGluon. Those need the `hyperparameter` and `hyperparameter_tune_kwargs` arguments."
      ]
    },
    {
      "cell_type": "code",
      "metadata": {
        "id": "Q15jxCr_I-fQ",
        "colab": {
          "base_uri": "https://localhost:8080/",
          "height": 1000,
          "referenced_widgets": [
            "c2df6c420a21470eaaadc04008a315e5",
            "c000dc1e4ea147f89bf00579f99667b6",
            "031e316342df439e91f93133a736d7a4",
            "abfb6577dc1147da9971cb05c613f2d8",
            "9fcb992f33d7424bb01d2ec8eadc5ac0",
            "83a5df1570f24f8d9a6ec46e4788c9d6",
            "7a8ebb3306524be382a36b637c8c93d8",
            "ad3ed8468cfb4479b1e9f79eea0fd126",
            "df80c54610924ea68991bbafcd7f41f1",
            "3863563b8d514c5f856536befc0bd34e",
            "24cbc210b80e41c7b348d0518067e28d",
            "6dcbfe38db6849c48291584f58e122df",
            "dd8504e3d4534607bbd8fcbcd046f43a",
            "8e500f2eeabb4fc98a7c1f7e38e00994",
            "1a3e56c208dc4a15bda24645ef12f4d7",
            "94944cd21c9b4af8af3599c3d1182726",
            "020cfc7958b748a687cfb4020fcdc7d2",
            "5728906f4f3541578820b6d487c9f950",
            "88e771f40b6c430c9c982f9b94e56ac5",
            "5b4037f261644a7182bd5655092cac5c",
            "f455056febb24dba86edd492a30d7bf4",
            "450db414ef3543bcb08994f7286e6fee",
            "64a513977b214469bbf326dcb3429ac6",
            "8d042fd8adf44a46b306dd35fcde2bbc",
            "f1174067137b438087db0b9db20bda0a",
            "c85813c771614456b6cfdbf4823a71c2",
            "812ca2b77d314833906fd96d5887c79a",
            "60cb26d36f0c4103bdf0b5c1a696e9a1",
            "a829d900801947e9819fe56f75c04eb2",
            "7f9d925ca04c46208b5f02b9f65188d6",
            "5a37aa664cf043faaa92738bc334acc3",
            "5b66a10f9a9a4bf7b4d5ea4574977003"
          ]
        },
        "outputId": "be5b368c-aacd-428f-d488-f3f65dc1d5b0"
      },
      "source": [
        "import autogluon.core as ag\n",
        "#import autogluon.tabular.TabularPrediction\n",
        "#import TabularPrediction as task\n",
        "\n",
        "num_trials = 5  # try at most 5 different hyperparameter configurations for each type of model\n",
        "search_strategy = 'auto' \n",
        "\n",
        "nn_options = {  # specifies non-default hyperparameter values for neural network models\n",
        "    'num_epochs': 10,  # number of training epochs (controls training time of NN models)\n",
        "    'learning_rate': ag.space.Real(1e-4, 1e-2, default=5e-4, log=True),  # learning rate used in training (real-valued hyperparameter searched on log-scale)\n",
        "    'activation': ag.space.Categorical('relu', 'softrelu', 'tanh'),  # activation function used in NN (categorical hyperparameter, default = first entry)\n",
        "    'layers': ag.space.Categorical([100], [1000], [200, 100], [300, 200, 100]),  # each choice for categorical hyperparameter 'layers' corresponds to list of sizes for each NN layer to use\n",
        "    'dropout_prob': ag.space.Real(0.0, 0.5, default=0.1),  # dropout probability (real-valued hyperparameter)\n",
        "}\n",
        "\n",
        "gbm_options = {  # specifies non-default hyperparameter values for lightGBM gradient boosted trees\n",
        "    'num_boost_round': 100,  # number of boosting rounds (controls training time of GBM models)\n",
        "    'num_leaves': ag.space.Int(lower=26, upper=66, default=36),  # number of leaves in trees (integer hyperparameter)\n",
        "}\n",
        "\n",
        "\n",
        "hyperparameters = {  # hyperparameters of each model type\n",
        "                   'GBM': gbm_options,\n",
        "                   'NN': nn_options, \n",
        "                  } \n",
        "\n",
        "hyperparameter_tune_kwargs = {  # HPO is not performed unless hyperparameter_tune_kwargs is specified\n",
        "    'num_trials': num_trials,\n",
        "    'scheduler' : 'local',\n",
        "    'searcher': search_strategy,\n",
        "}                  \n",
        "\n",
        "\n",
        "predictor_new_hpo = TabularPredictor(label='count', eval_metric=eval_metric).fit(train, presets='best_quality', time_limit=600, hyperparameters=hyperparameters, hyperparameter_tune_kwargs=hyperparameter_tune_kwargs)\n",
        "#predictor_new_hpo = task.fit(train_data=train, label='count',\n",
        "#                     time_limits=600, eval_metric=eval_metric, \n",
        "#                     hyperparameters=hyperparameters, hyperparameter_tune_kwargs=hyperparameter_tune_kwargs, \n",
        "#                     presets='best_quality')"
      ],
      "execution_count": 32,
      "outputs": [
        {
          "output_type": "stream",
          "text": [
            "No path specified. Models will be saved in: \"AutogluonModels/ag-20210719_213239/\"\n",
            "Presets specified: ['best_quality']\n",
            "Warning: hyperparameter tuning is currently experimental and may cause the process to hang.\n",
            "Beginning AutoGluon training ... Time limit = 600s\n",
            "AutoGluon will save models to \"AutogluonModels/ag-20210719_213239/\"\n",
            "AutoGluon Version:  0.2.0\n",
            "Train Data Rows:    10886\n",
            "Train Data Columns: 13\n",
            "Preprocessing data ...\n",
            "AutoGluon infers your prediction problem is: 'regression' (because dtype of label-column == int and many unique label-values observed).\n",
            "\tLabel info (max, min, mean, stddev): (977, 1, 191.57413, 181.14445)\n",
            "\tIf 'regression' is not the correct problem_type, please manually specify the problem_type argument in fit() (You may specify problem_type as one of: ['binary', 'multiclass', 'regression'])\n",
            "Using Feature Generators to preprocess the data ...\n",
            "Fitting AutoMLPipelineFeatureGenerator...\n",
            "\tAvailable Memory:                    11184.3 MB\n",
            "\tTrain Data (Original)  Memory Usage: 0.98 MB (0.0% of available memory)\n",
            "\tInferring data type of each feature based on column values. Set feature_metadata_in to manually specify special dtypes of the features.\n",
            "\tStage 1 Generators:\n",
            "\t\tFitting AsTypeFeatureGenerator...\n",
            "\tStage 2 Generators:\n",
            "\t\tFitting FillNaFeatureGenerator...\n",
            "\tStage 3 Generators:\n",
            "\t\tFitting IdentityFeatureGenerator...\n",
            "\t\tFitting CategoryFeatureGenerator...\n",
            "\t\t\tFitting CategoryMemoryMinimizeFeatureGenerator...\n",
            "\tStage 4 Generators:\n",
            "\t\tFitting DropUniqueFeatureGenerator...\n",
            "\tTypes of features in original data (raw dtype, special dtypes):\n",
            "\t\t('category', []) : 2 | ['season', 'weather']\n",
            "\t\t('float', [])    : 3 | ['temp', 'atemp', 'windspeed']\n",
            "\t\t('int', [])      : 8 | ['holiday', 'workingday', 'humidity', 'year', 'month', ...]\n",
            "\tTypes of features in processed data (raw dtype, special dtypes):\n",
            "\t\t('category', []) : 2 | ['season', 'weather']\n",
            "\t\t('float', [])    : 3 | ['temp', 'atemp', 'windspeed']\n",
            "\t\t('int', [])      : 8 | ['holiday', 'workingday', 'humidity', 'year', 'month', ...]\n",
            "\t0.1s = Fit runtime\n",
            "\t13 features in original data used to generate 13 features in processed data.\n",
            "\tTrain Data (Processed) Memory Usage: 0.98 MB (0.0% of available memory)\n",
            "Data preprocessing and feature engineering runtime = 0.16s ...\n",
            "AutoGluon will gauge predictive performance using evaluation metric: 'root_mean_squared_error'\n",
            "\tTo change this, specify the eval_metric argument of fit()\n",
            "Hyperparameter tuning model: LightGBM_BAG_L1 ...\n"
          ],
          "name": "stderr"
        },
        {
          "output_type": "display_data",
          "data": {
            "application/vnd.jupyter.widget-view+json": {
              "model_id": "c2df6c420a21470eaaadc04008a315e5",
              "version_minor": 0,
              "version_major": 2
            },
            "text/plain": [
              "HBox(children=(FloatProgress(value=0.0, max=5.0), HTML(value='')))"
            ]
          },
          "metadata": {
            "tags": []
          }
        },
        {
          "output_type": "stream",
          "text": [
            "Fitted model: LightGBM_BAG_L1/T0 ...\n",
            "\t-41.553\t = Validation root_mean_squared_error score\n",
            "\t0.32s\t = Training runtime\n",
            "\t0.01s\t = Validation runtime\n",
            "Fitted model: LightGBM_BAG_L1/T1 ...\n",
            "\t-39.3542\t = Validation root_mean_squared_error score\n",
            "\t0.31s\t = Training runtime\n",
            "\t0.02s\t = Validation runtime\n",
            "Fitted model: LightGBM_BAG_L1/T2 ...\n",
            "\t-88.7428\t = Validation root_mean_squared_error score\n",
            "\t0.35s\t = Training runtime\n",
            "\t0.01s\t = Validation runtime\n",
            "Fitted model: LightGBM_BAG_L1/T3 ...\n",
            "\t-42.8682\t = Validation root_mean_squared_error score\n",
            "\t0.33s\t = Training runtime\n",
            "\t0.01s\t = Validation runtime\n"
          ],
          "name": "stderr"
        },
        {
          "output_type": "stream",
          "text": [
            "\n"
          ],
          "name": "stdout"
        },
        {
          "output_type": "stream",
          "text": [
            "Fitted model: LightGBM_BAG_L1/T4 ...\n",
            "\t-36.98\t = Validation root_mean_squared_error score\n",
            "\t0.34s\t = Training runtime\n",
            "\t0.01s\t = Validation runtime\n",
            "Hyperparameter tuning model: NeuralNetMXNet_BAG_L1 ...\n"
          ],
          "name": "stderr"
        },
        {
          "output_type": "display_data",
          "data": {
            "application/vnd.jupyter.widget-view+json": {
              "model_id": "df80c54610924ea68991bbafcd7f41f1",
              "version_minor": 0,
              "version_major": 2
            },
            "text/plain": [
              "HBox(children=(FloatProgress(value=0.0, max=5.0), HTML(value='')))"
            ]
          },
          "metadata": {
            "tags": []
          }
        },
        {
          "output_type": "stream",
          "text": [
            "\tTime limit exceeded\n",
            "Fitted model: NeuralNetMXNet_BAG_L1/T0 ...\n",
            "\t-110.5277\t = Validation root_mean_squared_error score\n",
            "\t8.97s\t = Training runtime\n",
            "\t0.05s\t = Validation runtime\n",
            "Fitting model: LightGBM_BAG_L1/T0 ... Training model for up to 386.43s of the 586.47s of remaining time.\n"
          ],
          "name": "stderr"
        },
        {
          "output_type": "stream",
          "text": [
            "\n"
          ],
          "name": "stdout"
        },
        {
          "output_type": "stream",
          "text": [
            "\t-41.8529\t = Validation root_mean_squared_error score\n",
            "\t2.98s\t = Training runtime\n",
            "\t0.11s\t = Validation runtime\n",
            "Fitting model: LightGBM_BAG_L1/T1 ... Training model for up to 383.55s of the 583.59s of remaining time.\n",
            "\t-39.6103\t = Validation root_mean_squared_error score\n",
            "\t3.26s\t = Training runtime\n",
            "\t0.12s\t = Validation runtime\n",
            "Fitting model: LightGBM_BAG_L1/T2 ... Training model for up to 380.33s of the 580.37s of remaining time.\n",
            "\t-89.6454\t = Validation root_mean_squared_error score\n",
            "\t3.28s\t = Training runtime\n",
            "\t0.1s\t = Validation runtime\n",
            "Fitting model: LightGBM_BAG_L1/T3 ... Training model for up to 377.13s of the 577.17s of remaining time.\n",
            "\t-43.2126\t = Validation root_mean_squared_error score\n",
            "\t3.09s\t = Training runtime\n",
            "\t0.11s\t = Validation runtime\n",
            "Fitting model: LightGBM_BAG_L1/T4 ... Training model for up to 374.12s of the 574.16s of remaining time.\n",
            "\t-37.0351\t = Validation root_mean_squared_error score\n",
            "\t3.18s\t = Training runtime\n",
            "\t0.12s\t = Validation runtime\n",
            "Fitting model: NeuralNetMXNet_BAG_L1/T0 ... Training model for up to 371.0s of the 571.05s of remaining time.\n",
            "\t-109.7281\t = Validation root_mean_squared_error score\n",
            "\t70.74s\t = Training runtime\n",
            "\t1.7s\t = Validation runtime\n",
            "Repeating k-fold bagging: 2/20\n",
            "Fitting model: LightGBM_BAG_L1/T0 ... Training model for up to 307.53s of the 507.57s of remaining time.\n",
            "\t-41.6378\t = Validation root_mean_squared_error score\n",
            "\t5.76s\t = Training runtime\n",
            "\t0.22s\t = Validation runtime\n",
            "Fitting model: LightGBM_BAG_L1/T1 ... Training model for up to 304.5s of the 504.55s of remaining time.\n",
            "\t-39.2718\t = Validation root_mean_squared_error score\n",
            "\t6.33s\t = Training runtime\n",
            "\t0.23s\t = Validation runtime\n",
            "Fitting model: LightGBM_BAG_L1/T2 ... Training model for up to 301.15s of the 501.19s of remaining time.\n",
            "\t-89.6058\t = Validation root_mean_squared_error score\n",
            "\t6.41s\t = Training runtime\n",
            "\t0.2s\t = Validation runtime\n",
            "Fitting model: LightGBM_BAG_L1/T3 ... Training model for up to 297.73s of the 497.77s of remaining time.\n",
            "\t-42.9102\t = Validation root_mean_squared_error score\n",
            "\t6.13s\t = Training runtime\n",
            "\t0.21s\t = Validation runtime\n",
            "Fitting model: LightGBM_BAG_L1/T4 ... Training model for up to 294.41s of the 494.46s of remaining time.\n",
            "\t-36.6501\t = Validation root_mean_squared_error score\n",
            "\t6.34s\t = Training runtime\n",
            "\t0.23s\t = Validation runtime\n",
            "Fitting model: NeuralNetMXNet_BAG_L1/T0 ... Training model for up to 290.96s of the 491.0s of remaining time.\n",
            "\t-109.0572\t = Validation root_mean_squared_error score\n",
            "\t139.17s\t = Training runtime\n",
            "\t3.53s\t = Validation runtime\n",
            "Repeating k-fold bagging: 3/20\n",
            "Fitting model: LightGBM_BAG_L1/T0 ... Training model for up to 220.65s of the 420.69s of remaining time.\n",
            "\t-41.4747\t = Validation root_mean_squared_error score\n",
            "\t8.53s\t = Training runtime\n",
            "\t0.32s\t = Validation runtime\n",
            "Fitting model: LightGBM_BAG_L1/T1 ... Training model for up to 217.65s of the 417.69s of remaining time.\n",
            "\t-39.1128\t = Validation root_mean_squared_error score\n",
            "\t9.43s\t = Training runtime\n",
            "\t0.34s\t = Validation runtime\n",
            "Fitting model: LightGBM_BAG_L1/T2 ... Training model for up to 214.26s of the 414.3s of remaining time.\n",
            "\t-89.5153\t = Validation root_mean_squared_error score\n",
            "\t9.57s\t = Training runtime\n",
            "\t0.3s\t = Validation runtime\n",
            "Fitting model: LightGBM_BAG_L1/T3 ... Training model for up to 210.81s of the 410.86s of remaining time.\n",
            "\t-42.7196\t = Validation root_mean_squared_error score\n",
            "\t9.2s\t = Training runtime\n",
            "\t0.32s\t = Validation runtime\n",
            "Fitting model: LightGBM_BAG_L1/T4 ... Training model for up to 207.45s of the 407.5s of remaining time.\n",
            "\t-36.5161\t = Validation root_mean_squared_error score\n",
            "\t9.68s\t = Training runtime\n",
            "\t0.35s\t = Validation runtime\n",
            "Fitting model: NeuralNetMXNet_BAG_L1/T0 ... Training model for up to 203.78s of the 403.83s of remaining time.\n",
            "\t-108.7157\t = Validation root_mean_squared_error score\n",
            "\t207.9s\t = Training runtime\n",
            "\t5.35s\t = Validation runtime\n",
            "Repeating k-fold bagging: 4/20\n",
            "Fitting model: LightGBM_BAG_L1/T0 ... Training model for up to 133.18s of the 333.23s of remaining time.\n",
            "\t-41.4722\t = Validation root_mean_squared_error score\n",
            "\t11.42s\t = Training runtime\n",
            "\t0.43s\t = Validation runtime\n",
            "Fitting model: LightGBM_BAG_L1/T1 ... Training model for up to 130.03s of the 330.08s of remaining time.\n",
            "\t-39.099\t = Validation root_mean_squared_error score\n",
            "\t12.68s\t = Training runtime\n",
            "\t0.46s\t = Validation runtime\n",
            "Fitting model: LightGBM_BAG_L1/T2 ... Training model for up to 126.48s of the 326.52s of remaining time.\n",
            "\t-89.5073\t = Validation root_mean_squared_error score\n",
            "\t12.87s\t = Training runtime\n",
            "\t0.41s\t = Validation runtime\n",
            "Fitting model: LightGBM_BAG_L1/T3 ... Training model for up to 122.84s of the 322.88s of remaining time.\n",
            "\t-42.7191\t = Validation root_mean_squared_error score\n",
            "\t12.48s\t = Training runtime\n",
            "\t0.43s\t = Validation runtime\n",
            "Fitting model: LightGBM_BAG_L1/T4 ... Training model for up to 119.26s of the 319.31s of remaining time.\n",
            "\t-36.441\t = Validation root_mean_squared_error score\n",
            "\t13.03s\t = Training runtime\n",
            "\t0.47s\t = Validation runtime\n",
            "Fitting model: NeuralNetMXNet_BAG_L1/T0 ... Training model for up to 115.59s of the 315.63s of remaining time.\n",
            "\t-107.9058\t = Validation root_mean_squared_error score\n",
            "\t276.16s\t = Training runtime\n",
            "\t7.15s\t = Validation runtime\n",
            "Completed 4/20 k-fold bagging repeats ...\n",
            "Fitting model: WeightedEnsemble_L2 ... Training model for up to 360.0s of the 245.5s of remaining time.\n",
            "\t-36.441\t = Validation root_mean_squared_error score\n",
            "\t0.65s\t = Training runtime\n",
            "\t0.0s\t = Validation runtime\n",
            "Hyperparameter tuning model: LightGBM_BAG_L2 ...\n"
          ],
          "name": "stderr"
        },
        {
          "output_type": "display_data",
          "data": {
            "application/vnd.jupyter.widget-view+json": {
              "model_id": "020cfc7958b748a687cfb4020fcdc7d2",
              "version_minor": 0,
              "version_major": 2
            },
            "text/plain": [
              "HBox(children=(FloatProgress(value=0.0, max=5.0), HTML(value='')))"
            ]
          },
          "metadata": {
            "tags": []
          }
        },
        {
          "output_type": "stream",
          "text": [
            "Fitted model: LightGBM_BAG_L2/T0 ...\n",
            "\t-37.8647\t = Validation root_mean_squared_error score\n",
            "\t0.33s\t = Training runtime\n",
            "\t0.01s\t = Validation runtime\n",
            "Fitted model: LightGBM_BAG_L2/T1 ...\n",
            "\t-54.4295\t = Validation root_mean_squared_error score\n",
            "\t0.39s\t = Training runtime\n",
            "\t0.01s\t = Validation runtime\n",
            "Fitted model: LightGBM_BAG_L2/T2 ...\n",
            "\t-37.5699\t = Validation root_mean_squared_error score\n",
            "\t0.32s\t = Training runtime\n",
            "\t0.01s\t = Validation runtime\n",
            "Fitted model: LightGBM_BAG_L2/T3 ...\n",
            "\t-112.0108\t = Validation root_mean_squared_error score\n",
            "\t0.32s\t = Training runtime\n",
            "\t0.01s\t = Validation runtime\n",
            "Fitted model: LightGBM_BAG_L2/T4 ...\n",
            "\t-37.5912\t = Validation root_mean_squared_error score\n",
            "\t0.38s\t = Training runtime\n",
            "\t0.01s\t = Validation runtime\n",
            "Hyperparameter tuning model: NeuralNetMXNet_BAG_L2 ...\n"
          ],
          "name": "stderr"
        },
        {
          "output_type": "stream",
          "text": [
            "\n"
          ],
          "name": "stdout"
        },
        {
          "output_type": "display_data",
          "data": {
            "application/vnd.jupyter.widget-view+json": {
              "model_id": "f1174067137b438087db0b9db20bda0a",
              "version_minor": 0,
              "version_major": 2
            },
            "text/plain": [
              "HBox(children=(FloatProgress(value=0.0, max=5.0), HTML(value='')))"
            ]
          },
          "metadata": {
            "tags": []
          }
        },
        {
          "output_type": "stream",
          "text": [
            "\tRan out of time, stopping training early. (Stopping on epoch 7)\n",
            "\tTime limit exceeded\n",
            "Fitted model: NeuralNetMXNet_BAG_L2/T0 ...\n",
            "\t-48.5093\t = Validation root_mean_squared_error score\n",
            "\t7.26s\t = Training runtime\n",
            "\t0.05s\t = Validation runtime\n",
            "Fitting model: LightGBM_BAG_L2/T0 ... Training model for up to 233.39s of the 233.38s of remaining time.\n"
          ],
          "name": "stderr"
        },
        {
          "output_type": "stream",
          "text": [
            "\n"
          ],
          "name": "stdout"
        },
        {
          "output_type": "stream",
          "text": [
            "\t-36.0152\t = Validation root_mean_squared_error score\n",
            "\t3.57s\t = Training runtime\n",
            "\t0.1s\t = Validation runtime\n",
            "Fitting model: LightGBM_BAG_L2/T1 ... Training model for up to 229.95s of the 229.94s of remaining time.\n",
            "\t-54.3201\t = Validation root_mean_squared_error score\n",
            "\t4.31s\t = Training runtime\n",
            "\t0.11s\t = Validation runtime\n",
            "Fitting model: LightGBM_BAG_L2/T2 ... Training model for up to 225.75s of the 225.74s of remaining time.\n",
            "\t-36.2036\t = Validation root_mean_squared_error score\n",
            "\t3.57s\t = Training runtime\n",
            "\t0.1s\t = Validation runtime\n",
            "Fitting model: LightGBM_BAG_L2/T3 ... Training model for up to 222.3s of the 222.3s of remaining time.\n",
            "\t-113.6559\t = Validation root_mean_squared_error score\n",
            "\t3.42s\t = Training runtime\n",
            "\t0.1s\t = Validation runtime\n",
            "Fitting model: LightGBM_BAG_L2/T4 ... Training model for up to 219.01s of the 219.0s of remaining time.\n",
            "\t-36.0251\t = Validation root_mean_squared_error score\n",
            "\t4.18s\t = Training runtime\n",
            "\t0.11s\t = Validation runtime\n",
            "Fitting model: NeuralNetMXNet_BAG_L2/T0 ... Training model for up to 214.95s of the 214.95s of remaining time.\n",
            "\t-49.727\t = Validation root_mean_squared_error score\n",
            "\t70.24s\t = Training runtime\n",
            "\t1.74s\t = Validation runtime\n",
            "Repeating k-fold bagging: 2/20\n",
            "Fitting model: LightGBM_BAG_L2/T0 ... Training model for up to 150.23s of the 150.22s of remaining time.\n",
            "\t-35.8589\t = Validation root_mean_squared_error score\n",
            "\t7.0s\t = Training runtime\n",
            "\t0.2s\t = Validation runtime\n",
            "Fitting model: LightGBM_BAG_L2/T1 ... Training model for up to 146.57s of the 146.56s of remaining time.\n",
            "\t-54.2008\t = Validation root_mean_squared_error score\n",
            "\t8.37s\t = Training runtime\n",
            "\t0.21s\t = Validation runtime\n",
            "Fitting model: LightGBM_BAG_L2/T2 ... Training model for up to 142.2s of the 142.2s of remaining time.\n",
            "\t-36.0118\t = Validation root_mean_squared_error score\n",
            "\t6.94s\t = Training runtime\n",
            "\t0.19s\t = Validation runtime\n",
            "Fitting model: LightGBM_BAG_L2/T3 ... Training model for up to 138.62s of the 138.61s of remaining time.\n",
            "\t-113.6584\t = Validation root_mean_squared_error score\n",
            "\t6.64s\t = Training runtime\n",
            "\t0.19s\t = Validation runtime\n",
            "Fitting model: LightGBM_BAG_L2/T4 ... Training model for up to 135.22s of the 135.21s of remaining time.\n",
            "\t-35.9007\t = Validation root_mean_squared_error score\n",
            "\t8.14s\t = Training runtime\n",
            "\t0.21s\t = Validation runtime\n",
            "Fitting model: NeuralNetMXNet_BAG_L2/T0 ... Training model for up to 131.0s of the 131.0s of remaining time.\n",
            "\t-47.8626\t = Validation root_mean_squared_error score\n",
            "\t140.23s\t = Training runtime\n",
            "\t3.65s\t = Validation runtime\n",
            "Completed 2/20 k-fold bagging repeats ...\n",
            "Fitting model: WeightedEnsemble_L3 ... Training model for up to 360.0s of the 59.03s of remaining time.\n",
            "\t-35.7702\t = Validation root_mean_squared_error score\n",
            "\t0.63s\t = Training runtime\n",
            "\t0.0s\t = Validation runtime\n",
            "AutoGluon training complete, total runtime = 541.63s ...\n",
            "TabularPredictor saved. To load, use: predictor = TabularPredictor.load(\"AutogluonModels/ag-20210719_213239/\")\n"
          ],
          "name": "stderr"
        }
      ]
    },
    {
      "cell_type": "code",
      "metadata": {
        "id": "qMKHcr9lI-fR",
        "colab": {
          "base_uri": "https://localhost:8080/"
        },
        "outputId": "15f7b715-bbf7-44c1-9862-0425c72e00f6"
      },
      "source": [
        "predictor_new_hpo.fit_summary()"
      ],
      "execution_count": 33,
      "outputs": [
        {
          "output_type": "stream",
          "text": [
            "*** Summary of fit() ***\n",
            "Estimated performance of each model:\n",
            "                       model   score_val  pred_time_val    fit_time  pred_time_val_marginal  fit_time_marginal  stack_level  can_infer  fit_order\n",
            "0        WeightedEnsemble_L3  -35.770176      13.589649  501.605537                0.001124           0.629970            3       True         14\n",
            "1         LightGBM_BAG_L2/T0  -35.858929       9.542175  345.662129                0.197442           7.004616            2       True          8\n",
            "2         LightGBM_BAG_L2/T4  -35.900665       9.555377  346.797381                0.210644           8.139868            2       True         12\n",
            "3         LightGBM_BAG_L2/T2  -36.011801       9.534569  345.597438                0.189836           6.939925            2       True         10\n",
            "4         LightGBM_BAG_L1/T4  -36.440973       0.468672   13.030863                0.468672          13.030863            1       True          5\n",
            "5        WeightedEnsemble_L2  -36.440973       0.469856   13.684737                0.001184           0.653875            2       True          7\n",
            "6         LightGBM_BAG_L1/T1  -39.098969       0.462898   12.684453                0.462898          12.684453            1       True          2\n",
            "7         LightGBM_BAG_L1/T0  -41.472234       0.428933   11.424914                0.428933          11.424914            1       True          1\n",
            "8         LightGBM_BAG_L1/T3  -42.719058       0.430320   12.479959                0.430320          12.479959            1       True          4\n",
            "9   NeuralNetMXNet_BAG_L2/T0  -47.862588      12.990604  478.891158                3.645871         140.233645            2       True         13\n",
            "10        LightGBM_BAG_L2/T1  -54.200784       9.559588  347.030458                0.214855           8.372946            2       True          9\n",
            "11        LightGBM_BAG_L1/T2  -89.507264       0.405729   12.874843                0.405729          12.874843            1       True          3\n",
            "12  NeuralNetMXNet_BAG_L1/T0 -107.905772       7.148182  276.162481                7.148182         276.162481            1       True          6\n",
            "13        LightGBM_BAG_L2/T3 -113.658391       9.531069  345.295899                0.186336           6.638386            2       True         11\n",
            "Number of models trained: 14\n",
            "Types of models trained:\n",
            "{'StackerEnsembleModel_LGB', 'WeightedEnsembleModel', 'StackerEnsembleModel_TabularNeuralNet'}\n",
            "Bagging used: True  (with 10 folds)\n",
            "Multi-layer stack-ensembling used: True  (with 3 levels)\n",
            "Feature Metadata (Processed):\n",
            "(raw dtype, special dtypes):\n",
            "('category', []) : 2 | ['season', 'weather']\n",
            "('float', [])    : 3 | ['temp', 'atemp', 'windspeed']\n",
            "('int', [])      : 8 | ['holiday', 'workingday', 'humidity', 'year', 'month', ...]\n",
            "Plot summary of models saved to file: AutogluonModels/ag-20210719_213239/SummaryOfModels.html\n",
            "*** End of fit() summary ***\n"
          ],
          "name": "stdout"
        },
        {
          "output_type": "execute_result",
          "data": {
            "text/plain": [
              "{'leaderboard':                        model   score_val  ...  can_infer  fit_order\n",
              " 0        WeightedEnsemble_L3  -35.770176  ...       True         14\n",
              " 1         LightGBM_BAG_L2/T0  -35.858929  ...       True          8\n",
              " 2         LightGBM_BAG_L2/T4  -35.900665  ...       True         12\n",
              " 3         LightGBM_BAG_L2/T2  -36.011801  ...       True         10\n",
              " 4         LightGBM_BAG_L1/T4  -36.440973  ...       True          5\n",
              " 5        WeightedEnsemble_L2  -36.440973  ...       True          7\n",
              " 6         LightGBM_BAG_L1/T1  -39.098969  ...       True          2\n",
              " 7         LightGBM_BAG_L1/T0  -41.472234  ...       True          1\n",
              " 8         LightGBM_BAG_L1/T3  -42.719058  ...       True          4\n",
              " 9   NeuralNetMXNet_BAG_L2/T0  -47.862588  ...       True         13\n",
              " 10        LightGBM_BAG_L2/T1  -54.200784  ...       True          9\n",
              " 11        LightGBM_BAG_L1/T2  -89.507264  ...       True          3\n",
              " 12  NeuralNetMXNet_BAG_L1/T0 -107.905772  ...       True          6\n",
              " 13        LightGBM_BAG_L2/T3 -113.658391  ...       True         11\n",
              " \n",
              " [14 rows x 9 columns],\n",
              " 'max_stack_level': 3,\n",
              " 'model_best': 'WeightedEnsemble_L3',\n",
              " 'model_fit_times': {'LightGBM_BAG_L1/T0': 11.424914121627808,\n",
              "  'LightGBM_BAG_L1/T1': 12.684453248977661,\n",
              "  'LightGBM_BAG_L1/T2': 12.874843120574951,\n",
              "  'LightGBM_BAG_L1/T3': 12.47995901107788,\n",
              "  'LightGBM_BAG_L1/T4': 13.03086256980896,\n",
              "  'LightGBM_BAG_L2/T0': 7.004615783691406,\n",
              "  'LightGBM_BAG_L2/T1': 8.372945547103882,\n",
              "  'LightGBM_BAG_L2/T2': 6.939924955368042,\n",
              "  'LightGBM_BAG_L2/T3': 6.638385772705078,\n",
              "  'LightGBM_BAG_L2/T4': 8.13986849784851,\n",
              "  'NeuralNetMXNet_BAG_L1/T0': 276.16248083114624,\n",
              "  'NeuralNetMXNet_BAG_L2/T0': 140.23364520072937,\n",
              "  'WeightedEnsemble_L2': 0.6538748741149902,\n",
              "  'WeightedEnsemble_L3': 0.629969596862793},\n",
              " 'model_hyperparams': {'LightGBM_BAG_L1/T0': {'max_base_models': 25,\n",
              "   'max_base_models_per_type': 5,\n",
              "   'save_bag_folds': True,\n",
              "   'use_orig_features': True},\n",
              "  'LightGBM_BAG_L1/T1': {'max_base_models': 25,\n",
              "   'max_base_models_per_type': 5,\n",
              "   'save_bag_folds': True,\n",
              "   'use_orig_features': True},\n",
              "  'LightGBM_BAG_L1/T2': {'max_base_models': 25,\n",
              "   'max_base_models_per_type': 5,\n",
              "   'save_bag_folds': True,\n",
              "   'use_orig_features': True},\n",
              "  'LightGBM_BAG_L1/T3': {'max_base_models': 25,\n",
              "   'max_base_models_per_type': 5,\n",
              "   'save_bag_folds': True,\n",
              "   'use_orig_features': True},\n",
              "  'LightGBM_BAG_L1/T4': {'max_base_models': 25,\n",
              "   'max_base_models_per_type': 5,\n",
              "   'save_bag_folds': True,\n",
              "   'use_orig_features': True},\n",
              "  'LightGBM_BAG_L2/T0': {'max_base_models': 25,\n",
              "   'max_base_models_per_type': 5,\n",
              "   'save_bag_folds': True,\n",
              "   'use_orig_features': True},\n",
              "  'LightGBM_BAG_L2/T1': {'max_base_models': 25,\n",
              "   'max_base_models_per_type': 5,\n",
              "   'save_bag_folds': True,\n",
              "   'use_orig_features': True},\n",
              "  'LightGBM_BAG_L2/T2': {'max_base_models': 25,\n",
              "   'max_base_models_per_type': 5,\n",
              "   'save_bag_folds': True,\n",
              "   'use_orig_features': True},\n",
              "  'LightGBM_BAG_L2/T3': {'max_base_models': 25,\n",
              "   'max_base_models_per_type': 5,\n",
              "   'save_bag_folds': True,\n",
              "   'use_orig_features': True},\n",
              "  'LightGBM_BAG_L2/T4': {'max_base_models': 25,\n",
              "   'max_base_models_per_type': 5,\n",
              "   'save_bag_folds': True,\n",
              "   'use_orig_features': True},\n",
              "  'NeuralNetMXNet_BAG_L1/T0': {'max_base_models': 25,\n",
              "   'max_base_models_per_type': 5,\n",
              "   'save_bag_folds': True,\n",
              "   'use_orig_features': True},\n",
              "  'NeuralNetMXNet_BAG_L2/T0': {'max_base_models': 25,\n",
              "   'max_base_models_per_type': 5,\n",
              "   'save_bag_folds': True,\n",
              "   'use_orig_features': True},\n",
              "  'WeightedEnsemble_L2': {'max_base_models': 25,\n",
              "   'max_base_models_per_type': 5,\n",
              "   'save_bag_folds': True,\n",
              "   'use_orig_features': False},\n",
              "  'WeightedEnsemble_L3': {'max_base_models': 25,\n",
              "   'max_base_models_per_type': 5,\n",
              "   'save_bag_folds': True,\n",
              "   'use_orig_features': False}},\n",
              " 'model_paths': {'LightGBM_BAG_L1/T0': 'AutogluonModels/ag-20210719_213239/models/LightGBM_BAG_L1/T0/',\n",
              "  'LightGBM_BAG_L1/T1': 'AutogluonModels/ag-20210719_213239/models/LightGBM_BAG_L1/T1/',\n",
              "  'LightGBM_BAG_L1/T2': 'AutogluonModels/ag-20210719_213239/models/LightGBM_BAG_L1/T2/',\n",
              "  'LightGBM_BAG_L1/T3': 'AutogluonModels/ag-20210719_213239/models/LightGBM_BAG_L1/T3/',\n",
              "  'LightGBM_BAG_L1/T4': 'AutogluonModels/ag-20210719_213239/models/LightGBM_BAG_L1/T4/',\n",
              "  'LightGBM_BAG_L2/T0': 'AutogluonModels/ag-20210719_213239/models/LightGBM_BAG_L2/T0/',\n",
              "  'LightGBM_BAG_L2/T1': 'AutogluonModels/ag-20210719_213239/models/LightGBM_BAG_L2/T1/',\n",
              "  'LightGBM_BAG_L2/T2': 'AutogluonModels/ag-20210719_213239/models/LightGBM_BAG_L2/T2/',\n",
              "  'LightGBM_BAG_L2/T3': 'AutogluonModels/ag-20210719_213239/models/LightGBM_BAG_L2/T3/',\n",
              "  'LightGBM_BAG_L2/T4': 'AutogluonModels/ag-20210719_213239/models/LightGBM_BAG_L2/T4/',\n",
              "  'NeuralNetMXNet_BAG_L1/T0': 'AutogluonModels/ag-20210719_213239/models/NeuralNetMXNet_BAG_L1/T0/',\n",
              "  'NeuralNetMXNet_BAG_L2/T0': 'AutogluonModels/ag-20210719_213239/models/NeuralNetMXNet_BAG_L2/T0/',\n",
              "  'WeightedEnsemble_L2': 'AutogluonModels/ag-20210719_213239/models/WeightedEnsemble_L2/',\n",
              "  'WeightedEnsemble_L3': 'AutogluonModels/ag-20210719_213239/models/WeightedEnsemble_L3/'},\n",
              " 'model_performance': {'LightGBM_BAG_L1/T0': -41.47223386030891,\n",
              "  'LightGBM_BAG_L1/T1': -39.09896898489386,\n",
              "  'LightGBM_BAG_L1/T2': -89.50726431665476,\n",
              "  'LightGBM_BAG_L1/T3': -42.719057844830736,\n",
              "  'LightGBM_BAG_L1/T4': -36.44097299574742,\n",
              "  'LightGBM_BAG_L2/T0': -35.85892912659342,\n",
              "  'LightGBM_BAG_L2/T1': -54.2007844295055,\n",
              "  'LightGBM_BAG_L2/T2': -36.01180073046388,\n",
              "  'LightGBM_BAG_L2/T3': -113.6583907325936,\n",
              "  'LightGBM_BAG_L2/T4': -35.900665378335304,\n",
              "  'NeuralNetMXNet_BAG_L1/T0': -107.90577197699454,\n",
              "  'NeuralNetMXNet_BAG_L2/T0': -47.86258795836984,\n",
              "  'WeightedEnsemble_L2': -36.44097299574742,\n",
              "  'WeightedEnsemble_L3': -35.77017607801533},\n",
              " 'model_pred_times': {'LightGBM_BAG_L1/T0': 0.42893338203430176,\n",
              "  'LightGBM_BAG_L1/T1': 0.46289801597595215,\n",
              "  'LightGBM_BAG_L1/T2': 0.405728816986084,\n",
              "  'LightGBM_BAG_L1/T3': 0.43031954765319824,\n",
              "  'LightGBM_BAG_L1/T4': 0.4686717987060547,\n",
              "  'LightGBM_BAG_L2/T0': 0.19744181632995605,\n",
              "  'LightGBM_BAG_L2/T1': 0.21485471725463867,\n",
              "  'LightGBM_BAG_L2/T2': 0.189835786819458,\n",
              "  'LightGBM_BAG_L2/T3': 0.18633580207824707,\n",
              "  'LightGBM_BAG_L2/T4': 0.21064376831054688,\n",
              "  'NeuralNetMXNet_BAG_L1/T0': 7.148181676864624,\n",
              "  'NeuralNetMXNet_BAG_L2/T0': 3.6458706855773926,\n",
              "  'WeightedEnsemble_L2': 0.0011837482452392578,\n",
              "  'WeightedEnsemble_L3': 0.0011239051818847656},\n",
              " 'model_types': {'LightGBM_BAG_L1/T0': 'StackerEnsembleModel_LGB',\n",
              "  'LightGBM_BAG_L1/T1': 'StackerEnsembleModel_LGB',\n",
              "  'LightGBM_BAG_L1/T2': 'StackerEnsembleModel_LGB',\n",
              "  'LightGBM_BAG_L1/T3': 'StackerEnsembleModel_LGB',\n",
              "  'LightGBM_BAG_L1/T4': 'StackerEnsembleModel_LGB',\n",
              "  'LightGBM_BAG_L2/T0': 'StackerEnsembleModel_LGB',\n",
              "  'LightGBM_BAG_L2/T1': 'StackerEnsembleModel_LGB',\n",
              "  'LightGBM_BAG_L2/T2': 'StackerEnsembleModel_LGB',\n",
              "  'LightGBM_BAG_L2/T3': 'StackerEnsembleModel_LGB',\n",
              "  'LightGBM_BAG_L2/T4': 'StackerEnsembleModel_LGB',\n",
              "  'NeuralNetMXNet_BAG_L1/T0': 'StackerEnsembleModel_TabularNeuralNet',\n",
              "  'NeuralNetMXNet_BAG_L2/T0': 'StackerEnsembleModel_TabularNeuralNet',\n",
              "  'WeightedEnsemble_L2': 'WeightedEnsembleModel',\n",
              "  'WeightedEnsemble_L3': 'WeightedEnsembleModel'},\n",
              " 'num_bag_folds': 10}"
            ]
          },
          "metadata": {
            "tags": []
          },
          "execution_count": 33
        }
      ]
    },
    {
      "cell_type": "code",
      "metadata": {
        "id": "Juj9pqtmI-fS",
        "colab": {
          "base_uri": "https://localhost:8080/"
        },
        "outputId": "586495aa-2c10-4403-a946-de6b3773ac25"
      },
      "source": [
        "predictions = predictor_new_hpo.predict(test)\n",
        "predictions.head()"
      ],
      "execution_count": 34,
      "outputs": [
        {
          "output_type": "execute_result",
          "data": {
            "text/plain": [
              "0    11.592010\n",
              "1     7.811765\n",
              "2     7.809037\n",
              "3     7.769621\n",
              "4     7.767485\n",
              "Name: count, dtype: float32"
            ]
          },
          "metadata": {
            "tags": []
          },
          "execution_count": 34
        }
      ]
    },
    {
      "cell_type": "code",
      "metadata": {
        "colab": {
          "base_uri": "https://localhost:8080/"
        },
        "id": "6JyB6860x3g3",
        "outputId": "9c4e477c-c2ca-4f65-db0b-17d3ac0086a2"
      },
      "source": [
        "# Remember to set all negative values to zero\n",
        "count = 0\n",
        "for row in predictions:\n",
        "    if row < 0:\n",
        "        count=count+1\n",
        "        \n",
        "print(count)"
      ],
      "execution_count": 35,
      "outputs": [
        {
          "output_type": "stream",
          "text": [
            "0\n"
          ],
          "name": "stdout"
        }
      ]
    },
    {
      "cell_type": "code",
      "metadata": {
        "colab": {
          "base_uri": "https://localhost:8080/"
        },
        "id": "fK5jIngOyEom",
        "outputId": "bd93f8b2-00a3-49c7-bcf9-48d7d68fa3e0"
      },
      "source": [
        "for i, row in enumerate(predictions):\n",
        "    if row < 0:\n",
        "            predictions[i] = row * -1\n",
        "        \n",
        "predictions.describe()"
      ],
      "execution_count": 36,
      "outputs": [
        {
          "output_type": "execute_result",
          "data": {
            "text/plain": [
              "count    6493.000000\n",
              "mean      189.842697\n",
              "std       173.140732\n",
              "min         7.439333\n",
              "25%        44.551117\n",
              "50%       148.885574\n",
              "75%       282.466644\n",
              "max       880.766724\n",
              "Name: count, dtype: float64"
            ]
          },
          "metadata": {
            "tags": []
          },
          "execution_count": 36
        }
      ]
    },
    {
      "cell_type": "code",
      "metadata": {
        "colab": {
          "base_uri": "https://localhost:8080/",
          "height": 195
        },
        "id": "P4ZW1_v4yYRA",
        "outputId": "342419f7-a99f-42e4-b5e6-dfcbba0c6cfd"
      },
      "source": [
        "submission_new_hpo = pd.read_csv('sampleSubmission.csv', parse_dates = ['datetime'])\n",
        "submission_new_hpo.head()"
      ],
      "execution_count": 38,
      "outputs": [
        {
          "output_type": "execute_result",
          "data": {
            "text/html": [
              "<div>\n",
              "<style scoped>\n",
              "    .dataframe tbody tr th:only-of-type {\n",
              "        vertical-align: middle;\n",
              "    }\n",
              "\n",
              "    .dataframe tbody tr th {\n",
              "        vertical-align: top;\n",
              "    }\n",
              "\n",
              "    .dataframe thead th {\n",
              "        text-align: right;\n",
              "    }\n",
              "</style>\n",
              "<table border=\"1\" class=\"dataframe\">\n",
              "  <thead>\n",
              "    <tr style=\"text-align: right;\">\n",
              "      <th></th>\n",
              "      <th>datetime</th>\n",
              "      <th>count</th>\n",
              "    </tr>\n",
              "  </thead>\n",
              "  <tbody>\n",
              "    <tr>\n",
              "      <th>0</th>\n",
              "      <td>2011-01-20 00:00:00</td>\n",
              "      <td>0</td>\n",
              "    </tr>\n",
              "    <tr>\n",
              "      <th>1</th>\n",
              "      <td>2011-01-20 01:00:00</td>\n",
              "      <td>0</td>\n",
              "    </tr>\n",
              "    <tr>\n",
              "      <th>2</th>\n",
              "      <td>2011-01-20 02:00:00</td>\n",
              "      <td>0</td>\n",
              "    </tr>\n",
              "    <tr>\n",
              "      <th>3</th>\n",
              "      <td>2011-01-20 03:00:00</td>\n",
              "      <td>0</td>\n",
              "    </tr>\n",
              "    <tr>\n",
              "      <th>4</th>\n",
              "      <td>2011-01-20 04:00:00</td>\n",
              "      <td>0</td>\n",
              "    </tr>\n",
              "  </tbody>\n",
              "</table>\n",
              "</div>"
            ],
            "text/plain": [
              "             datetime  count\n",
              "0 2011-01-20 00:00:00      0\n",
              "1 2011-01-20 01:00:00      0\n",
              "2 2011-01-20 02:00:00      0\n",
              "3 2011-01-20 03:00:00      0\n",
              "4 2011-01-20 04:00:00      0"
            ]
          },
          "metadata": {
            "tags": []
          },
          "execution_count": 38
        }
      ]
    },
    {
      "cell_type": "code",
      "metadata": {
        "id": "JLo3CxB3I-fS"
      },
      "source": [
        "# Same submitting predictions\n",
        "submission_new_hpo[\"count\"] = predictions\n",
        "submission_new_hpo.to_csv(\"submission_new_hpo.csv\", index=False)"
      ],
      "execution_count": 39,
      "outputs": []
    },
    {
      "cell_type": "code",
      "metadata": {
        "id": "RlCy_nuMI-fS",
        "colab": {
          "base_uri": "https://localhost:8080/"
        },
        "outputId": "b3a33af9-a1c8-4701-8533-2816be82d18b"
      },
      "source": [
        "!kaggle competitions submit -c bike-sharing-demand -f submission_new_hpo.csv -m \"new features with hyperparameters\""
      ],
      "execution_count": 40,
      "outputs": [
        {
          "output_type": "stream",
          "text": [
            "Warning: Looks like you're using an outdated API Version, please consider updating (server 1.5.12 / client 1.5.4)\n",
            "100% 188k/188k [00:02<00:00, 69.5kB/s]\n",
            "Successfully submitted to Bike Sharing Demand"
          ],
          "name": "stdout"
        }
      ]
    },
    {
      "cell_type": "code",
      "metadata": {
        "id": "z2fzTWcDI-fT",
        "colab": {
          "base_uri": "https://localhost:8080/"
        },
        "outputId": "66f9b9df-251b-431e-f053-17dc7d914155"
      },
      "source": [
        "!kaggle competitions submissions -c bike-sharing-demand | tail -n +1 | head -n 6"
      ],
      "execution_count": 41,
      "outputs": [
        {
          "output_type": "stream",
          "text": [
            "Warning: Looks like you're using an outdated API Version, please consider updating (server 1.5.12 / client 1.5.4)\n",
            "fileName                     date                 description                        status    publicScore  privateScore  \n",
            "---------------------------  -------------------  ---------------------------------  --------  -----------  ------------  \n",
            "submission_new_hpo.csv       2021-07-19 22:01:47  new features with hyperparameters  complete  0.49144      0.49144       \n",
            "submission_new_features.csv  2021-07-19 21:15:05  new features                       complete  0.45386      0.45386       \n",
            "submission.csv               2021-07-19 19:16:51  first raw submission               complete  1.34880      1.34880       \n"
          ],
          "name": "stdout"
        }
      ]
    },
    {
      "cell_type": "markdown",
      "metadata": {
        "id": "7vzmuTP7I-fT"
      },
      "source": [
        "#### New Score of `?`"
      ]
    },
    {
      "cell_type": "markdown",
      "metadata": {
        "id": "6e7AtAbDI-fT"
      },
      "source": [
        "## Step 7: Write a Report\n",
        "### Refer to the markdown file for the full report\n",
        "### Creating plots and table for report"
      ]
    },
    {
      "cell_type": "code",
      "metadata": {
        "id": "2jiopW6OI-fT",
        "colab": {
          "base_uri": "https://localhost:8080/",
          "height": 389
        },
        "outputId": "0d72a28e-8d25-4c74-95ee-9e52e4021222"
      },
      "source": [
        "# Taking the top model score from each training run and creating a line plot to show improvement\n",
        "# You can create these in the notebook and save them to PNG or use some other tool (e.g. google sheets, excel)\n",
        "fig = pd.DataFrame(\n",
        "    {\n",
        "        \"model\": [\"initial\", \"add_features\", \"hpo\"],\n",
        "        \"score\": [1.34880, 0.45386, 0.49144]\n",
        "    }\n",
        ").plot(x=\"model\", y=\"score\", figsize=(8, 6)).get_figure()\n",
        "fig.savefig('model_train_score.png')"
      ],
      "execution_count": 42,
      "outputs": [
        {
          "output_type": "display_data",
          "data": {
            "image/png": "[encoded data removed]",
            "text/plain": [
              "<Figure size 576x432 with 1 Axes>"
            ]
          },
          "metadata": {
            "tags": [],
            "needs_background": "light"
          }
        }
      ]
    },
    {
      "cell_type": "code",
      "metadata": {
        "id": "6e1CJSPPI-fU",
        "colab": {
          "base_uri": "https://localhost:8080/",
          "height": 390
        },
        "outputId": "fd006467-3252-4ea0-dcfd-44f48d5e7c23"
      },
      "source": [
        "# Take the 3 kaggle scores and creating a line plot to show improvement\n",
        "fig = pd.DataFrame(\n",
        "    {\n",
        "        \"test_eval\": [\"initial\", \"add_features\", \"hpo\"],\n",
        "        \"score\": [1.34880, 0.45386, 0.49144]\n",
        "    }\n",
        ").plot(x=\"test_eval\", y=\"score\", figsize=(8, 6)).get_figure()\n",
        "fig.savefig('model_test_score.png')"
      ],
      "execution_count": 43,
      "outputs": [
        {
          "output_type": "display_data",
          "data": {
            "image/png": "[encoded data removed]",
            "text/plain": [
              "<Figure size 576x432 with 1 Axes>"
            ]
          },
          "metadata": {
            "tags": [],
            "needs_background": "light"
          }
        }
      ]
    },
    {
      "cell_type": "markdown",
      "metadata": {
        "id": "bTj_4Bb0I-fU"
      },
      "source": [
        "### Hyperparameter table"
      ]
    },
    {
      "cell_type": "code",
      "metadata": {
        "id": "azk_TQd3I-fV",
        "colab": {
          "base_uri": "https://localhost:8080/",
          "height": 136
        },
        "outputId": "acb3bed8-878d-47f5-ebc5-5f4fda976aee"
      },
      "source": [
        "# The 3 hyperparameters we tuned with the kaggle score as the result\n",
        "pd.DataFrame({\n",
        "    \"model\": [\"initial\", \"add_features\", \"hpo\"],\n",
        "    \"hpo1\": ['default', 'default', 'GBM, NN'],\n",
        "    \"hpo2\": ['default', 'default', 'GBM, NN'],\n",
        "    \"hpo3\": ['default', 'default', 'GBM, NN'],\n",
        "    \"score\": [1.34880, 0.45386, 0.49144]\n",
        "})"
      ],
      "execution_count": 47,
      "outputs": [
        {
          "output_type": "execute_result",
          "data": {
            "text/html": [
              "<div>\n",
              "<style scoped>\n",
              "    .dataframe tbody tr th:only-of-type {\n",
              "        vertical-align: middle;\n",
              "    }\n",
              "\n",
              "    .dataframe tbody tr th {\n",
              "        vertical-align: top;\n",
              "    }\n",
              "\n",
              "    .dataframe thead th {\n",
              "        text-align: right;\n",
              "    }\n",
              "</style>\n",
              "<table border=\"1\" class=\"dataframe\">\n",
              "  <thead>\n",
              "    <tr style=\"text-align: right;\">\n",
              "      <th></th>\n",
              "      <th>model</th>\n",
              "      <th>hpo1</th>\n",
              "      <th>hpo2</th>\n",
              "      <th>hpo3</th>\n",
              "      <th>score</th>\n",
              "    </tr>\n",
              "  </thead>\n",
              "  <tbody>\n",
              "    <tr>\n",
              "      <th>0</th>\n",
              "      <td>initial</td>\n",
              "      <td>default</td>\n",
              "      <td>default</td>\n",
              "      <td>default</td>\n",
              "      <td>1.34880</td>\n",
              "    </tr>\n",
              "    <tr>\n",
              "      <th>1</th>\n",
              "      <td>add_features</td>\n",
              "      <td>default</td>\n",
              "      <td>default</td>\n",
              "      <td>default</td>\n",
              "      <td>0.45386</td>\n",
              "    </tr>\n",
              "    <tr>\n",
              "      <th>2</th>\n",
              "      <td>hpo</td>\n",
              "      <td>GBM, NN</td>\n",
              "      <td>GBM, NN</td>\n",
              "      <td>GBM, NN</td>\n",
              "      <td>0.49144</td>\n",
              "    </tr>\n",
              "  </tbody>\n",
              "</table>\n",
              "</div>"
            ],
            "text/plain": [
              "          model     hpo1     hpo2     hpo3    score\n",
              "0       initial  default  default  default  1.34880\n",
              "1  add_features  default  default  default  0.45386\n",
              "2           hpo  GBM, NN  GBM, NN  GBM, NN  0.49144"
            ]
          },
          "metadata": {
            "tags": []
          },
          "execution_count": 47
        }
      ]
    },
    {
      "cell_type": "code",
      "metadata": {
        "id": "fjhQjA85zsp_"
      },
      "source": [
        ""
      ],
      "execution_count": null,
      "outputs": []
    }
  ]
}