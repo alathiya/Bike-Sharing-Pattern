{
  "nbformat": 4,
  "nbformat_minor": 0,
  "metadata": {
    "accelerator": "GPU",
    "colab": {
      "name": "project-template.ipynb",
      "provenance": [],
      "collapsed_sections": [
        "pop-TwXvI-fG",
        "MpGNsZhkI-fP",
        "7vzmuTP7I-fT"
      ],
      "include_colab_link": true
    },
    "instance_type": "ml.t3.medium",
    "kernelspec": {
      "name": "python3",
      "display_name": "Python 3"
    },
    "language_info": {
      "name": "python"
    },
    "widgets": {
      "application/vnd.jupyter.widget-state+json": {
        "30efd6cafb08419d97ef1ee958d76af3": {
          "model_module": "@jupyter-widgets/controls",
          "model_name": "HBoxModel",
          "state": {
            "_view_name": "HBoxView",
            "_dom_classes": [],
            "_model_name": "HBoxModel",
            "_view_module": "@jupyter-widgets/controls",
            "_model_module_version": "1.5.0",
            "_view_count": null,
            "_view_module_version": "1.5.0",
            "box_style": "",
            "layout": "IPY_MODEL_aa2e8d6714214ebe85196848ef9aa3ce",
            "_model_module": "@jupyter-widgets/controls",
            "children": [
              "IPY_MODEL_adbba5293ae045bdb60a46abbe1880c2",
              "IPY_MODEL_9cf5dc7498e7441c983d502c6c5ab6fe"
            ]
          }
        },
        "aa2e8d6714214ebe85196848ef9aa3ce": {
          "model_module": "@jupyter-widgets/base",
          "model_name": "LayoutModel",
          "state": {
            "_view_name": "LayoutView",
            "grid_template_rows": null,
            "right": null,
            "justify_content": null,
            "_view_module": "@jupyter-widgets/base",
            "overflow": null,
            "_model_module_version": "1.2.0",
            "_view_count": null,
            "flex_flow": null,
            "width": null,
            "min_width": null,
            "border": null,
            "align_items": null,
            "bottom": null,
            "_model_module": "@jupyter-widgets/base",
            "top": null,
            "grid_column": null,
            "overflow_y": null,
            "overflow_x": null,
            "grid_auto_flow": null,
            "grid_area": null,
            "grid_template_columns": null,
            "flex": null,
            "_model_name": "LayoutModel",
            "justify_items": null,
            "grid_row": null,
            "max_height": null,
            "align_content": null,
            "visibility": null,
            "align_self": null,
            "height": null,
            "min_height": null,
            "padding": null,
            "grid_auto_rows": null,
            "grid_gap": null,
            "max_width": null,
            "order": null,
            "_view_module_version": "1.2.0",
            "grid_template_areas": null,
            "object_position": null,
            "object_fit": null,
            "grid_auto_columns": null,
            "margin": null,
            "display": null,
            "left": null
          }
        },
        "adbba5293ae045bdb60a46abbe1880c2": {
          "model_module": "@jupyter-widgets/controls",
          "model_name": "FloatProgressModel",
          "state": {
            "_view_name": "ProgressView",
            "style": "IPY_MODEL_747b1ec68ef04c728bba92919fdae647",
            "_dom_classes": [],
            "description": "100%",
            "_model_name": "FloatProgressModel",
            "bar_style": "success",
            "max": 5,
            "_view_module": "@jupyter-widgets/controls",
            "_model_module_version": "1.5.0",
            "value": 5,
            "_view_count": null,
            "_view_module_version": "1.5.0",
            "orientation": "horizontal",
            "min": 0,
            "description_tooltip": null,
            "_model_module": "@jupyter-widgets/controls",
            "layout": "IPY_MODEL_b8bc271d238148a8b593c88d8ff411fa"
          }
        },
        "9cf5dc7498e7441c983d502c6c5ab6fe": {
          "model_module": "@jupyter-widgets/controls",
          "model_name": "HTMLModel",
          "state": {
            "_view_name": "HTMLView",
            "style": "IPY_MODEL_242450d640134968ae1d304d3f7abf75",
            "_dom_classes": [],
            "description": "",
            "_model_name": "HTMLModel",
            "placeholder": "​",
            "_view_module": "@jupyter-widgets/controls",
            "_model_module_version": "1.5.0",
            "value": " 5/5 [00:03&lt;00:00,  1.57it/s]",
            "_view_count": null,
            "_view_module_version": "1.5.0",
            "description_tooltip": null,
            "_model_module": "@jupyter-widgets/controls",
            "layout": "IPY_MODEL_e694e5896d2d4c178f8edc10fb36f0eb"
          }
        },
        "747b1ec68ef04c728bba92919fdae647": {
          "model_module": "@jupyter-widgets/controls",
          "model_name": "ProgressStyleModel",
          "state": {
            "_view_name": "StyleView",
            "_model_name": "ProgressStyleModel",
            "description_width": "initial",
            "_view_module": "@jupyter-widgets/base",
            "_model_module_version": "1.5.0",
            "_view_count": null,
            "_view_module_version": "1.2.0",
            "bar_color": null,
            "_model_module": "@jupyter-widgets/controls"
          }
        },
        "b8bc271d238148a8b593c88d8ff411fa": {
          "model_module": "@jupyter-widgets/base",
          "model_name": "LayoutModel",
          "state": {
            "_view_name": "LayoutView",
            "grid_template_rows": null,
            "right": null,
            "justify_content": null,
            "_view_module": "@jupyter-widgets/base",
            "overflow": null,
            "_model_module_version": "1.2.0",
            "_view_count": null,
            "flex_flow": null,
            "width": null,
            "min_width": null,
            "border": null,
            "align_items": null,
            "bottom": null,
            "_model_module": "@jupyter-widgets/base",
            "top": null,
            "grid_column": null,
            "overflow_y": null,
            "overflow_x": null,
            "grid_auto_flow": null,
            "grid_area": null,
            "grid_template_columns": null,
            "flex": null,
            "_model_name": "LayoutModel",
            "justify_items": null,
            "grid_row": null,
            "max_height": null,
            "align_content": null,
            "visibility": null,
            "align_self": null,
            "height": null,
            "min_height": null,
            "padding": null,
            "grid_auto_rows": null,
            "grid_gap": null,
            "max_width": null,
            "order": null,
            "_view_module_version": "1.2.0",
            "grid_template_areas": null,
            "object_position": null,
            "object_fit": null,
            "grid_auto_columns": null,
            "margin": null,
            "display": null,
            "left": null
          }
        },
        "242450d640134968ae1d304d3f7abf75": {
          "model_module": "@jupyter-widgets/controls",
          "model_name": "DescriptionStyleModel",
          "state": {
            "_view_name": "StyleView",
            "_model_name": "DescriptionStyleModel",
            "description_width": "",
            "_view_module": "@jupyter-widgets/base",
            "_model_module_version": "1.5.0",
            "_view_count": null,
            "_view_module_version": "1.2.0",
            "_model_module": "@jupyter-widgets/controls"
          }
        },
        "e694e5896d2d4c178f8edc10fb36f0eb": {
          "model_module": "@jupyter-widgets/base",
          "model_name": "LayoutModel",
          "state": {
            "_view_name": "LayoutView",
            "grid_template_rows": null,
            "right": null,
            "justify_content": null,
            "_view_module": "@jupyter-widgets/base",
            "overflow": null,
            "_model_module_version": "1.2.0",
            "_view_count": null,
            "flex_flow": null,
            "width": null,
            "min_width": null,
            "border": null,
            "align_items": null,
            "bottom": null,
            "_model_module": "@jupyter-widgets/base",
            "top": null,
            "grid_column": null,
            "overflow_y": null,
            "overflow_x": null,
            "grid_auto_flow": null,
            "grid_area": null,
            "grid_template_columns": null,
            "flex": null,
            "_model_name": "LayoutModel",
            "justify_items": null,
            "grid_row": null,
            "max_height": null,
            "align_content": null,
            "visibility": null,
            "align_self": null,
            "height": null,
            "min_height": null,
            "padding": null,
            "grid_auto_rows": null,
            "grid_gap": null,
            "max_width": null,
            "order": null,
            "_view_module_version": "1.2.0",
            "grid_template_areas": null,
            "object_position": null,
            "object_fit": null,
            "grid_auto_columns": null,
            "margin": null,
            "display": null,
            "left": null
          }
        },
        "25e050d2632949eba25b4642c5ae7b0c": {
          "model_module": "@jupyter-widgets/controls",
          "model_name": "HBoxModel",
          "state": {
            "_view_name": "HBoxView",
            "_dom_classes": [],
            "_model_name": "HBoxModel",
            "_view_module": "@jupyter-widgets/controls",
            "_model_module_version": "1.5.0",
            "_view_count": null,
            "_view_module_version": "1.5.0",
            "box_style": "",
            "layout": "IPY_MODEL_8ef20a66ae194508b0fdffdda33dc654",
            "_model_module": "@jupyter-widgets/controls",
            "children": [
              "IPY_MODEL_ae83297da6e84d1dbd63330bb9a81c5b",
              "IPY_MODEL_8f4c35d036ae4951af53bd24b3c384b5"
            ]
          }
        },
        "8ef20a66ae194508b0fdffdda33dc654": {
          "model_module": "@jupyter-widgets/base",
          "model_name": "LayoutModel",
          "state": {
            "_view_name": "LayoutView",
            "grid_template_rows": null,
            "right": null,
            "justify_content": null,
            "_view_module": "@jupyter-widgets/base",
            "overflow": null,
            "_model_module_version": "1.2.0",
            "_view_count": null,
            "flex_flow": null,
            "width": null,
            "min_width": null,
            "border": null,
            "align_items": null,
            "bottom": null,
            "_model_module": "@jupyter-widgets/base",
            "top": null,
            "grid_column": null,
            "overflow_y": null,
            "overflow_x": null,
            "grid_auto_flow": null,
            "grid_area": null,
            "grid_template_columns": null,
            "flex": null,
            "_model_name": "LayoutModel",
            "justify_items": null,
            "grid_row": null,
            "max_height": null,
            "align_content": null,
            "visibility": null,
            "align_self": null,
            "height": null,
            "min_height": null,
            "padding": null,
            "grid_auto_rows": null,
            "grid_gap": null,
            "max_width": null,
            "order": null,
            "_view_module_version": "1.2.0",
            "grid_template_areas": null,
            "object_position": null,
            "object_fit": null,
            "grid_auto_columns": null,
            "margin": null,
            "display": null,
            "left": null
          }
        },
        "ae83297da6e84d1dbd63330bb9a81c5b": {
          "model_module": "@jupyter-widgets/controls",
          "model_name": "FloatProgressModel",
          "state": {
            "_view_name": "ProgressView",
            "style": "IPY_MODEL_728244a98cec404289d57e20c784b198",
            "_dom_classes": [],
            "description": " 20%",
            "_model_name": "FloatProgressModel",
            "bar_style": "danger",
            "max": 5,
            "_view_module": "@jupyter-widgets/controls",
            "_model_module_version": "1.5.0",
            "value": 1,
            "_view_count": null,
            "_view_module_version": "1.5.0",
            "orientation": "horizontal",
            "min": 0,
            "description_tooltip": null,
            "_model_module": "@jupyter-widgets/controls",
            "layout": "IPY_MODEL_a49bb5b4f3d745b4a5b3ff90e1df3651"
          }
        },
        "8f4c35d036ae4951af53bd24b3c384b5": {
          "model_module": "@jupyter-widgets/controls",
          "model_name": "HTMLModel",
          "state": {
            "_view_name": "HTMLView",
            "style": "IPY_MODEL_9b3cc2c3293d4f2eb6580a171748b3e1",
            "_dom_classes": [],
            "description": "",
            "_model_name": "HTMLModel",
            "placeholder": "​",
            "_view_module": "@jupyter-widgets/controls",
            "_model_module_version": "1.5.0",
            "value": " 1/5 [00:19&lt;00:38,  9.53s/it]",
            "_view_count": null,
            "_view_module_version": "1.5.0",
            "description_tooltip": null,
            "_model_module": "@jupyter-widgets/controls",
            "layout": "IPY_MODEL_fd0386c8518741ca9843f60cfba64287"
          }
        },
        "728244a98cec404289d57e20c784b198": {
          "model_module": "@jupyter-widgets/controls",
          "model_name": "ProgressStyleModel",
          "state": {
            "_view_name": "StyleView",
            "_model_name": "ProgressStyleModel",
            "description_width": "initial",
            "_view_module": "@jupyter-widgets/base",
            "_model_module_version": "1.5.0",
            "_view_count": null,
            "_view_module_version": "1.2.0",
            "bar_color": null,
            "_model_module": "@jupyter-widgets/controls"
          }
        },
        "a49bb5b4f3d745b4a5b3ff90e1df3651": {
          "model_module": "@jupyter-widgets/base",
          "model_name": "LayoutModel",
          "state": {
            "_view_name": "LayoutView",
            "grid_template_rows": null,
            "right": null,
            "justify_content": null,
            "_view_module": "@jupyter-widgets/base",
            "overflow": null,
            "_model_module_version": "1.2.0",
            "_view_count": null,
            "flex_flow": null,
            "width": null,
            "min_width": null,
            "border": null,
            "align_items": null,
            "bottom": null,
            "_model_module": "@jupyter-widgets/base",
            "top": null,
            "grid_column": null,
            "overflow_y": null,
            "overflow_x": null,
            "grid_auto_flow": null,
            "grid_area": null,
            "grid_template_columns": null,
            "flex": null,
            "_model_name": "LayoutModel",
            "justify_items": null,
            "grid_row": null,
            "max_height": null,
            "align_content": null,
            "visibility": null,
            "align_self": null,
            "height": null,
            "min_height": null,
            "padding": null,
            "grid_auto_rows": null,
            "grid_gap": null,
            "max_width": null,
            "order": null,
            "_view_module_version": "1.2.0",
            "grid_template_areas": null,
            "object_position": null,
            "object_fit": null,
            "grid_auto_columns": null,
            "margin": null,
            "display": null,
            "left": null
          }
        },
        "9b3cc2c3293d4f2eb6580a171748b3e1": {
          "model_module": "@jupyter-widgets/controls",
          "model_name": "DescriptionStyleModel",
          "state": {
            "_view_name": "StyleView",
            "_model_name": "DescriptionStyleModel",
            "description_width": "",
            "_view_module": "@jupyter-widgets/base",
            "_model_module_version": "1.5.0",
            "_view_count": null,
            "_view_module_version": "1.2.0",
            "_model_module": "@jupyter-widgets/controls"
          }
        },
        "fd0386c8518741ca9843f60cfba64287": {
          "model_module": "@jupyter-widgets/base",
          "model_name": "LayoutModel",
          "state": {
            "_view_name": "LayoutView",
            "grid_template_rows": null,
            "right": null,
            "justify_content": null,
            "_view_module": "@jupyter-widgets/base",
            "overflow": null,
            "_model_module_version": "1.2.0",
            "_view_count": null,
            "flex_flow": null,
            "width": null,
            "min_width": null,
            "border": null,
            "align_items": null,
            "bottom": null,
            "_model_module": "@jupyter-widgets/base",
            "top": null,
            "grid_column": null,
            "overflow_y": null,
            "overflow_x": null,
            "grid_auto_flow": null,
            "grid_area": null,
            "grid_template_columns": null,
            "flex": null,
            "_model_name": "LayoutModel",
            "justify_items": null,
            "grid_row": null,
            "max_height": null,
            "align_content": null,
            "visibility": null,
            "align_self": null,
            "height": null,
            "min_height": null,
            "padding": null,
            "grid_auto_rows": null,
            "grid_gap": null,
            "max_width": null,
            "order": null,
            "_view_module_version": "1.2.0",
            "grid_template_areas": null,
            "object_position": null,
            "object_fit": null,
            "grid_auto_columns": null,
            "margin": null,
            "display": null,
            "left": null
          }
        },
        "abdc6f77d763483b9759b3728212dd8f": {
          "model_module": "@jupyter-widgets/controls",
          "model_name": "HBoxModel",
          "state": {
            "_view_name": "HBoxView",
            "_dom_classes": [],
            "_model_name": "HBoxModel",
            "_view_module": "@jupyter-widgets/controls",
            "_model_module_version": "1.5.0",
            "_view_count": null,
            "_view_module_version": "1.5.0",
            "box_style": "",
            "layout": "IPY_MODEL_a6c0f4a8b8b048fcb417d4458d6fda96",
            "_model_module": "@jupyter-widgets/controls",
            "children": [
              "IPY_MODEL_488181082050494db9bc346a274fe0bf",
              "IPY_MODEL_faad155368ef47108f7ad3c79d307147"
            ]
          }
        },
        "a6c0f4a8b8b048fcb417d4458d6fda96": {
          "model_module": "@jupyter-widgets/base",
          "model_name": "LayoutModel",
          "state": {
            "_view_name": "LayoutView",
            "grid_template_rows": null,
            "right": null,
            "justify_content": null,
            "_view_module": "@jupyter-widgets/base",
            "overflow": null,
            "_model_module_version": "1.2.0",
            "_view_count": null,
            "flex_flow": null,
            "width": null,
            "min_width": null,
            "border": null,
            "align_items": null,
            "bottom": null,
            "_model_module": "@jupyter-widgets/base",
            "top": null,
            "grid_column": null,
            "overflow_y": null,
            "overflow_x": null,
            "grid_auto_flow": null,
            "grid_area": null,
            "grid_template_columns": null,
            "flex": null,
            "_model_name": "LayoutModel",
            "justify_items": null,
            "grid_row": null,
            "max_height": null,
            "align_content": null,
            "visibility": null,
            "align_self": null,
            "height": null,
            "min_height": null,
            "padding": null,
            "grid_auto_rows": null,
            "grid_gap": null,
            "max_width": null,
            "order": null,
            "_view_module_version": "1.2.0",
            "grid_template_areas": null,
            "object_position": null,
            "object_fit": null,
            "grid_auto_columns": null,
            "margin": null,
            "display": null,
            "left": null
          }
        },
        "488181082050494db9bc346a274fe0bf": {
          "model_module": "@jupyter-widgets/controls",
          "model_name": "FloatProgressModel",
          "state": {
            "_view_name": "ProgressView",
            "style": "IPY_MODEL_45525f887c2b4087b777e423876be518",
            "_dom_classes": [],
            "description": "100%",
            "_model_name": "FloatProgressModel",
            "bar_style": "success",
            "max": 5,
            "_view_module": "@jupyter-widgets/controls",
            "_model_module_version": "1.5.0",
            "value": 5,
            "_view_count": null,
            "_view_module_version": "1.5.0",
            "orientation": "horizontal",
            "min": 0,
            "description_tooltip": null,
            "_model_module": "@jupyter-widgets/controls",
            "layout": "IPY_MODEL_951db5f018b64159b3ad2c91a7af6fb5"
          }
        },
        "faad155368ef47108f7ad3c79d307147": {
          "model_module": "@jupyter-widgets/controls",
          "model_name": "HTMLModel",
          "state": {
            "_view_name": "HTMLView",
            "style": "IPY_MODEL_92ac922e5fc848939cdeb7a9b487dd54",
            "_dom_classes": [],
            "description": "",
            "_model_name": "HTMLModel",
            "placeholder": "​",
            "_view_module": "@jupyter-widgets/controls",
            "_model_module_version": "1.5.0",
            "value": " 5/5 [00:03&lt;00:00,  1.56it/s]",
            "_view_count": null,
            "_view_module_version": "1.5.0",
            "description_tooltip": null,
            "_model_module": "@jupyter-widgets/controls",
            "layout": "IPY_MODEL_0dc3f0067aa943b2b08391019eca5328"
          }
        },
        "45525f887c2b4087b777e423876be518": {
          "model_module": "@jupyter-widgets/controls",
          "model_name": "ProgressStyleModel",
          "state": {
            "_view_name": "StyleView",
            "_model_name": "ProgressStyleModel",
            "description_width": "initial",
            "_view_module": "@jupyter-widgets/base",
            "_model_module_version": "1.5.0",
            "_view_count": null,
            "_view_module_version": "1.2.0",
            "bar_color": null,
            "_model_module": "@jupyter-widgets/controls"
          }
        },
        "951db5f018b64159b3ad2c91a7af6fb5": {
          "model_module": "@jupyter-widgets/base",
          "model_name": "LayoutModel",
          "state": {
            "_view_name": "LayoutView",
            "grid_template_rows": null,
            "right": null,
            "justify_content": null,
            "_view_module": "@jupyter-widgets/base",
            "overflow": null,
            "_model_module_version": "1.2.0",
            "_view_count": null,
            "flex_flow": null,
            "width": null,
            "min_width": null,
            "border": null,
            "align_items": null,
            "bottom": null,
            "_model_module": "@jupyter-widgets/base",
            "top": null,
            "grid_column": null,
            "overflow_y": null,
            "overflow_x": null,
            "grid_auto_flow": null,
            "grid_area": null,
            "grid_template_columns": null,
            "flex": null,
            "_model_name": "LayoutModel",
            "justify_items": null,
            "grid_row": null,
            "max_height": null,
            "align_content": null,
            "visibility": null,
            "align_self": null,
            "height": null,
            "min_height": null,
            "padding": null,
            "grid_auto_rows": null,
            "grid_gap": null,
            "max_width": null,
            "order": null,
            "_view_module_version": "1.2.0",
            "grid_template_areas": null,
            "object_position": null,
            "object_fit": null,
            "grid_auto_columns": null,
            "margin": null,
            "display": null,
            "left": null
          }
        },
        "92ac922e5fc848939cdeb7a9b487dd54": {
          "model_module": "@jupyter-widgets/controls",
          "model_name": "DescriptionStyleModel",
          "state": {
            "_view_name": "StyleView",
            "_model_name": "DescriptionStyleModel",
            "description_width": "",
            "_view_module": "@jupyter-widgets/base",
            "_model_module_version": "1.5.0",
            "_view_count": null,
            "_view_module_version": "1.2.0",
            "_model_module": "@jupyter-widgets/controls"
          }
        },
        "0dc3f0067aa943b2b08391019eca5328": {
          "model_module": "@jupyter-widgets/base",
          "model_name": "LayoutModel",
          "state": {
            "_view_name": "LayoutView",
            "grid_template_rows": null,
            "right": null,
            "justify_content": null,
            "_view_module": "@jupyter-widgets/base",
            "overflow": null,
            "_model_module_version": "1.2.0",
            "_view_count": null,
            "flex_flow": null,
            "width": null,
            "min_width": null,
            "border": null,
            "align_items": null,
            "bottom": null,
            "_model_module": "@jupyter-widgets/base",
            "top": null,
            "grid_column": null,
            "overflow_y": null,
            "overflow_x": null,
            "grid_auto_flow": null,
            "grid_area": null,
            "grid_template_columns": null,
            "flex": null,
            "_model_name": "LayoutModel",
            "justify_items": null,
            "grid_row": null,
            "max_height": null,
            "align_content": null,
            "visibility": null,
            "align_self": null,
            "height": null,
            "min_height": null,
            "padding": null,
            "grid_auto_rows": null,
            "grid_gap": null,
            "max_width": null,
            "order": null,
            "_view_module_version": "1.2.0",
            "grid_template_areas": null,
            "object_position": null,
            "object_fit": null,
            "grid_auto_columns": null,
            "margin": null,
            "display": null,
            "left": null
          }
        },
        "35c06fee0aa9481a84c8c41661cf7369": {
          "model_module": "@jupyter-widgets/controls",
          "model_name": "HBoxModel",
          "state": {
            "_view_name": "HBoxView",
            "_dom_classes": [],
            "_model_name": "HBoxModel",
            "_view_module": "@jupyter-widgets/controls",
            "_model_module_version": "1.5.0",
            "_view_count": null,
            "_view_module_version": "1.5.0",
            "box_style": "",
            "layout": "IPY_MODEL_933ceb85571e44acb55311d2e772b5c6",
            "_model_module": "@jupyter-widgets/controls",
            "children": [
              "IPY_MODEL_6f6f583bcf444253bb1680f1460b335d",
              "IPY_MODEL_97765f0a393c42d8a20e0b510298be86"
            ]
          }
        },
        "933ceb85571e44acb55311d2e772b5c6": {
          "model_module": "@jupyter-widgets/base",
          "model_name": "LayoutModel",
          "state": {
            "_view_name": "LayoutView",
            "grid_template_rows": null,
            "right": null,
            "justify_content": null,
            "_view_module": "@jupyter-widgets/base",
            "overflow": null,
            "_model_module_version": "1.2.0",
            "_view_count": null,
            "flex_flow": null,
            "width": null,
            "min_width": null,
            "border": null,
            "align_items": null,
            "bottom": null,
            "_model_module": "@jupyter-widgets/base",
            "top": null,
            "grid_column": null,
            "overflow_y": null,
            "overflow_x": null,
            "grid_auto_flow": null,
            "grid_area": null,
            "grid_template_columns": null,
            "flex": null,
            "_model_name": "LayoutModel",
            "justify_items": null,
            "grid_row": null,
            "max_height": null,
            "align_content": null,
            "visibility": null,
            "align_self": null,
            "height": null,
            "min_height": null,
            "padding": null,
            "grid_auto_rows": null,
            "grid_gap": null,
            "max_width": null,
            "order": null,
            "_view_module_version": "1.2.0",
            "grid_template_areas": null,
            "object_position": null,
            "object_fit": null,
            "grid_auto_columns": null,
            "margin": null,
            "display": null,
            "left": null
          }
        },
        "6f6f583bcf444253bb1680f1460b335d": {
          "model_module": "@jupyter-widgets/controls",
          "model_name": "FloatProgressModel",
          "state": {
            "_view_name": "ProgressView",
            "style": "IPY_MODEL_b662caddfdbd4a31873a1b4dc63c41ec",
            "_dom_classes": [],
            "description": "  0%",
            "_model_name": "FloatProgressModel",
            "bar_style": "danger",
            "max": 5,
            "_view_module": "@jupyter-widgets/controls",
            "_model_module_version": "1.5.0",
            "value": 0,
            "_view_count": null,
            "_view_module_version": "1.5.0",
            "orientation": "horizontal",
            "min": 0,
            "description_tooltip": null,
            "_model_module": "@jupyter-widgets/controls",
            "layout": "IPY_MODEL_508ed7bc68214918854825e1ff6a7ae5"
          }
        },
        "97765f0a393c42d8a20e0b510298be86": {
          "model_module": "@jupyter-widgets/controls",
          "model_name": "HTMLModel",
          "state": {
            "_view_name": "HTMLView",
            "style": "IPY_MODEL_5772be290e4943e487ba7e12d3fff3b3",
            "_dom_classes": [],
            "description": "",
            "_model_name": "HTMLModel",
            "placeholder": "​",
            "_view_module": "@jupyter-widgets/controls",
            "_model_module_version": "1.5.0",
            "value": " 0/5 [00:09&lt;?, ?it/s]",
            "_view_count": null,
            "_view_module_version": "1.5.0",
            "description_tooltip": null,
            "_model_module": "@jupyter-widgets/controls",
            "layout": "IPY_MODEL_e6ac47f0af594c3a9adad8ce16b1f5dc"
          }
        },
        "b662caddfdbd4a31873a1b4dc63c41ec": {
          "model_module": "@jupyter-widgets/controls",
          "model_name": "ProgressStyleModel",
          "state": {
            "_view_name": "StyleView",
            "_model_name": "ProgressStyleModel",
            "description_width": "initial",
            "_view_module": "@jupyter-widgets/base",
            "_model_module_version": "1.5.0",
            "_view_count": null,
            "_view_module_version": "1.2.0",
            "bar_color": null,
            "_model_module": "@jupyter-widgets/controls"
          }
        },
        "508ed7bc68214918854825e1ff6a7ae5": {
          "model_module": "@jupyter-widgets/base",
          "model_name": "LayoutModel",
          "state": {
            "_view_name": "LayoutView",
            "grid_template_rows": null,
            "right": null,
            "justify_content": null,
            "_view_module": "@jupyter-widgets/base",
            "overflow": null,
            "_model_module_version": "1.2.0",
            "_view_count": null,
            "flex_flow": null,
            "width": null,
            "min_width": null,
            "border": null,
            "align_items": null,
            "bottom": null,
            "_model_module": "@jupyter-widgets/base",
            "top": null,
            "grid_column": null,
            "overflow_y": null,
            "overflow_x": null,
            "grid_auto_flow": null,
            "grid_area": null,
            "grid_template_columns": null,
            "flex": null,
            "_model_name": "LayoutModel",
            "justify_items": null,
            "grid_row": null,
            "max_height": null,
            "align_content": null,
            "visibility": null,
            "align_self": null,
            "height": null,
            "min_height": null,
            "padding": null,
            "grid_auto_rows": null,
            "grid_gap": null,
            "max_width": null,
            "order": null,
            "_view_module_version": "1.2.0",
            "grid_template_areas": null,
            "object_position": null,
            "object_fit": null,
            "grid_auto_columns": null,
            "margin": null,
            "display": null,
            "left": null
          }
        },
        "5772be290e4943e487ba7e12d3fff3b3": {
          "model_module": "@jupyter-widgets/controls",
          "model_name": "DescriptionStyleModel",
          "state": {
            "_view_name": "StyleView",
            "_model_name": "DescriptionStyleModel",
            "description_width": "",
            "_view_module": "@jupyter-widgets/base",
            "_model_module_version": "1.5.0",
            "_view_count": null,
            "_view_module_version": "1.2.0",
            "_model_module": "@jupyter-widgets/controls"
          }
        },
        "e6ac47f0af594c3a9adad8ce16b1f5dc": {
          "model_module": "@jupyter-widgets/base",
          "model_name": "LayoutModel",
          "state": {
            "_view_name": "LayoutView",
            "grid_template_rows": null,
            "right": null,
            "justify_content": null,
            "_view_module": "@jupyter-widgets/base",
            "overflow": null,
            "_model_module_version": "1.2.0",
            "_view_count": null,
            "flex_flow": null,
            "width": null,
            "min_width": null,
            "border": null,
            "align_items": null,
            "bottom": null,
            "_model_module": "@jupyter-widgets/base",
            "top": null,
            "grid_column": null,
            "overflow_y": null,
            "overflow_x": null,
            "grid_auto_flow": null,
            "grid_area": null,
            "grid_template_columns": null,
            "flex": null,
            "_model_name": "LayoutModel",
            "justify_items": null,
            "grid_row": null,
            "max_height": null,
            "align_content": null,
            "visibility": null,
            "align_self": null,
            "height": null,
            "min_height": null,
            "padding": null,
            "grid_auto_rows": null,
            "grid_gap": null,
            "max_width": null,
            "order": null,
            "_view_module_version": "1.2.0",
            "grid_template_areas": null,
            "object_position": null,
            "object_fit": null,
            "grid_auto_columns": null,
            "margin": null,
            "display": null,
            "left": null
          }
        }
      }
    }
  },
  "cells": [
    {
      "cell_type": "markdown",
      "metadata": {
        "id": "view-in-github",
        "colab_type": "text"
      },
      "source": [
        "<a href=\"https://colab.research.google.com/github/alathiya/Bike-Sharing-Pattern/blob/main/project_template.ipynb\" target=\"_parent\"><img src=\"https://colab.research.google.com/assets/colab-badge.svg\" alt=\"Open In Colab\"/></a>"
      ]
    },
    {
      "cell_type": "markdown",
      "metadata": {
        "id": "aHtKu6wgI-er"
      },
      "source": [
        "# Predict Bike Sharing Demand with AutoGluon Template"
      ]
    },
    {
      "cell_type": "markdown",
      "metadata": {
        "id": "jnRONV5RI-ew"
      },
      "source": [
        "## Project: Predict Bike Sharing Demand with AutoGluon\n",
        "This notebook is a template with each step that you need to complete for the project.\n",
        "\n",
        "Please fill in your code where there are explicit `?` markers in the notebook. You are welcome to add more cells and code as you see fit.\n",
        "\n",
        "Once you have completed all the code implementations, please export your notebook as a HTML file so the reviews can view your code. Make sure you have all outputs correctly outputted.\n",
        "\n",
        "`File-> Export Notebook As... -> Export Notebook as HTML`\n",
        "\n",
        "There is a writeup to complete as well after all code implememtation is done. Please answer all questions and attach the necessary tables and charts. You can complete the writeup in either markdown or PDF.\n",
        "\n",
        "Completing the code template and writeup template will cover all of the rubric points for this project.\n",
        "\n",
        "The rubric contains \"Stand Out Suggestions\" for enhancing the project beyond the minimum requirements. The stand out suggestions are optional. If you decide to pursue the \"stand out suggestions\", you can include the code in this notebook and also discuss the results in the writeup file."
      ]
    },
    {
      "cell_type": "markdown",
      "metadata": {
        "id": "moU_TvNsI-ey"
      },
      "source": [
        "## Step 1: Create an account with Kaggle"
      ]
    },
    {
      "cell_type": "markdown",
      "metadata": {
        "id": "HRuDJwTWI-ey"
      },
      "source": [
        "### Create Kaggle Account and download API key\n",
        "Below is example of steps to get the API username and key. Each student will have their own username and key."
      ]
    },
    {
      "cell_type": "markdown",
      "metadata": {
        "id": "QheCLVtJI-ez"
      },
      "source": [
        "1. Open account settings.\n",
        "![kaggle1.png](attachment:kaggle1.png)\n",
        "![kaggle2.png](attachment:kaggle2.png)\n",
        "2. Scroll down to API and click Create New API Token.\n",
        "![kaggle3.png](attachment:kaggle3.png)\n",
        "![kaggle4.png](attachment:kaggle4.png)\n",
        "3. Open up `kaggle.json` and use the username and key.\n",
        "![kaggle5.png](attachment:kaggle5.png)"
      ]
    },
    {
      "cell_type": "markdown",
      "metadata": {
        "id": "e1eRwrDBI-e0"
      },
      "source": [
        "## Step 2: Download the Kaggle dataset using the kaggle python library"
      ]
    },
    {
      "cell_type": "markdown",
      "metadata": {
        "id": "KiDj56SeI-e0"
      },
      "source": [
        "### Open up Sagemaker Studio and use starter template"
      ]
    },
    {
      "cell_type": "markdown",
      "metadata": {
        "id": "BjGeZ8QVI-e1"
      },
      "source": [
        "1. Notebook should be using a `ml.t3.medium` instance (2 vCPU + 4 GiB)\n",
        "2. Notebook should be using kernal: `Python 3 (MXNet 1.8 Python 3.7 CPU Optimized)`"
      ]
    },
    {
      "cell_type": "markdown",
      "metadata": {
        "id": "YOC3tzXwI-e1"
      },
      "source": [
        "### Install packages"
      ]
    },
    {
      "cell_type": "code",
      "metadata": {
        "colab": {
          "base_uri": "https://localhost:8080/",
          "height": 1000
        },
        "id": "fEfjbS6YI-e2",
        "outputId": "e1c4b48a-2ac3-420a-963d-00a8776af4f2"
      },
      "source": [
        "!pip install -U pip\n",
        "!pip install -U setuptools wheel\n",
        "!pip install -U \"mxnet<2.0.0\" bokeh==2.0.1\n",
        "!pip install autogluon --no-cache-dir\n",
        "# Without --no-cache-dir, smaller aws instances may have trouble installing"
      ],
      "execution_count": 1,
      "outputs": [
        {
          "output_type": "stream",
          "text": [
            "Requirement already satisfied: pip in /usr/local/lib/python3.7/dist-packages (21.1.3)\n",
            "Requirement already satisfied: setuptools in /usr/local/lib/python3.7/dist-packages (57.2.0)\n",
            "Collecting setuptools\n",
            "  Downloading setuptools-57.4.0-py3-none-any.whl (819 kB)\n",
            "\u001b[K     |████████████████████████████████| 819 kB 29.6 MB/s \n",
            "\u001b[?25hRequirement already satisfied: wheel in /usr/local/lib/python3.7/dist-packages (0.36.2)\n",
            "Installing collected packages: setuptools\n",
            "  Attempting uninstall: setuptools\n",
            "    Found existing installation: setuptools 57.2.0\n",
            "    Uninstalling setuptools-57.2.0:\n",
            "      Successfully uninstalled setuptools-57.2.0\n",
            "\u001b[31mERROR: pip's dependency resolver does not currently take into account all the packages that are installed. This behaviour is the source of the following dependency conflicts.\n",
            "datascience 0.10.6 requires folium==0.2.1, but you have folium 0.8.3 which is incompatible.\u001b[0m\n",
            "Successfully installed setuptools-57.4.0\n"
          ],
          "name": "stdout"
        },
        {
          "output_type": "display_data",
          "data": {
            "application/vnd.colab-display-data+json": {
              "pip_warning": {
                "packages": [
                  "pkg_resources"
                ]
              }
            }
          },
          "metadata": {
            "tags": []
          }
        },
        {
          "output_type": "stream",
          "text": [
            "Collecting mxnet<2.0.0\n",
            "  Downloading mxnet-1.8.0.post0-py2.py3-none-manylinux2014_x86_64.whl (46.9 MB)\n",
            "\u001b[K     |████████████████████████████████| 46.9 MB 42 kB/s \n",
            "\u001b[?25hCollecting bokeh==2.0.1\n",
            "  Downloading bokeh-2.0.1.tar.gz (8.6 MB)\n",
            "\u001b[K     |████████████████████████████████| 8.6 MB 32.7 MB/s \n",
            "\u001b[?25hRequirement already satisfied: PyYAML>=3.10 in /usr/local/lib/python3.7/dist-packages (from bokeh==2.0.1) (3.13)\n",
            "Requirement already satisfied: python-dateutil>=2.1 in /usr/local/lib/python3.7/dist-packages (from bokeh==2.0.1) (2.8.1)\n",
            "Requirement already satisfied: Jinja2>=2.7 in /usr/local/lib/python3.7/dist-packages (from bokeh==2.0.1) (2.11.3)\n",
            "Requirement already satisfied: numpy>=1.11.3 in /usr/local/lib/python3.7/dist-packages (from bokeh==2.0.1) (1.19.5)\n",
            "Requirement already satisfied: pillow>=4.0 in /usr/local/lib/python3.7/dist-packages (from bokeh==2.0.1) (7.1.2)\n",
            "Requirement already satisfied: packaging>=16.8 in /usr/local/lib/python3.7/dist-packages (from bokeh==2.0.1) (21.0)\n",
            "Requirement already satisfied: tornado>=5 in /usr/local/lib/python3.7/dist-packages (from bokeh==2.0.1) (5.1.1)\n",
            "Requirement already satisfied: typing_extensions>=3.7.4 in /usr/local/lib/python3.7/dist-packages (from bokeh==2.0.1) (3.7.4.3)\n",
            "Requirement already satisfied: requests<3,>=2.20.0 in /usr/local/lib/python3.7/dist-packages (from mxnet<2.0.0) (2.23.0)\n",
            "Collecting graphviz<0.9.0,>=0.8.1\n",
            "  Downloading graphviz-0.8.4-py2.py3-none-any.whl (16 kB)\n",
            "Requirement already satisfied: MarkupSafe>=0.23 in /usr/local/lib/python3.7/dist-packages (from Jinja2>=2.7->bokeh==2.0.1) (2.0.1)\n",
            "Requirement already satisfied: pyparsing>=2.0.2 in /usr/local/lib/python3.7/dist-packages (from packaging>=16.8->bokeh==2.0.1) (2.4.7)\n",
            "Requirement already satisfied: six>=1.5 in /usr/local/lib/python3.7/dist-packages (from python-dateutil>=2.1->bokeh==2.0.1) (1.15.0)\n",
            "Requirement already satisfied: urllib3!=1.25.0,!=1.25.1,<1.26,>=1.21.1 in /usr/local/lib/python3.7/dist-packages (from requests<3,>=2.20.0->mxnet<2.0.0) (1.24.3)\n",
            "Requirement already satisfied: chardet<4,>=3.0.2 in /usr/local/lib/python3.7/dist-packages (from requests<3,>=2.20.0->mxnet<2.0.0) (3.0.4)\n",
            "Requirement already satisfied: certifi>=2017.4.17 in /usr/local/lib/python3.7/dist-packages (from requests<3,>=2.20.0->mxnet<2.0.0) (2021.5.30)\n",
            "Requirement already satisfied: idna<3,>=2.5 in /usr/local/lib/python3.7/dist-packages (from requests<3,>=2.20.0->mxnet<2.0.0) (2.10)\n",
            "Building wheels for collected packages: bokeh\n",
            "  Building wheel for bokeh (setup.py) ... \u001b[?25l\u001b[?25hdone\n",
            "  Created wheel for bokeh: filename=bokeh-2.0.1-py3-none-any.whl size=9080040 sha256=48556000fb550ad86e3d9f5fd03628698e3829d2ca6a575a70d433dd5b075c06\n",
            "  Stored in directory: /root/.cache/pip/wheels/9f/9e/ac/f24f30e119df73511fde9af8aa747217ac8824e662037ba9a8\n",
            "Successfully built bokeh\n",
            "Installing collected packages: graphviz, mxnet, bokeh\n",
            "  Attempting uninstall: graphviz\n",
            "    Found existing installation: graphviz 0.10.1\n",
            "    Uninstalling graphviz-0.10.1:\n",
            "      Successfully uninstalled graphviz-0.10.1\n",
            "  Attempting uninstall: bokeh\n",
            "    Found existing installation: bokeh 2.3.3\n",
            "    Uninstalling bokeh-2.3.3:\n",
            "      Successfully uninstalled bokeh-2.3.3\n",
            "\u001b[31mERROR: pip's dependency resolver does not currently take into account all the packages that are installed. This behaviour is the source of the following dependency conflicts.\n",
            "panel 0.11.3 requires bokeh<2.4.0,>=2.3.0, but you have bokeh 2.0.1 which is incompatible.\u001b[0m\n",
            "Successfully installed bokeh-2.0.1 graphviz-0.8.4 mxnet-1.8.0.post0\n",
            "Collecting autogluon\n",
            "  Downloading autogluon-0.2.0-py3-none-any.whl (5.4 kB)\n",
            "Collecting autogluon.mxnet==0.2.0\n",
            "  Downloading autogluon.mxnet-0.2.0-py3-none-any.whl (28 kB)\n",
            "Collecting autogluon.tabular[all]==0.2.0\n",
            "  Downloading autogluon.tabular-0.2.0-py3-none-any.whl (250 kB)\n",
            "\u001b[K     |████████████████████████████████| 250 kB 48.8 MB/s \n",
            "\u001b[?25hCollecting autogluon.features==0.2.0\n",
            "  Downloading autogluon.features-0.2.0-py3-none-any.whl (48 kB)\n",
            "\u001b[K     |████████████████████████████████| 48 kB 45.2 MB/s \n",
            "\u001b[?25hCollecting autogluon.core==0.2.0\n",
            "  Downloading autogluon.core-0.2.0-py3-none-any.whl (334 kB)\n",
            "\u001b[K     |████████████████████████████████| 334 kB 81.3 MB/s \n",
            "\u001b[?25hCollecting autogluon.extra==0.2.0\n",
            "  Downloading autogluon.extra-0.2.0-py3-none-any.whl (24 kB)\n",
            "Collecting autogluon.vision==0.2.0\n",
            "  Downloading autogluon.vision-0.2.0-py3-none-any.whl (31 kB)\n",
            "Collecting autogluon.text==0.2.0\n",
            "  Downloading autogluon.text-0.2.0-py3-none-any.whl (48 kB)\n",
            "\u001b[K     |████████████████████████████████| 48 kB 64.8 MB/s \n",
            "\u001b[?25hRequirement already satisfied: cython in /usr/local/lib/python3.7/dist-packages (from autogluon.core==0.2.0->autogluon) (0.29.23)\n",
            "Collecting distributed>=2.6.0\n",
            "  Downloading distributed-2021.7.0-py3-none-any.whl (1.0 MB)\n",
            "\u001b[K     |████████████████████████████████| 1.0 MB 74.5 MB/s \n",
            "\u001b[?25hRequirement already satisfied: numpy==1.19.5 in /usr/local/lib/python3.7/dist-packages (from autogluon.core==0.2.0->autogluon) (1.19.5)\n",
            "Collecting ConfigSpace==0.4.18\n",
            "  Downloading ConfigSpace-0.4.18.tar.gz (950 kB)\n",
            "\u001b[K     |████████████████████████████████| 950 kB 73.2 MB/s \n",
            "\u001b[?25h  Installing build dependencies ... \u001b[?25l\u001b[?25hdone\n",
            "  Getting requirements to build wheel ... \u001b[?25l\u001b[?25hdone\n",
            "    Preparing wheel metadata ... \u001b[?25l\u001b[?25hdone\n",
            "Requirement already satisfied: requests in /usr/local/lib/python3.7/dist-packages (from autogluon.core==0.2.0->autogluon) (2.23.0)\n",
            "Requirement already satisfied: dask>=2.6.0 in /usr/local/lib/python3.7/dist-packages (from autogluon.core==0.2.0->autogluon) (2.12.0)\n",
            "Requirement already satisfied: pandas<2.0,>=1.0.0 in /usr/local/lib/python3.7/dist-packages (from autogluon.core==0.2.0->autogluon) (1.1.5)\n",
            "Collecting scikit-learn<0.25,>=0.23.2\n",
            "  Downloading scikit_learn-0.24.2-cp37-cp37m-manylinux2010_x86_64.whl (22.3 MB)\n",
            "\u001b[K     |████████████████████████████████| 22.3 MB 26.5 MB/s \n",
            "\u001b[?25hRequirement already satisfied: autograd>=1.3 in /usr/local/lib/python3.7/dist-packages (from autogluon.core==0.2.0->autogluon) (1.3)\n",
            "Collecting dill==0.3.3\n",
            "  Downloading dill-0.3.3-py2.py3-none-any.whl (81 kB)\n",
            "\u001b[K     |████████████████████████████████| 81 kB 72.3 MB/s \n",
            "\u001b[?25hRequirement already satisfied: tornado>=5.0.1 in /usr/local/lib/python3.7/dist-packages (from autogluon.core==0.2.0->autogluon) (5.1.1)\n",
            "Requirement already satisfied: matplotlib in /usr/local/lib/python3.7/dist-packages (from autogluon.core==0.2.0->autogluon) (3.2.2)\n",
            "Collecting boto3\n",
            "  Downloading boto3-1.18.3-py3-none-any.whl (131 kB)\n",
            "\u001b[K     |████████████████████████████████| 131 kB 71.0 MB/s \n",
            "\u001b[?25hCollecting paramiko>=2.4\n",
            "  Downloading paramiko-2.7.2-py2.py3-none-any.whl (206 kB)\n",
            "\u001b[K     |████████████████████████████████| 206 kB 80.1 MB/s \n",
            "\u001b[?25hRequirement already satisfied: graphviz<0.9.0,>=0.8.1 in /usr/local/lib/python3.7/dist-packages (from autogluon.core==0.2.0->autogluon) (0.8.4)\n",
            "Requirement already satisfied: tqdm>=4.38.0 in /usr/local/lib/python3.7/dist-packages (from autogluon.core==0.2.0->autogluon) (4.41.1)\n",
            "Collecting scipy<1.7,>=1.5.4\n",
            "  Downloading scipy-1.6.3-cp37-cp37m-manylinux1_x86_64.whl (27.4 MB)\n",
            "\u001b[K     |████████████████████████████████| 27.4 MB 1.3 MB/s \n",
            "\u001b[?25hCollecting gluoncv<0.11,>=0.10.1.post0\n",
            "  Downloading gluoncv-0.10.3.post0-py2.py3-none-any.whl (1.2 MB)\n",
            "\u001b[K     |████████████████████████████████| 1.2 MB 62.6 MB/s \n",
            "\u001b[?25hRequirement already satisfied: pytest in /usr/local/lib/python3.7/dist-packages (from autogluon.extra==0.2.0->autogluon) (3.6.4)\n",
            "Collecting openml\n",
            "  Downloading openml-0.12.2.tar.gz (119 kB)\n",
            "\u001b[K     |████████████████████████████████| 119 kB 88.7 MB/s \n",
            "\u001b[?25hRequirement already satisfied: Pillow<=8.1 in /usr/local/lib/python3.7/dist-packages (from autogluon.mxnet==0.2.0->autogluon) (7.1.2)\n",
            "Collecting psutil<5.9,>=5.7.3\n",
            "  Downloading psutil-5.8.0-cp37-cp37m-manylinux2010_x86_64.whl (296 kB)\n",
            "\u001b[K     |████████████████████████████████| 296 kB 65.2 MB/s \n",
            "\u001b[?25hRequirement already satisfied: networkx<3.0,>=2.3 in /usr/local/lib/python3.7/dist-packages (from autogluon.tabular[all]==0.2.0->autogluon) (2.5.1)\n",
            "Collecting catboost<0.26,>=0.24.0\n",
            "  Downloading catboost-0.25.1-cp37-none-manylinux1_x86_64.whl (67.3 MB)\n",
            "\u001b[K     |████████████████████████████████| 67.3 MB 1.2 MB/s \n",
            "\u001b[?25hCollecting fastai<3.0,>=2.0\n",
            "  Downloading fastai-2.4.1-py3-none-any.whl (188 kB)\n",
            "\u001b[K     |████████████████████████████████| 188 kB 82.7 MB/s \n",
            "\u001b[?25hCollecting lightgbm<4.0,>=3.0\n",
            "  Downloading lightgbm-3.2.1-py3-none-manylinux1_x86_64.whl (2.0 MB)\n",
            "\u001b[K     |████████████████████████████████| 2.0 MB 74.4 MB/s \n",
            "\u001b[?25hCollecting xgboost<1.4,>=1.3.2\n",
            "  Downloading xgboost-1.3.3-py3-none-manylinux2010_x86_64.whl (157.5 MB)\n",
            "\u001b[K     |████████████████████████████████| 157.5 MB 1.2 MB/s \n",
            "\u001b[?25hRequirement already satisfied: torch<2.0,>=1.0 in /usr/local/lib/python3.7/dist-packages (from autogluon.tabular[all]==0.2.0->autogluon) (1.9.0+cu102)\n",
            "Requirement already satisfied: pyarrow in /usr/local/lib/python3.7/dist-packages (from autogluon.text==0.2.0->autogluon) (3.0.0)\n",
            "Collecting autogluon-contrib-nlp==0.0.1b20210201\n",
            "  Downloading autogluon_contrib_nlp-0.0.1b20210201-py3-none-any.whl (157 kB)\n",
            "\u001b[K     |████████████████████████████████| 157 kB 73.7 MB/s \n",
            "\u001b[?25hCollecting flake8\n",
            "  Downloading flake8-3.9.2-py2.py3-none-any.whl (73 kB)\n",
            "\u001b[K     |████████████████████████████████| 73 kB 44.4 MB/s \n",
            "\u001b[?25hCollecting sacrebleu\n",
            "  Downloading sacrebleu-1.5.1-py3-none-any.whl (54 kB)\n",
            "\u001b[K     |████████████████████████████████| 54 kB 59.8 MB/s \n",
            "\u001b[?25hCollecting contextvars\n",
            "  Downloading contextvars-2.4.tar.gz (9.6 kB)\n",
            "Collecting yacs>=0.1.6\n",
            "  Downloading yacs-0.1.8-py3-none-any.whl (14 kB)\n",
            "Collecting sentencepiece==0.1.95\n",
            "  Downloading sentencepiece-0.1.95-cp37-cp37m-manylinux2014_x86_64.whl (1.2 MB)\n",
            "\u001b[K     |████████████████████████████████| 1.2 MB 64.7 MB/s \n",
            "\u001b[?25hRequirement already satisfied: protobuf in /usr/local/lib/python3.7/dist-packages (from autogluon-contrib-nlp==0.0.1b20210201->autogluon.text==0.2.0->autogluon) (3.17.3)\n",
            "Requirement already satisfied: regex in /usr/local/lib/python3.7/dist-packages (from autogluon-contrib-nlp==0.0.1b20210201->autogluon.text==0.2.0->autogluon) (2019.12.20)\n",
            "Collecting tokenizers==0.9.4\n",
            "  Downloading tokenizers-0.9.4-cp37-cp37m-manylinux2010_x86_64.whl (2.9 MB)\n",
            "\u001b[K     |████████████████████████████████| 2.9 MB 54.4 MB/s \n",
            "\u001b[?25hCollecting sacremoses>=0.0.38\n",
            "  Downloading sacremoses-0.0.45-py3-none-any.whl (895 kB)\n",
            "\u001b[K     |████████████████████████████████| 895 kB 71.7 MB/s \n",
            "\u001b[?25hCollecting d8<1.0,>=0.0.2\n",
            "  Downloading d8-0.0.2.post0-py3-none-any.whl (28 kB)\n",
            "Requirement already satisfied: pyparsing in /usr/local/lib/python3.7/dist-packages (from ConfigSpace==0.4.18->autogluon.core==0.2.0->autogluon) (2.4.7)\n",
            "Requirement already satisfied: future>=0.15.2 in /usr/local/lib/python3.7/dist-packages (from autograd>=1.3->autogluon.core==0.2.0->autogluon) (0.16.0)\n",
            "Requirement already satisfied: six in /usr/local/lib/python3.7/dist-packages (from catboost<0.26,>=0.24.0->autogluon.tabular[all]==0.2.0->autogluon) (1.15.0)\n",
            "Requirement already satisfied: plotly in /usr/local/lib/python3.7/dist-packages (from catboost<0.26,>=0.24.0->autogluon.tabular[all]==0.2.0->autogluon) (4.4.1)\n",
            "Collecting xxhash\n",
            "  Downloading xxhash-2.0.2-cp37-cp37m-manylinux2010_x86_64.whl (243 kB)\n",
            "\u001b[K     |████████████████████████████████| 243 kB 68.3 MB/s \n",
            "\u001b[?25hRequirement already satisfied: kaggle in /usr/local/lib/python3.7/dist-packages (from d8<1.0,>=0.0.2->autogluon.vision==0.2.0->autogluon) (1.5.12)\n",
            "Requirement already satisfied: zict>=0.1.3 in /usr/local/lib/python3.7/dist-packages (from distributed>=2.6.0->autogluon.core==0.2.0->autogluon) (2.0.0)\n",
            "Requirement already satisfied: setuptools in /usr/local/lib/python3.7/dist-packages (from distributed>=2.6.0->autogluon.core==0.2.0->autogluon) (57.4.0)\n",
            "Requirement already satisfied: sortedcontainers!=2.0.0,!=2.0.1 in /usr/local/lib/python3.7/dist-packages (from distributed>=2.6.0->autogluon.core==0.2.0->autogluon) (2.4.0)\n",
            "Collecting dask>=2.6.0\n",
            "  Downloading dask-2021.7.0-py3-none-any.whl (977 kB)\n",
            "\u001b[K     |████████████████████████████████| 977 kB 68.5 MB/s \n",
            "\u001b[?25hRequirement already satisfied: tblib>=1.6.0 in /usr/local/lib/python3.7/dist-packages (from distributed>=2.6.0->autogluon.core==0.2.0->autogluon) (1.7.0)\n",
            "Requirement already satisfied: msgpack>=0.6.0 in /usr/local/lib/python3.7/dist-packages (from distributed>=2.6.0->autogluon.core==0.2.0->autogluon) (1.0.2)\n",
            "Requirement already satisfied: pyyaml in /usr/local/lib/python3.7/dist-packages (from distributed>=2.6.0->autogluon.core==0.2.0->autogluon) (3.13)\n",
            "Requirement already satisfied: click>=6.6 in /usr/local/lib/python3.7/dist-packages (from distributed>=2.6.0->autogluon.core==0.2.0->autogluon) (7.1.2)\n",
            "Requirement already satisfied: toolz>=0.8.2 in /usr/local/lib/python3.7/dist-packages (from distributed>=2.6.0->autogluon.core==0.2.0->autogluon) (0.11.1)\n",
            "Collecting cloudpickle>=1.5.0\n",
            "  Downloading cloudpickle-1.6.0-py3-none-any.whl (23 kB)\n",
            "Collecting fsspec>=0.6.0\n",
            "  Downloading fsspec-2021.7.0-py3-none-any.whl (118 kB)\n",
            "\u001b[K     |████████████████████████████████| 118 kB 79.8 MB/s \n",
            "\u001b[?25hCollecting partd>=0.3.10\n",
            "  Downloading partd-1.2.0-py3-none-any.whl (19 kB)\n",
            "Requirement already satisfied: packaging in /usr/local/lib/python3.7/dist-packages (from fastai<3.0,>=2.0->autogluon.tabular[all]==0.2.0->autogluon) (21.0)\n",
            "Requirement already satisfied: torchvision>=0.8.2 in /usr/local/lib/python3.7/dist-packages (from fastai<3.0,>=2.0->autogluon.tabular[all]==0.2.0->autogluon) (0.10.0+cu102)\n",
            "Requirement already satisfied: spacy<4 in /usr/local/lib/python3.7/dist-packages (from fastai<3.0,>=2.0->autogluon.tabular[all]==0.2.0->autogluon) (2.2.4)\n",
            "Collecting fastcore<1.4,>=1.3.8\n",
            "  Downloading fastcore-1.3.20-py3-none-any.whl (53 kB)\n",
            "\u001b[K     |████████████████████████████████| 53 kB 48.1 MB/s \n",
            "\u001b[?25hRequirement already satisfied: pip in /usr/local/lib/python3.7/dist-packages (from fastai<3.0,>=2.0->autogluon.tabular[all]==0.2.0->autogluon) (21.1.3)\n",
            "Requirement already satisfied: fastprogress>=0.2.4 in /usr/local/lib/python3.7/dist-packages (from fastai<3.0,>=2.0->autogluon.tabular[all]==0.2.0->autogluon) (1.0.0)\n",
            "Requirement already satisfied: opencv-python in /usr/local/lib/python3.7/dist-packages (from gluoncv<0.11,>=0.10.1.post0->autogluon.extra==0.2.0->autogluon) (4.1.2.30)\n",
            "Collecting portalocker\n",
            "  Downloading portalocker-2.3.0-py2.py3-none-any.whl (15 kB)\n",
            "Collecting autocfg\n",
            "  Downloading autocfg-0.0.8-py3-none-any.whl (13 kB)\n",
            "Requirement already satisfied: wheel in /usr/local/lib/python3.7/dist-packages (from lightgbm<4.0,>=3.0->autogluon.tabular[all]==0.2.0->autogluon) (0.36.2)\n",
            "Requirement already satisfied: decorator<5,>=4.3 in /usr/local/lib/python3.7/dist-packages (from networkx<3.0,>=2.3->autogluon.tabular[all]==0.2.0->autogluon) (4.4.2)\n",
            "Requirement already satisfied: pytz>=2017.2 in /usr/local/lib/python3.7/dist-packages (from pandas<2.0,>=1.0.0->autogluon.core==0.2.0->autogluon) (2018.9)\n",
            "Requirement already satisfied: python-dateutil>=2.7.3 in /usr/local/lib/python3.7/dist-packages (from pandas<2.0,>=1.0.0->autogluon.core==0.2.0->autogluon) (2.8.1)\n",
            "Collecting cryptography>=2.5\n",
            "  Downloading cryptography-3.4.7-cp36-abi3-manylinux2014_x86_64.whl (3.2 MB)\n",
            "\u001b[K     |████████████████████████████████| 3.2 MB 55.9 MB/s \n",
            "\u001b[?25hCollecting bcrypt>=3.1.3\n",
            "  Downloading bcrypt-3.2.0-cp36-abi3-manylinux2010_x86_64.whl (63 kB)\n",
            "\u001b[K     |████████████████████████████████| 63 kB 56.9 MB/s \n",
            "\u001b[?25hCollecting pynacl>=1.0.1\n",
            "  Downloading PyNaCl-1.4.0-cp35-abi3-manylinux1_x86_64.whl (961 kB)\n",
            "\u001b[K     |████████████████████████████████| 961 kB 55.5 MB/s \n",
            "\u001b[?25hRequirement already satisfied: cffi>=1.1 in /usr/local/lib/python3.7/dist-packages (from bcrypt>=3.1.3->paramiko>=2.4->autogluon.core==0.2.0->autogluon) (1.14.6)\n",
            "Requirement already satisfied: pycparser in /usr/local/lib/python3.7/dist-packages (from cffi>=1.1->bcrypt>=3.1.3->paramiko>=2.4->autogluon.core==0.2.0->autogluon) (2.20)\n",
            "Collecting locket\n",
            "  Downloading locket-0.2.1-py2.py3-none-any.whl (4.1 kB)\n",
            "Requirement already satisfied: joblib in /usr/local/lib/python3.7/dist-packages (from sacremoses>=0.0.38->autogluon-contrib-nlp==0.0.1b20210201->autogluon.text==0.2.0->autogluon) (1.0.1)\n",
            "Collecting threadpoolctl>=2.0.0\n",
            "  Downloading threadpoolctl-2.2.0-py3-none-any.whl (12 kB)\n",
            "Requirement already satisfied: srsly<1.1.0,>=1.0.2 in /usr/local/lib/python3.7/dist-packages (from spacy<4->fastai<3.0,>=2.0->autogluon.tabular[all]==0.2.0->autogluon) (1.0.5)\n",
            "Requirement already satisfied: blis<0.5.0,>=0.4.0 in /usr/local/lib/python3.7/dist-packages (from spacy<4->fastai<3.0,>=2.0->autogluon.tabular[all]==0.2.0->autogluon) (0.4.1)\n",
            "Requirement already satisfied: catalogue<1.1.0,>=0.0.7 in /usr/local/lib/python3.7/dist-packages (from spacy<4->fastai<3.0,>=2.0->autogluon.tabular[all]==0.2.0->autogluon) (1.0.0)\n",
            "Requirement already satisfied: preshed<3.1.0,>=3.0.2 in /usr/local/lib/python3.7/dist-packages (from spacy<4->fastai<3.0,>=2.0->autogluon.tabular[all]==0.2.0->autogluon) (3.0.5)\n",
            "Requirement already satisfied: murmurhash<1.1.0,>=0.28.0 in /usr/local/lib/python3.7/dist-packages (from spacy<4->fastai<3.0,>=2.0->autogluon.tabular[all]==0.2.0->autogluon) (1.0.5)\n",
            "Requirement already satisfied: wasabi<1.1.0,>=0.4.0 in /usr/local/lib/python3.7/dist-packages (from spacy<4->fastai<3.0,>=2.0->autogluon.tabular[all]==0.2.0->autogluon) (0.8.2)\n",
            "Requirement already satisfied: plac<1.2.0,>=0.9.6 in /usr/local/lib/python3.7/dist-packages (from spacy<4->fastai<3.0,>=2.0->autogluon.tabular[all]==0.2.0->autogluon) (1.1.3)\n",
            "Requirement already satisfied: thinc==7.4.0 in /usr/local/lib/python3.7/dist-packages (from spacy<4->fastai<3.0,>=2.0->autogluon.tabular[all]==0.2.0->autogluon) (7.4.0)\n",
            "Requirement already satisfied: cymem<2.1.0,>=2.0.2 in /usr/local/lib/python3.7/dist-packages (from spacy<4->fastai<3.0,>=2.0->autogluon.tabular[all]==0.2.0->autogluon) (2.0.5)\n",
            "Requirement already satisfied: importlib-metadata>=0.20 in /usr/local/lib/python3.7/dist-packages (from catalogue<1.1.0,>=0.0.7->spacy<4->fastai<3.0,>=2.0->autogluon.tabular[all]==0.2.0->autogluon) (4.6.1)\n",
            "Requirement already satisfied: zipp>=0.5 in /usr/local/lib/python3.7/dist-packages (from importlib-metadata>=0.20->catalogue<1.1.0,>=0.0.7->spacy<4->fastai<3.0,>=2.0->autogluon.tabular[all]==0.2.0->autogluon) (3.5.0)\n",
            "Requirement already satisfied: typing-extensions>=3.6.4 in /usr/local/lib/python3.7/dist-packages (from importlib-metadata>=0.20->catalogue<1.1.0,>=0.0.7->spacy<4->fastai<3.0,>=2.0->autogluon.tabular[all]==0.2.0->autogluon) (3.7.4.3)\n",
            "Requirement already satisfied: chardet<4,>=3.0.2 in /usr/local/lib/python3.7/dist-packages (from requests->autogluon.core==0.2.0->autogluon) (3.0.4)\n",
            "Requirement already satisfied: idna<3,>=2.5 in /usr/local/lib/python3.7/dist-packages (from requests->autogluon.core==0.2.0->autogluon) (2.10)\n",
            "Requirement already satisfied: certifi>=2017.4.17 in /usr/local/lib/python3.7/dist-packages (from requests->autogluon.core==0.2.0->autogluon) (2021.5.30)\n",
            "Requirement already satisfied: urllib3!=1.25.0,!=1.25.1,<1.26,>=1.21.1 in /usr/local/lib/python3.7/dist-packages (from requests->autogluon.core==0.2.0->autogluon) (1.24.3)\n",
            "Requirement already satisfied: heapdict in /usr/local/lib/python3.7/dist-packages (from zict>=0.1.3->distributed>=2.6.0->autogluon.core==0.2.0->autogluon) (1.0.1)\n",
            "Collecting s3transfer<0.6.0,>=0.5.0\n",
            "  Downloading s3transfer-0.5.0-py3-none-any.whl (79 kB)\n",
            "\u001b[K     |████████████████████████████████| 79 kB 72.2 MB/s \n",
            "\u001b[?25hCollecting botocore<1.22.0,>=1.21.3\n",
            "  Downloading botocore-1.21.3-py3-none-any.whl (7.7 MB)\n",
            "\u001b[K     |████████████████████████████████| 7.7 MB 71.7 MB/s \n",
            "\u001b[?25hCollecting jmespath<1.0.0,>=0.7.1\n",
            "  Downloading jmespath-0.10.0-py2.py3-none-any.whl (24 kB)\n",
            "Collecting urllib3!=1.25.0,!=1.25.1,<1.26,>=1.21.1\n",
            "  Downloading urllib3-1.25.11-py2.py3-none-any.whl (127 kB)\n",
            "\u001b[K     |████████████████████████████████| 127 kB 79.3 MB/s \n",
            "\u001b[?25hCollecting immutables>=0.9\n",
            "  Downloading immutables-0.15-cp37-cp37m-manylinux1_x86_64.whl (101 kB)\n",
            "\u001b[K     |████████████████████████████████| 101 kB 79.4 MB/s \n",
            "\u001b[?25hCollecting pyflakes<2.4.0,>=2.3.0\n",
            "  Downloading pyflakes-2.3.1-py2.py3-none-any.whl (68 kB)\n",
            "\u001b[K     |████████████████████████████████| 68 kB 64.4 MB/s \n",
            "\u001b[?25hCollecting mccabe<0.7.0,>=0.6.0\n",
            "  Downloading mccabe-0.6.1-py2.py3-none-any.whl (8.6 kB)\n",
            "Collecting pycodestyle<2.8.0,>=2.7.0\n",
            "  Downloading pycodestyle-2.7.0-py2.py3-none-any.whl (41 kB)\n",
            "\u001b[K     |████████████████████████████████| 41 kB 25.9 MB/s \n",
            "\u001b[?25hRequirement already satisfied: python-slugify in /usr/local/lib/python3.7/dist-packages (from kaggle->d8<1.0,>=0.0.2->autogluon.vision==0.2.0->autogluon) (5.0.2)\n",
            "Requirement already satisfied: kiwisolver>=1.0.1 in /usr/local/lib/python3.7/dist-packages (from matplotlib->autogluon.core==0.2.0->autogluon) (1.3.1)\n",
            "Requirement already satisfied: cycler>=0.10 in /usr/local/lib/python3.7/dist-packages (from matplotlib->autogluon.core==0.2.0->autogluon) (0.10.0)\n",
            "Collecting liac-arff>=2.4.0\n",
            "  Downloading liac-arff-2.5.0.tar.gz (13 kB)\n",
            "Collecting xmltodict\n",
            "  Downloading xmltodict-0.12.0-py2.py3-none-any.whl (9.2 kB)\n",
            "Collecting minio\n",
            "  Downloading minio-7.1.0-py3-none-any.whl (75 kB)\n",
            "\u001b[K     |████████████████████████████████| 75 kB 62.1 MB/s \n",
            "\u001b[?25hRequirement already satisfied: retrying>=1.3.3 in /usr/local/lib/python3.7/dist-packages (from plotly->catboost<0.26,>=0.24.0->autogluon.tabular[all]==0.2.0->autogluon) (1.3.3)\n",
            "Requirement already satisfied: atomicwrites>=1.0 in /usr/local/lib/python3.7/dist-packages (from pytest->autogluon.extra==0.2.0->autogluon) (1.4.0)\n",
            "Requirement already satisfied: attrs>=17.4.0 in /usr/local/lib/python3.7/dist-packages (from pytest->autogluon.extra==0.2.0->autogluon) (21.2.0)\n",
            "Requirement already satisfied: pluggy<0.8,>=0.5 in /usr/local/lib/python3.7/dist-packages (from pytest->autogluon.extra==0.2.0->autogluon) (0.7.1)\n",
            "Requirement already satisfied: py>=1.5.0 in /usr/local/lib/python3.7/dist-packages (from pytest->autogluon.extra==0.2.0->autogluon) (1.10.0)\n",
            "Requirement already satisfied: more-itertools>=4.0.0 in /usr/local/lib/python3.7/dist-packages (from pytest->autogluon.extra==0.2.0->autogluon) (8.8.0)\n",
            "Requirement already satisfied: text-unidecode>=1.3 in /usr/local/lib/python3.7/dist-packages (from python-slugify->kaggle->d8<1.0,>=0.0.2->autogluon.vision==0.2.0->autogluon) (1.3)\n",
            "Collecting portalocker\n",
            "  Downloading portalocker-2.0.0-py2.py3-none-any.whl (11 kB)\n",
            "Building wheels for collected packages: ConfigSpace, contextvars, openml, liac-arff\n",
            "  Building wheel for ConfigSpace (PEP 517) ... \u001b[?25l\u001b[?25hdone\n",
            "  Created wheel for ConfigSpace: filename=ConfigSpace-0.4.18-cp37-cp37m-linux_x86_64.whl size=2879995 sha256=d9cdf956eb83d0bbd84af6edf5ecef1b694eabb8f8caf173a35489f82d8762d6\n",
            "  Stored in directory: /tmp/pip-ephem-wheel-cache-bcvx47p3/wheels/36/f7/0f/36f368c419ea1a8024fc3d6c078c3111dfef43fa1d14cfebe0\n",
            "  Building wheel for contextvars (setup.py) ... \u001b[?25l\u001b[?25hdone\n",
            "  Created wheel for contextvars: filename=contextvars-2.4-py3-none-any.whl size=7680 sha256=ac3b453767175070156416e47df5c25d6d4e5b4ffea38f58f7f7b7f917584aeb\n",
            "  Stored in directory: /tmp/pip-ephem-wheel-cache-bcvx47p3/wheels/0a/11/79/e70e668095c0bb1f94718af672ef2d35ee7a023fee56ef54d9\n",
            "  Building wheel for openml (setup.py) ... \u001b[?25l\u001b[?25hdone\n",
            "  Created wheel for openml: filename=openml-0.12.2-py3-none-any.whl size=137326 sha256=d9dc3921c059d9109e00bd2804eb6d6b8f137057f6366115e85481d79603af79\n",
            "  Stored in directory: /tmp/pip-ephem-wheel-cache-bcvx47p3/wheels/6a/20/88/cf4ac86aa18e2cd647ed16ebe274a5dacee9d0075fa02af250\n",
            "  Building wheel for liac-arff (setup.py) ... \u001b[?25l\u001b[?25hdone\n",
            "  Created wheel for liac-arff: filename=liac_arff-2.5.0-py3-none-any.whl size=11730 sha256=efcc0e7bf8cb0f8d65659572fd0ef96095f28e1ae4c7a69d2102ccd2c339f34d\n",
            "  Stored in directory: /tmp/pip-ephem-wheel-cache-bcvx47p3/wheels/1f/0f/15/332ca86cbebf25ddf98518caaf887945fbe1712b97a0f2493b\n",
            "Successfully built ConfigSpace contextvars openml liac-arff\n",
            "Installing collected packages: urllib3, locket, jmespath, partd, fsspec, cloudpickle, botocore, threadpoolctl, scipy, s3transfer, pynacl, psutil, dask, cryptography, bcrypt, scikit-learn, paramiko, distributed, dill, ConfigSpace, boto3, xmltodict, pyflakes, pycodestyle, portalocker, minio, mccabe, liac-arff, immutables, autogluon.core, yacs, xxhash, tokenizers, sentencepiece, sacremoses, sacrebleu, openml, flake8, fastcore, contextvars, autogluon.features, autocfg, xgboost, lightgbm, gluoncv, fastai, d8, catboost, autogluon.tabular, autogluon.mxnet, autogluon-contrib-nlp, autogluon.vision, autogluon.text, autogluon.extra, autogluon\n",
            "  Attempting uninstall: urllib3\n",
            "    Found existing installation: urllib3 1.24.3\n",
            "    Uninstalling urllib3-1.24.3:\n",
            "      Successfully uninstalled urllib3-1.24.3\n",
            "  Attempting uninstall: cloudpickle\n",
            "    Found existing installation: cloudpickle 1.3.0\n",
            "    Uninstalling cloudpickle-1.3.0:\n",
            "      Successfully uninstalled cloudpickle-1.3.0\n",
            "  Attempting uninstall: scipy\n",
            "    Found existing installation: scipy 1.4.1\n",
            "    Uninstalling scipy-1.4.1:\n",
            "      Successfully uninstalled scipy-1.4.1\n",
            "  Attempting uninstall: psutil\n",
            "    Found existing installation: psutil 5.4.8\n",
            "    Uninstalling psutil-5.4.8:\n",
            "      Successfully uninstalled psutil-5.4.8\n",
            "  Attempting uninstall: dask\n",
            "    Found existing installation: dask 2.12.0\n",
            "    Uninstalling dask-2.12.0:\n",
            "      Successfully uninstalled dask-2.12.0\n",
            "  Attempting uninstall: scikit-learn\n",
            "    Found existing installation: scikit-learn 0.22.2.post1\n",
            "    Uninstalling scikit-learn-0.22.2.post1:\n",
            "      Successfully uninstalled scikit-learn-0.22.2.post1\n",
            "  Attempting uninstall: distributed\n",
            "    Found existing installation: distributed 1.25.3\n",
            "    Uninstalling distributed-1.25.3:\n",
            "      Successfully uninstalled distributed-1.25.3\n",
            "  Attempting uninstall: dill\n",
            "    Found existing installation: dill 0.3.4\n",
            "    Uninstalling dill-0.3.4:\n",
            "      Successfully uninstalled dill-0.3.4\n",
            "  Attempting uninstall: xgboost\n",
            "    Found existing installation: xgboost 0.90\n",
            "    Uninstalling xgboost-0.90:\n",
            "      Successfully uninstalled xgboost-0.90\n",
            "  Attempting uninstall: lightgbm\n",
            "    Found existing installation: lightgbm 2.2.3\n",
            "    Uninstalling lightgbm-2.2.3:\n",
            "      Successfully uninstalled lightgbm-2.2.3\n",
            "  Attempting uninstall: fastai\n",
            "    Found existing installation: fastai 1.0.61\n",
            "    Uninstalling fastai-1.0.61:\n",
            "      Successfully uninstalled fastai-1.0.61\n",
            "\u001b[31mERROR: pip's dependency resolver does not currently take into account all the packages that are installed. This behaviour is the source of the following dependency conflicts.\n",
            "panel 0.11.3 requires bokeh<2.4.0,>=2.3.0, but you have bokeh 2.0.1 which is incompatible.\n",
            "multiprocess 0.70.12.2 requires dill>=0.3.4, but you have dill 0.3.3 which is incompatible.\n",
            "datascience 0.10.6 requires folium==0.2.1, but you have folium 0.8.3 which is incompatible.\n",
            "albumentations 0.1.12 requires imgaug<0.2.7,>=0.2.5, but you have imgaug 0.2.9 which is incompatible.\u001b[0m\n",
            "Successfully installed ConfigSpace-0.4.18 autocfg-0.0.8 autogluon-0.2.0 autogluon-contrib-nlp-0.0.1b20210201 autogluon.core-0.2.0 autogluon.extra-0.2.0 autogluon.features-0.2.0 autogluon.mxnet-0.2.0 autogluon.tabular-0.2.0 autogluon.text-0.2.0 autogluon.vision-0.2.0 bcrypt-3.2.0 boto3-1.18.3 botocore-1.21.3 catboost-0.25.1 cloudpickle-1.6.0 contextvars-2.4 cryptography-3.4.7 d8-0.0.2.post0 dask-2021.7.0 dill-0.3.3 distributed-2021.7.0 fastai-2.4.1 fastcore-1.3.20 flake8-3.9.2 fsspec-2021.7.0 gluoncv-0.10.3.post0 immutables-0.15 jmespath-0.10.0 liac-arff-2.5.0 lightgbm-3.2.1 locket-0.2.1 mccabe-0.6.1 minio-7.1.0 openml-0.12.2 paramiko-2.7.2 partd-1.2.0 portalocker-2.0.0 psutil-5.8.0 pycodestyle-2.7.0 pyflakes-2.3.1 pynacl-1.4.0 s3transfer-0.5.0 sacrebleu-1.5.1 sacremoses-0.0.45 scikit-learn-0.24.2 scipy-1.6.3 sentencepiece-0.1.95 threadpoolctl-2.2.0 tokenizers-0.9.4 urllib3-1.25.11 xgboost-1.3.3 xmltodict-0.12.0 xxhash-2.0.2 yacs-0.1.8\n"
          ],
          "name": "stdout"
        },
        {
          "output_type": "display_data",
          "data": {
            "application/vnd.colab-display-data+json": {
              "pip_warning": {
                "packages": [
                  "contextvars",
                  "psutil"
                ]
              }
            }
          },
          "metadata": {
            "tags": []
          }
        }
      ]
    },
    {
      "cell_type": "markdown",
      "metadata": {
        "id": "2IMYd2wAI-e4"
      },
      "source": [
        "### Setup Kaggle API Key"
      ]
    },
    {
      "cell_type": "code",
      "metadata": {
        "id": "3yDzjdlrI-e5"
      },
      "source": [
        "# create the .kaggle directory and an empty kaggle.json file\n",
        "!mkdir -p /root/.kaggle\n",
        "!touch /root/.kaggle/kaggle.json\n",
        "!chmod 600 /root/.kaggle/kaggle.json"
      ],
      "execution_count": null,
      "outputs": []
    },
    {
      "cell_type": "code",
      "metadata": {
        "id": "0NX9Wb2QI-e5"
      },
      "source": [
        "# Fill in your user name and key from creating the kaggle account and API token file\n",
        "import json\n",
        "kaggle_username = \"alathiya\"\n",
        "kaggle_key = \"ed7e146cbc308a331148fd61456d6883\"\n",
        "\n",
        "# Save API token the kaggle.json file\n",
        "with open(\"/root/.kaggle/kaggle.json\", \"w\") as f:\n",
        "    f.write(json.dumps({\"username\": kaggle_username, \"key\": kaggle_key}))"
      ],
      "execution_count": null,
      "outputs": []
    },
    {
      "cell_type": "markdown",
      "metadata": {
        "id": "9_uIn1KOI-e6"
      },
      "source": [
        "### Download and explore dataset"
      ]
    },
    {
      "cell_type": "markdown",
      "metadata": {
        "id": "lJryO8HnI-e6"
      },
      "source": [
        "### Go to the bike sharing demand competition and agree to the terms\n",
        "![kaggle6.png](attachment:kaggle6.png)"
      ]
    },
    {
      "cell_type": "code",
      "metadata": {
        "id": "2HhHcZqeI-e7",
        "colab": {
          "base_uri": "https://localhost:8080/"
        },
        "outputId": "a7135df8-25a1-4e77-cd30-35d966a79c96"
      },
      "source": [
        "# Download the dataset, it will be in a .zip file so you'll need to unzip it as well.\n",
        "!kaggle competitions download -c bike-sharing-demand\n",
        "# If you already downloaded it you can use the -o command to overwrite the file\n",
        "!unzip -o bike-sharing-demand.zip"
      ],
      "execution_count": null,
      "outputs": [
        {
          "output_type": "stream",
          "text": [
            "Warning: Looks like you're using an outdated API Version, please consider updating (server 1.5.12 / client 1.5.4)\n",
            "test.csv: Skipping, found more recently modified local copy (use --force to force download)\n",
            "train.csv: Skipping, found more recently modified local copy (use --force to force download)\n",
            "sampleSubmission.csv: Skipping, found more recently modified local copy (use --force to force download)\n",
            "unzip:  cannot find or open bike-sharing-demand.zip, bike-sharing-demand.zip.zip or bike-sharing-demand.zip.ZIP.\n"
          ],
          "name": "stdout"
        }
      ]
    },
    {
      "cell_type": "code",
      "metadata": {
        "id": "JycEgk2UI-e7"
      },
      "source": [
        "import pandas as pd\n",
        "from autogluon.tabular import TabularPredictor"
      ],
      "execution_count": 1,
      "outputs": []
    },
    {
      "cell_type": "code",
      "metadata": {
        "id": "wbmvkZPSI-e8",
        "colab": {
          "base_uri": "https://localhost:8080/",
          "height": 195
        },
        "outputId": "4edde40c-a00d-444f-b854-e8cc98b46d8d"
      },
      "source": [
        "# Create the train dataset in pandas by reading the csv\n",
        "# Set the parsing of the datetime column so you can use some of the `dt` features in pandas later\n",
        "train = pd.read_csv('train.csv', parse_dates = ['datetime'])\n",
        "train.head()"
      ],
      "execution_count": null,
      "outputs": [
        {
          "output_type": "execute_result",
          "data": {
            "text/html": [
              "<div>\n",
              "<style scoped>\n",
              "    .dataframe tbody tr th:only-of-type {\n",
              "        vertical-align: middle;\n",
              "    }\n",
              "\n",
              "    .dataframe tbody tr th {\n",
              "        vertical-align: top;\n",
              "    }\n",
              "\n",
              "    .dataframe thead th {\n",
              "        text-align: right;\n",
              "    }\n",
              "</style>\n",
              "<table border=\"1\" class=\"dataframe\">\n",
              "  <thead>\n",
              "    <tr style=\"text-align: right;\">\n",
              "      <th></th>\n",
              "      <th>datetime</th>\n",
              "      <th>season</th>\n",
              "      <th>holiday</th>\n",
              "      <th>workingday</th>\n",
              "      <th>weather</th>\n",
              "      <th>temp</th>\n",
              "      <th>atemp</th>\n",
              "      <th>humidity</th>\n",
              "      <th>windspeed</th>\n",
              "      <th>casual</th>\n",
              "      <th>registered</th>\n",
              "      <th>count</th>\n",
              "    </tr>\n",
              "  </thead>\n",
              "  <tbody>\n",
              "    <tr>\n",
              "      <th>0</th>\n",
              "      <td>2011-01-01 00:00:00</td>\n",
              "      <td>1</td>\n",
              "      <td>0</td>\n",
              "      <td>0</td>\n",
              "      <td>1</td>\n",
              "      <td>9.84</td>\n",
              "      <td>14.395</td>\n",
              "      <td>81</td>\n",
              "      <td>0.0</td>\n",
              "      <td>3</td>\n",
              "      <td>13</td>\n",
              "      <td>16</td>\n",
              "    </tr>\n",
              "    <tr>\n",
              "      <th>1</th>\n",
              "      <td>2011-01-01 01:00:00</td>\n",
              "      <td>1</td>\n",
              "      <td>0</td>\n",
              "      <td>0</td>\n",
              "      <td>1</td>\n",
              "      <td>9.02</td>\n",
              "      <td>13.635</td>\n",
              "      <td>80</td>\n",
              "      <td>0.0</td>\n",
              "      <td>8</td>\n",
              "      <td>32</td>\n",
              "      <td>40</td>\n",
              "    </tr>\n",
              "    <tr>\n",
              "      <th>2</th>\n",
              "      <td>2011-01-01 02:00:00</td>\n",
              "      <td>1</td>\n",
              "      <td>0</td>\n",
              "      <td>0</td>\n",
              "      <td>1</td>\n",
              "      <td>9.02</td>\n",
              "      <td>13.635</td>\n",
              "      <td>80</td>\n",
              "      <td>0.0</td>\n",
              "      <td>5</td>\n",
              "      <td>27</td>\n",
              "      <td>32</td>\n",
              "    </tr>\n",
              "    <tr>\n",
              "      <th>3</th>\n",
              "      <td>2011-01-01 03:00:00</td>\n",
              "      <td>1</td>\n",
              "      <td>0</td>\n",
              "      <td>0</td>\n",
              "      <td>1</td>\n",
              "      <td>9.84</td>\n",
              "      <td>14.395</td>\n",
              "      <td>75</td>\n",
              "      <td>0.0</td>\n",
              "      <td>3</td>\n",
              "      <td>10</td>\n",
              "      <td>13</td>\n",
              "    </tr>\n",
              "    <tr>\n",
              "      <th>4</th>\n",
              "      <td>2011-01-01 04:00:00</td>\n",
              "      <td>1</td>\n",
              "      <td>0</td>\n",
              "      <td>0</td>\n",
              "      <td>1</td>\n",
              "      <td>9.84</td>\n",
              "      <td>14.395</td>\n",
              "      <td>75</td>\n",
              "      <td>0.0</td>\n",
              "      <td>0</td>\n",
              "      <td>1</td>\n",
              "      <td>1</td>\n",
              "    </tr>\n",
              "  </tbody>\n",
              "</table>\n",
              "</div>"
            ],
            "text/plain": [
              "             datetime  season  holiday  ...  casual  registered  count\n",
              "0 2011-01-01 00:00:00       1        0  ...       3          13     16\n",
              "1 2011-01-01 01:00:00       1        0  ...       8          32     40\n",
              "2 2011-01-01 02:00:00       1        0  ...       5          27     32\n",
              "3 2011-01-01 03:00:00       1        0  ...       3          10     13\n",
              "4 2011-01-01 04:00:00       1        0  ...       0           1      1\n",
              "\n",
              "[5 rows x 12 columns]"
            ]
          },
          "metadata": {
            "tags": []
          },
          "execution_count": 6
        }
      ]
    },
    {
      "cell_type": "code",
      "metadata": {
        "id": "d3yHJaVMI-e9",
        "colab": {
          "base_uri": "https://localhost:8080/",
          "height": 284
        },
        "outputId": "bb786e86-5933-44ee-ea18-56c895367d45"
      },
      "source": [
        "# Simple output of the train dataset to view some of the min/max/varition of the dataset features.\n",
        "train.describe()"
      ],
      "execution_count": null,
      "outputs": [
        {
          "output_type": "execute_result",
          "data": {
            "text/html": [
              "<div>\n",
              "<style scoped>\n",
              "    .dataframe tbody tr th:only-of-type {\n",
              "        vertical-align: middle;\n",
              "    }\n",
              "\n",
              "    .dataframe tbody tr th {\n",
              "        vertical-align: top;\n",
              "    }\n",
              "\n",
              "    .dataframe thead th {\n",
              "        text-align: right;\n",
              "    }\n",
              "</style>\n",
              "<table border=\"1\" class=\"dataframe\">\n",
              "  <thead>\n",
              "    <tr style=\"text-align: right;\">\n",
              "      <th></th>\n",
              "      <th>season</th>\n",
              "      <th>holiday</th>\n",
              "      <th>workingday</th>\n",
              "      <th>weather</th>\n",
              "      <th>temp</th>\n",
              "      <th>atemp</th>\n",
              "      <th>humidity</th>\n",
              "      <th>windspeed</th>\n",
              "      <th>casual</th>\n",
              "      <th>registered</th>\n",
              "      <th>count</th>\n",
              "    </tr>\n",
              "  </thead>\n",
              "  <tbody>\n",
              "    <tr>\n",
              "      <th>count</th>\n",
              "      <td>10886.000000</td>\n",
              "      <td>10886.000000</td>\n",
              "      <td>10886.000000</td>\n",
              "      <td>10886.000000</td>\n",
              "      <td>10886.00000</td>\n",
              "      <td>10886.000000</td>\n",
              "      <td>10886.000000</td>\n",
              "      <td>10886.000000</td>\n",
              "      <td>10886.000000</td>\n",
              "      <td>10886.000000</td>\n",
              "      <td>10886.000000</td>\n",
              "    </tr>\n",
              "    <tr>\n",
              "      <th>mean</th>\n",
              "      <td>2.506614</td>\n",
              "      <td>0.028569</td>\n",
              "      <td>0.680875</td>\n",
              "      <td>1.418427</td>\n",
              "      <td>20.23086</td>\n",
              "      <td>23.655084</td>\n",
              "      <td>61.886460</td>\n",
              "      <td>12.799395</td>\n",
              "      <td>36.021955</td>\n",
              "      <td>155.552177</td>\n",
              "      <td>191.574132</td>\n",
              "    </tr>\n",
              "    <tr>\n",
              "      <th>std</th>\n",
              "      <td>1.116174</td>\n",
              "      <td>0.166599</td>\n",
              "      <td>0.466159</td>\n",
              "      <td>0.633839</td>\n",
              "      <td>7.79159</td>\n",
              "      <td>8.474601</td>\n",
              "      <td>19.245033</td>\n",
              "      <td>8.164537</td>\n",
              "      <td>49.960477</td>\n",
              "      <td>151.039033</td>\n",
              "      <td>181.144454</td>\n",
              "    </tr>\n",
              "    <tr>\n",
              "      <th>min</th>\n",
              "      <td>1.000000</td>\n",
              "      <td>0.000000</td>\n",
              "      <td>0.000000</td>\n",
              "      <td>1.000000</td>\n",
              "      <td>0.82000</td>\n",
              "      <td>0.760000</td>\n",
              "      <td>0.000000</td>\n",
              "      <td>0.000000</td>\n",
              "      <td>0.000000</td>\n",
              "      <td>0.000000</td>\n",
              "      <td>1.000000</td>\n",
              "    </tr>\n",
              "    <tr>\n",
              "      <th>25%</th>\n",
              "      <td>2.000000</td>\n",
              "      <td>0.000000</td>\n",
              "      <td>0.000000</td>\n",
              "      <td>1.000000</td>\n",
              "      <td>13.94000</td>\n",
              "      <td>16.665000</td>\n",
              "      <td>47.000000</td>\n",
              "      <td>7.001500</td>\n",
              "      <td>4.000000</td>\n",
              "      <td>36.000000</td>\n",
              "      <td>42.000000</td>\n",
              "    </tr>\n",
              "    <tr>\n",
              "      <th>50%</th>\n",
              "      <td>3.000000</td>\n",
              "      <td>0.000000</td>\n",
              "      <td>1.000000</td>\n",
              "      <td>1.000000</td>\n",
              "      <td>20.50000</td>\n",
              "      <td>24.240000</td>\n",
              "      <td>62.000000</td>\n",
              "      <td>12.998000</td>\n",
              "      <td>17.000000</td>\n",
              "      <td>118.000000</td>\n",
              "      <td>145.000000</td>\n",
              "    </tr>\n",
              "    <tr>\n",
              "      <th>75%</th>\n",
              "      <td>4.000000</td>\n",
              "      <td>0.000000</td>\n",
              "      <td>1.000000</td>\n",
              "      <td>2.000000</td>\n",
              "      <td>26.24000</td>\n",
              "      <td>31.060000</td>\n",
              "      <td>77.000000</td>\n",
              "      <td>16.997900</td>\n",
              "      <td>49.000000</td>\n",
              "      <td>222.000000</td>\n",
              "      <td>284.000000</td>\n",
              "    </tr>\n",
              "    <tr>\n",
              "      <th>max</th>\n",
              "      <td>4.000000</td>\n",
              "      <td>1.000000</td>\n",
              "      <td>1.000000</td>\n",
              "      <td>4.000000</td>\n",
              "      <td>41.00000</td>\n",
              "      <td>45.455000</td>\n",
              "      <td>100.000000</td>\n",
              "      <td>56.996900</td>\n",
              "      <td>367.000000</td>\n",
              "      <td>886.000000</td>\n",
              "      <td>977.000000</td>\n",
              "    </tr>\n",
              "  </tbody>\n",
              "</table>\n",
              "</div>"
            ],
            "text/plain": [
              "             season       holiday  ...    registered         count\n",
              "count  10886.000000  10886.000000  ...  10886.000000  10886.000000\n",
              "mean       2.506614      0.028569  ...    155.552177    191.574132\n",
              "std        1.116174      0.166599  ...    151.039033    181.144454\n",
              "min        1.000000      0.000000  ...      0.000000      1.000000\n",
              "25%        2.000000      0.000000  ...     36.000000     42.000000\n",
              "50%        3.000000      0.000000  ...    118.000000    145.000000\n",
              "75%        4.000000      0.000000  ...    222.000000    284.000000\n",
              "max        4.000000      1.000000  ...    886.000000    977.000000\n",
              "\n",
              "[8 rows x 11 columns]"
            ]
          },
          "metadata": {
            "tags": []
          },
          "execution_count": 7
        }
      ]
    },
    {
      "cell_type": "code",
      "metadata": {
        "id": "9UP2upX8I-e9",
        "colab": {
          "base_uri": "https://localhost:8080/",
          "height": 195
        },
        "outputId": "cac7676d-d0d8-4a4c-c841-265c5b52760a"
      },
      "source": [
        "# Create the test pandas dataframe in pandas by reading the csv, remember to parse the datetime!\n",
        "test = pd.read_csv('test.csv', parse_dates = ['datetime'])\n",
        "test.head()"
      ],
      "execution_count": null,
      "outputs": [
        {
          "output_type": "execute_result",
          "data": {
            "text/html": [
              "<div>\n",
              "<style scoped>\n",
              "    .dataframe tbody tr th:only-of-type {\n",
              "        vertical-align: middle;\n",
              "    }\n",
              "\n",
              "    .dataframe tbody tr th {\n",
              "        vertical-align: top;\n",
              "    }\n",
              "\n",
              "    .dataframe thead th {\n",
              "        text-align: right;\n",
              "    }\n",
              "</style>\n",
              "<table border=\"1\" class=\"dataframe\">\n",
              "  <thead>\n",
              "    <tr style=\"text-align: right;\">\n",
              "      <th></th>\n",
              "      <th>datetime</th>\n",
              "      <th>season</th>\n",
              "      <th>holiday</th>\n",
              "      <th>workingday</th>\n",
              "      <th>weather</th>\n",
              "      <th>temp</th>\n",
              "      <th>atemp</th>\n",
              "      <th>humidity</th>\n",
              "      <th>windspeed</th>\n",
              "    </tr>\n",
              "  </thead>\n",
              "  <tbody>\n",
              "    <tr>\n",
              "      <th>0</th>\n",
              "      <td>2011-01-20 00:00:00</td>\n",
              "      <td>1</td>\n",
              "      <td>0</td>\n",
              "      <td>1</td>\n",
              "      <td>1</td>\n",
              "      <td>10.66</td>\n",
              "      <td>11.365</td>\n",
              "      <td>56</td>\n",
              "      <td>26.0027</td>\n",
              "    </tr>\n",
              "    <tr>\n",
              "      <th>1</th>\n",
              "      <td>2011-01-20 01:00:00</td>\n",
              "      <td>1</td>\n",
              "      <td>0</td>\n",
              "      <td>1</td>\n",
              "      <td>1</td>\n",
              "      <td>10.66</td>\n",
              "      <td>13.635</td>\n",
              "      <td>56</td>\n",
              "      <td>0.0000</td>\n",
              "    </tr>\n",
              "    <tr>\n",
              "      <th>2</th>\n",
              "      <td>2011-01-20 02:00:00</td>\n",
              "      <td>1</td>\n",
              "      <td>0</td>\n",
              "      <td>1</td>\n",
              "      <td>1</td>\n",
              "      <td>10.66</td>\n",
              "      <td>13.635</td>\n",
              "      <td>56</td>\n",
              "      <td>0.0000</td>\n",
              "    </tr>\n",
              "    <tr>\n",
              "      <th>3</th>\n",
              "      <td>2011-01-20 03:00:00</td>\n",
              "      <td>1</td>\n",
              "      <td>0</td>\n",
              "      <td>1</td>\n",
              "      <td>1</td>\n",
              "      <td>10.66</td>\n",
              "      <td>12.880</td>\n",
              "      <td>56</td>\n",
              "      <td>11.0014</td>\n",
              "    </tr>\n",
              "    <tr>\n",
              "      <th>4</th>\n",
              "      <td>2011-01-20 04:00:00</td>\n",
              "      <td>1</td>\n",
              "      <td>0</td>\n",
              "      <td>1</td>\n",
              "      <td>1</td>\n",
              "      <td>10.66</td>\n",
              "      <td>12.880</td>\n",
              "      <td>56</td>\n",
              "      <td>11.0014</td>\n",
              "    </tr>\n",
              "  </tbody>\n",
              "</table>\n",
              "</div>"
            ],
            "text/plain": [
              "             datetime  season  holiday  ...   atemp  humidity  windspeed\n",
              "0 2011-01-20 00:00:00       1        0  ...  11.365        56    26.0027\n",
              "1 2011-01-20 01:00:00       1        0  ...  13.635        56     0.0000\n",
              "2 2011-01-20 02:00:00       1        0  ...  13.635        56     0.0000\n",
              "3 2011-01-20 03:00:00       1        0  ...  12.880        56    11.0014\n",
              "4 2011-01-20 04:00:00       1        0  ...  12.880        56    11.0014\n",
              "\n",
              "[5 rows x 9 columns]"
            ]
          },
          "metadata": {
            "tags": []
          },
          "execution_count": 8
        }
      ]
    },
    {
      "cell_type": "code",
      "metadata": {
        "id": "EEf3NmkqI-e-",
        "colab": {
          "base_uri": "https://localhost:8080/",
          "height": 195
        },
        "outputId": "6126a535-0091-415c-d154-3567f32ef8e8"
      },
      "source": [
        "# Same thing as train and test dataset\n",
        "submission = pd.read_csv('sampleSubmission.csv', parse_dates = ['datetime'])\n",
        "submission.head()"
      ],
      "execution_count": null,
      "outputs": [
        {
          "output_type": "execute_result",
          "data": {
            "text/html": [
              "<div>\n",
              "<style scoped>\n",
              "    .dataframe tbody tr th:only-of-type {\n",
              "        vertical-align: middle;\n",
              "    }\n",
              "\n",
              "    .dataframe tbody tr th {\n",
              "        vertical-align: top;\n",
              "    }\n",
              "\n",
              "    .dataframe thead th {\n",
              "        text-align: right;\n",
              "    }\n",
              "</style>\n",
              "<table border=\"1\" class=\"dataframe\">\n",
              "  <thead>\n",
              "    <tr style=\"text-align: right;\">\n",
              "      <th></th>\n",
              "      <th>datetime</th>\n",
              "      <th>count</th>\n",
              "    </tr>\n",
              "  </thead>\n",
              "  <tbody>\n",
              "    <tr>\n",
              "      <th>0</th>\n",
              "      <td>2011-01-20 00:00:00</td>\n",
              "      <td>0</td>\n",
              "    </tr>\n",
              "    <tr>\n",
              "      <th>1</th>\n",
              "      <td>2011-01-20 01:00:00</td>\n",
              "      <td>0</td>\n",
              "    </tr>\n",
              "    <tr>\n",
              "      <th>2</th>\n",
              "      <td>2011-01-20 02:00:00</td>\n",
              "      <td>0</td>\n",
              "    </tr>\n",
              "    <tr>\n",
              "      <th>3</th>\n",
              "      <td>2011-01-20 03:00:00</td>\n",
              "      <td>0</td>\n",
              "    </tr>\n",
              "    <tr>\n",
              "      <th>4</th>\n",
              "      <td>2011-01-20 04:00:00</td>\n",
              "      <td>0</td>\n",
              "    </tr>\n",
              "  </tbody>\n",
              "</table>\n",
              "</div>"
            ],
            "text/plain": [
              "             datetime  count\n",
              "0 2011-01-20 00:00:00      0\n",
              "1 2011-01-20 01:00:00      0\n",
              "2 2011-01-20 02:00:00      0\n",
              "3 2011-01-20 03:00:00      0\n",
              "4 2011-01-20 04:00:00      0"
            ]
          },
          "metadata": {
            "tags": []
          },
          "execution_count": 9
        }
      ]
    },
    {
      "cell_type": "markdown",
      "metadata": {
        "id": "3kL5SOzBI-e-"
      },
      "source": [
        "## Step 3: Train a model using AutoGluon’s Tabular Prediction"
      ]
    },
    {
      "cell_type": "code",
      "metadata": {
        "id": "aMhqkq_2I-e_"
      },
      "source": [
        "eval_metric = 'root_mean_squared_error' \n",
        "X_train = train.drop(['casual','registered'], axis = 1)\n",
        "y_train = train['count']"
      ],
      "execution_count": null,
      "outputs": []
    },
    {
      "cell_type": "markdown",
      "metadata": {
        "id": "x6_TOrS5I-e_"
      },
      "source": [
        "Requirements:\n",
        "* We are prediting `count`, so it is the label we are setting.\n",
        "* Ignore `casual` and `registered` columns as they are also not present in the test dataset. \n",
        "* Use the `root_mean_squared_error` as the metric to use for evaluation.\n",
        "* Set a time limit of 10 minutes (600 seconds).\n",
        "* Use the preset `best_quality` to focus on creating the best model."
      ]
    },
    {
      "cell_type": "code",
      "metadata": {
        "id": "xIQNhNTJI-fA",
        "colab": {
          "base_uri": "https://localhost:8080/"
        },
        "outputId": "2ea3fa90-103b-4802-8e14-6930d547a7a6"
      },
      "source": [
        "predictor = TabularPredictor(label='count', eval_metric=eval_metric).fit(X_train, presets='best_quality', time_limit=600)"
      ],
      "execution_count": null,
      "outputs": [
        {
          "output_type": "stream",
          "text": [
            "No path specified. Models will be saved in: \"AutogluonModels/ag-20210719_223536/\"\n",
            "Presets specified: ['best_quality']\n",
            "Beginning AutoGluon training ... Time limit = 600s\n",
            "AutoGluon will save models to \"AutogluonModels/ag-20210719_223536/\"\n",
            "AutoGluon Version:  0.2.0\n",
            "Train Data Rows:    10886\n",
            "Train Data Columns: 9\n",
            "Preprocessing data ...\n",
            "AutoGluon infers your prediction problem is: 'regression' (because dtype of label-column == int and many unique label-values observed).\n",
            "\tLabel info (max, min, mean, stddev): (977, 1, 191.57413, 181.14445)\n",
            "\tIf 'regression' is not the correct problem_type, please manually specify the problem_type argument in fit() (You may specify problem_type as one of: ['binary', 'multiclass', 'regression'])\n",
            "Using Feature Generators to preprocess the data ...\n",
            "Fitting AutoMLPipelineFeatureGenerator...\n",
            "NumExpr defaulting to 2 threads.\n",
            "\tAvailable Memory:                    12688.12 MB\n",
            "\tTrain Data (Original)  Memory Usage: 0.78 MB (0.0% of available memory)\n",
            "\tInferring data type of each feature based on column values. Set feature_metadata_in to manually specify special dtypes of the features.\n",
            "\tStage 1 Generators:\n",
            "\t\tFitting AsTypeFeatureGenerator...\n",
            "\tStage 2 Generators:\n",
            "\t\tFitting FillNaFeatureGenerator...\n",
            "\tStage 3 Generators:\n",
            "\t\tFitting IdentityFeatureGenerator...\n",
            "\t\tFitting DatetimeFeatureGenerator...\n",
            "\tStage 4 Generators:\n",
            "\t\tFitting DropUniqueFeatureGenerator...\n",
            "\tTypes of features in original data (raw dtype, special dtypes):\n",
            "\t\t('datetime', []) : 1 | ['datetime']\n",
            "\t\t('float', [])    : 3 | ['temp', 'atemp', 'windspeed']\n",
            "\t\t('int', [])      : 5 | ['season', 'holiday', 'workingday', 'weather', 'humidity']\n",
            "\tTypes of features in processed data (raw dtype, special dtypes):\n",
            "\t\t('float', [])                : 3 | ['temp', 'atemp', 'windspeed']\n",
            "\t\t('int', [])                  : 5 | ['season', 'holiday', 'workingday', 'weather', 'humidity']\n",
            "\t\t('int', ['datetime_as_int']) : 1 | ['datetime']\n",
            "\t0.1s = Fit runtime\n",
            "\t9 features in original data used to generate 9 features in processed data.\n",
            "\tTrain Data (Processed) Memory Usage: 0.78 MB (0.0% of available memory)\n",
            "Data preprocessing and feature engineering runtime = 0.14s ...\n",
            "AutoGluon will gauge predictive performance using evaluation metric: 'root_mean_squared_error'\n",
            "\tTo change this, specify the eval_metric argument of fit()\n",
            "Fitting model: KNeighborsUnif_BAG_L1 ... Training model for up to 399.81s of the 599.85s of remaining time.\n",
            "\t-159.743\t = Validation root_mean_squared_error score\n",
            "\t0.02s\t = Training runtime\n",
            "\t0.1s\t = Validation runtime\n",
            "Fitting model: KNeighborsDist_BAG_L1 ... Training model for up to 399.55s of the 599.6s of remaining time.\n",
            "\t-166.5082\t = Validation root_mean_squared_error score\n",
            "\t0.02s\t = Training runtime\n",
            "\t0.1s\t = Validation runtime\n",
            "Fitting model: LightGBMXT_BAG_L1 ... Training model for up to 399.31s of the 599.35s of remaining time.\n"
          ],
          "name": "stderr"
        },
        {
          "output_type": "stream",
          "text": [
            "[1000]\ttrain_set's rmse: 123.806\tvalid_set's rmse: 134.369\n",
            "[2000]\ttrain_set's rmse: 117.412\tvalid_set's rmse: 133.705\n",
            "[1000]\ttrain_set's rmse: 123.42\tvalid_set's rmse: 141.5\n",
            "[1000]\ttrain_set's rmse: 125.097\tvalid_set's rmse: 128.797\n",
            "[2000]\ttrain_set's rmse: 119.003\tvalid_set's rmse: 127.909\n",
            "[3000]\ttrain_set's rmse: 114.63\tvalid_set's rmse: 127.431\n",
            "[4000]\ttrain_set's rmse: 111.295\tvalid_set's rmse: 126.943\n",
            "[5000]\ttrain_set's rmse: 108.576\tvalid_set's rmse: 126.844\n",
            "[6000]\ttrain_set's rmse: 106.085\tvalid_set's rmse: 126.71\n",
            "[1000]\ttrain_set's rmse: 124.131\tvalid_set's rmse: 138.303\n",
            "[2000]\ttrain_set's rmse: 117.833\tvalid_set's rmse: 137.535\n",
            "[1000]\ttrain_set's rmse: 124.871\tvalid_set's rmse: 128.052\n",
            "[2000]\ttrain_set's rmse: 118.547\tvalid_set's rmse: 127.003\n",
            "[3000]\ttrain_set's rmse: 114.124\tvalid_set's rmse: 126.834\n",
            "[4000]\ttrain_set's rmse: 110.645\tvalid_set's rmse: 126.694\n",
            "[1000]\ttrain_set's rmse: 124.654\tvalid_set's rmse: 135.095\n",
            "[2000]\ttrain_set's rmse: 118.764\tvalid_set's rmse: 133.849\n",
            "[3000]\ttrain_set's rmse: 114.615\tvalid_set's rmse: 133.509\n",
            "[4000]\ttrain_set's rmse: 111.249\tvalid_set's rmse: 133.472\n",
            "[5000]\ttrain_set's rmse: 108.455\tvalid_set's rmse: 133.281\n",
            "[1000]\ttrain_set's rmse: 124.01\tvalid_set's rmse: 139.355\n",
            "[2000]\ttrain_set's rmse: 117.819\tvalid_set's rmse: 138.312\n",
            "[3000]\ttrain_set's rmse: 113.4\tvalid_set's rmse: 137.886\n",
            "[4000]\ttrain_set's rmse: 110.032\tvalid_set's rmse: 137.758\n",
            "[1000]\ttrain_set's rmse: 124.47\tvalid_set's rmse: 135.412\n",
            "[1000]\ttrain_set's rmse: 124.18\tvalid_set's rmse: 137.579\n",
            "[2000]\ttrain_set's rmse: 117.782\tvalid_set's rmse: 136.664\n",
            "[3000]\ttrain_set's rmse: 113.447\tvalid_set's rmse: 136.246\n",
            "[4000]\ttrain_set's rmse: 109.982\tvalid_set's rmse: 136.227\n",
            "[1000]\ttrain_set's rmse: 124.641\tvalid_set's rmse: 132.484\n"
          ],
          "name": "stdout"
        },
        {
          "output_type": "stream",
          "text": [
            "\t-134.0883\t = Validation root_mean_squared_error score\n",
            "\t36.6s\t = Training runtime\n",
            "\t2.22s\t = Validation runtime\n",
            "Fitting model: LightGBM_BAG_L1 ... Training model for up to 355.77s of the 555.82s of remaining time.\n"
          ],
          "name": "stderr"
        },
        {
          "output_type": "stream",
          "text": [
            "[1000]\ttrain_set's rmse: 96.0217\tvalid_set's rmse: 123.249\n",
            "[1000]\ttrain_set's rmse: 94.7479\tvalid_set's rmse: 135.635\n",
            "[1000]\ttrain_set's rmse: 95.3055\tvalid_set's rmse: 132.087\n",
            "[1000]\ttrain_set's rmse: 95.1635\tvalid_set's rmse: 131.521\n"
          ],
          "name": "stdout"
        },
        {
          "output_type": "stream",
          "text": [
            "\t-132.2864\t = Validation root_mean_squared_error score\n",
            "\t10.07s\t = Training runtime\n",
            "\t0.44s\t = Validation runtime\n",
            "Fitting model: RandomForestMSE_BAG_L1 ... Training model for up to 343.99s of the 544.04s of remaining time.\n",
            "\t-118.4567\t = Validation root_mean_squared_error score\n",
            "\t6.73s\t = Training runtime\n",
            "\t0.38s\t = Validation runtime\n",
            "Fitting model: CatBoost_BAG_L1 ... Training model for up to 336.15s of the 536.2s of remaining time.\n",
            "\t-132.3497\t = Validation root_mean_squared_error score\n",
            "\t51.23s\t = Training runtime\n",
            "\t0.05s\t = Validation runtime\n",
            "Fitting model: ExtraTreesMSE_BAG_L1 ... Training model for up to 284.79s of the 484.84s of remaining time.\n",
            "\t-128.7334\t = Validation root_mean_squared_error score\n",
            "\t3.01s\t = Training runtime\n",
            "\t0.4s\t = Validation runtime\n",
            "Fitting model: NeuralNetFastAI_BAG_L1 ... Training model for up to 280.79s of the 480.84s of remaining time.\n",
            "\t-138.0157\t = Validation root_mean_squared_error score\n",
            "\t95.54s\t = Training runtime\n",
            "\t0.26s\t = Validation runtime\n",
            "Fitting model: XGBoost_BAG_L1 ... Training model for up to 184.79s of the 384.83s of remaining time.\n",
            "\t-106.8569\t = Validation root_mean_squared_error score\n",
            "\t176.83s\t = Training runtime\n",
            "\t0.46s\t = Validation runtime\n",
            "Fitting model: NeuralNetMXNet_BAG_L1 ... Training model for up to 4.03s of the 204.08s of remaining time.\n",
            "\tTime limit exceeded... Skipping NeuralNetMXNet_BAG_L1.\n",
            "Fitting model: LightGBMLarge_BAG_L1 ... Training model for up to 2.54s of the 202.59s of remaining time.\n",
            "\tRan out of time, early stopping on iteration 28. Best iteration is:\n",
            "\t[28]\ttrain_set's rmse: 138.856\tvalid_set's rmse: 144.413\n",
            "\tRan out of time, early stopping on iteration 32. Best iteration is:\n",
            "\t[32]\ttrain_set's rmse: 135.012\tvalid_set's rmse: 151.713\n",
            "\tRan out of time, early stopping on iteration 28. Best iteration is:\n",
            "\t[28]\ttrain_set's rmse: 139.402\tvalid_set's rmse: 142.46\n",
            "\tRan out of time, early stopping on iteration 36. Best iteration is:\n",
            "\t[36]\ttrain_set's rmse: 132.19\tvalid_set's rmse: 151.249\n",
            "\tRan out of time, early stopping on iteration 37. Best iteration is:\n",
            "\t[37]\ttrain_set's rmse: 133.419\tvalid_set's rmse: 133.485\n",
            "\tRan out of time, early stopping on iteration 34. Best iteration is:\n",
            "\t[34]\ttrain_set's rmse: 134.206\tvalid_set's rmse: 141.653\n",
            "\tRan out of time, early stopping on iteration 30. Best iteration is:\n",
            "\t[30]\ttrain_set's rmse: 136.887\tvalid_set's rmse: 146.315\n",
            "\tRan out of time, early stopping on iteration 36. Best iteration is:\n",
            "\t[36]\ttrain_set's rmse: 133.014\tvalid_set's rmse: 143.216\n",
            "\tRan out of time, early stopping on iteration 45. Best iteration is:\n",
            "\t[45]\ttrain_set's rmse: 127.274\tvalid_set's rmse: 141.323\n",
            "\tRan out of time, early stopping on iteration 42. Best iteration is:\n",
            "\t[42]\ttrain_set's rmse: 129.516\tvalid_set's rmse: 137.914\n",
            "\t-143.471\t = Validation root_mean_squared_error score\n",
            "\t2.35s\t = Training runtime\n",
            "\t0.04s\t = Validation runtime\n",
            "Completed 1/20 k-fold bagging repeats ...\n",
            "Fitting model: WeightedEnsemble_L2 ... Training model for up to 360.0s of the 200.03s of remaining time.\n",
            "\t-106.0498\t = Validation root_mean_squared_error score\n",
            "\t1.11s\t = Training runtime\n",
            "\t0.0s\t = Validation runtime\n",
            "Fitting model: KNeighborsUnif_BAG_L2 ... Training model for up to 198.89s of the 198.88s of remaining time.\n",
            "\t-110.7567\t = Validation root_mean_squared_error score\n",
            "\t0.01s\t = Training runtime\n",
            "\t5.21s\t = Validation runtime\n",
            "Fitting model: KNeighborsDist_BAG_L2 ... Training model for up to 193.45s of the 193.44s of remaining time.\n",
            "\t-110.6664\t = Validation root_mean_squared_error score\n",
            "\t0.01s\t = Training runtime\n",
            "\t3.92s\t = Validation runtime\n",
            "Fitting model: LightGBMXT_BAG_L2 ... Training model for up to 189.3s of the 189.29s of remaining time.\n"
          ],
          "name": "stderr"
        },
        {
          "output_type": "stream",
          "text": [
            "[1000]\ttrain_set's rmse: 74.6277\tvalid_set's rmse: 100.171\n"
          ],
          "name": "stdout"
        },
        {
          "output_type": "stream",
          "text": [
            "\t-100.5044\t = Validation root_mean_squared_error score\n",
            "\t12.29s\t = Training runtime\n",
            "\t0.38s\t = Validation runtime\n",
            "Fitting model: LightGBM_BAG_L2 ... Training model for up to 175.77s of the 175.76s of remaining time.\n",
            "\t-101.5526\t = Validation root_mean_squared_error score\n",
            "\t8.2s\t = Training runtime\n",
            "\t0.11s\t = Validation runtime\n",
            "Fitting model: RandomForestMSE_BAG_L2 ... Training model for up to 167.25s of the 167.24s of remaining time.\n",
            "\t-103.2227\t = Validation root_mean_squared_error score\n",
            "\t27.46s\t = Training runtime\n",
            "\t0.47s\t = Validation runtime\n",
            "Fitting model: CatBoost_BAG_L2 ... Training model for up to 138.7s of the 138.69s of remaining time.\n",
            "\t-100.9236\t = Validation root_mean_squared_error score\n",
            "\t35.47s\t = Training runtime\n",
            "\t0.02s\t = Validation runtime\n",
            "Fitting model: ExtraTreesMSE_BAG_L2 ... Training model for up to 103.17s of the 103.16s of remaining time.\n",
            "\t-102.228\t = Validation root_mean_squared_error score\n",
            "\t6.74s\t = Training runtime\n",
            "\t0.5s\t = Validation runtime\n",
            "Fitting model: NeuralNetFastAI_BAG_L2 ... Training model for up to 95.33s of the 95.32s of remaining time.\n",
            "\tRan out of time, stopping training early.\n",
            "\tRan out of time, stopping training early.\n",
            "\tRan out of time, stopping training early.\n",
            "\tRan out of time, stopping training early.\n",
            "\tRan out of time, stopping training early.\n",
            "\tRan out of time, stopping training early.\n",
            "\tRan out of time, stopping training early.\n",
            "No improvement since epoch 8: early stopping\n",
            "\t-99.8198\t = Validation root_mean_squared_error score\n",
            "\t86.23s\t = Training runtime\n",
            "\t0.3s\t = Validation runtime\n",
            "Fitting model: XGBoost_BAG_L2 ... Training model for up to 8.59s of the 8.58s of remaining time.\n",
            "\t-103.2527\t = Validation root_mean_squared_error score\n",
            "\t8.21s\t = Training runtime\n",
            "\t0.09s\t = Validation runtime\n",
            "Fitting model: NeuralNetMXNet_BAG_L2 ... Training model for up to 0.18s of the 0.17s of remaining time.\n",
            "\tTime limit exceeded... Skipping NeuralNetMXNet_BAG_L2.\n",
            "Completed 1/20 k-fold bagging repeats ...\n",
            "Fitting model: WeightedEnsemble_L3 ... Training model for up to 360.0s of the -0.27s of remaining time.\n",
            "\t-99.2083\t = Validation root_mean_squared_error score\n",
            "\t0.94s\t = Training runtime\n",
            "\t0.0s\t = Validation runtime\n",
            "AutoGluon training complete, total runtime = 601.24s ...\n",
            "TabularPredictor saved. To load, use: predictor = TabularPredictor.load(\"AutogluonModels/ag-20210719_223536/\")\n"
          ],
          "name": "stderr"
        }
      ]
    },
    {
      "cell_type": "markdown",
      "metadata": {
        "id": "AJUhtJYMI-fB"
      },
      "source": [
        "### Review AutoGluon's training run with ranking of models that did the best."
      ]
    },
    {
      "cell_type": "code",
      "metadata": {
        "id": "0wtkYa_qI-fB",
        "colab": {
          "base_uri": "https://localhost:8080/"
        },
        "outputId": "5ee2c3fc-106d-4286-bd50-ee7281dd9e9e"
      },
      "source": [
        "predictor.fit_summary()"
      ],
      "execution_count": null,
      "outputs": [
        {
          "output_type": "stream",
          "text": [
            "*** Summary of fit() ***\n",
            "Estimated performance of each model:\n",
            "                     model   score_val  pred_time_val    fit_time  pred_time_val_marginal  fit_time_marginal  stack_level  can_infer  fit_order\n",
            "0      WeightedEnsemble_L3  -99.208281       5.778863  532.276940                0.001170           0.940554            3       True         21\n",
            "1   NeuralNetFastAI_BAG_L2  -99.819819       4.770729  468.638307                0.303415          86.233555            2       True         19\n",
            "2        LightGBMXT_BAG_L2 -100.504377       4.845789  394.694783                0.378474          12.290031            2       True         14\n",
            "3          CatBoost_BAG_L2 -100.923589       4.487442  417.874692                0.020127          35.469940            2       True         17\n",
            "4          LightGBM_BAG_L2 -101.552646       4.574304  390.607054                0.106990           8.202302            2       True         15\n",
            "5     ExtraTreesMSE_BAG_L2 -102.227970       4.968687  389.140558                0.501372           6.735806            2       True         18\n",
            "6   RandomForestMSE_BAG_L2 -103.222700       4.935584  409.864083                0.468270          27.459331            2       True         16\n",
            "7           XGBoost_BAG_L2 -103.252702       4.559604  390.615687                0.092290           8.210935            2       True         20\n",
            "8      WeightedEnsemble_L2 -106.049826       0.843804  184.671925                0.001853           1.113521            2       True         11\n",
            "9           XGBoost_BAG_L1 -106.856858       0.460439  176.828580                0.460439         176.828580            1       True          9\n",
            "10   KNeighborsDist_BAG_L2 -110.666372       8.388490  382.413826                3.921176           0.009074            2       True         13\n",
            "11   KNeighborsUnif_BAG_L2 -110.756680       9.681905  382.411719                5.214591           0.006967            2       True         12\n",
            "12  RandomForestMSE_BAG_L1 -118.456660       0.381512    6.729824                0.381512           6.729824            1       True          5\n",
            "13    ExtraTreesMSE_BAG_L1 -128.733445       0.401670    3.012996                0.401670           3.012996            1       True          7\n",
            "14         LightGBM_BAG_L1 -132.286410       0.437776   10.067028                0.437776          10.067028            1       True          4\n",
            "15         CatBoost_BAG_L1 -132.349692       0.050958   51.226322                0.050958          51.226322            1       True          6\n",
            "16       LightGBMXT_BAG_L1 -134.088334       2.222117   36.602690                2.222117          36.602690            1       True          3\n",
            "17  NeuralNetFastAI_BAG_L1 -138.015736       0.264663   95.537943                0.264663          95.537943            1       True          8\n",
            "18    LightGBMLarge_BAG_L1 -143.471019       0.041176    2.353103                0.041176           2.353103            1       True         10\n",
            "19   KNeighborsUnif_BAG_L1 -159.743031       0.103241    0.024257                0.103241           0.024257            1       True          1\n",
            "20   KNeighborsDist_BAG_L1 -166.508199       0.103763    0.022008                0.103763           0.022008            1       True          2\n",
            "Number of models trained: 21\n",
            "Types of models trained:\n",
            "{'StackerEnsembleModel_KNN', 'StackerEnsembleModel_LGB', 'StackerEnsembleModel_XGBoost', 'StackerEnsembleModel_RF', 'WeightedEnsembleModel', 'StackerEnsembleModel_XT', 'StackerEnsembleModel_NNFastAiTabular', 'StackerEnsembleModel_CatBoost'}\n",
            "Bagging used: True  (with 10 folds)\n",
            "Multi-layer stack-ensembling used: True  (with 3 levels)\n",
            "Feature Metadata (Processed):\n",
            "(raw dtype, special dtypes):\n",
            "('float', [])                : 3 | ['temp', 'atemp', 'windspeed']\n",
            "('int', [])                  : 5 | ['season', 'holiday', 'workingday', 'weather', 'humidity']\n",
            "('int', ['datetime_as_int']) : 1 | ['datetime']\n",
            "Plot summary of models saved to file: AutogluonModels/ag-20210719_223536/SummaryOfModels.html\n",
            "*** End of fit() summary ***\n"
          ],
          "name": "stdout"
        },
        {
          "output_type": "execute_result",
          "data": {
            "text/plain": [
              "{'leaderboard':                      model   score_val  ...  can_infer  fit_order\n",
              " 0      WeightedEnsemble_L3  -99.208281  ...       True         21\n",
              " 1   NeuralNetFastAI_BAG_L2  -99.819819  ...       True         19\n",
              " 2        LightGBMXT_BAG_L2 -100.504377  ...       True         14\n",
              " 3          CatBoost_BAG_L2 -100.923589  ...       True         17\n",
              " 4          LightGBM_BAG_L2 -101.552646  ...       True         15\n",
              " 5     ExtraTreesMSE_BAG_L2 -102.227970  ...       True         18\n",
              " 6   RandomForestMSE_BAG_L2 -103.222700  ...       True         16\n",
              " 7           XGBoost_BAG_L2 -103.252702  ...       True         20\n",
              " 8      WeightedEnsemble_L2 -106.049826  ...       True         11\n",
              " 9           XGBoost_BAG_L1 -106.856858  ...       True          9\n",
              " 10   KNeighborsDist_BAG_L2 -110.666372  ...       True         13\n",
              " 11   KNeighborsUnif_BAG_L2 -110.756680  ...       True         12\n",
              " 12  RandomForestMSE_BAG_L1 -118.456660  ...       True          5\n",
              " 13    ExtraTreesMSE_BAG_L1 -128.733445  ...       True          7\n",
              " 14         LightGBM_BAG_L1 -132.286410  ...       True          4\n",
              " 15         CatBoost_BAG_L1 -132.349692  ...       True          6\n",
              " 16       LightGBMXT_BAG_L1 -134.088334  ...       True          3\n",
              " 17  NeuralNetFastAI_BAG_L1 -138.015736  ...       True          8\n",
              " 18    LightGBMLarge_BAG_L1 -143.471019  ...       True         10\n",
              " 19   KNeighborsUnif_BAG_L1 -159.743031  ...       True          1\n",
              " 20   KNeighborsDist_BAG_L1 -166.508199  ...       True          2\n",
              " \n",
              " [21 rows x 9 columns],\n",
              " 'max_stack_level': 3,\n",
              " 'model_best': 'WeightedEnsemble_L3',\n",
              " 'model_fit_times': {'CatBoost_BAG_L1': 51.226322412490845,\n",
              "  'CatBoost_BAG_L2': 35.46993970870972,\n",
              "  'ExtraTreesMSE_BAG_L1': 3.0129964351654053,\n",
              "  'ExtraTreesMSE_BAG_L2': 6.735805511474609,\n",
              "  'KNeighborsDist_BAG_L1': 0.02200770378112793,\n",
              "  'KNeighborsDist_BAG_L2': 0.009074211120605469,\n",
              "  'KNeighborsUnif_BAG_L1': 0.02425694465637207,\n",
              "  'KNeighborsUnif_BAG_L2': 0.006967067718505859,\n",
              "  'LightGBMLarge_BAG_L1': 2.3531031608581543,\n",
              "  'LightGBMXT_BAG_L1': 36.60269021987915,\n",
              "  'LightGBMXT_BAG_L2': 12.29003119468689,\n",
              "  'LightGBM_BAG_L1': 10.067027568817139,\n",
              "  'LightGBM_BAG_L2': 8.202301979064941,\n",
              "  'NeuralNetFastAI_BAG_L1': 95.53794312477112,\n",
              "  'NeuralNetFastAI_BAG_L2': 86.23355531692505,\n",
              "  'RandomForestMSE_BAG_L1': 6.729824066162109,\n",
              "  'RandomForestMSE_BAG_L2': 27.459330797195435,\n",
              "  'WeightedEnsemble_L2': 1.113520622253418,\n",
              "  'WeightedEnsemble_L3': 0.9405543804168701,\n",
              "  'XGBoost_BAG_L1': 176.82858037948608,\n",
              "  'XGBoost_BAG_L2': 8.21093487739563},\n",
              " 'model_hyperparams': {'CatBoost_BAG_L1': {'max_base_models': 25,\n",
              "   'max_base_models_per_type': 5,\n",
              "   'save_bag_folds': True,\n",
              "   'use_orig_features': True},\n",
              "  'CatBoost_BAG_L2': {'max_base_models': 25,\n",
              "   'max_base_models_per_type': 5,\n",
              "   'save_bag_folds': True,\n",
              "   'use_orig_features': True},\n",
              "  'ExtraTreesMSE_BAG_L1': {'max_base_models': 25,\n",
              "   'max_base_models_per_type': 5,\n",
              "   'save_bag_folds': True,\n",
              "   'use_child_oof': True,\n",
              "   'use_orig_features': True},\n",
              "  'ExtraTreesMSE_BAG_L2': {'max_base_models': 25,\n",
              "   'max_base_models_per_type': 5,\n",
              "   'save_bag_folds': True,\n",
              "   'use_child_oof': True,\n",
              "   'use_orig_features': True},\n",
              "  'KNeighborsDist_BAG_L1': {'max_base_models': 25,\n",
              "   'max_base_models_per_type': 5,\n",
              "   'save_bag_folds': True,\n",
              "   'use_child_oof': True,\n",
              "   'use_orig_features': True},\n",
              "  'KNeighborsDist_BAG_L2': {'max_base_models': 25,\n",
              "   'max_base_models_per_type': 5,\n",
              "   'save_bag_folds': True,\n",
              "   'use_child_oof': True,\n",
              "   'use_orig_features': True},\n",
              "  'KNeighborsUnif_BAG_L1': {'max_base_models': 25,\n",
              "   'max_base_models_per_type': 5,\n",
              "   'save_bag_folds': True,\n",
              "   'use_child_oof': True,\n",
              "   'use_orig_features': True},\n",
              "  'KNeighborsUnif_BAG_L2': {'max_base_models': 25,\n",
              "   'max_base_models_per_type': 5,\n",
              "   'save_bag_folds': True,\n",
              "   'use_child_oof': True,\n",
              "   'use_orig_features': True},\n",
              "  'LightGBMLarge_BAG_L1': {'max_base_models': 25,\n",
              "   'max_base_models_per_type': 5,\n",
              "   'save_bag_folds': True,\n",
              "   'use_orig_features': True},\n",
              "  'LightGBMXT_BAG_L1': {'max_base_models': 25,\n",
              "   'max_base_models_per_type': 5,\n",
              "   'save_bag_folds': True,\n",
              "   'use_orig_features': True},\n",
              "  'LightGBMXT_BAG_L2': {'max_base_models': 25,\n",
              "   'max_base_models_per_type': 5,\n",
              "   'save_bag_folds': True,\n",
              "   'use_orig_features': True},\n",
              "  'LightGBM_BAG_L1': {'max_base_models': 25,\n",
              "   'max_base_models_per_type': 5,\n",
              "   'save_bag_folds': True,\n",
              "   'use_orig_features': True},\n",
              "  'LightGBM_BAG_L2': {'max_base_models': 25,\n",
              "   'max_base_models_per_type': 5,\n",
              "   'save_bag_folds': True,\n",
              "   'use_orig_features': True},\n",
              "  'NeuralNetFastAI_BAG_L1': {'max_base_models': 25,\n",
              "   'max_base_models_per_type': 5,\n",
              "   'save_bag_folds': True,\n",
              "   'use_orig_features': True},\n",
              "  'NeuralNetFastAI_BAG_L2': {'max_base_models': 25,\n",
              "   'max_base_models_per_type': 5,\n",
              "   'save_bag_folds': True,\n",
              "   'use_orig_features': True},\n",
              "  'RandomForestMSE_BAG_L1': {'max_base_models': 25,\n",
              "   'max_base_models_per_type': 5,\n",
              "   'save_bag_folds': True,\n",
              "   'use_child_oof': True,\n",
              "   'use_orig_features': True},\n",
              "  'RandomForestMSE_BAG_L2': {'max_base_models': 25,\n",
              "   'max_base_models_per_type': 5,\n",
              "   'save_bag_folds': True,\n",
              "   'use_child_oof': True,\n",
              "   'use_orig_features': True},\n",
              "  'WeightedEnsemble_L2': {'max_base_models': 25,\n",
              "   'max_base_models_per_type': 5,\n",
              "   'save_bag_folds': True,\n",
              "   'use_orig_features': False},\n",
              "  'WeightedEnsemble_L3': {'max_base_models': 25,\n",
              "   'max_base_models_per_type': 5,\n",
              "   'save_bag_folds': True,\n",
              "   'use_orig_features': False},\n",
              "  'XGBoost_BAG_L1': {'max_base_models': 25,\n",
              "   'max_base_models_per_type': 5,\n",
              "   'save_bag_folds': True,\n",
              "   'use_orig_features': True},\n",
              "  'XGBoost_BAG_L2': {'max_base_models': 25,\n",
              "   'max_base_models_per_type': 5,\n",
              "   'save_bag_folds': True,\n",
              "   'use_orig_features': True}},\n",
              " 'model_paths': {'CatBoost_BAG_L1': 'AutogluonModels/ag-20210719_223536/models/CatBoost_BAG_L1/',\n",
              "  'CatBoost_BAG_L2': 'AutogluonModels/ag-20210719_223536/models/CatBoost_BAG_L2/',\n",
              "  'ExtraTreesMSE_BAG_L1': 'AutogluonModels/ag-20210719_223536/models/ExtraTreesMSE_BAG_L1/',\n",
              "  'ExtraTreesMSE_BAG_L2': 'AutogluonModels/ag-20210719_223536/models/ExtraTreesMSE_BAG_L2/',\n",
              "  'KNeighborsDist_BAG_L1': 'AutogluonModels/ag-20210719_223536/models/KNeighborsDist_BAG_L1/',\n",
              "  'KNeighborsDist_BAG_L2': 'AutogluonModels/ag-20210719_223536/models/KNeighborsDist_BAG_L2/',\n",
              "  'KNeighborsUnif_BAG_L1': 'AutogluonModels/ag-20210719_223536/models/KNeighborsUnif_BAG_L1/',\n",
              "  'KNeighborsUnif_BAG_L2': 'AutogluonModels/ag-20210719_223536/models/KNeighborsUnif_BAG_L2/',\n",
              "  'LightGBMLarge_BAG_L1': 'AutogluonModels/ag-20210719_223536/models/LightGBMLarge_BAG_L1/',\n",
              "  'LightGBMXT_BAG_L1': 'AutogluonModels/ag-20210719_223536/models/LightGBMXT_BAG_L1/',\n",
              "  'LightGBMXT_BAG_L2': 'AutogluonModels/ag-20210719_223536/models/LightGBMXT_BAG_L2/',\n",
              "  'LightGBM_BAG_L1': 'AutogluonModels/ag-20210719_223536/models/LightGBM_BAG_L1/',\n",
              "  'LightGBM_BAG_L2': 'AutogluonModels/ag-20210719_223536/models/LightGBM_BAG_L2/',\n",
              "  'NeuralNetFastAI_BAG_L1': 'AutogluonModels/ag-20210719_223536/models/NeuralNetFastAI_BAG_L1/',\n",
              "  'NeuralNetFastAI_BAG_L2': 'AutogluonModels/ag-20210719_223536/models/NeuralNetFastAI_BAG_L2/',\n",
              "  'RandomForestMSE_BAG_L1': 'AutogluonModels/ag-20210719_223536/models/RandomForestMSE_BAG_L1/',\n",
              "  'RandomForestMSE_BAG_L2': 'AutogluonModels/ag-20210719_223536/models/RandomForestMSE_BAG_L2/',\n",
              "  'WeightedEnsemble_L2': 'AutogluonModels/ag-20210719_223536/models/WeightedEnsemble_L2/',\n",
              "  'WeightedEnsemble_L3': 'AutogluonModels/ag-20210719_223536/models/WeightedEnsemble_L3/',\n",
              "  'XGBoost_BAG_L1': 'AutogluonModels/ag-20210719_223536/models/XGBoost_BAG_L1/',\n",
              "  'XGBoost_BAG_L2': 'AutogluonModels/ag-20210719_223536/models/XGBoost_BAG_L2/'},\n",
              " 'model_performance': {'CatBoost_BAG_L1': -132.3496915713461,\n",
              "  'CatBoost_BAG_L2': -100.923588641991,\n",
              "  'ExtraTreesMSE_BAG_L1': -128.73344506216944,\n",
              "  'ExtraTreesMSE_BAG_L2': -102.22797047320365,\n",
              "  'KNeighborsDist_BAG_L1': -166.5081994039633,\n",
              "  'KNeighborsDist_BAG_L2': -110.66637178536861,\n",
              "  'KNeighborsUnif_BAG_L1': -159.743030951275,\n",
              "  'KNeighborsUnif_BAG_L2': -110.75667951108893,\n",
              "  'LightGBMLarge_BAG_L1': -143.47101862369328,\n",
              "  'LightGBMXT_BAG_L1': -134.08833420116997,\n",
              "  'LightGBMXT_BAG_L2': -100.50437749301598,\n",
              "  'LightGBM_BAG_L1': -132.28640961443512,\n",
              "  'LightGBM_BAG_L2': -101.5526455772042,\n",
              "  'NeuralNetFastAI_BAG_L1': -138.0157364627126,\n",
              "  'NeuralNetFastAI_BAG_L2': -99.81981858415755,\n",
              "  'RandomForestMSE_BAG_L1': -118.45666016795751,\n",
              "  'RandomForestMSE_BAG_L2': -103.22269972351012,\n",
              "  'WeightedEnsemble_L2': -106.04982600557484,\n",
              "  'WeightedEnsemble_L3': -99.20828130132422,\n",
              "  'XGBoost_BAG_L1': -106.85685837036144,\n",
              "  'XGBoost_BAG_L2': -103.2527016467123},\n",
              " 'model_pred_times': {'CatBoost_BAG_L1': 0.05095815658569336,\n",
              "  'CatBoost_BAG_L2': 0.020127296447753906,\n",
              "  'ExtraTreesMSE_BAG_L1': 0.401669979095459,\n",
              "  'ExtraTreesMSE_BAG_L2': 0.5013723373413086,\n",
              "  'KNeighborsDist_BAG_L1': 0.10376262664794922,\n",
              "  'KNeighborsDist_BAG_L2': 3.921175718307495,\n",
              "  'KNeighborsUnif_BAG_L1': 0.1032407283782959,\n",
              "  'KNeighborsUnif_BAG_L2': 5.214591026306152,\n",
              "  'LightGBMLarge_BAG_L1': 0.04117584228515625,\n",
              "  'LightGBMXT_BAG_L1': 2.2221171855926514,\n",
              "  'LightGBMXT_BAG_L2': 0.37847447395324707,\n",
              "  'LightGBM_BAG_L1': 0.4377756118774414,\n",
              "  'LightGBM_BAG_L2': 0.10699009895324707,\n",
              "  'NeuralNetFastAI_BAG_L1': 0.2646632194519043,\n",
              "  'NeuralNetFastAI_BAG_L2': 0.30341482162475586,\n",
              "  'RandomForestMSE_BAG_L1': 0.381511926651001,\n",
              "  'RandomForestMSE_BAG_L2': 0.46827006340026855,\n",
              "  'WeightedEnsemble_L2': 0.0018534660339355469,\n",
              "  'WeightedEnsemble_L3': 0.0011696815490722656,\n",
              "  'XGBoost_BAG_L1': 0.46043896675109863,\n",
              "  'XGBoost_BAG_L2': 0.09229016304016113},\n",
              " 'model_types': {'CatBoost_BAG_L1': 'StackerEnsembleModel_CatBoost',\n",
              "  'CatBoost_BAG_L2': 'StackerEnsembleModel_CatBoost',\n",
              "  'ExtraTreesMSE_BAG_L1': 'StackerEnsembleModel_XT',\n",
              "  'ExtraTreesMSE_BAG_L2': 'StackerEnsembleModel_XT',\n",
              "  'KNeighborsDist_BAG_L1': 'StackerEnsembleModel_KNN',\n",
              "  'KNeighborsDist_BAG_L2': 'StackerEnsembleModel_KNN',\n",
              "  'KNeighborsUnif_BAG_L1': 'StackerEnsembleModel_KNN',\n",
              "  'KNeighborsUnif_BAG_L2': 'StackerEnsembleModel_KNN',\n",
              "  'LightGBMLarge_BAG_L1': 'StackerEnsembleModel_LGB',\n",
              "  'LightGBMXT_BAG_L1': 'StackerEnsembleModel_LGB',\n",
              "  'LightGBMXT_BAG_L2': 'StackerEnsembleModel_LGB',\n",
              "  'LightGBM_BAG_L1': 'StackerEnsembleModel_LGB',\n",
              "  'LightGBM_BAG_L2': 'StackerEnsembleModel_LGB',\n",
              "  'NeuralNetFastAI_BAG_L1': 'StackerEnsembleModel_NNFastAiTabular',\n",
              "  'NeuralNetFastAI_BAG_L2': 'StackerEnsembleModel_NNFastAiTabular',\n",
              "  'RandomForestMSE_BAG_L1': 'StackerEnsembleModel_RF',\n",
              "  'RandomForestMSE_BAG_L2': 'StackerEnsembleModel_RF',\n",
              "  'WeightedEnsemble_L2': 'WeightedEnsembleModel',\n",
              "  'WeightedEnsemble_L3': 'WeightedEnsembleModel',\n",
              "  'XGBoost_BAG_L1': 'StackerEnsembleModel_XGBoost',\n",
              "  'XGBoost_BAG_L2': 'StackerEnsembleModel_XGBoost'},\n",
              " 'num_bag_folds': 10}"
            ]
          },
          "metadata": {
            "tags": []
          },
          "execution_count": 12
        }
      ]
    },
    {
      "cell_type": "markdown",
      "metadata": {
        "id": "c2Mjb0E9I-fC"
      },
      "source": [
        "### Create predictions from test dataset"
      ]
    },
    {
      "cell_type": "code",
      "metadata": {
        "id": "2rHnV3mkI-fC",
        "colab": {
          "base_uri": "https://localhost:8080/"
        },
        "outputId": "573feaa1-7acb-4474-8761-422a4fe82f04"
      },
      "source": [
        "predictions = predictor.predict(test)\n",
        "predictions.head()"
      ],
      "execution_count": null,
      "outputs": [
        {
          "output_type": "execute_result",
          "data": {
            "text/plain": [
              "0    63.154602\n",
              "1    65.473129\n",
              "2    65.474533\n",
              "3    78.817589\n",
              "4    78.736511\n",
              "Name: count, dtype: float32"
            ]
          },
          "metadata": {
            "tags": []
          },
          "execution_count": 13
        }
      ]
    },
    {
      "cell_type": "markdown",
      "metadata": {
        "id": "2i733CVxI-fD"
      },
      "source": [
        "#### NOTE: Kaggle will reject the submission if we don't set everything to be > 0."
      ]
    },
    {
      "cell_type": "code",
      "metadata": {
        "id": "_WylIoIMI-fD",
        "colab": {
          "base_uri": "https://localhost:8080/"
        },
        "outputId": "361ac55a-c9e7-4069-a265-3e0817958561"
      },
      "source": [
        "# Describe the `predictions` series to see if there are any negative values\n",
        "predictions.describe()"
      ],
      "execution_count": null,
      "outputs": [
        {
          "output_type": "execute_result",
          "data": {
            "text/plain": [
              "count    6493.000000\n",
              "mean      178.101700\n",
              "std       126.933105\n",
              "min       -31.678446\n",
              "25%        75.834846\n",
              "50%       148.303238\n",
              "75%       259.887115\n",
              "max       694.880310\n",
              "Name: count, dtype: float64"
            ]
          },
          "metadata": {
            "tags": []
          },
          "execution_count": 14
        }
      ]
    },
    {
      "cell_type": "code",
      "metadata": {
        "id": "o25pUOvjI-fD",
        "colab": {
          "base_uri": "https://localhost:8080/"
        },
        "outputId": "d3c48fe9-11c4-4791-e5b4-174a0f2fbcc4"
      },
      "source": [
        "# How many negative values do we have?\n",
        "count = 0\n",
        "for row in predictions:\n",
        "    if row < 0:\n",
        "        count=count+1\n",
        "        \n",
        "print(count)        "
      ],
      "execution_count": null,
      "outputs": [
        {
          "output_type": "stream",
          "text": [
            "23\n"
          ],
          "name": "stdout"
        }
      ]
    },
    {
      "cell_type": "code",
      "metadata": {
        "id": "vT69rlKbI-fE",
        "colab": {
          "base_uri": "https://localhost:8080/"
        },
        "outputId": "67a301c1-6438-4814-b4a8-f795c3584608"
      },
      "source": [
        "# Set them to zero\n",
        "for i, row in enumerate(predictions):\n",
        "    if row < 0:\n",
        "            predictions[i] = 0\n",
        "        \n",
        "predictions.describe()       "
      ],
      "execution_count": null,
      "outputs": [
        {
          "output_type": "execute_result",
          "data": {
            "text/plain": [
              "count    6493.000000\n",
              "mean      178.143829\n",
              "std       126.870613\n",
              "min         0.000000\n",
              "25%        75.834846\n",
              "50%       148.303238\n",
              "75%       259.887115\n",
              "max       694.880310\n",
              "Name: count, dtype: float64"
            ]
          },
          "metadata": {
            "tags": []
          },
          "execution_count": 16
        }
      ]
    },
    {
      "cell_type": "markdown",
      "metadata": {
        "id": "dBsFVi2CI-fE"
      },
      "source": [
        "### Set predictions to submission dataframe, save, and submit"
      ]
    },
    {
      "cell_type": "code",
      "metadata": {
        "id": "ovur7UwjI-fF"
      },
      "source": [
        "submission[\"count\"] = predictions\n",
        "submission.to_csv(\"submission.csv\", index=False)"
      ],
      "execution_count": null,
      "outputs": []
    },
    {
      "cell_type": "code",
      "metadata": {
        "id": "UoUqF3NWI-fF",
        "colab": {
          "base_uri": "https://localhost:8080/"
        },
        "outputId": "9007ed29-b102-4926-9269-55b8c67e55eb"
      },
      "source": [
        "!kaggle competitions submit -c bike-sharing-demand -f submission.csv -m \"first raw submission\""
      ],
      "execution_count": null,
      "outputs": [
        {
          "output_type": "stream",
          "text": [
            "Warning: Looks like you're using an outdated API Version, please consider updating (server 1.5.12 / client 1.5.4)\n",
            "100% 188k/188k [00:02<00:00, 72.1kB/s]\n",
            "Successfully submitted to Bike Sharing Demand"
          ],
          "name": "stdout"
        }
      ]
    },
    {
      "cell_type": "markdown",
      "metadata": {
        "id": "6AYzLCpxI-fG"
      },
      "source": [
        "#### View submission via the command line or in the web browser under the competition's page - `My Submissions`"
      ]
    },
    {
      "cell_type": "code",
      "metadata": {
        "id": "Ue4r0gCkI-fG",
        "colab": {
          "base_uri": "https://localhost:8080/"
        },
        "outputId": "8bbaf514-bf02-4962-921f-8cb1fb0d6e9a"
      },
      "source": [
        "!kaggle competitions submissions -c bike-sharing-demand | tail -n +1 | head -n 6"
      ],
      "execution_count": null,
      "outputs": [
        {
          "output_type": "stream",
          "text": [
            "Warning: Looks like you're using an outdated API Version, please consider updating (server 1.5.12 / client 1.5.4)\n",
            "fileName                     date                 description                        status    publicScore  privateScore  \n",
            "---------------------------  -------------------  ---------------------------------  --------  -----------  ------------  \n",
            "submission.csv               2021-07-19 22:50:06  first raw submission               complete  1.36123      1.36123       \n",
            "submission_new_hpo.csv       2021-07-19 22:01:47  new features with hyperparameters  complete  0.49144      0.49144       \n",
            "submission_new_features.csv  2021-07-19 21:15:05  new features                       complete  0.45386      0.45386       \n"
          ],
          "name": "stdout"
        }
      ]
    },
    {
      "cell_type": "markdown",
      "metadata": {
        "id": "pop-TwXvI-fG"
      },
      "source": [
        "#### Initial score of `1.36123`"
      ]
    },
    {
      "cell_type": "markdown",
      "metadata": {
        "id": "RZ6UwMT_I-fH"
      },
      "source": [
        "## Step 4: Exploratory Data Analysis and Creating an additional feature\n",
        "* Any additional feature will do, but a great suggestion would be to separate out the datetime into hour, day, or month parts."
      ]
    },
    {
      "cell_type": "code",
      "metadata": {
        "id": "gQ8IoQPdI-fH",
        "colab": {
          "base_uri": "https://localhost:8080/",
          "height": 499
        },
        "outputId": "01cb2803-1be3-4442-e1de-5f570fb22a85"
      },
      "source": [
        "# Create a histogram of all features to show the distribution of each one relative to the data. This is part of the exploritory data analysis\n",
        "train.hist()"
      ],
      "execution_count": null,
      "outputs": [
        {
          "output_type": "execute_result",
          "data": {
            "text/plain": [
              "array([[<matplotlib.axes._subplots.AxesSubplot object at 0x7f87255ed590>,\n",
              "        <matplotlib.axes._subplots.AxesSubplot object at 0x7f87255c5d90>,\n",
              "        <matplotlib.axes._subplots.AxesSubplot object at 0x7f87255be3d0>],\n",
              "       [<matplotlib.axes._subplots.AxesSubplot object at 0x7f8725173c90>,\n",
              "        <matplotlib.axes._subplots.AxesSubplot object at 0x7f87251a26d0>,\n",
              "        <matplotlib.axes._subplots.AxesSubplot object at 0x7f87251b6050>],\n",
              "       [<matplotlib.axes._subplots.AxesSubplot object at 0x7f8725125e10>,\n",
              "        <matplotlib.axes._subplots.AxesSubplot object at 0x7f872522ed10>,\n",
              "        <matplotlib.axes._subplots.AxesSubplot object at 0x7f8727f79210>],\n",
              "       [<matplotlib.axes._subplots.AxesSubplot object at 0x7f8727fa7910>,\n",
              "        <matplotlib.axes._subplots.AxesSubplot object at 0x7f8727f14950>,\n",
              "        <matplotlib.axes._subplots.AxesSubplot object at 0x7f8727ed0e90>]],\n",
              "      dtype=object)"
            ]
          },
          "metadata": {
            "tags": []
          },
          "execution_count": 20
        },
        {
          "output_type": "display_data",
          "data": {
            "image/png": "[encoded data removed]",
            "text/plain": [
              "<Figure size 432x288 with 12 Axes>"
            ]
          },
          "metadata": {
            "tags": [],
            "needs_background": "light"
          }
        }
      ]
    },
    {
      "cell_type": "code",
      "metadata": {
        "id": "iKzxFgNRI-fI"
      },
      "source": [
        "# create a new feature\n",
        "train['year'] = train['datetime'].dt.year\n",
        "train['month'] = train['datetime'].dt.month\n",
        "train['day'] = train['datetime'].dt.day\n",
        "train['hour'] = train['datetime'].dt.hour\n",
        "train['weekday'] = train['datetime'].dt.weekday\n",
        "\n",
        "\n",
        "test['year'] = test['datetime'].dt.year\n",
        "test['month'] = test['datetime'].dt.month\n",
        "test['day'] = test['datetime'].dt.day\n",
        "test['hour'] = test['datetime'].dt.hour\n",
        "test['weekday'] = test['datetime'].dt.weekday\n",
        "\n",
        "train = train.drop('datetime', axis = 1)\n",
        "train = train.drop(['casual','registered'], axis = 1)\n",
        "test = test.drop('datetime', axis = 1)"
      ],
      "execution_count": null,
      "outputs": []
    },
    {
      "cell_type": "markdown",
      "metadata": {
        "id": "hOBqvFTXI-fI"
      },
      "source": [
        "## Make category types for these so models know they are not just numbers\n",
        "* AutoGluon originally sees these as ints, but in reality they are int representations of a category.\n",
        "* Setting the dtype to category will classify these as categories in AutoGluon."
      ]
    },
    {
      "cell_type": "code",
      "metadata": {
        "id": "SPlUEXmDI-fJ"
      },
      "source": [
        "train[\"season\"] = train[\"season\"].astype(\"category\")\n",
        "train[\"weather\"] = train[\"weather\"].astype(\"category\")\n",
        "test[\"season\"] = test[\"season\"].astype(\"category\")\n",
        "test[\"weather\"] = test[\"weather\"].astype(\"category\")"
      ],
      "execution_count": null,
      "outputs": []
    },
    {
      "cell_type": "code",
      "metadata": {
        "id": "b_NwRdZTI-fJ",
        "colab": {
          "base_uri": "https://localhost:8080/",
          "height": 195
        },
        "outputId": "dc86c4fc-1b0f-44ef-966f-282dc1194093"
      },
      "source": [
        "# View are new feature\n",
        "train.head()"
      ],
      "execution_count": null,
      "outputs": [
        {
          "output_type": "execute_result",
          "data": {
            "text/html": [
              "<div>\n",
              "<style scoped>\n",
              "    .dataframe tbody tr th:only-of-type {\n",
              "        vertical-align: middle;\n",
              "    }\n",
              "\n",
              "    .dataframe tbody tr th {\n",
              "        vertical-align: top;\n",
              "    }\n",
              "\n",
              "    .dataframe thead th {\n",
              "        text-align: right;\n",
              "    }\n",
              "</style>\n",
              "<table border=\"1\" class=\"dataframe\">\n",
              "  <thead>\n",
              "    <tr style=\"text-align: right;\">\n",
              "      <th></th>\n",
              "      <th>season</th>\n",
              "      <th>holiday</th>\n",
              "      <th>workingday</th>\n",
              "      <th>weather</th>\n",
              "      <th>temp</th>\n",
              "      <th>atemp</th>\n",
              "      <th>humidity</th>\n",
              "      <th>windspeed</th>\n",
              "      <th>count</th>\n",
              "      <th>year</th>\n",
              "      <th>month</th>\n",
              "      <th>day</th>\n",
              "      <th>hour</th>\n",
              "      <th>weekday</th>\n",
              "    </tr>\n",
              "  </thead>\n",
              "  <tbody>\n",
              "    <tr>\n",
              "      <th>0</th>\n",
              "      <td>1</td>\n",
              "      <td>0</td>\n",
              "      <td>0</td>\n",
              "      <td>1</td>\n",
              "      <td>9.84</td>\n",
              "      <td>14.395</td>\n",
              "      <td>81</td>\n",
              "      <td>0.0</td>\n",
              "      <td>16</td>\n",
              "      <td>2011</td>\n",
              "      <td>1</td>\n",
              "      <td>1</td>\n",
              "      <td>0</td>\n",
              "      <td>5</td>\n",
              "    </tr>\n",
              "    <tr>\n",
              "      <th>1</th>\n",
              "      <td>1</td>\n",
              "      <td>0</td>\n",
              "      <td>0</td>\n",
              "      <td>1</td>\n",
              "      <td>9.02</td>\n",
              "      <td>13.635</td>\n",
              "      <td>80</td>\n",
              "      <td>0.0</td>\n",
              "      <td>40</td>\n",
              "      <td>2011</td>\n",
              "      <td>1</td>\n",
              "      <td>1</td>\n",
              "      <td>1</td>\n",
              "      <td>5</td>\n",
              "    </tr>\n",
              "    <tr>\n",
              "      <th>2</th>\n",
              "      <td>1</td>\n",
              "      <td>0</td>\n",
              "      <td>0</td>\n",
              "      <td>1</td>\n",
              "      <td>9.02</td>\n",
              "      <td>13.635</td>\n",
              "      <td>80</td>\n",
              "      <td>0.0</td>\n",
              "      <td>32</td>\n",
              "      <td>2011</td>\n",
              "      <td>1</td>\n",
              "      <td>1</td>\n",
              "      <td>2</td>\n",
              "      <td>5</td>\n",
              "    </tr>\n",
              "    <tr>\n",
              "      <th>3</th>\n",
              "      <td>1</td>\n",
              "      <td>0</td>\n",
              "      <td>0</td>\n",
              "      <td>1</td>\n",
              "      <td>9.84</td>\n",
              "      <td>14.395</td>\n",
              "      <td>75</td>\n",
              "      <td>0.0</td>\n",
              "      <td>13</td>\n",
              "      <td>2011</td>\n",
              "      <td>1</td>\n",
              "      <td>1</td>\n",
              "      <td>3</td>\n",
              "      <td>5</td>\n",
              "    </tr>\n",
              "    <tr>\n",
              "      <th>4</th>\n",
              "      <td>1</td>\n",
              "      <td>0</td>\n",
              "      <td>0</td>\n",
              "      <td>1</td>\n",
              "      <td>9.84</td>\n",
              "      <td>14.395</td>\n",
              "      <td>75</td>\n",
              "      <td>0.0</td>\n",
              "      <td>1</td>\n",
              "      <td>2011</td>\n",
              "      <td>1</td>\n",
              "      <td>1</td>\n",
              "      <td>4</td>\n",
              "      <td>5</td>\n",
              "    </tr>\n",
              "  </tbody>\n",
              "</table>\n",
              "</div>"
            ],
            "text/plain": [
              "  season  holiday  workingday weather  temp  ...  year  month  day  hour  weekday\n",
              "0      1        0           0       1  9.84  ...  2011      1    1     0        5\n",
              "1      1        0           0       1  9.02  ...  2011      1    1     1        5\n",
              "2      1        0           0       1  9.02  ...  2011      1    1     2        5\n",
              "3      1        0           0       1  9.84  ...  2011      1    1     3        5\n",
              "4      1        0           0       1  9.84  ...  2011      1    1     4        5\n",
              "\n",
              "[5 rows x 14 columns]"
            ]
          },
          "metadata": {
            "tags": []
          },
          "execution_count": 23
        }
      ]
    },
    {
      "cell_type": "code",
      "metadata": {
        "id": "7LM6QHofI-fJ",
        "colab": {
          "base_uri": "https://localhost:8080/",
          "height": 499
        },
        "outputId": "e29e4afc-c96d-4710-a364-9715e88277b3"
      },
      "source": [
        "# View histogram of all features again now with the hour feature\n",
        "train.hist()"
      ],
      "execution_count": null,
      "outputs": [
        {
          "output_type": "execute_result",
          "data": {
            "text/plain": [
              "array([[<matplotlib.axes._subplots.AxesSubplot object at 0x7f8725310550>,\n",
              "        <matplotlib.axes._subplots.AxesSubplot object at 0x7f8725637b10>,\n",
              "        <matplotlib.axes._subplots.AxesSubplot object at 0x7f8725653110>],\n",
              "       [<matplotlib.axes._subplots.AxesSubplot object at 0x7f8725645f10>,\n",
              "        <matplotlib.axes._subplots.AxesSubplot object at 0x7f87252bca50>,\n",
              "        <matplotlib.axes._subplots.AxesSubplot object at 0x7f872783f110>],\n",
              "       [<matplotlib.axes._subplots.AxesSubplot object at 0x7f87277f2f10>,\n",
              "        <matplotlib.axes._subplots.AxesSubplot object at 0x7f87277adf50>,\n",
              "        <matplotlib.axes._subplots.AxesSubplot object at 0x7f87277c23d0>],\n",
              "       [<matplotlib.axes._subplots.AxesSubplot object at 0x7f872776ea90>,\n",
              "        <matplotlib.axes._subplots.AxesSubplot object at 0x7f8727755290>,\n",
              "        <matplotlib.axes._subplots.AxesSubplot object at 0x7f8727708910>]],\n",
              "      dtype=object)"
            ]
          },
          "metadata": {
            "tags": []
          },
          "execution_count": 24
        },
        {
          "output_type": "display_data",
          "data": {
            "image/png": "[encoded data removed]",
            "text/plain": [
              "<Figure size 432x288 with 12 Axes>"
            ]
          },
          "metadata": {
            "tags": [],
            "needs_background": "light"
          }
        }
      ]
    },
    {
      "cell_type": "markdown",
      "metadata": {
        "id": "1FWF2o67I-fK"
      },
      "source": [
        "## Step 5: Rerun the model with the same settings as before, just with more features"
      ]
    },
    {
      "cell_type": "code",
      "metadata": {
        "id": "pRcPglhpI-fK",
        "colab": {
          "base_uri": "https://localhost:8080/"
        },
        "outputId": "f972130c-50e6-42bc-d4ea-61936e027ea9"
      },
      "source": [
        "predictor_new_features = TabularPredictor(label='count', eval_metric=eval_metric).fit(train, presets='best_quality', time_limit=600)"
      ],
      "execution_count": null,
      "outputs": [
        {
          "output_type": "stream",
          "text": [
            "No path specified. Models will be saved in: \"AutogluonModels/ag-20210719_225128/\"\n",
            "Presets specified: ['best_quality']\n",
            "Beginning AutoGluon training ... Time limit = 600s\n",
            "AutoGluon will save models to \"AutogluonModels/ag-20210719_225128/\"\n",
            "AutoGluon Version:  0.2.0\n",
            "Train Data Rows:    10886\n",
            "Train Data Columns: 13\n",
            "Preprocessing data ...\n",
            "AutoGluon infers your prediction problem is: 'regression' (because dtype of label-column == int and many unique label-values observed).\n",
            "\tLabel info (max, min, mean, stddev): (977, 1, 191.57413, 181.14445)\n",
            "\tIf 'regression' is not the correct problem_type, please manually specify the problem_type argument in fit() (You may specify problem_type as one of: ['binary', 'multiclass', 'regression'])\n",
            "Using Feature Generators to preprocess the data ...\n",
            "Fitting AutoMLPipelineFeatureGenerator...\n",
            "\tAvailable Memory:                    11084.2 MB\n",
            "\tTrain Data (Original)  Memory Usage: 0.98 MB (0.0% of available memory)\n",
            "\tInferring data type of each feature based on column values. Set feature_metadata_in to manually specify special dtypes of the features.\n",
            "\tStage 1 Generators:\n",
            "\t\tFitting AsTypeFeatureGenerator...\n",
            "\tStage 2 Generators:\n",
            "\t\tFitting FillNaFeatureGenerator...\n",
            "\tStage 3 Generators:\n",
            "\t\tFitting IdentityFeatureGenerator...\n",
            "\t\tFitting CategoryFeatureGenerator...\n",
            "\t\t\tFitting CategoryMemoryMinimizeFeatureGenerator...\n",
            "\tStage 4 Generators:\n",
            "\t\tFitting DropUniqueFeatureGenerator...\n",
            "\tTypes of features in original data (raw dtype, special dtypes):\n",
            "\t\t('category', []) : 2 | ['season', 'weather']\n",
            "\t\t('float', [])    : 3 | ['temp', 'atemp', 'windspeed']\n",
            "\t\t('int', [])      : 8 | ['holiday', 'workingday', 'humidity', 'year', 'month', ...]\n",
            "\tTypes of features in processed data (raw dtype, special dtypes):\n",
            "\t\t('category', []) : 2 | ['season', 'weather']\n",
            "\t\t('float', [])    : 3 | ['temp', 'atemp', 'windspeed']\n",
            "\t\t('int', [])      : 8 | ['holiday', 'workingday', 'humidity', 'year', 'month', ...]\n",
            "\t0.1s = Fit runtime\n",
            "\t13 features in original data used to generate 13 features in processed data.\n",
            "\tTrain Data (Processed) Memory Usage: 0.98 MB (0.0% of available memory)\n",
            "Data preprocessing and feature engineering runtime = 0.16s ...\n",
            "AutoGluon will gauge predictive performance using evaluation metric: 'root_mean_squared_error'\n",
            "\tTo change this, specify the eval_metric argument of fit()\n",
            "Fitting model: KNeighborsUnif_BAG_L1 ... Training model for up to 399.79s of the 599.84s of remaining time.\n",
            "\t-119.2821\t = Validation root_mean_squared_error score\n",
            "\t0.03s\t = Training runtime\n",
            "\t0.2s\t = Validation runtime\n",
            "Fitting model: KNeighborsDist_BAG_L1 ... Training model for up to 399.44s of the 599.49s of remaining time.\n",
            "\t-114.3238\t = Validation root_mean_squared_error score\n",
            "\t0.03s\t = Training runtime\n",
            "\t0.2s\t = Validation runtime\n",
            "Fitting model: LightGBMXT_BAG_L1 ... Training model for up to 399.09s of the 599.13s of remaining time.\n"
          ],
          "name": "stderr"
        },
        {
          "output_type": "stream",
          "text": [
            "[1000]\ttrain_set's rmse: 45.5444\tvalid_set's rmse: 56.4784\n",
            "[2000]\ttrain_set's rmse: 37.0315\tvalid_set's rmse: 51.5302\n",
            "[3000]\ttrain_set's rmse: 32.0625\tvalid_set's rmse: 49.205\n",
            "[4000]\ttrain_set's rmse: 28.8208\tvalid_set's rmse: 48.104\n",
            "[5000]\ttrain_set's rmse: 26.4348\tvalid_set's rmse: 47.438\n",
            "[6000]\ttrain_set's rmse: 24.4342\tvalid_set's rmse: 46.9969\n",
            "[7000]\ttrain_set's rmse: 22.7785\tvalid_set's rmse: 46.7122\n",
            "[8000]\ttrain_set's rmse: 21.372\tvalid_set's rmse: 46.4372\n",
            "[9000]\ttrain_set's rmse: 20.1718\tvalid_set's rmse: 46.3246\n",
            "[10000]\ttrain_set's rmse: 19.0751\tvalid_set's rmse: 46.1492\n",
            "[1000]\ttrain_set's rmse: 45.8553\tvalid_set's rmse: 60.1311\n",
            "[2000]\ttrain_set's rmse: 37.127\tvalid_set's rmse: 54.4429\n",
            "[3000]\ttrain_set's rmse: 32.3178\tvalid_set's rmse: 51.9301\n",
            "[4000]\ttrain_set's rmse: 29.0672\tvalid_set's rmse: 50.5923\n",
            "[5000]\ttrain_set's rmse: 26.629\tvalid_set's rmse: 49.7932\n",
            "[6000]\ttrain_set's rmse: 24.6257\tvalid_set's rmse: 49.1691\n",
            "[7000]\ttrain_set's rmse: 22.9434\tvalid_set's rmse: 48.731\n",
            "[8000]\ttrain_set's rmse: 21.4929\tvalid_set's rmse: 48.4731\n",
            "[9000]\ttrain_set's rmse: 20.2554\tvalid_set's rmse: 48.279\n",
            "[10000]\ttrain_set's rmse: 19.1892\tvalid_set's rmse: 48.146\n",
            "[1000]\ttrain_set's rmse: 45.5719\tvalid_set's rmse: 55.0719\n",
            "[2000]\ttrain_set's rmse: 37.1188\tvalid_set's rmse: 51.1395\n",
            "[3000]\ttrain_set's rmse: 32.3176\tvalid_set's rmse: 49.565\n",
            "[4000]\ttrain_set's rmse: 29.1383\tvalid_set's rmse: 48.6509\n",
            "[5000]\ttrain_set's rmse: 26.72\tvalid_set's rmse: 48.0683\n",
            "[6000]\ttrain_set's rmse: 24.7397\tvalid_set's rmse: 47.5623\n",
            "[7000]\ttrain_set's rmse: 23.0986\tvalid_set's rmse: 47.2402\n",
            "[8000]\ttrain_set's rmse: 21.6802\tvalid_set's rmse: 46.9341\n",
            "[9000]\ttrain_set's rmse: 20.477\tvalid_set's rmse: 46.7426\n",
            "[10000]\ttrain_set's rmse: 19.4242\tvalid_set's rmse: 46.5806\n",
            "[1000]\ttrain_set's rmse: 45.0812\tvalid_set's rmse: 62.1657\n",
            "[2000]\ttrain_set's rmse: 36.448\tvalid_set's rmse: 57.2598\n",
            "[3000]\ttrain_set's rmse: 31.7423\tvalid_set's rmse: 54.848\n",
            "[4000]\ttrain_set's rmse: 28.4175\tvalid_set's rmse: 53.4469\n",
            "[5000]\ttrain_set's rmse: 25.991\tvalid_set's rmse: 52.486\n",
            "[6000]\ttrain_set's rmse: 24.0729\tvalid_set's rmse: 51.875\n",
            "[7000]\ttrain_set's rmse: 22.5003\tvalid_set's rmse: 51.4051\n",
            "[8000]\ttrain_set's rmse: 21.1269\tvalid_set's rmse: 51.008\n",
            "[9000]\ttrain_set's rmse: 19.931\tvalid_set's rmse: 50.6802\n",
            "[10000]\ttrain_set's rmse: 18.8838\tvalid_set's rmse: 50.4449\n",
            "[1000]\ttrain_set's rmse: 46.011\tvalid_set's rmse: 54.3441\n",
            "[2000]\ttrain_set's rmse: 37.2025\tvalid_set's rmse: 50.2902\n",
            "[3000]\ttrain_set's rmse: 32.3403\tvalid_set's rmse: 48.2963\n",
            "[4000]\ttrain_set's rmse: 29.0545\tvalid_set's rmse: 47.1608\n",
            "[5000]\ttrain_set's rmse: 26.5866\tvalid_set's rmse: 46.4477\n",
            "[6000]\ttrain_set's rmse: 24.6355\tvalid_set's rmse: 46.0329\n",
            "[7000]\ttrain_set's rmse: 22.9953\tvalid_set's rmse: 45.6707\n",
            "[8000]\ttrain_set's rmse: 21.564\tvalid_set's rmse: 45.3733\n",
            "[9000]\ttrain_set's rmse: 20.3226\tvalid_set's rmse: 45.1696\n",
            "[10000]\ttrain_set's rmse: 19.2372\tvalid_set's rmse: 44.9127\n",
            "[1000]\ttrain_set's rmse: 45.4878\tvalid_set's rmse: 59.2617\n",
            "[2000]\ttrain_set's rmse: 36.7097\tvalid_set's rmse: 55.073\n",
            "[3000]\ttrain_set's rmse: 31.9334\tvalid_set's rmse: 53.1282\n",
            "[4000]\ttrain_set's rmse: 28.6258\tvalid_set's rmse: 51.9627\n",
            "[5000]\ttrain_set's rmse: 26.2139\tvalid_set's rmse: 51.331\n",
            "[6000]\ttrain_set's rmse: 24.2304\tvalid_set's rmse: 50.7772\n",
            "[7000]\ttrain_set's rmse: 22.5876\tvalid_set's rmse: 50.3768\n",
            "[8000]\ttrain_set's rmse: 21.1839\tvalid_set's rmse: 50.1719\n",
            "[9000]\ttrain_set's rmse: 20.0148\tvalid_set's rmse: 50.0535\n",
            "[10000]\ttrain_set's rmse: 18.9552\tvalid_set's rmse: 49.8915\n",
            "[1000]\ttrain_set's rmse: 45.6064\tvalid_set's rmse: 56.5973\n",
            "[2000]\ttrain_set's rmse: 37.0764\tvalid_set's rmse: 51.4704\n",
            "[3000]\ttrain_set's rmse: 32.2023\tvalid_set's rmse: 49.3238\n",
            "[4000]\ttrain_set's rmse: 28.8728\tvalid_set's rmse: 48.2091\n",
            "[5000]\ttrain_set's rmse: 26.355\tvalid_set's rmse: 47.4132\n",
            "[6000]\ttrain_set's rmse: 24.3797\tvalid_set's rmse: 47.0133\n",
            "[7000]\ttrain_set's rmse: 22.7526\tvalid_set's rmse: 46.6603\n",
            "[8000]\ttrain_set's rmse: 21.3492\tvalid_set's rmse: 46.4311\n",
            "[9000]\ttrain_set's rmse: 20.1086\tvalid_set's rmse: 46.181\n",
            "[10000]\ttrain_set's rmse: 19.0028\tvalid_set's rmse: 46.0226\n",
            "[1000]\ttrain_set's rmse: 45.2322\tvalid_set's rmse: 58.4341\n",
            "[2000]\ttrain_set's rmse: 36.9011\tvalid_set's rmse: 54.2041\n",
            "[3000]\ttrain_set's rmse: 32.1249\tvalid_set's rmse: 52.0701\n",
            "[4000]\ttrain_set's rmse: 28.8458\tvalid_set's rmse: 50.7942\n",
            "[5000]\ttrain_set's rmse: 26.3771\tvalid_set's rmse: 49.9194\n",
            "[6000]\ttrain_set's rmse: 24.403\tvalid_set's rmse: 49.2561\n",
            "[7000]\ttrain_set's rmse: 22.7917\tvalid_set's rmse: 48.8441\n",
            "[8000]\ttrain_set's rmse: 21.4326\tvalid_set's rmse: 48.5481\n",
            "[9000]\ttrain_set's rmse: 20.2214\tvalid_set's rmse: 48.2742\n",
            "[10000]\ttrain_set's rmse: 19.1389\tvalid_set's rmse: 48.063\n",
            "[1000]\ttrain_set's rmse: 45.2131\tvalid_set's rmse: 57.0086\n",
            "[2000]\ttrain_set's rmse: 36.7569\tvalid_set's rmse: 53.1599\n",
            "[3000]\ttrain_set's rmse: 32.0118\tvalid_set's rmse: 51.2883\n",
            "[4000]\ttrain_set's rmse: 28.8172\tvalid_set's rmse: 50.1661\n",
            "[5000]\ttrain_set's rmse: 26.3166\tvalid_set's rmse: 49.386\n",
            "[6000]\ttrain_set's rmse: 24.3035\tvalid_set's rmse: 49.0353\n",
            "[7000]\ttrain_set's rmse: 22.6531\tvalid_set's rmse: 48.7505\n",
            "[8000]\ttrain_set's rmse: 21.2461\tvalid_set's rmse: 48.4631\n",
            "[9000]\ttrain_set's rmse: 20.0475\tvalid_set's rmse: 48.3094\n",
            "[10000]\ttrain_set's rmse: 18.9389\tvalid_set's rmse: 48.1131\n",
            "[1000]\ttrain_set's rmse: 45.4783\tvalid_set's rmse: 53.4081\n",
            "[2000]\ttrain_set's rmse: 36.9627\tvalid_set's rmse: 49.4791\n",
            "[3000]\ttrain_set's rmse: 32.314\tvalid_set's rmse: 47.8836\n",
            "[4000]\ttrain_set's rmse: 29.0524\tvalid_set's rmse: 46.9442\n",
            "[5000]\ttrain_set's rmse: 26.6103\tvalid_set's rmse: 46.3288\n",
            "[6000]\ttrain_set's rmse: 24.676\tvalid_set's rmse: 45.8263\n",
            "[7000]\ttrain_set's rmse: 23.0017\tvalid_set's rmse: 45.5753\n",
            "[8000]\ttrain_set's rmse: 21.6039\tvalid_set's rmse: 45.3426\n",
            "[9000]\ttrain_set's rmse: 20.3877\tvalid_set's rmse: 45.1484\n",
            "[10000]\ttrain_set's rmse: 19.3483\tvalid_set's rmse: 44.969\n"
          ],
          "name": "stdout"
        },
        {
          "output_type": "stream",
          "text": [
            "\t-47.3604\t = Validation root_mean_squared_error score\n",
            "\t112.45s\t = Training runtime\n",
            "\t8.0s\t = Validation runtime\n",
            "Fitting model: LightGBM_BAG_L1 ... Training model for up to 261.64s of the 461.68s of remaining time.\n"
          ],
          "name": "stderr"
        },
        {
          "output_type": "stream",
          "text": [
            "[1000]\ttrain_set's rmse: 19.8144\tvalid_set's rmse: 34.5176\n",
            "[1000]\ttrain_set's rmse: 19.846\tvalid_set's rmse: 34.427\n",
            "[2000]\ttrain_set's rmse: 14.3039\tvalid_set's rmse: 33.7285\n",
            "[3000]\ttrain_set's rmse: 11.2663\tvalid_set's rmse: 33.4853\n",
            "[1000]\ttrain_set's rmse: 19.8697\tvalid_set's rmse: 29.0867\n",
            "[1000]\ttrain_set's rmse: 19.766\tvalid_set's rmse: 36.3595\n",
            "[2000]\ttrain_set's rmse: 14.3417\tvalid_set's rmse: 35.4445\n",
            "[3000]\ttrain_set's rmse: 11.4008\tvalid_set's rmse: 35.0991\n",
            "[4000]\ttrain_set's rmse: 9.15962\tvalid_set's rmse: 34.9405\n",
            "[5000]\ttrain_set's rmse: 7.59445\tvalid_set's rmse: 34.8644\n",
            "[6000]\ttrain_set's rmse: 6.36802\tvalid_set's rmse: 34.8052\n",
            "[1000]\ttrain_set's rmse: 19.8315\tvalid_set's rmse: 36.0416\n",
            "[2000]\ttrain_set's rmse: 14.1709\tvalid_set's rmse: 35.4921\n",
            "[1000]\ttrain_set's rmse: 19.6911\tvalid_set's rmse: 36.9723\n",
            "[2000]\ttrain_set's rmse: 14.2916\tvalid_set's rmse: 36.4007\n",
            "[1000]\ttrain_set's rmse: 19.7018\tvalid_set's rmse: 32.2929\n",
            "[1000]\ttrain_set's rmse: 19.3621\tvalid_set's rmse: 33.113\n",
            "[2000]\ttrain_set's rmse: 14.0321\tvalid_set's rmse: 32.7125\n",
            "[1000]\ttrain_set's rmse: 19.6231\tvalid_set's rmse: 38.0794\n",
            "[1000]\ttrain_set's rmse: 19.7985\tvalid_set's rmse: 34.8811\n",
            "[2000]\ttrain_set's rmse: 14.4693\tvalid_set's rmse: 34.3345\n"
          ],
          "name": "stdout"
        },
        {
          "output_type": "stream",
          "text": [
            "\t-34.1556\t = Validation root_mean_squared_error score\n",
            "\t27.73s\t = Training runtime\n",
            "\t1.43s\t = Validation runtime\n",
            "Fitting model: RandomForestMSE_BAG_L1 ... Training model for up to 228.97s of the 429.01s of remaining time.\n",
            "\t-38.9104\t = Validation root_mean_squared_error score\n",
            "\t8.23s\t = Training runtime\n",
            "\t0.41s\t = Validation runtime\n",
            "Fitting model: CatBoost_BAG_L1 ... Training model for up to 219.71s of the 419.75s of remaining time.\n",
            "\tTime limit exceeded... Skipping CatBoost_BAG_L1.\n",
            "Fitting model: ExtraTreesMSE_BAG_L1 ... Training model for up to 173.66s of the 373.71s of remaining time.\n",
            "\t-38.6821\t = Validation root_mean_squared_error score\n",
            "\t3.92s\t = Training runtime\n",
            "\t0.4s\t = Validation runtime\n",
            "Fitting model: NeuralNetFastAI_BAG_L1 ... Training model for up to 168.63s of the 368.67s of remaining time.\n",
            "\t-45.7375\t = Validation root_mean_squared_error score\n",
            "\t101.54s\t = Training runtime\n",
            "\t0.35s\t = Validation runtime\n",
            "Fitting model: XGBoost_BAG_L1 ... Training model for up to 66.52s of the 266.57s of remaining time.\n",
            "\t-35.2692\t = Validation root_mean_squared_error score\n",
            "\t51.59s\t = Training runtime\n",
            "\t0.28s\t = Validation runtime\n",
            "Fitting model: NeuralNetMXNet_BAG_L1 ... Training model for up to 13.11s of the 213.15s of remaining time.\n",
            "\tRan out of time, stopping training early. (Stopping on epoch 0)\n",
            "\tTime limit exceeded... Skipping NeuralNetMXNet_BAG_L1.\n",
            "Fitting model: LightGBMLarge_BAG_L1 ... Training model for up to 11.53s of the 211.57s of remaining time.\n",
            "\tRan out of time, early stopping on iteration 292. Best iteration is:\n",
            "\t[292]\ttrain_set's rmse: 16.898\tvalid_set's rmse: 34.464\n",
            "\tTime limit exceeded... Skipping LightGBMLarge_BAG_L1.\n",
            "Completed 1/20 k-fold bagging repeats ...\n",
            "Fitting model: WeightedEnsemble_L2 ... Training model for up to 360.0s of the 210.21s of remaining time.\n",
            "\t-33.1025\t = Validation root_mean_squared_error score\n",
            "\t0.93s\t = Training runtime\n",
            "\t0.0s\t = Validation runtime\n",
            "Fitting model: KNeighborsUnif_BAG_L2 ... Training model for up to 209.27s of the 209.26s of remaining time.\n",
            "\t-35.0988\t = Validation root_mean_squared_error score\n",
            "\t0.01s\t = Training runtime\n",
            "\t3.98s\t = Validation runtime\n",
            "Fitting model: KNeighborsDist_BAG_L2 ... Training model for up to 205.07s of the 205.06s of remaining time.\n",
            "\t-35.0812\t = Validation root_mean_squared_error score\n",
            "\t0.01s\t = Training runtime\n",
            "\t3.96s\t = Validation runtime\n",
            "Fitting model: LightGBMXT_BAG_L2 ... Training model for up to 200.89s of the 200.88s of remaining time.\n",
            "\t-33.6481\t = Validation root_mean_squared_error score\n",
            "\t8.74s\t = Training runtime\n",
            "\t0.27s\t = Validation runtime\n",
            "Fitting model: LightGBM_BAG_L2 ... Training model for up to 191.55s of the 191.54s of remaining time.\n",
            "\t-33.3337\t = Validation root_mean_squared_error score\n",
            "\t6.14s\t = Training runtime\n",
            "\t0.11s\t = Validation runtime\n",
            "Fitting model: RandomForestMSE_BAG_L2 ... Training model for up to 185.19s of the 185.18s of remaining time.\n",
            "\t-34.0494\t = Validation root_mean_squared_error score\n",
            "\t26.35s\t = Training runtime\n",
            "\t0.52s\t = Validation runtime\n",
            "Fitting model: CatBoost_BAG_L2 ... Training model for up to 157.66s of the 157.65s of remaining time.\n",
            "\t-33.0663\t = Validation root_mean_squared_error score\n",
            "\t35.63s\t = Training runtime\n",
            "\t0.05s\t = Validation runtime\n",
            "Fitting model: ExtraTreesMSE_BAG_L2 ... Training model for up to 121.94s of the 121.94s of remaining time.\n",
            "\t-33.3691\t = Validation root_mean_squared_error score\n",
            "\t6.63s\t = Training runtime\n",
            "\t0.47s\t = Validation runtime\n",
            "Fitting model: NeuralNetFastAI_BAG_L2 ... Training model for up to 114.24s of the 114.23s of remaining time.\n",
            "\tRan out of time, stopping training early.\n",
            "\tRan out of time, stopping training early.\n",
            "\tRan out of time, stopping training early.\n",
            "\tRan out of time, stopping training early.\n",
            "\t-32.8946\t = Validation root_mean_squared_error score\n",
            "\t99.94s\t = Training runtime\n",
            "\t0.38s\t = Validation runtime\n",
            "Fitting model: XGBoost_BAG_L2 ... Training model for up to 13.7s of the 13.69s of remaining time.\n",
            "\t-33.9174\t = Validation root_mean_squared_error score\n",
            "\t13.09s\t = Training runtime\n",
            "\t0.14s\t = Validation runtime\n",
            "Fitting model: NeuralNetMXNet_BAG_L2 ... Training model for up to 0.33s of the 0.32s of remaining time.\n",
            "\tTime limit exceeded... Skipping NeuralNetMXNet_BAG_L2.\n",
            "Completed 1/20 k-fold bagging repeats ...\n",
            "Fitting model: WeightedEnsemble_L3 ... Training model for up to 360.0s of the -0.24s of remaining time.\n",
            "\t-32.6759\t = Validation root_mean_squared_error score\n",
            "\t0.96s\t = Training runtime\n",
            "\t0.0s\t = Validation runtime\n",
            "AutoGluon training complete, total runtime = 601.23s ...\n",
            "TabularPredictor saved. To load, use: predictor = TabularPredictor.load(\"AutogluonModels/ag-20210719_225128/\")\n"
          ],
          "name": "stderr"
        }
      ]
    },
    {
      "cell_type": "code",
      "metadata": {
        "id": "b0o2GUOgI-fM",
        "colab": {
          "base_uri": "https://localhost:8080/"
        },
        "outputId": "47394aea-eca5-4b69-ae56-0b219864222a"
      },
      "source": [
        "predictor_new_features.fit_summary()"
      ],
      "execution_count": null,
      "outputs": [
        {
          "output_type": "stream",
          "text": [
            "*** Summary of fit() ***\n",
            "Estimated performance of each model:\n",
            "                     model   score_val  pred_time_val    fit_time  pred_time_val_marginal  fit_time_marginal  stack_level  can_infer  fit_order\n",
            "0      WeightedEnsemble_L3  -32.675883      16.517697  463.568234                0.001183           0.962074            3       True         19\n",
            "1   NeuralNetFastAI_BAG_L2  -32.894638      11.663688  405.460183                0.383429          99.935153            2       True         17\n",
            "2          CatBoost_BAG_L2  -33.066341      11.326211  341.150239                0.045952          35.625209            2       True         15\n",
            "3      WeightedEnsemble_L2  -33.102508      10.874465  306.392960                0.001157           0.928287            2       True          9\n",
            "4          LightGBM_BAG_L2  -33.333672      11.388388  311.668792                0.108128           6.143763            2       True         13\n",
            "5     ExtraTreesMSE_BAG_L2  -33.369101      11.750766  312.152690                0.470506           6.627661            2       True         16\n",
            "6        LightGBMXT_BAG_L2  -33.648115      11.546511  314.267099                0.266251           8.742069            2       True         12\n",
            "7           XGBoost_BAG_L2  -33.917404      11.417722  318.613887                0.137463          13.088857            2       True         18\n",
            "8   RandomForestMSE_BAG_L2  -34.049430      11.801104  331.879289                0.520844          26.354260            2       True         14\n",
            "9          LightGBM_BAG_L1  -34.155581       1.431794   27.731870                1.431794          27.731870            1       True          4\n",
            "10   KNeighborsDist_BAG_L2  -35.081244      15.242248  305.532305                3.961988           0.007276            2       True         11\n",
            "11   KNeighborsUnif_BAG_L2  -35.098836      15.257921  305.533408                3.977662           0.008379            2       True         10\n",
            "12          XGBoost_BAG_L1  -35.269222       0.278282   51.594540                0.278282          51.594540            1       True          8\n",
            "13    ExtraTreesMSE_BAG_L1  -38.682099       0.402373    3.921080                0.402373           3.921080            1       True          6\n",
            "14  RandomForestMSE_BAG_L1  -38.910416       0.407192    8.232233                0.407192           8.232233            1       True          5\n",
            "15  NeuralNetFastAI_BAG_L1  -45.737520       0.350649  101.538077                0.350649         101.538077            1       True          7\n",
            "16       LightGBMXT_BAG_L1  -47.360403       8.003017  112.446872                8.003017         112.446872            1       True          3\n",
            "17   KNeighborsDist_BAG_L1 -114.323797       0.203599    0.028641                0.203599           0.028641            1       True          2\n",
            "18   KNeighborsUnif_BAG_L1 -119.282105       0.203353    0.031716                0.203353           0.031716            1       True          1\n",
            "Number of models trained: 19\n",
            "Types of models trained:\n",
            "{'StackerEnsembleModel_KNN', 'StackerEnsembleModel_LGB', 'StackerEnsembleModel_XGBoost', 'StackerEnsembleModel_RF', 'WeightedEnsembleModel', 'StackerEnsembleModel_CatBoost', 'StackerEnsembleModel_NNFastAiTabular', 'StackerEnsembleModel_XT'}\n",
            "Bagging used: True  (with 10 folds)\n",
            "Multi-layer stack-ensembling used: True  (with 3 levels)\n",
            "Feature Metadata (Processed):\n",
            "(raw dtype, special dtypes):\n",
            "('category', []) : 2 | ['season', 'weather']\n",
            "('float', [])    : 3 | ['temp', 'atemp', 'windspeed']\n",
            "('int', [])      : 8 | ['holiday', 'workingday', 'humidity', 'year', 'month', ...]\n",
            "Plot summary of models saved to file: AutogluonModels/ag-20210719_225128/SummaryOfModels.html\n",
            "*** End of fit() summary ***\n"
          ],
          "name": "stdout"
        },
        {
          "output_type": "execute_result",
          "data": {
            "text/plain": [
              "{'leaderboard':                      model   score_val  ...  can_infer  fit_order\n",
              " 0      WeightedEnsemble_L3  -32.675883  ...       True         19\n",
              " 1   NeuralNetFastAI_BAG_L2  -32.894638  ...       True         17\n",
              " 2          CatBoost_BAG_L2  -33.066341  ...       True         15\n",
              " 3      WeightedEnsemble_L2  -33.102508  ...       True          9\n",
              " 4          LightGBM_BAG_L2  -33.333672  ...       True         13\n",
              " 5     ExtraTreesMSE_BAG_L2  -33.369101  ...       True         16\n",
              " 6        LightGBMXT_BAG_L2  -33.648115  ...       True         12\n",
              " 7           XGBoost_BAG_L2  -33.917404  ...       True         18\n",
              " 8   RandomForestMSE_BAG_L2  -34.049430  ...       True         14\n",
              " 9          LightGBM_BAG_L1  -34.155581  ...       True          4\n",
              " 10   KNeighborsDist_BAG_L2  -35.081244  ...       True         11\n",
              " 11   KNeighborsUnif_BAG_L2  -35.098836  ...       True         10\n",
              " 12          XGBoost_BAG_L1  -35.269222  ...       True          8\n",
              " 13    ExtraTreesMSE_BAG_L1  -38.682099  ...       True          6\n",
              " 14  RandomForestMSE_BAG_L1  -38.910416  ...       True          5\n",
              " 15  NeuralNetFastAI_BAG_L1  -45.737520  ...       True          7\n",
              " 16       LightGBMXT_BAG_L1  -47.360403  ...       True          3\n",
              " 17   KNeighborsDist_BAG_L1 -114.323797  ...       True          2\n",
              " 18   KNeighborsUnif_BAG_L1 -119.282105  ...       True          1\n",
              " \n",
              " [19 rows x 9 columns],\n",
              " 'max_stack_level': 3,\n",
              " 'model_best': 'WeightedEnsemble_L3',\n",
              " 'model_fit_times': {'CatBoost_BAG_L2': 35.62520933151245,\n",
              "  'ExtraTreesMSE_BAG_L1': 3.9210803508758545,\n",
              "  'ExtraTreesMSE_BAG_L2': 6.627660512924194,\n",
              "  'KNeighborsDist_BAG_L1': 0.0286409854888916,\n",
              "  'KNeighborsDist_BAG_L2': 0.007275581359863281,\n",
              "  'KNeighborsUnif_BAG_L1': 0.03171586990356445,\n",
              "  'KNeighborsUnif_BAG_L2': 0.00837850570678711,\n",
              "  'LightGBMXT_BAG_L1': 112.44687223434448,\n",
              "  'LightGBMXT_BAG_L2': 8.742069482803345,\n",
              "  'LightGBM_BAG_L1': 27.73187017440796,\n",
              "  'LightGBM_BAG_L2': 6.143763065338135,\n",
              "  'NeuralNetFastAI_BAG_L1': 101.538076877594,\n",
              "  'NeuralNetFastAI_BAG_L2': 99.93515348434448,\n",
              "  'RandomForestMSE_BAG_L1': 8.232233047485352,\n",
              "  'RandomForestMSE_BAG_L2': 26.354259729385376,\n",
              "  'WeightedEnsemble_L2': 0.9282872676849365,\n",
              "  'WeightedEnsemble_L3': 0.962073802947998,\n",
              "  'XGBoost_BAG_L1': 51.594539642333984,\n",
              "  'XGBoost_BAG_L2': 13.088857412338257},\n",
              " 'model_hyperparams': {'CatBoost_BAG_L2': {'max_base_models': 25,\n",
              "   'max_base_models_per_type': 5,\n",
              "   'save_bag_folds': True,\n",
              "   'use_orig_features': True},\n",
              "  'ExtraTreesMSE_BAG_L1': {'max_base_models': 25,\n",
              "   'max_base_models_per_type': 5,\n",
              "   'save_bag_folds': True,\n",
              "   'use_child_oof': True,\n",
              "   'use_orig_features': True},\n",
              "  'ExtraTreesMSE_BAG_L2': {'max_base_models': 25,\n",
              "   'max_base_models_per_type': 5,\n",
              "   'save_bag_folds': True,\n",
              "   'use_child_oof': True,\n",
              "   'use_orig_features': True},\n",
              "  'KNeighborsDist_BAG_L1': {'max_base_models': 25,\n",
              "   'max_base_models_per_type': 5,\n",
              "   'save_bag_folds': True,\n",
              "   'use_child_oof': True,\n",
              "   'use_orig_features': True},\n",
              "  'KNeighborsDist_BAG_L2': {'max_base_models': 25,\n",
              "   'max_base_models_per_type': 5,\n",
              "   'save_bag_folds': True,\n",
              "   'use_child_oof': True,\n",
              "   'use_orig_features': True},\n",
              "  'KNeighborsUnif_BAG_L1': {'max_base_models': 25,\n",
              "   'max_base_models_per_type': 5,\n",
              "   'save_bag_folds': True,\n",
              "   'use_child_oof': True,\n",
              "   'use_orig_features': True},\n",
              "  'KNeighborsUnif_BAG_L2': {'max_base_models': 25,\n",
              "   'max_base_models_per_type': 5,\n",
              "   'save_bag_folds': True,\n",
              "   'use_child_oof': True,\n",
              "   'use_orig_features': True},\n",
              "  'LightGBMXT_BAG_L1': {'max_base_models': 25,\n",
              "   'max_base_models_per_type': 5,\n",
              "   'save_bag_folds': True,\n",
              "   'use_orig_features': True},\n",
              "  'LightGBMXT_BAG_L2': {'max_base_models': 25,\n",
              "   'max_base_models_per_type': 5,\n",
              "   'save_bag_folds': True,\n",
              "   'use_orig_features': True},\n",
              "  'LightGBM_BAG_L1': {'max_base_models': 25,\n",
              "   'max_base_models_per_type': 5,\n",
              "   'save_bag_folds': True,\n",
              "   'use_orig_features': True},\n",
              "  'LightGBM_BAG_L2': {'max_base_models': 25,\n",
              "   'max_base_models_per_type': 5,\n",
              "   'save_bag_folds': True,\n",
              "   'use_orig_features': True},\n",
              "  'NeuralNetFastAI_BAG_L1': {'max_base_models': 25,\n",
              "   'max_base_models_per_type': 5,\n",
              "   'save_bag_folds': True,\n",
              "   'use_orig_features': True},\n",
              "  'NeuralNetFastAI_BAG_L2': {'max_base_models': 25,\n",
              "   'max_base_models_per_type': 5,\n",
              "   'save_bag_folds': True,\n",
              "   'use_orig_features': True},\n",
              "  'RandomForestMSE_BAG_L1': {'max_base_models': 25,\n",
              "   'max_base_models_per_type': 5,\n",
              "   'save_bag_folds': True,\n",
              "   'use_child_oof': True,\n",
              "   'use_orig_features': True},\n",
              "  'RandomForestMSE_BAG_L2': {'max_base_models': 25,\n",
              "   'max_base_models_per_type': 5,\n",
              "   'save_bag_folds': True,\n",
              "   'use_child_oof': True,\n",
              "   'use_orig_features': True},\n",
              "  'WeightedEnsemble_L2': {'max_base_models': 25,\n",
              "   'max_base_models_per_type': 5,\n",
              "   'save_bag_folds': True,\n",
              "   'use_orig_features': False},\n",
              "  'WeightedEnsemble_L3': {'max_base_models': 25,\n",
              "   'max_base_models_per_type': 5,\n",
              "   'save_bag_folds': True,\n",
              "   'use_orig_features': False},\n",
              "  'XGBoost_BAG_L1': {'max_base_models': 25,\n",
              "   'max_base_models_per_type': 5,\n",
              "   'save_bag_folds': True,\n",
              "   'use_orig_features': True},\n",
              "  'XGBoost_BAG_L2': {'max_base_models': 25,\n",
              "   'max_base_models_per_type': 5,\n",
              "   'save_bag_folds': True,\n",
              "   'use_orig_features': True}},\n",
              " 'model_paths': {'CatBoost_BAG_L2': 'AutogluonModels/ag-20210719_225128/models/CatBoost_BAG_L2/',\n",
              "  'ExtraTreesMSE_BAG_L1': 'AutogluonModels/ag-20210719_225128/models/ExtraTreesMSE_BAG_L1/',\n",
              "  'ExtraTreesMSE_BAG_L2': 'AutogluonModels/ag-20210719_225128/models/ExtraTreesMSE_BAG_L2/',\n",
              "  'KNeighborsDist_BAG_L1': 'AutogluonModels/ag-20210719_225128/models/KNeighborsDist_BAG_L1/',\n",
              "  'KNeighborsDist_BAG_L2': 'AutogluonModels/ag-20210719_225128/models/KNeighborsDist_BAG_L2/',\n",
              "  'KNeighborsUnif_BAG_L1': 'AutogluonModels/ag-20210719_225128/models/KNeighborsUnif_BAG_L1/',\n",
              "  'KNeighborsUnif_BAG_L2': 'AutogluonModels/ag-20210719_225128/models/KNeighborsUnif_BAG_L2/',\n",
              "  'LightGBMXT_BAG_L1': 'AutogluonModels/ag-20210719_225128/models/LightGBMXT_BAG_L1/',\n",
              "  'LightGBMXT_BAG_L2': 'AutogluonModels/ag-20210719_225128/models/LightGBMXT_BAG_L2/',\n",
              "  'LightGBM_BAG_L1': 'AutogluonModels/ag-20210719_225128/models/LightGBM_BAG_L1/',\n",
              "  'LightGBM_BAG_L2': 'AutogluonModels/ag-20210719_225128/models/LightGBM_BAG_L2/',\n",
              "  'NeuralNetFastAI_BAG_L1': 'AutogluonModels/ag-20210719_225128/models/NeuralNetFastAI_BAG_L1/',\n",
              "  'NeuralNetFastAI_BAG_L2': 'AutogluonModels/ag-20210719_225128/models/NeuralNetFastAI_BAG_L2/',\n",
              "  'RandomForestMSE_BAG_L1': 'AutogluonModels/ag-20210719_225128/models/RandomForestMSE_BAG_L1/',\n",
              "  'RandomForestMSE_BAG_L2': 'AutogluonModels/ag-20210719_225128/models/RandomForestMSE_BAG_L2/',\n",
              "  'WeightedEnsemble_L2': 'AutogluonModels/ag-20210719_225128/models/WeightedEnsemble_L2/',\n",
              "  'WeightedEnsemble_L3': 'AutogluonModels/ag-20210719_225128/models/WeightedEnsemble_L3/',\n",
              "  'XGBoost_BAG_L1': 'AutogluonModels/ag-20210719_225128/models/XGBoost_BAG_L1/',\n",
              "  'XGBoost_BAG_L2': 'AutogluonModels/ag-20210719_225128/models/XGBoost_BAG_L2/'},\n",
              " 'model_performance': {'CatBoost_BAG_L2': -33.06634070574384,\n",
              "  'ExtraTreesMSE_BAG_L1': -38.6820987051382,\n",
              "  'ExtraTreesMSE_BAG_L2': -33.36910124524444,\n",
              "  'KNeighborsDist_BAG_L1': -114.32379664769161,\n",
              "  'KNeighborsDist_BAG_L2': -35.081243511659956,\n",
              "  'KNeighborsUnif_BAG_L1': -119.28210491278487,\n",
              "  'KNeighborsUnif_BAG_L2': -35.09883620472,\n",
              "  'LightGBMXT_BAG_L1': -47.36040304979292,\n",
              "  'LightGBMXT_BAG_L2': -33.64811473678495,\n",
              "  'LightGBM_BAG_L1': -34.15558144049872,\n",
              "  'LightGBM_BAG_L2': -33.33367243414164,\n",
              "  'NeuralNetFastAI_BAG_L1': -45.73751965116023,\n",
              "  'NeuralNetFastAI_BAG_L2': -32.89463781840868,\n",
              "  'RandomForestMSE_BAG_L1': -38.91041582854093,\n",
              "  'RandomForestMSE_BAG_L2': -34.0494296446506,\n",
              "  'WeightedEnsemble_L2': -33.10250794814705,\n",
              "  'WeightedEnsemble_L3': -32.67588281147833,\n",
              "  'XGBoost_BAG_L1': -35.26922195501161,\n",
              "  'XGBoost_BAG_L2': -33.917404427006396},\n",
              " 'model_pred_times': {'CatBoost_BAG_L2': 0.04595184326171875,\n",
              "  'ExtraTreesMSE_BAG_L1': 0.4023730754852295,\n",
              "  'ExtraTreesMSE_BAG_L2': 0.4705064296722412,\n",
              "  'KNeighborsDist_BAG_L1': 0.2035989761352539,\n",
              "  'KNeighborsDist_BAG_L2': 3.9619884490966797,\n",
              "  'KNeighborsUnif_BAG_L1': 0.2033531665802002,\n",
              "  'KNeighborsUnif_BAG_L2': 3.977661609649658,\n",
              "  'LightGBMXT_BAG_L1': 8.003016948699951,\n",
              "  'LightGBMXT_BAG_L2': 0.2662513256072998,\n",
              "  'LightGBM_BAG_L1': 1.4317939281463623,\n",
              "  'LightGBM_BAG_L2': 0.10812807083129883,\n",
              "  'NeuralNetFastAI_BAG_L1': 0.3506491184234619,\n",
              "  'NeuralNetFastAI_BAG_L2': 0.38342857360839844,\n",
              "  'RandomForestMSE_BAG_L1': 0.4071922302246094,\n",
              "  'RandomForestMSE_BAG_L2': 0.5208444595336914,\n",
              "  'WeightedEnsemble_L2': 0.0011572837829589844,\n",
              "  'WeightedEnsemble_L3': 0.0011830329895019531,\n",
              "  'XGBoost_BAG_L1': 0.27828216552734375,\n",
              "  'XGBoost_BAG_L2': 0.13746285438537598},\n",
              " 'model_types': {'CatBoost_BAG_L2': 'StackerEnsembleModel_CatBoost',\n",
              "  'ExtraTreesMSE_BAG_L1': 'StackerEnsembleModel_XT',\n",
              "  'ExtraTreesMSE_BAG_L2': 'StackerEnsembleModel_XT',\n",
              "  'KNeighborsDist_BAG_L1': 'StackerEnsembleModel_KNN',\n",
              "  'KNeighborsDist_BAG_L2': 'StackerEnsembleModel_KNN',\n",
              "  'KNeighborsUnif_BAG_L1': 'StackerEnsembleModel_KNN',\n",
              "  'KNeighborsUnif_BAG_L2': 'StackerEnsembleModel_KNN',\n",
              "  'LightGBMXT_BAG_L1': 'StackerEnsembleModel_LGB',\n",
              "  'LightGBMXT_BAG_L2': 'StackerEnsembleModel_LGB',\n",
              "  'LightGBM_BAG_L1': 'StackerEnsembleModel_LGB',\n",
              "  'LightGBM_BAG_L2': 'StackerEnsembleModel_LGB',\n",
              "  'NeuralNetFastAI_BAG_L1': 'StackerEnsembleModel_NNFastAiTabular',\n",
              "  'NeuralNetFastAI_BAG_L2': 'StackerEnsembleModel_NNFastAiTabular',\n",
              "  'RandomForestMSE_BAG_L1': 'StackerEnsembleModel_RF',\n",
              "  'RandomForestMSE_BAG_L2': 'StackerEnsembleModel_RF',\n",
              "  'WeightedEnsemble_L2': 'WeightedEnsembleModel',\n",
              "  'WeightedEnsemble_L3': 'WeightedEnsembleModel',\n",
              "  'XGBoost_BAG_L1': 'StackerEnsembleModel_XGBoost',\n",
              "  'XGBoost_BAG_L2': 'StackerEnsembleModel_XGBoost'},\n",
              " 'num_bag_folds': 10}"
            ]
          },
          "metadata": {
            "tags": []
          },
          "execution_count": 26
        }
      ]
    },
    {
      "cell_type": "code",
      "metadata": {
        "id": "KmgooU5gI-fM",
        "colab": {
          "base_uri": "https://localhost:8080/"
        },
        "outputId": "5297e78a-86c2-4832-81ab-f7e98e9af3d4"
      },
      "source": [
        "# Remember to set all negative values to zero\n",
        "\n",
        "predictions = predictor_new_features.predict(test)\n",
        "predictions.head()\n"
      ],
      "execution_count": null,
      "outputs": [
        {
          "output_type": "execute_result",
          "data": {
            "text/plain": [
              "0    23.077486\n",
              "1     6.238546\n",
              "2     4.948815\n",
              "3     4.301346\n",
              "4     4.682296\n",
              "Name: count, dtype: float32"
            ]
          },
          "metadata": {
            "tags": []
          },
          "execution_count": 27
        }
      ]
    },
    {
      "cell_type": "code",
      "metadata": {
        "id": "fvObdbdlI-fN",
        "colab": {
          "base_uri": "https://localhost:8080/"
        },
        "outputId": "0989e6a9-3af9-4fde-9a31-281831abdd94"
      },
      "source": [
        "# How many negative values do we have?\n",
        "count = 0\n",
        "for row in predictions:\n",
        "    if row < 0:\n",
        "        count=count+1\n",
        "        \n",
        "print(count) "
      ],
      "execution_count": null,
      "outputs": [
        {
          "output_type": "stream",
          "text": [
            "5\n"
          ],
          "name": "stdout"
        }
      ]
    },
    {
      "cell_type": "code",
      "metadata": {
        "id": "uxxrzku2I-fN",
        "colab": {
          "base_uri": "https://localhost:8080/"
        },
        "outputId": "101e6e61-5231-467b-8845-b5fa77313e11"
      },
      "source": [
        "# Set them to zero\n",
        "for i, row in enumerate(predictions):\n",
        "    if row < 0:\n",
        "            predictions[i] = 0\n",
        "        \n",
        "predictions.describe()    "
      ],
      "execution_count": null,
      "outputs": [
        {
          "output_type": "execute_result",
          "data": {
            "text/plain": [
              "count    6493.000000\n",
              "mean      188.677383\n",
              "std       170.447998\n",
              "min         0.000000\n",
              "25%        46.941528\n",
              "50%       148.531662\n",
              "75%       277.344360\n",
              "max       883.355347\n",
              "Name: count, dtype: float64"
            ]
          },
          "metadata": {
            "tags": []
          },
          "execution_count": 29
        }
      ]
    },
    {
      "cell_type": "code",
      "metadata": {
        "id": "fAis7AtYI-fO",
        "colab": {
          "base_uri": "https://localhost:8080/",
          "height": 195
        },
        "outputId": "cee2362d-61e1-4c31-ddee-031956b97cdb"
      },
      "source": [
        "# Same thing as train and test dataset\n",
        "submission_new_features = pd.read_csv('sampleSubmission.csv', parse_dates = ['datetime'])\n",
        "submission_new_features.head()"
      ],
      "execution_count": null,
      "outputs": [
        {
          "output_type": "execute_result",
          "data": {
            "text/html": [
              "<div>\n",
              "<style scoped>\n",
              "    .dataframe tbody tr th:only-of-type {\n",
              "        vertical-align: middle;\n",
              "    }\n",
              "\n",
              "    .dataframe tbody tr th {\n",
              "        vertical-align: top;\n",
              "    }\n",
              "\n",
              "    .dataframe thead th {\n",
              "        text-align: right;\n",
              "    }\n",
              "</style>\n",
              "<table border=\"1\" class=\"dataframe\">\n",
              "  <thead>\n",
              "    <tr style=\"text-align: right;\">\n",
              "      <th></th>\n",
              "      <th>datetime</th>\n",
              "      <th>count</th>\n",
              "    </tr>\n",
              "  </thead>\n",
              "  <tbody>\n",
              "    <tr>\n",
              "      <th>0</th>\n",
              "      <td>2011-01-20 00:00:00</td>\n",
              "      <td>0</td>\n",
              "    </tr>\n",
              "    <tr>\n",
              "      <th>1</th>\n",
              "      <td>2011-01-20 01:00:00</td>\n",
              "      <td>0</td>\n",
              "    </tr>\n",
              "    <tr>\n",
              "      <th>2</th>\n",
              "      <td>2011-01-20 02:00:00</td>\n",
              "      <td>0</td>\n",
              "    </tr>\n",
              "    <tr>\n",
              "      <th>3</th>\n",
              "      <td>2011-01-20 03:00:00</td>\n",
              "      <td>0</td>\n",
              "    </tr>\n",
              "    <tr>\n",
              "      <th>4</th>\n",
              "      <td>2011-01-20 04:00:00</td>\n",
              "      <td>0</td>\n",
              "    </tr>\n",
              "  </tbody>\n",
              "</table>\n",
              "</div>"
            ],
            "text/plain": [
              "             datetime  count\n",
              "0 2011-01-20 00:00:00      0\n",
              "1 2011-01-20 01:00:00      0\n",
              "2 2011-01-20 02:00:00      0\n",
              "3 2011-01-20 03:00:00      0\n",
              "4 2011-01-20 04:00:00      0"
            ]
          },
          "metadata": {
            "tags": []
          },
          "execution_count": 30
        }
      ]
    },
    {
      "cell_type": "code",
      "metadata": {
        "id": "LJZ4f1FkI-fO"
      },
      "source": [
        "# Same submitting predictions\n",
        "submission_new_features[\"count\"] = predictions\n",
        "submission_new_features.to_csv(\"submission_new_features.csv\", index=False)"
      ],
      "execution_count": null,
      "outputs": []
    },
    {
      "cell_type": "code",
      "metadata": {
        "id": "klDPPct2I-fP",
        "colab": {
          "base_uri": "https://localhost:8080/"
        },
        "outputId": "1cdbde9f-60d8-438a-8268-b9aabc66a438"
      },
      "source": [
        "!kaggle competitions submit -c bike-sharing-demand -f submission_new_features.csv -m \"new features\""
      ],
      "execution_count": null,
      "outputs": [
        {
          "output_type": "stream",
          "text": [
            "Warning: Looks like you're using an outdated API Version, please consider updating (server 1.5.12 / client 1.5.4)\n",
            "100% 188k/188k [00:02<00:00, 66.0kB/s]\n",
            "Successfully submitted to Bike Sharing Demand"
          ],
          "name": "stdout"
        }
      ]
    },
    {
      "cell_type": "code",
      "metadata": {
        "id": "qN8fJYrlI-fP",
        "colab": {
          "base_uri": "https://localhost:8080/"
        },
        "outputId": "0338bc11-b401-4208-84a2-080c624df629"
      },
      "source": [
        "!kaggle competitions submissions -c bike-sharing-demand | tail -n +1 | head -n 6"
      ],
      "execution_count": null,
      "outputs": [
        {
          "output_type": "stream",
          "text": [
            "Warning: Looks like you're using an outdated API Version, please consider updating (server 1.5.12 / client 1.5.4)\n",
            "fileName                     date                 description                        status    publicScore  privateScore  \n",
            "---------------------------  -------------------  ---------------------------------  --------  -----------  ------------  \n",
            "submission_new_features.csv  2021-07-19 23:03:28  new features                       complete  0.45526      0.45526       \n",
            "submission.csv               2021-07-19 22:50:06  first raw submission               complete  1.36123      1.36123       \n",
            "submission_new_hpo.csv       2021-07-19 22:01:47  new features with hyperparameters  complete  0.49144      0.49144       \n"
          ],
          "name": "stdout"
        }
      ]
    },
    {
      "cell_type": "markdown",
      "metadata": {
        "id": "MpGNsZhkI-fP"
      },
      "source": [
        "\n",
        "\n",
        "```\n",
        "# This is formatted as code\n",
        "```\n",
        "\n",
        "#### New Score of `0.45526`"
      ]
    },
    {
      "cell_type": "markdown",
      "metadata": {
        "id": "vTngjkCEI-fQ"
      },
      "source": [
        "## Step 6: Hyper parameter optimization\n",
        "* There are many options for hyper parameter optimization.\n",
        "* Options are to change the AutoGluon higher level parameters or the individual model hyperparameters.\n",
        "* The hyperparameters of the models themselves that are in AutoGluon. Those need the `hyperparameter` and `hyperparameter_tune_kwargs` arguments."
      ]
    },
    {
      "cell_type": "code",
      "metadata": {
        "id": "Q15jxCr_I-fQ",
        "colab": {
          "base_uri": "https://localhost:8080/",
          "height": 1000,
          "referenced_widgets": [
            "30efd6cafb08419d97ef1ee958d76af3",
            "aa2e8d6714214ebe85196848ef9aa3ce",
            "adbba5293ae045bdb60a46abbe1880c2",
            "9cf5dc7498e7441c983d502c6c5ab6fe",
            "747b1ec68ef04c728bba92919fdae647",
            "b8bc271d238148a8b593c88d8ff411fa",
            "242450d640134968ae1d304d3f7abf75",
            "e694e5896d2d4c178f8edc10fb36f0eb",
            "25e050d2632949eba25b4642c5ae7b0c",
            "8ef20a66ae194508b0fdffdda33dc654",
            "ae83297da6e84d1dbd63330bb9a81c5b",
            "8f4c35d036ae4951af53bd24b3c384b5",
            "728244a98cec404289d57e20c784b198",
            "a49bb5b4f3d745b4a5b3ff90e1df3651",
            "9b3cc2c3293d4f2eb6580a171748b3e1",
            "fd0386c8518741ca9843f60cfba64287",
            "abdc6f77d763483b9759b3728212dd8f",
            "a6c0f4a8b8b048fcb417d4458d6fda96",
            "488181082050494db9bc346a274fe0bf",
            "faad155368ef47108f7ad3c79d307147",
            "45525f887c2b4087b777e423876be518",
            "951db5f018b64159b3ad2c91a7af6fb5",
            "92ac922e5fc848939cdeb7a9b487dd54",
            "0dc3f0067aa943b2b08391019eca5328",
            "35c06fee0aa9481a84c8c41661cf7369",
            "933ceb85571e44acb55311d2e772b5c6",
            "6f6f583bcf444253bb1680f1460b335d",
            "97765f0a393c42d8a20e0b510298be86",
            "b662caddfdbd4a31873a1b4dc63c41ec",
            "508ed7bc68214918854825e1ff6a7ae5",
            "5772be290e4943e487ba7e12d3fff3b3",
            "e6ac47f0af594c3a9adad8ce16b1f5dc"
          ]
        },
        "outputId": "bf65de8c-7a49-4f7b-b086-eb319e968ed3"
      },
      "source": [
        "import autogluon.core as ag\n",
        "#import autogluon.tabular.TabularPrediction\n",
        "#import TabularPrediction as task\n",
        "\n",
        "num_trials = 5  # try at most 5 different hyperparameter configurations for each type of model\n",
        "search_strategy = 'auto' \n",
        "\n",
        "nn_options = {  # specifies non-default hyperparameter values for neural network models\n",
        "    'num_epochs': 10,  # number of training epochs (controls training time of NN models)\n",
        "    'learning_rate': ag.space.Real(1e-4, 1e-2, default=5e-4, log=True),  # learning rate used in training (real-valued hyperparameter searched on log-scale)\n",
        "    'activation': ag.space.Categorical('relu', 'softrelu', 'tanh'),  # activation function used in NN (categorical hyperparameter, default = first entry)\n",
        "    'layers': ag.space.Categorical([100], [1000], [200, 100], [300, 200, 100]),  # each choice for categorical hyperparameter 'layers' corresponds to list of sizes for each NN layer to use\n",
        "    'dropout_prob': ag.space.Real(0.0, 0.5, default=0.1),  # dropout probability (real-valued hyperparameter)\n",
        "}\n",
        "\n",
        "gbm_options = {  # specifies non-default hyperparameter values for lightGBM gradient boosted trees\n",
        "    'num_boost_round': 100,  # number of boosting rounds (controls training time of GBM models)\n",
        "    'num_leaves': ag.space.Int(lower=26, upper=66, default=36),  # number of leaves in trees (integer hyperparameter)\n",
        "}\n",
        "\n",
        "\n",
        "hyperparameters = {  # hyperparameters of each model type\n",
        "                   'GBM': gbm_options,\n",
        "                   'NN': nn_options, \n",
        "                  } \n",
        "\n",
        "hyperparameter_tune_kwargs = {  # HPO is not performed unless hyperparameter_tune_kwargs is specified\n",
        "    'num_trials': num_trials,\n",
        "    'scheduler' : 'local',\n",
        "    'searcher': search_strategy,\n",
        "}                  \n",
        "\n",
        "\n",
        "predictor_new_hpo = TabularPredictor(label='count', eval_metric=eval_metric).fit(train, presets='best_quality', time_limit=900, hyperparameters=hyperparameters, hyperparameter_tune_kwargs=hyperparameter_tune_kwargs)\n",
        "#predictor_new_hpo = task.fit(train_data=train, label='count',\n",
        "#                     time_limits=600, eval_metric=eval_metric, \n",
        "#                     hyperparameters=hyperparameters, hyperparameter_tune_kwargs=hyperparameter_tune_kwargs, \n",
        "#                     presets='best_quality')"
      ],
      "execution_count": null,
      "outputs": [
        {
          "output_type": "stream",
          "text": [
            "No path specified. Models will be saved in: \"AutogluonModels/ag-20210719_230458/\"\n",
            "Presets specified: ['best_quality']\n",
            "Warning: hyperparameter tuning is currently experimental and may cause the process to hang.\n",
            "Beginning AutoGluon training ... Time limit = 900s\n",
            "AutoGluon will save models to \"AutogluonModels/ag-20210719_230458/\"\n",
            "AutoGluon Version:  0.2.0\n",
            "Train Data Rows:    10886\n",
            "Train Data Columns: 13\n",
            "Preprocessing data ...\n",
            "AutoGluon infers your prediction problem is: 'regression' (because dtype of label-column == int and many unique label-values observed).\n",
            "\tLabel info (max, min, mean, stddev): (977, 1, 191.57413, 181.14445)\n",
            "\tIf 'regression' is not the correct problem_type, please manually specify the problem_type argument in fit() (You may specify problem_type as one of: ['binary', 'multiclass', 'regression'])\n",
            "Using Feature Generators to preprocess the data ...\n",
            "Fitting AutoMLPipelineFeatureGenerator...\n",
            "\tAvailable Memory:                    11006.17 MB\n",
            "\tTrain Data (Original)  Memory Usage: 0.98 MB (0.0% of available memory)\n",
            "\tInferring data type of each feature based on column values. Set feature_metadata_in to manually specify special dtypes of the features.\n",
            "\tStage 1 Generators:\n",
            "\t\tFitting AsTypeFeatureGenerator...\n",
            "\tStage 2 Generators:\n",
            "\t\tFitting FillNaFeatureGenerator...\n",
            "\tStage 3 Generators:\n",
            "\t\tFitting IdentityFeatureGenerator...\n",
            "\t\tFitting CategoryFeatureGenerator...\n",
            "\t\t\tFitting CategoryMemoryMinimizeFeatureGenerator...\n",
            "\tStage 4 Generators:\n",
            "\t\tFitting DropUniqueFeatureGenerator...\n",
            "\tTypes of features in original data (raw dtype, special dtypes):\n",
            "\t\t('category', []) : 2 | ['season', 'weather']\n",
            "\t\t('float', [])    : 3 | ['temp', 'atemp', 'windspeed']\n",
            "\t\t('int', [])      : 8 | ['holiday', 'workingday', 'humidity', 'year', 'month', ...]\n",
            "\tTypes of features in processed data (raw dtype, special dtypes):\n",
            "\t\t('category', []) : 2 | ['season', 'weather']\n",
            "\t\t('float', [])    : 3 | ['temp', 'atemp', 'windspeed']\n",
            "\t\t('int', [])      : 8 | ['holiday', 'workingday', 'humidity', 'year', 'month', ...]\n",
            "\t0.1s = Fit runtime\n",
            "\t13 features in original data used to generate 13 features in processed data.\n",
            "\tTrain Data (Processed) Memory Usage: 0.98 MB (0.0% of available memory)\n",
            "Data preprocessing and feature engineering runtime = 0.16s ...\n",
            "AutoGluon will gauge predictive performance using evaluation metric: 'root_mean_squared_error'\n",
            "\tTo change this, specify the eval_metric argument of fit()\n",
            "Hyperparameter tuning model: LightGBM_BAG_L1 ...\n"
          ],
          "name": "stderr"
        },
        {
          "output_type": "display_data",
          "data": {
            "application/vnd.jupyter.widget-view+json": {
              "model_id": "30efd6cafb08419d97ef1ee958d76af3",
              "version_minor": 0,
              "version_major": 2
            },
            "text/plain": [
              "HBox(children=(FloatProgress(value=0.0, max=5.0), HTML(value='')))"
            ]
          },
          "metadata": {
            "tags": []
          }
        },
        {
          "output_type": "stream",
          "text": [
            "Fitted model: LightGBM_BAG_L1/T0 ...\n",
            "\t-41.553\t = Validation root_mean_squared_error score\n",
            "\t0.34s\t = Training runtime\n",
            "\t0.01s\t = Validation runtime\n",
            "Fitted model: LightGBM_BAG_L1/T1 ...\n",
            "\t-39.3542\t = Validation root_mean_squared_error score\n",
            "\t0.32s\t = Training runtime\n",
            "\t0.01s\t = Validation runtime\n",
            "Fitted model: LightGBM_BAG_L1/T2 ...\n",
            "\t-88.7428\t = Validation root_mean_squared_error score\n",
            "\t0.34s\t = Training runtime\n",
            "\t0.01s\t = Validation runtime\n",
            "Fitted model: LightGBM_BAG_L1/T3 ...\n",
            "\t-42.8682\t = Validation root_mean_squared_error score\n",
            "\t0.33s\t = Training runtime\n",
            "\t0.01s\t = Validation runtime\n",
            "Fitted model: LightGBM_BAG_L1/T4 ...\n",
            "\t-36.98\t = Validation root_mean_squared_error score\n",
            "\t0.32s\t = Training runtime\n"
          ],
          "name": "stderr"
        },
        {
          "output_type": "stream",
          "text": [
            "\n"
          ],
          "name": "stdout"
        },
        {
          "output_type": "stream",
          "text": [
            "\t0.01s\t = Validation runtime\n",
            "Hyperparameter tuning model: NeuralNetMXNet_BAG_L1 ...\n"
          ],
          "name": "stderr"
        },
        {
          "output_type": "display_data",
          "data": {
            "application/vnd.jupyter.widget-view+json": {
              "model_id": "25e050d2632949eba25b4642c5ae7b0c",
              "version_minor": 0,
              "version_major": 2
            },
            "text/plain": [
              "HBox(children=(FloatProgress(value=0.0, max=5.0), HTML(value='')))"
            ]
          },
          "metadata": {
            "tags": []
          }
        },
        {
          "output_type": "stream",
          "text": [
            "\tTime limit exceeded\n",
            "Fitted model: NeuralNetMXNet_BAG_L1/T0 ...\n",
            "\t-106.5495\t = Validation root_mean_squared_error score\n",
            "\t8.89s\t = Training runtime\n",
            "\t0.05s\t = Validation runtime\n",
            "Fitted model: NeuralNetMXNet_BAG_L1/T1 ...\n",
            "\t-142.4644\t = Validation root_mean_squared_error score\n",
            "\t9.37s\t = Training runtime\n",
            "\t0.05s\t = Validation runtime\n",
            "Fitting model: LightGBM_BAG_L1/T0 ... Training model for up to 576.15s of the 876.24s of remaining time.\n",
            "\t-41.8529\t = Validation root_mean_squared_error score\n",
            "\t3.04s\t = Training runtime\n",
            "\t0.12s\t = Validation runtime\n",
            "Fitting model: LightGBM_BAG_L1/T1 ... Training model for up to 573.22s of the 873.31s of remaining time.\n",
            "\t-39.6103\t = Validation root_mean_squared_error score\n",
            "\t3.25s\t = Training runtime\n",
            "\t0.12s\t = Validation runtime\n",
            "Fitting model: LightGBM_BAG_L1/T2 ... Training model for up to 570.02s of the 870.11s of remaining time.\n",
            "\t-89.6454\t = Validation root_mean_squared_error score\n",
            "\t3.34s\t = Training runtime\n",
            "\t0.11s\t = Validation runtime\n",
            "Fitting model: LightGBM_BAG_L1/T3 ... Training model for up to 566.75s of the 866.85s of remaining time.\n",
            "\t-43.2126\t = Validation root_mean_squared_error score\n",
            "\t3.27s\t = Training runtime\n",
            "\t0.12s\t = Validation runtime\n",
            "Fitting model: LightGBM_BAG_L1/T4 ... Training model for up to 563.55s of the 863.64s of remaining time.\n",
            "\t-37.0351\t = Validation root_mean_squared_error score\n",
            "\t3.38s\t = Training runtime\n",
            "\t0.12s\t = Validation runtime\n",
            "Fitting model: NeuralNetMXNet_BAG_L1/T0 ... Training model for up to 560.21s of the 860.3s of remaining time.\n",
            "\t-110.8209\t = Validation root_mean_squared_error score\n",
            "\t73.27s\t = Training runtime\n",
            "\t1.82s\t = Validation runtime\n",
            "Fitting model: NeuralNetMXNet_BAG_L1/T1 ... Training model for up to 494.01s of the 794.11s of remaining time.\n",
            "\t-143.092\t = Validation root_mean_squared_error score\n",
            "\t80.75s\t = Training runtime\n",
            "\t1.81s\t = Validation runtime\n",
            "Repeating k-fold bagging: 2/20\n",
            "Fitting model: LightGBM_BAG_L1/T0 ... Training model for up to 420.82s of the 720.92s of remaining time.\n",
            "\t-41.6378\t = Validation root_mean_squared_error score\n",
            "\t6.14s\t = Training runtime\n",
            "\t0.24s\t = Validation runtime\n",
            "Fitting model: LightGBM_BAG_L1/T1 ... Training model for up to 417.46s of the 717.55s of remaining time.\n",
            "\t-39.2718\t = Validation root_mean_squared_error score\n",
            "\t6.68s\t = Training runtime\n",
            "\t0.24s\t = Validation runtime\n",
            "Fitting model: LightGBM_BAG_L1/T2 ... Training model for up to 413.71s of the 713.8s of remaining time.\n",
            "\t-89.6058\t = Validation root_mean_squared_error score\n",
            "\t6.86s\t = Training runtime\n",
            "\t0.22s\t = Validation runtime\n",
            "Fitting model: LightGBM_BAG_L1/T3 ... Training model for up to 409.85s of the 709.95s of remaining time.\n",
            "\t-42.9102\t = Validation root_mean_squared_error score\n",
            "\t6.69s\t = Training runtime\n",
            "\t0.24s\t = Validation runtime\n",
            "Fitting model: LightGBM_BAG_L1/T4 ... Training model for up to 406.13s of the 706.22s of remaining time.\n",
            "\t-36.6501\t = Validation root_mean_squared_error score\n",
            "\t6.83s\t = Training runtime\n",
            "\t0.25s\t = Validation runtime\n",
            "Fitting model: NeuralNetMXNet_BAG_L1/T0 ... Training model for up to 402.36s of the 702.45s of remaining time.\n",
            "\t-110.4464\t = Validation root_mean_squared_error score\n",
            "\t144.95s\t = Training runtime\n",
            "\t3.78s\t = Validation runtime\n",
            "Fitting model: NeuralNetMXNet_BAG_L1/T1 ... Training model for up to 328.66s of the 628.75s of remaining time.\n",
            "\t-142.8785\t = Validation root_mean_squared_error score\n",
            "\t160.45s\t = Training runtime\n",
            "\t3.77s\t = Validation runtime\n",
            "Repeating k-fold bagging: 3/20\n",
            "Fitting model: LightGBM_BAG_L1/T0 ... Training model for up to 246.94s of the 547.03s of remaining time.\n",
            "\t-41.4747\t = Validation root_mean_squared_error score\n",
            "\t9.28s\t = Training runtime\n",
            "\t0.35s\t = Validation runtime\n",
            "Fitting model: LightGBM_BAG_L1/T1 ... Training model for up to 243.53s of the 543.62s of remaining time.\n",
            "\t-39.1128\t = Validation root_mean_squared_error score\n",
            "\t10.14s\t = Training runtime\n",
            "\t0.37s\t = Validation runtime\n",
            "Fitting model: LightGBM_BAG_L1/T2 ... Training model for up to 239.76s of the 539.85s of remaining time.\n",
            "\t-89.5153\t = Validation root_mean_squared_error score\n",
            "\t10.15s\t = Training runtime\n",
            "\t0.33s\t = Validation runtime\n",
            "Fitting model: LightGBM_BAG_L1/T3 ... Training model for up to 236.16s of the 536.26s of remaining time.\n",
            "\t-42.7196\t = Validation root_mean_squared_error score\n",
            "\t9.94s\t = Training runtime\n",
            "\t0.35s\t = Validation runtime\n",
            "Fitting model: LightGBM_BAG_L1/T4 ... Training model for up to 232.63s of the 532.73s of remaining time.\n",
            "\t-36.5161\t = Validation root_mean_squared_error score\n",
            "\t10.2s\t = Training runtime\n",
            "\t0.36s\t = Validation runtime\n",
            "Fitting model: NeuralNetMXNet_BAG_L1/T0 ... Training model for up to 228.95s of the 529.04s of remaining time.\n",
            "\t-109.0753\t = Validation root_mean_squared_error score\n",
            "\t216.6s\t = Training runtime\n",
            "\t5.72s\t = Validation runtime\n",
            "Fitting model: NeuralNetMXNet_BAG_L1/T1 ... Training model for up to 155.3s of the 455.4s of remaining time.\n",
            "\t-142.8067\t = Validation root_mean_squared_error score\n",
            "\t238.95s\t = Training runtime\n",
            "\t5.74s\t = Validation runtime\n",
            "Completed 3/20 k-fold bagging repeats ...\n",
            "Fitting model: WeightedEnsemble_L2 ... Training model for up to 360.0s of the 374.86s of remaining time.\n",
            "\t-36.5161\t = Validation root_mean_squared_error score\n",
            "\t0.75s\t = Training runtime\n",
            "\t0.0s\t = Validation runtime\n",
            "Hyperparameter tuning model: LightGBM_BAG_L2 ...\n"
          ],
          "name": "stderr"
        },
        {
          "output_type": "display_data",
          "data": {
            "application/vnd.jupyter.widget-view+json": {
              "model_id": "abdc6f77d763483b9759b3728212dd8f",
              "version_minor": 0,
              "version_major": 2
            },
            "text/plain": [
              "HBox(children=(FloatProgress(value=0.0, max=5.0), HTML(value='')))"
            ]
          },
          "metadata": {
            "tags": []
          }
        },
        {
          "output_type": "stream",
          "text": [
            "Fitted model: LightGBM_BAG_L2/T0 ...\n",
            "\t-38.2953\t = Validation root_mean_squared_error score\n",
            "\t0.38s\t = Training runtime\n",
            "\t0.01s\t = Validation runtime\n",
            "Fitted model: LightGBM_BAG_L2/T1 ...\n",
            "\t-38.4982\t = Validation root_mean_squared_error score\n",
            "\t0.34s\t = Training runtime\n",
            "\t0.01s\t = Validation runtime\n",
            "Fitted model: LightGBM_BAG_L2/T2 ...\n",
            "\t-61.2894\t = Validation root_mean_squared_error score\n",
            "\t0.36s\t = Training runtime\n",
            "\t0.01s\t = Validation runtime\n",
            "Fitted model: LightGBM_BAG_L2/T3 ...\n",
            "\t-38.093\t = Validation root_mean_squared_error score\n",
            "\t0.38s\t = Training runtime\n",
            "\t0.01s\t = Validation runtime\n",
            "Fitted model: LightGBM_BAG_L2/T4 ...\n",
            "\t-38.1882\t = Validation root_mean_squared_error score\n",
            "\t0.4s\t = Training runtime\n",
            "\t0.01s\t = Validation runtime\n",
            "Hyperparameter tuning model: NeuralNetMXNet_BAG_L2 ...\n"
          ],
          "name": "stderr"
        },
        {
          "output_type": "stream",
          "text": [
            "\n"
          ],
          "name": "stdout"
        },
        {
          "output_type": "display_data",
          "data": {
            "application/vnd.jupyter.widget-view+json": {
              "model_id": "35c06fee0aa9481a84c8c41661cf7369",
              "version_minor": 0,
              "version_major": 2
            },
            "text/plain": [
              "HBox(children=(FloatProgress(value=0.0, max=5.0), HTML(value='')))"
            ]
          },
          "metadata": {
            "tags": []
          }
        },
        {
          "output_type": "stream",
          "text": [
            "\tTime limit exceeded\n",
            "Fitted model: NeuralNetMXNet_BAG_L2/T0 ...\n",
            "\t-48.5808\t = Validation root_mean_squared_error score\n",
            "\t8.94s\t = Training runtime\n",
            "\t0.06s\t = Validation runtime\n",
            "Fitting model: LightGBM_BAG_L2/T0 ... Training model for up to 360.6s of the 360.59s of remaining time.\n",
            "\t-36.1134\t = Validation root_mean_squared_error score\n",
            "\t4.01s\t = Training runtime\n",
            "\t0.11s\t = Validation runtime\n",
            "Fitting model: LightGBM_BAG_L2/T1 ... Training model for up to 356.74s of the 356.73s of remaining time.\n",
            "\t-36.3303\t = Validation root_mean_squared_error score\n",
            "\t3.67s\t = Training runtime\n",
            "\t0.09s\t = Validation runtime\n",
            "Fitting model: LightGBM_BAG_L2/T2 ... Training model for up to 353.22s of the 353.21s of remaining time.\n",
            "\t-61.0764\t = Validation root_mean_squared_error score\n",
            "\t4.09s\t = Training runtime\n",
            "\t0.11s\t = Validation runtime\n",
            "Fitting model: LightGBM_BAG_L2/T3 ... Training model for up to 349.25s of the 349.24s of remaining time.\n",
            "\t-36.056\t = Validation root_mean_squared_error score\n",
            "\t3.93s\t = Training runtime\n",
            "\t0.12s\t = Validation runtime\n",
            "Fitting model: LightGBM_BAG_L2/T4 ... Training model for up to 345.47s of the 345.46s of remaining time.\n",
            "\t-36.4257\t = Validation root_mean_squared_error score\n",
            "\t4.39s\t = Training runtime\n",
            "\t0.09s\t = Validation runtime\n",
            "Fitting model: NeuralNetMXNet_BAG_L2/T0 ... Training model for up to 341.3s of the 341.29s of remaining time.\n",
            "\t-48.0827\t = Validation root_mean_squared_error score\n",
            "\t74.89s\t = Training runtime\n",
            "\t1.89s\t = Validation runtime\n",
            "Repeating k-fold bagging: 2/20\n",
            "Fitting model: LightGBM_BAG_L2/T0 ... Training model for up to 273.46s of the 273.45s of remaining time.\n",
            "\t-35.9362\t = Validation root_mean_squared_error score\n",
            "\t7.76s\t = Training runtime\n",
            "\t0.21s\t = Validation runtime\n",
            "Fitting model: LightGBM_BAG_L2/T1 ... Training model for up to 269.47s of the 269.46s of remaining time.\n",
            "\t-36.0304\t = Validation root_mean_squared_error score\n",
            "\t7.19s\t = Training runtime\n",
            "\t0.18s\t = Validation runtime\n",
            "Fitting model: LightGBM_BAG_L2/T2 ... Training model for up to 265.77s of the 265.77s of remaining time.\n",
            "\t-61.1029\t = Validation root_mean_squared_error score\n",
            "\t8.22s\t = Training runtime\n",
            "\t0.22s\t = Validation runtime\n",
            "Fitting model: LightGBM_BAG_L2/T3 ... Training model for up to 261.39s of the 261.38s of remaining time.\n",
            "\t-35.9381\t = Validation root_mean_squared_error score\n",
            "\t7.86s\t = Training runtime\n",
            "\t0.24s\t = Validation runtime\n",
            "Fitting model: LightGBM_BAG_L2/T4 ... Training model for up to 257.21s of the 257.2s of remaining time.\n",
            "\t-35.8744\t = Validation root_mean_squared_error score\n",
            "\t8.86s\t = Training runtime\n",
            "\t0.19s\t = Validation runtime\n",
            "Fitting model: NeuralNetMXNet_BAG_L2/T0 ... Training model for up to 252.51s of the 252.5s of remaining time.\n",
            "\t-45.1773\t = Validation root_mean_squared_error score\n",
            "\t148.68s\t = Training runtime\n",
            "\t3.94s\t = Validation runtime\n",
            "Repeating k-fold bagging: 3/20\n",
            "Fitting model: LightGBM_BAG_L2/T0 ... Training model for up to 176.62s of the 176.61s of remaining time.\n",
            "\t-35.8701\t = Validation root_mean_squared_error score\n",
            "\t11.56s\t = Training runtime\n",
            "\t0.32s\t = Validation runtime\n",
            "Fitting model: LightGBM_BAG_L2/T1 ... Training model for up to 172.58s of the 172.58s of remaining time.\n",
            "\t-35.8513\t = Validation root_mean_squared_error score\n",
            "\t10.65s\t = Training runtime\n",
            "\t0.27s\t = Validation runtime\n",
            "Fitting model: LightGBM_BAG_L2/T2 ... Training model for up to 168.93s of the 168.92s of remaining time.\n",
            "\t-61.0758\t = Validation root_mean_squared_error score\n",
            "\t12.11s\t = Training runtime\n",
            "\t0.32s\t = Validation runtime\n",
            "Fitting model: LightGBM_BAG_L2/T3 ... Training model for up to 164.79s of the 164.78s of remaining time.\n",
            "\t-35.8964\t = Validation root_mean_squared_error score\n",
            "\t11.57s\t = Training runtime\n",
            "\t0.35s\t = Validation runtime\n",
            "Fitting model: LightGBM_BAG_L2/T4 ... Training model for up to 160.84s of the 160.83s of remaining time.\n",
            "\t-35.7428\t = Validation root_mean_squared_error score\n",
            "\t13.03s\t = Training runtime\n",
            "\t0.27s\t = Validation runtime\n",
            "Fitting model: NeuralNetMXNet_BAG_L2/T0 ... Training model for up to 156.47s of the 156.46s of remaining time.\n",
            "\t-44.9327\t = Validation root_mean_squared_error score\n",
            "\t222.0s\t = Training runtime\n",
            "\t6.0s\t = Validation runtime\n",
            "Completed 3/20 k-fold bagging repeats ...\n",
            "Fitting model: WeightedEnsemble_L3 ... Training model for up to 360.0s of the 81.0s of remaining time.\n",
            "\t-35.5695\t = Validation root_mean_squared_error score\n",
            "\t0.64s\t = Training runtime\n",
            "\t0.0s\t = Validation runtime\n",
            "AutoGluon training complete, total runtime = 819.67s ...\n",
            "TabularPredictor saved. To load, use: predictor = TabularPredictor.load(\"AutogluonModels/ag-20210719_230458/\")\n"
          ],
          "name": "stderr"
        }
      ]
    },
    {
      "cell_type": "code",
      "metadata": {
        "id": "qMKHcr9lI-fR",
        "colab": {
          "base_uri": "https://localhost:8080/"
        },
        "outputId": "f966b23c-f5aa-4b4d-b53c-16dec1cf6ace"
      },
      "source": [
        "predictor_new_hpo.fit_summary()"
      ],
      "execution_count": null,
      "outputs": [
        {
          "output_type": "stream",
          "text": [
            "*** Summary of fit() ***\n",
            "Estimated performance of each model:\n",
            "                       model   score_val  pred_time_val    fit_time  pred_time_val_marginal  fit_time_marginal  stack_level  can_infer  fit_order\n",
            "0        WeightedEnsemble_L3  -35.569491      20.080638  763.146419                0.001165           0.643980            3       True         15\n",
            "1         LightGBM_BAG_L2/T4  -35.742808      13.489662  518.291558                0.270406          13.032085            2       True         13\n",
            "2         LightGBM_BAG_L2/T1  -35.851343      13.494185  515.906070                0.274930          10.646597            2       True         10\n",
            "3         LightGBM_BAG_L2/T0  -35.870060      13.535192  516.820716                0.315936          11.561243            2       True          9\n",
            "4         LightGBM_BAG_L2/T3  -35.896424      13.566186  516.832324                0.346930          11.572851            2       True         12\n",
            "5         LightGBM_BAG_L1/T4  -36.516072       0.363842   10.199869                0.363842          10.199869            1       True          5\n",
            "6        WeightedEnsemble_L2  -36.516072       0.365046   10.954765                0.001204           0.754896            2       True          8\n",
            "7         LightGBM_BAG_L1/T1  -39.112786       0.366790   10.142766                0.366790          10.142766            1       True          2\n",
            "8         LightGBM_BAG_L1/T0  -41.474697       0.354159    9.275315                0.354159           9.275315            1       True          1\n",
            "9         LightGBM_BAG_L1/T3  -42.719579       0.348095    9.940597                0.348095           9.940597            1       True          4\n",
            "10  NeuralNetMXNet_BAG_L2/T0  -44.932684      19.218201  727.262515                5.998945         222.003042            2       True         14\n",
            "11        LightGBM_BAG_L2/T2  -61.075778      13.535812  517.373516                0.316556          12.114043            2       True         11\n",
            "12        LightGBM_BAG_L1/T2  -89.515268       0.326802   10.154465                0.326802          10.154465            1       True          3\n",
            "13  NeuralNetMXNet_BAG_L1/T0 -109.075264       5.720829  216.595777                5.720829         216.595777            1       True          6\n",
            "14  NeuralNetMXNet_BAG_L1/T1 -142.806670       5.738740  238.950684                5.738740         238.950684            1       True          7\n",
            "Number of models trained: 15\n",
            "Types of models trained:\n",
            "{'StackerEnsembleModel_LGB', 'WeightedEnsembleModel', 'StackerEnsembleModel_TabularNeuralNet'}\n",
            "Bagging used: True  (with 10 folds)\n",
            "Multi-layer stack-ensembling used: True  (with 3 levels)\n",
            "Feature Metadata (Processed):\n",
            "(raw dtype, special dtypes):\n",
            "('category', []) : 2 | ['season', 'weather']\n",
            "('float', [])    : 3 | ['temp', 'atemp', 'windspeed']\n",
            "('int', [])      : 8 | ['holiday', 'workingday', 'humidity', 'year', 'month', ...]\n",
            "Plot summary of models saved to file: AutogluonModels/ag-20210719_230458/SummaryOfModels.html\n",
            "*** End of fit() summary ***\n"
          ],
          "name": "stdout"
        },
        {
          "output_type": "execute_result",
          "data": {
            "text/plain": [
              "{'leaderboard':                        model   score_val  ...  can_infer  fit_order\n",
              " 0        WeightedEnsemble_L3  -35.569491  ...       True         15\n",
              " 1         LightGBM_BAG_L2/T4  -35.742808  ...       True         13\n",
              " 2         LightGBM_BAG_L2/T1  -35.851343  ...       True         10\n",
              " 3         LightGBM_BAG_L2/T0  -35.870060  ...       True          9\n",
              " 4         LightGBM_BAG_L2/T3  -35.896424  ...       True         12\n",
              " 5         LightGBM_BAG_L1/T4  -36.516072  ...       True          5\n",
              " 6        WeightedEnsemble_L2  -36.516072  ...       True          8\n",
              " 7         LightGBM_BAG_L1/T1  -39.112786  ...       True          2\n",
              " 8         LightGBM_BAG_L1/T0  -41.474697  ...       True          1\n",
              " 9         LightGBM_BAG_L1/T3  -42.719579  ...       True          4\n",
              " 10  NeuralNetMXNet_BAG_L2/T0  -44.932684  ...       True         14\n",
              " 11        LightGBM_BAG_L2/T2  -61.075778  ...       True         11\n",
              " 12        LightGBM_BAG_L1/T2  -89.515268  ...       True          3\n",
              " 13  NeuralNetMXNet_BAG_L1/T0 -109.075264  ...       True          6\n",
              " 14  NeuralNetMXNet_BAG_L1/T1 -142.806670  ...       True          7\n",
              " \n",
              " [15 rows x 9 columns],\n",
              " 'max_stack_level': 3,\n",
              " 'model_best': 'WeightedEnsemble_L3',\n",
              " 'model_fit_times': {'LightGBM_BAG_L1/T0': 9.275315046310425,\n",
              "  'LightGBM_BAG_L1/T1': 10.142765522003174,\n",
              "  'LightGBM_BAG_L1/T2': 10.154465436935425,\n",
              "  'LightGBM_BAG_L1/T3': 9.94059681892395,\n",
              "  'LightGBM_BAG_L1/T4': 10.19986891746521,\n",
              "  'LightGBM_BAG_L2/T0': 11.561242580413818,\n",
              "  'LightGBM_BAG_L2/T1': 10.646597146987915,\n",
              "  'LightGBM_BAG_L2/T2': 12.11404299736023,\n",
              "  'LightGBM_BAG_L2/T3': 11.572850704193115,\n",
              "  'LightGBM_BAG_L2/T4': 13.032084703445435,\n",
              "  'NeuralNetMXNet_BAG_L1/T0': 216.5957772731781,\n",
              "  'NeuralNetMXNet_BAG_L1/T1': 238.95068430900574,\n",
              "  'NeuralNetMXNet_BAG_L2/T0': 222.00304174423218,\n",
              "  'WeightedEnsemble_L2': 0.7548956871032715,\n",
              "  'WeightedEnsemble_L3': 0.643979549407959},\n",
              " 'model_hyperparams': {'LightGBM_BAG_L1/T0': {'max_base_models': 25,\n",
              "   'max_base_models_per_type': 5,\n",
              "   'save_bag_folds': True,\n",
              "   'use_orig_features': True},\n",
              "  'LightGBM_BAG_L1/T1': {'max_base_models': 25,\n",
              "   'max_base_models_per_type': 5,\n",
              "   'save_bag_folds': True,\n",
              "   'use_orig_features': True},\n",
              "  'LightGBM_BAG_L1/T2': {'max_base_models': 25,\n",
              "   'max_base_models_per_type': 5,\n",
              "   'save_bag_folds': True,\n",
              "   'use_orig_features': True},\n",
              "  'LightGBM_BAG_L1/T3': {'max_base_models': 25,\n",
              "   'max_base_models_per_type': 5,\n",
              "   'save_bag_folds': True,\n",
              "   'use_orig_features': True},\n",
              "  'LightGBM_BAG_L1/T4': {'max_base_models': 25,\n",
              "   'max_base_models_per_type': 5,\n",
              "   'save_bag_folds': True,\n",
              "   'use_orig_features': True},\n",
              "  'LightGBM_BAG_L2/T0': {'max_base_models': 25,\n",
              "   'max_base_models_per_type': 5,\n",
              "   'save_bag_folds': True,\n",
              "   'use_orig_features': True},\n",
              "  'LightGBM_BAG_L2/T1': {'max_base_models': 25,\n",
              "   'max_base_models_per_type': 5,\n",
              "   'save_bag_folds': True,\n",
              "   'use_orig_features': True},\n",
              "  'LightGBM_BAG_L2/T2': {'max_base_models': 25,\n",
              "   'max_base_models_per_type': 5,\n",
              "   'save_bag_folds': True,\n",
              "   'use_orig_features': True},\n",
              "  'LightGBM_BAG_L2/T3': {'max_base_models': 25,\n",
              "   'max_base_models_per_type': 5,\n",
              "   'save_bag_folds': True,\n",
              "   'use_orig_features': True},\n",
              "  'LightGBM_BAG_L2/T4': {'max_base_models': 25,\n",
              "   'max_base_models_per_type': 5,\n",
              "   'save_bag_folds': True,\n",
              "   'use_orig_features': True},\n",
              "  'NeuralNetMXNet_BAG_L1/T0': {'max_base_models': 25,\n",
              "   'max_base_models_per_type': 5,\n",
              "   'save_bag_folds': True,\n",
              "   'use_orig_features': True},\n",
              "  'NeuralNetMXNet_BAG_L1/T1': {'max_base_models': 25,\n",
              "   'max_base_models_per_type': 5,\n",
              "   'save_bag_folds': True,\n",
              "   'use_orig_features': True},\n",
              "  'NeuralNetMXNet_BAG_L2/T0': {'max_base_models': 25,\n",
              "   'max_base_models_per_type': 5,\n",
              "   'save_bag_folds': True,\n",
              "   'use_orig_features': True},\n",
              "  'WeightedEnsemble_L2': {'max_base_models': 25,\n",
              "   'max_base_models_per_type': 5,\n",
              "   'save_bag_folds': True,\n",
              "   'use_orig_features': False},\n",
              "  'WeightedEnsemble_L3': {'max_base_models': 25,\n",
              "   'max_base_models_per_type': 5,\n",
              "   'save_bag_folds': True,\n",
              "   'use_orig_features': False}},\n",
              " 'model_paths': {'LightGBM_BAG_L1/T0': 'AutogluonModels/ag-20210719_230458/models/LightGBM_BAG_L1/T0/',\n",
              "  'LightGBM_BAG_L1/T1': 'AutogluonModels/ag-20210719_230458/models/LightGBM_BAG_L1/T1/',\n",
              "  'LightGBM_BAG_L1/T2': 'AutogluonModels/ag-20210719_230458/models/LightGBM_BAG_L1/T2/',\n",
              "  'LightGBM_BAG_L1/T3': 'AutogluonModels/ag-20210719_230458/models/LightGBM_BAG_L1/T3/',\n",
              "  'LightGBM_BAG_L1/T4': 'AutogluonModels/ag-20210719_230458/models/LightGBM_BAG_L1/T4/',\n",
              "  'LightGBM_BAG_L2/T0': 'AutogluonModels/ag-20210719_230458/models/LightGBM_BAG_L2/T0/',\n",
              "  'LightGBM_BAG_L2/T1': 'AutogluonModels/ag-20210719_230458/models/LightGBM_BAG_L2/T1/',\n",
              "  'LightGBM_BAG_L2/T2': 'AutogluonModels/ag-20210719_230458/models/LightGBM_BAG_L2/T2/',\n",
              "  'LightGBM_BAG_L2/T3': 'AutogluonModels/ag-20210719_230458/models/LightGBM_BAG_L2/T3/',\n",
              "  'LightGBM_BAG_L2/T4': 'AutogluonModels/ag-20210719_230458/models/LightGBM_BAG_L2/T4/',\n",
              "  'NeuralNetMXNet_BAG_L1/T0': 'AutogluonModels/ag-20210719_230458/models/NeuralNetMXNet_BAG_L1/T0/',\n",
              "  'NeuralNetMXNet_BAG_L1/T1': 'AutogluonModels/ag-20210719_230458/models/NeuralNetMXNet_BAG_L1/T1/',\n",
              "  'NeuralNetMXNet_BAG_L2/T0': 'AutogluonModels/ag-20210719_230458/models/NeuralNetMXNet_BAG_L2/T0/',\n",
              "  'WeightedEnsemble_L2': 'AutogluonModels/ag-20210719_230458/models/WeightedEnsemble_L2/',\n",
              "  'WeightedEnsemble_L3': 'AutogluonModels/ag-20210719_230458/models/WeightedEnsemble_L3/'},\n",
              " 'model_performance': {'LightGBM_BAG_L1/T0': -41.47469729743094,\n",
              "  'LightGBM_BAG_L1/T1': -39.11278644260584,\n",
              "  'LightGBM_BAG_L1/T2': -89.51526751915353,\n",
              "  'LightGBM_BAG_L1/T3': -42.7195789492884,\n",
              "  'LightGBM_BAG_L1/T4': -36.51607177081055,\n",
              "  'LightGBM_BAG_L2/T0': -35.87006049409348,\n",
              "  'LightGBM_BAG_L2/T1': -35.85134251194495,\n",
              "  'LightGBM_BAG_L2/T2': -61.07577766309246,\n",
              "  'LightGBM_BAG_L2/T3': -35.89642356974784,\n",
              "  'LightGBM_BAG_L2/T4': -35.74280831287942,\n",
              "  'NeuralNetMXNet_BAG_L1/T0': -109.0752636712709,\n",
              "  'NeuralNetMXNet_BAG_L1/T1': -142.8066699364355,\n",
              "  'NeuralNetMXNet_BAG_L2/T0': -44.93268430579155,\n",
              "  'WeightedEnsemble_L2': -36.51607177081055,\n",
              "  'WeightedEnsemble_L3': -35.56949134018197},\n",
              " 'model_pred_times': {'LightGBM_BAG_L1/T0': 0.3541586399078369,\n",
              "  'LightGBM_BAG_L1/T1': 0.3667895793914795,\n",
              "  'LightGBM_BAG_L1/T2': 0.32680225372314453,\n",
              "  'LightGBM_BAG_L1/T3': 0.3480947017669678,\n",
              "  'LightGBM_BAG_L1/T4': 0.3638420104980469,\n",
              "  'LightGBM_BAG_L2/T0': 0.3159358501434326,\n",
              "  'LightGBM_BAG_L2/T1': 0.2749295234680176,\n",
              "  'LightGBM_BAG_L2/T2': 0.3165557384490967,\n",
              "  'LightGBM_BAG_L2/T3': 0.34693002700805664,\n",
              "  'LightGBM_BAG_L2/T4': 0.27040600776672363,\n",
              "  'NeuralNetMXNet_BAG_L1/T0': 5.7208287715911865,\n",
              "  'NeuralNetMXNet_BAG_L1/T1': 5.738739967346191,\n",
              "  'NeuralNetMXNet_BAG_L2/T0': 5.998945474624634,\n",
              "  'WeightedEnsemble_L2': 0.0012035369873046875,\n",
              "  'WeightedEnsemble_L3': 0.0011653900146484375},\n",
              " 'model_types': {'LightGBM_BAG_L1/T0': 'StackerEnsembleModel_LGB',\n",
              "  'LightGBM_BAG_L1/T1': 'StackerEnsembleModel_LGB',\n",
              "  'LightGBM_BAG_L1/T2': 'StackerEnsembleModel_LGB',\n",
              "  'LightGBM_BAG_L1/T3': 'StackerEnsembleModel_LGB',\n",
              "  'LightGBM_BAG_L1/T4': 'StackerEnsembleModel_LGB',\n",
              "  'LightGBM_BAG_L2/T0': 'StackerEnsembleModel_LGB',\n",
              "  'LightGBM_BAG_L2/T1': 'StackerEnsembleModel_LGB',\n",
              "  'LightGBM_BAG_L2/T2': 'StackerEnsembleModel_LGB',\n",
              "  'LightGBM_BAG_L2/T3': 'StackerEnsembleModel_LGB',\n",
              "  'LightGBM_BAG_L2/T4': 'StackerEnsembleModel_LGB',\n",
              "  'NeuralNetMXNet_BAG_L1/T0': 'StackerEnsembleModel_TabularNeuralNet',\n",
              "  'NeuralNetMXNet_BAG_L1/T1': 'StackerEnsembleModel_TabularNeuralNet',\n",
              "  'NeuralNetMXNet_BAG_L2/T0': 'StackerEnsembleModel_TabularNeuralNet',\n",
              "  'WeightedEnsemble_L2': 'WeightedEnsembleModel',\n",
              "  'WeightedEnsemble_L3': 'WeightedEnsembleModel'},\n",
              " 'num_bag_folds': 10}"
            ]
          },
          "metadata": {
            "tags": []
          },
          "execution_count": 35
        }
      ]
    },
    {
      "cell_type": "code",
      "metadata": {
        "id": "Juj9pqtmI-fS",
        "colab": {
          "base_uri": "https://localhost:8080/"
        },
        "outputId": "6ad247a9-2d71-4231-8f85-25f9a4852f71"
      },
      "source": [
        "predictions = predictor_new_hpo.predict(test)\n",
        "predictions.head()"
      ],
      "execution_count": null,
      "outputs": [
        {
          "output_type": "execute_result",
          "data": {
            "text/plain": [
              "0    10.167534\n",
              "1     6.550216\n",
              "2     7.321984\n",
              "3     6.716207\n",
              "4     6.796607\n",
              "Name: count, dtype: float32"
            ]
          },
          "metadata": {
            "tags": []
          },
          "execution_count": 36
        }
      ]
    },
    {
      "cell_type": "code",
      "metadata": {
        "colab": {
          "base_uri": "https://localhost:8080/"
        },
        "id": "6JyB6860x3g3",
        "outputId": "dbbd69d1-97ab-488e-c7d2-0788c75c2d67"
      },
      "source": [
        "# Remember to set all negative values to zero\n",
        "count = 0\n",
        "for row in predictions:\n",
        "    if row < 0:\n",
        "        count=count+1\n",
        "        \n",
        "print(count)"
      ],
      "execution_count": null,
      "outputs": [
        {
          "output_type": "stream",
          "text": [
            "0\n"
          ],
          "name": "stdout"
        }
      ]
    },
    {
      "cell_type": "code",
      "metadata": {
        "colab": {
          "base_uri": "https://localhost:8080/"
        },
        "id": "fK5jIngOyEom",
        "outputId": "c1ab568f-f8d1-4a10-8654-b3e27c049c03"
      },
      "source": [
        "for i, row in enumerate(predictions):\n",
        "    if row < 0:\n",
        "            predictions[i] = 0\n",
        "        \n",
        "predictions.describe()"
      ],
      "execution_count": null,
      "outputs": [
        {
          "output_type": "execute_result",
          "data": {
            "text/plain": [
              "count    6493.000000\n",
              "mean      190.026321\n",
              "std       174.345932\n",
              "min         5.490366\n",
              "25%        44.373871\n",
              "50%       147.392487\n",
              "75%       282.658539\n",
              "max       900.513245\n",
              "Name: count, dtype: float64"
            ]
          },
          "metadata": {
            "tags": []
          },
          "execution_count": 38
        }
      ]
    },
    {
      "cell_type": "code",
      "metadata": {
        "colab": {
          "base_uri": "https://localhost:8080/",
          "height": 195
        },
        "id": "P4ZW1_v4yYRA",
        "outputId": "0efe50ed-f4ef-4822-a127-2d6e7144fc8d"
      },
      "source": [
        "submission_new_hpo = pd.read_csv('sampleSubmission.csv', parse_dates = ['datetime'])\n",
        "submission_new_hpo.head()"
      ],
      "execution_count": null,
      "outputs": [
        {
          "output_type": "execute_result",
          "data": {
            "text/html": [
              "<div>\n",
              "<style scoped>\n",
              "    .dataframe tbody tr th:only-of-type {\n",
              "        vertical-align: middle;\n",
              "    }\n",
              "\n",
              "    .dataframe tbody tr th {\n",
              "        vertical-align: top;\n",
              "    }\n",
              "\n",
              "    .dataframe thead th {\n",
              "        text-align: right;\n",
              "    }\n",
              "</style>\n",
              "<table border=\"1\" class=\"dataframe\">\n",
              "  <thead>\n",
              "    <tr style=\"text-align: right;\">\n",
              "      <th></th>\n",
              "      <th>datetime</th>\n",
              "      <th>count</th>\n",
              "    </tr>\n",
              "  </thead>\n",
              "  <tbody>\n",
              "    <tr>\n",
              "      <th>0</th>\n",
              "      <td>2011-01-20 00:00:00</td>\n",
              "      <td>0</td>\n",
              "    </tr>\n",
              "    <tr>\n",
              "      <th>1</th>\n",
              "      <td>2011-01-20 01:00:00</td>\n",
              "      <td>0</td>\n",
              "    </tr>\n",
              "    <tr>\n",
              "      <th>2</th>\n",
              "      <td>2011-01-20 02:00:00</td>\n",
              "      <td>0</td>\n",
              "    </tr>\n",
              "    <tr>\n",
              "      <th>3</th>\n",
              "      <td>2011-01-20 03:00:00</td>\n",
              "      <td>0</td>\n",
              "    </tr>\n",
              "    <tr>\n",
              "      <th>4</th>\n",
              "      <td>2011-01-20 04:00:00</td>\n",
              "      <td>0</td>\n",
              "    </tr>\n",
              "  </tbody>\n",
              "</table>\n",
              "</div>"
            ],
            "text/plain": [
              "             datetime  count\n",
              "0 2011-01-20 00:00:00      0\n",
              "1 2011-01-20 01:00:00      0\n",
              "2 2011-01-20 02:00:00      0\n",
              "3 2011-01-20 03:00:00      0\n",
              "4 2011-01-20 04:00:00      0"
            ]
          },
          "metadata": {
            "tags": []
          },
          "execution_count": 39
        }
      ]
    },
    {
      "cell_type": "code",
      "metadata": {
        "id": "JLo3CxB3I-fS"
      },
      "source": [
        "# Same submitting predictions\n",
        "submission_new_hpo[\"count\"] = predictions\n",
        "submission_new_hpo.to_csv(\"submission_new_hpo.csv\", index=False)"
      ],
      "execution_count": null,
      "outputs": []
    },
    {
      "cell_type": "code",
      "metadata": {
        "id": "RlCy_nuMI-fS",
        "colab": {
          "base_uri": "https://localhost:8080/"
        },
        "outputId": "06ec4858-2862-482c-86f4-e8d61c3c8005"
      },
      "source": [
        "!kaggle competitions submit -c bike-sharing-demand -f submission_new_hpo.csv -m \"new features with hyperparameters\""
      ],
      "execution_count": null,
      "outputs": [
        {
          "output_type": "stream",
          "text": [
            "Warning: Looks like you're using an outdated API Version, please consider updating (server 1.5.12 / client 1.5.4)\n",
            "100% 188k/188k [00:02<00:00, 67.1kB/s]\n",
            "Successfully submitted to Bike Sharing Demand"
          ],
          "name": "stdout"
        }
      ]
    },
    {
      "cell_type": "code",
      "metadata": {
        "id": "z2fzTWcDI-fT",
        "colab": {
          "base_uri": "https://localhost:8080/"
        },
        "outputId": "19a2b702-d587-4263-965d-7d6cd578f845"
      },
      "source": [
        "!kaggle competitions submissions -c bike-sharing-demand | tail -n +1 | head -n 6"
      ],
      "execution_count": null,
      "outputs": [
        {
          "output_type": "stream",
          "text": [
            "Warning: Looks like you're using an outdated API Version, please consider updating (server 1.5.12 / client 1.5.4)\n",
            "fileName                     date                 description                        status    publicScore  privateScore  \n",
            "---------------------------  -------------------  ---------------------------------  --------  -----------  ------------  \n",
            "submission_new_hpo.csv       2021-07-19 23:23:33  new features with hyperparameters  complete  0.47932      0.47932       \n",
            "submission_new_features.csv  2021-07-19 23:03:28  new features                       complete  0.45526      0.45526       \n",
            "submission.csv               2021-07-19 22:50:06  first raw submission               complete  1.36123      1.36123       \n"
          ],
          "name": "stdout"
        }
      ]
    },
    {
      "cell_type": "markdown",
      "metadata": {
        "id": "7vzmuTP7I-fT"
      },
      "source": [
        "#### New Score of `0.47932`"
      ]
    },
    {
      "cell_type": "markdown",
      "metadata": {
        "id": "6e7AtAbDI-fT"
      },
      "source": [
        "## Step 7: Write a Report\n",
        "### Refer to the markdown file for the full report\n",
        "### Creating plots and table for report"
      ]
    },
    {
      "cell_type": "code",
      "metadata": {
        "id": "2jiopW6OI-fT",
        "colab": {
          "base_uri": "https://localhost:8080/",
          "height": 390
        },
        "outputId": "e10b591e-917b-40f3-fe44-6ab90e2986aa"
      },
      "source": [
        "# Taking the top model score from each training run and creating a line plot to show improvement\n",
        "# You can create these in the notebook and save them to PNG or use some other tool (e.g. google sheets, excel)\n",
        "fig = pd.DataFrame(\n",
        "    {\n",
        "        \"model\": [\"initial\", \"add_features\", \"hpo\"],\n",
        "        \"score\": [-99.208281, -32.675883, -35.569491]\n",
        "    }\n",
        ").plot(x=\"model\", y=\"score\", figsize=(8, 6)).get_figure()\n",
        "fig.savefig('model_train_score.png')"
      ],
      "execution_count": 2,
      "outputs": [
        {
          "output_type": "display_data",
          "data": {
            "image/png": "[encoded data removed]",
            "text/plain": [
              "<Figure size 576x432 with 1 Axes>"
            ]
          },
          "metadata": {
            "tags": [],
            "needs_background": "light"
          }
        }
      ]
    },
    {
      "cell_type": "code",
      "metadata": {
        "id": "6e1CJSPPI-fU",
        "colab": {
          "base_uri": "https://localhost:8080/",
          "height": 392
        },
        "outputId": "b9de9ce5-ccf1-4414-ca32-35534a003382"
      },
      "source": [
        "# Take the 3 kaggle scores and creating a line plot to show improvement\n",
        "fig = pd.DataFrame(\n",
        "    {\n",
        "        \"test_eval\": [\"initial\", \"add_features\", \"hpo\"],\n",
        "        \"score\": [1.36123, 0.45526, 0.47932]\n",
        "    }\n",
        ").plot(x=\"test_eval\", y=\"score\", figsize=(8, 6)).get_figure()\n",
        "fig.savefig('model_test_score.png')"
      ],
      "execution_count": null,
      "outputs": [
        {
          "output_type": "display_data",
          "data": {
            "image/png": "[encoded data removed]",
            "text/plain": [
              "<Figure size 576x432 with 1 Axes>"
            ]
          },
          "metadata": {
            "tags": [],
            "needs_background": "light"
          }
        }
      ]
    },
    {
      "cell_type": "markdown",
      "metadata": {
        "id": "bTj_4Bb0I-fU"
      },
      "source": [
        "### Hyperparameter table"
      ]
    },
    {
      "cell_type": "code",
      "metadata": {
        "id": "azk_TQd3I-fV",
        "colab": {
          "base_uri": "https://localhost:8080/",
          "height": 136
        },
        "outputId": "594d63b3-3ed1-4571-ad38-d8c73980999a"
      },
      "source": [
        "# The 3 hyperparameters we tuned with the kaggle score as the result\n",
        "pd.DataFrame({\n",
        "    \"model\": [\"initial\", \"add_features\", \"hpo\"],\n",
        "    \"hpo1\": ['default', 'default', 'GBM, NN'],\n",
        "    \"hpo2\": ['default', 'default', 'GBM, NN'],\n",
        "    \"hpo3\": ['default', 'default', 'GBM, NN'],\n",
        "    \"score\": [1.36123, 0.45526, 0.47932]\n",
        "})"
      ],
      "execution_count": null,
      "outputs": [
        {
          "output_type": "execute_result",
          "data": {
            "text/html": [
              "<div>\n",
              "<style scoped>\n",
              "    .dataframe tbody tr th:only-of-type {\n",
              "        vertical-align: middle;\n",
              "    }\n",
              "\n",
              "    .dataframe tbody tr th {\n",
              "        vertical-align: top;\n",
              "    }\n",
              "\n",
              "    .dataframe thead th {\n",
              "        text-align: right;\n",
              "    }\n",
              "</style>\n",
              "<table border=\"1\" class=\"dataframe\">\n",
              "  <thead>\n",
              "    <tr style=\"text-align: right;\">\n",
              "      <th></th>\n",
              "      <th>model</th>\n",
              "      <th>hpo1</th>\n",
              "      <th>hpo2</th>\n",
              "      <th>hpo3</th>\n",
              "      <th>score</th>\n",
              "    </tr>\n",
              "  </thead>\n",
              "  <tbody>\n",
              "    <tr>\n",
              "      <th>0</th>\n",
              "      <td>initial</td>\n",
              "      <td>default</td>\n",
              "      <td>default</td>\n",
              "      <td>default</td>\n",
              "      <td>1.36123</td>\n",
              "    </tr>\n",
              "    <tr>\n",
              "      <th>1</th>\n",
              "      <td>add_features</td>\n",
              "      <td>default</td>\n",
              "      <td>default</td>\n",
              "      <td>default</td>\n",
              "      <td>0.45526</td>\n",
              "    </tr>\n",
              "    <tr>\n",
              "      <th>2</th>\n",
              "      <td>hpo</td>\n",
              "      <td>GBM, NN</td>\n",
              "      <td>GBM, NN</td>\n",
              "      <td>GBM, NN</td>\n",
              "      <td>0.47932</td>\n",
              "    </tr>\n",
              "  </tbody>\n",
              "</table>\n",
              "</div>"
            ],
            "text/plain": [
              "          model     hpo1     hpo2     hpo3    score\n",
              "0       initial  default  default  default  1.36123\n",
              "1  add_features  default  default  default  0.45526\n",
              "2           hpo  GBM, NN  GBM, NN  GBM, NN  0.47932"
            ]
          },
          "metadata": {
            "tags": []
          },
          "execution_count": 45
        }
      ]
    },
    {
      "cell_type": "code",
      "metadata": {
        "id": "fjhQjA85zsp_"
      },
      "source": [
        ""
      ],
      "execution_count": null,
      "outputs": []
    }
  ]
}